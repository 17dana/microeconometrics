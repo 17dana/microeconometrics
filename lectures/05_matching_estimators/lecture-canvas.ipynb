{
 "cells": [
  {
   "cell_type": "code",
   "execution_count": 3,
   "metadata": {
    "slideshow": {
     "slide_type": "notes"
    }
   },
   "outputs": [],
   "source": [
    "%load_ext autoreload\n",
    "%autoreload 2\n",
    "\n",
    "%matplotlib inline\n",
    "\n",
    "import pickle as pkl\n",
    "import os\n",
    "\n",
    "import statsmodels.formula.api as smf\n",
    "import seaborn as sns\n",
    "import pandas as pd\n",
    "import numpy as np\n",
    "\n",
    "from auxiliary import *\n",
    "\n",
    "np.random.seed(123)"
   ]
  },
  {
   "cell_type": "markdown",
   "metadata": {
    "slideshow": {
     "slide_type": "slide"
    }
   },
   "source": [
    "###  Conditioning ot balance and conditioning to adjust\n",
    "\n",
    "There exists only one back-door path $D \\leftarrow S \\leftrightarrow X \\rightarrow Y$ and both $S$ nor $X$ are observable. Thus, we have a choice to condition on either one of them.\n",
    "\n",
    "<img src=\"material/conditioning_balance_adjust.png\" height=300 width=300 />\n",
    "\n",
    "* $X$, regression estmiator, adjustment-for-other-causes conditioning strategy\n",
    "* $S$, matching estimator, balancing conditioning strategy"
   ]
  },
  {
   "cell_type": "markdown",
   "metadata": {
    "slideshow": {
     "slide_type": "slide"
    }
   },
   "source": [
    "**Agenda**\n",
    "\n",
    "* matching as conditioning via stratification\n",
    "* matching as weighting\n",
    "* matching as data analysis algorithm"
   ]
  },
  {
   "cell_type": "markdown",
   "metadata": {
    "slideshow": {
     "slide_type": "slide"
    }
   },
   "source": [
    "**Fundamental concepts**\n",
    "\n",
    "* stratification of data\n",
    "* weighting to achieve balance\n",
    "* propensity scores"
   ]
  },
  {
   "cell_type": "markdown",
   "metadata": {
    "slideshow": {
     "slide_type": "slide"
    }
   },
   "source": [
    "**Views on matching**\n",
    "\n",
    "* method to form quasi-experimental constrasts by sampling comparable treatment and control cases\n",
    "* as a nonparametric method of adjustment fro treatment assignment patterns"
   ]
  },
  {
   "cell_type": "markdown",
   "metadata": {
    "slideshow": {
     "slide_type": "slide"
    },
    "toc-hr-collapsed": true
   },
   "source": [
    "## Matching as conditioning via stratificaton\n",
    "\n",
    "Individuals within groups determined by $S$ are entirely indistinguishable from each other in all ways except \n",
    "\n",
    "* observed treatment status\n",
    "\n",
    "* differences in potential outcomes that are independent of treatment status"
   ]
  },
  {
   "cell_type": "markdown",
   "metadata": {
    "slideshow": {
     "slide_type": "slide"
    }
   },
   "source": [
    "More formally,\n",
    "\n",
    "\\begin{align*}\n",
    "E[Y^1 \\mid D = 1, S] = E[Y^1 \\mid D = 0, S] \\\\\n",
    "E[Y^0 \\mid D = 0, S] = E[Y^0 \\mid D = 0, S]\n",
    "\\end{align*}\n",
    "\n",
    "implied by ...\n",
    "\n",
    "* treatment assignment is ignorable\n",
    "* selection on observables"
   ]
  },
  {
   "cell_type": "markdown",
   "metadata": {
    "slideshow": {
     "slide_type": "slide"
    }
   },
   "source": [
    "**ATC**\n",
    "\n",
    "\\begin{align*}\n",
    "E[\\delta \\mid D = 0, S] & = E[Y^1 - Y^0 \\mid D = 0, S] \\\\\n",
    "                        & = E[Y^1 \\mid D = 0, S] - E[Y^0 \\mid D = 0, S] \\\\\n",
    "                        & = E[Y^1 \\mid D = 1, S] - E[Y^0 \\mid D = 0, S] \\\\\n",
    "                        & = E[Y \\mid D = 1, S] - E[Y \\mid D = 0, S] \\\\\n",
    "\\end{align*}\n",
    "\n",
    "**ATT**\n",
    "\\begin{align*}\n",
    "E[\\delta \\mid D = 1, S] & = E[Y^1 - Y^0 \\mid D = 1, S] \\\\\n",
    "                        & = E[Y^1 \\mid D = 1, S] - E[Y^0 \\mid D = 1, S] \\\\\n",
    "                        & = E[Y^1 \\mid D = 1, S] - E[Y^0 \\mid D = 0, S] \\\\\n",
    "                        & = E[Y \\mid D = 1, S] - E[Y \\mid D = 0, S] \\\\\n",
    "\\end{align*}"
   ]
  },
  {
   "cell_type": "markdown",
   "metadata": {
    "slideshow": {
     "slide_type": "slide"
    }
   },
   "source": [
    "<img src=\"material/matching_demonstration_one.png\" height=500 width=500 />"
   ]
  },
  {
   "cell_type": "markdown",
   "metadata": {
    "slideshow": {
     "slide_type": "slide"
    }
   },
   "source": [
    "Let's study these idealized conditions for a simulated dataset."
   ]
  },
  {
   "cell_type": "code",
   "execution_count": 6,
   "metadata": {},
   "outputs": [],
   "source": [
    "def get_sample_matching_demonstration_1(num_agents):\n",
    "    \"\"\"Simulate sample\n",
    "    \n",
    "    Simulates a sample based for mathcing demonstration one using \n",
    "    the information provided in Table 6.1.\n",
    "    \n",
    "    Args:\n",
    "        num_agents: An integer that specifies the number of individuals\n",
    "            to sample.\n",
    "            \n",
    "    Returns:\n",
    "        Returns a dataframe with the observables (Y, S, D) as well as\n",
    "        the unobservables (Y_1, Y_0).\n",
    "    \"\"\"\n",
    "    def get_potential_outcomes(s):\n",
    "        \"\"\" Get potential outcomes.\n",
    "        \n",
    "        Assigns the potential outcomes based on the observable S and\n",
    "        the information in Table 6.1.\n",
    "        \n",
    "        Notes:\n",
    "            The two potential outcomes are solely a function of the \n",
    "            observable and are not associated with the treatment\n",
    "            variable D.\n",
    "        \n",
    "        Args:\n",
    "            s: an integer for the value of the stratification variable\n",
    "            \n",
    "        Returns:\n",
    "            A tuple with the two potential outcomes.            \n",
    "        \"\"\"\n",
    "        if s == 1:\n",
    "            y_1, y_0 = 4, 2\n",
    "        elif s == 2:\n",
    "            y_1, y_0 = 8, 6\n",
    "        elif s == 3:\n",
    "            y_1, y_0 = 14, 10\n",
    "        else:\n",
    "            raise AssertionError\n",
    "            \n",
    "        # We want some randomness. \n",
    "        y_1 += np.random.normal()\n",
    "        y_0 += np.random.normal()\n",
    "                \n",
    "        return y_1, y_0\n",
    "\n",
    "    # Store some information about the sample variables\n",
    "    # and initialize an empty dataframe.\n",
    "    info = OrderedDict()\n",
    "    info['Y'] = np.float\n",
    "    info['D'] = np.int\n",
    "    info['S'] = np.int\n",
    "    info['Y_1'] = np.float\n",
    "    info['Y_0'] = np.float\n",
    "        \n",
    "    df = pd.DataFrame(columns=info.keys())\n",
    "    \n",
    "    for i in range(num_agents):        \n",
    "        # Simulate from the joint distribution of the \n",
    "        # observables.\n",
    "        u = np.random.uniform()\n",
    "        if 0.00 <= u < 0.36:\n",
    "            s, d = 1, 0\n",
    "        elif 0.36 <= u < 0.48:\n",
    "            s, d = 2, 0\n",
    "        elif 0.48 <= u < 0.60:\n",
    "            s, d = 3, 0\n",
    "        elif 0.60 <= u < 0.68:\n",
    "            s, d = 1, 1\n",
    "        elif 0.68 <= u < 0.80:\n",
    "            s, d = 2, 1\n",
    "        else:\n",
    "            s, d = 3, 1\n",
    "\n",
    "        # Get potential outcomes and determine observed\n",
    "        # outcome.\n",
    "        y_1, y_0 = get_potential_outcomes(s)\n",
    "        y = d * y_1 + (1 - d) * y_0  \n",
    "        \n",
    "        # Collect information \n",
    "        df.loc[i] = y, d, s, y_1, y_0\n",
    "    \n",
    "    # We want to enforce suitable types for each column.\n",
    "    # Unfortunately, this cannot be done at the time of\n",
    "    # initialization.\n",
    "    df = df.astype(info)\n",
    "    \n",
    "    return df"
   ]
  },
  {
   "cell_type": "code",
   "execution_count": 7,
   "metadata": {
    "slideshow": {
     "slide_type": "-"
    }
   },
   "outputs": [
    {
     "data": {
      "text/html": [
       "<div>\n",
       "<style scoped>\n",
       "    .dataframe tbody tr th:only-of-type {\n",
       "        vertical-align: middle;\n",
       "    }\n",
       "\n",
       "    .dataframe tbody tr th {\n",
       "        vertical-align: top;\n",
       "    }\n",
       "\n",
       "    .dataframe thead th {\n",
       "        text-align: right;\n",
       "    }\n",
       "</style>\n",
       "<table border=\"1\" class=\"dataframe\">\n",
       "  <thead>\n",
       "    <tr style=\"text-align: right;\">\n",
       "      <th></th>\n",
       "      <th>Y</th>\n",
       "      <th>D</th>\n",
       "      <th>S</th>\n",
       "    </tr>\n",
       "  </thead>\n",
       "  <tbody>\n",
       "    <tr>\n",
       "      <th>0</th>\n",
       "      <td>11.651437</td>\n",
       "      <td>0</td>\n",
       "      <td>3</td>\n",
       "    </tr>\n",
       "    <tr>\n",
       "      <th>1</th>\n",
       "      <td>13.795799</td>\n",
       "      <td>1</td>\n",
       "      <td>3</td>\n",
       "    </tr>\n",
       "    <tr>\n",
       "      <th>2</th>\n",
       "      <td>5.133260</td>\n",
       "      <td>0</td>\n",
       "      <td>2</td>\n",
       "    </tr>\n",
       "    <tr>\n",
       "      <th>3</th>\n",
       "      <td>5.380809</td>\n",
       "      <td>0</td>\n",
       "      <td>2</td>\n",
       "    </tr>\n",
       "    <tr>\n",
       "      <th>4</th>\n",
       "      <td>7.556018</td>\n",
       "      <td>1</td>\n",
       "      <td>2</td>\n",
       "    </tr>\n",
       "  </tbody>\n",
       "</table>\n",
       "</div>"
      ],
      "text/plain": [
       "           Y  D  S\n",
       "0  11.651437  0  3\n",
       "1  13.795799  1  3\n",
       "2   5.133260  0  2\n",
       "3   5.380809  0  2\n",
       "4   7.556018  1  2"
      ]
     },
     "execution_count": 7,
     "metadata": {},
     "output_type": "execute_result"
    }
   ],
   "source": [
    "df = get_sample_matching_demonstration_1(num_agents=10000)\n",
    "df[['Y', 'D', 'S']].head()"
   ]
  },
  {
   "cell_type": "code",
   "execution_count": 50,
   "metadata": {
    "slideshow": {
     "slide_type": "slide"
    }
   },
   "outputs": [
    {
     "name": "stdout",
     "output_type": "stream",
     "text": [
      "The true average treatment effect is 2.647\n"
     ]
    }
   ],
   "source": [
    "print('The true average treatment effect is {:5.3f}'.format((df['Y_1'] - df['Y_0']).mean()))"
   ]
  },
  {
   "cell_type": "code",
   "execution_count": 51,
   "metadata": {
    "slideshow": {
     "slide_type": "-"
    }
   },
   "outputs": [
    {
     "name": "stdout",
     "output_type": "stream",
     "text": [
      "The naive estimate is 5.847\n"
     ]
    }
   ],
   "source": [
    "stat = df['Y'][df['D'] == 1].mean() - df['Y'][df['D'] == 0].mean()\n",
    "print('The naive estimate is {:5.3f}'.format(stat))"
   ]
  },
  {
   "cell_type": "markdown",
   "metadata": {
    "slideshow": {
     "slide_type": "slide"
    }
   },
   "source": [
    "What to do?"
   ]
  },
  {
   "cell_type": "code",
   "execution_count": 27,
   "metadata": {
    "slideshow": {
     "slide_type": "-"
    }
   },
   "outputs": [
    {
     "data": {
      "text/plain": [
       "S  D\n",
       "1  0     2.005091\n",
       "   1     3.983288\n",
       "2  0     6.040619\n",
       "   1     7.950835\n",
       "3  0     9.961677\n",
       "   1    13.998312\n",
       "Name: Y, dtype: float64"
      ]
     },
     "execution_count": 27,
     "metadata": {},
     "output_type": "execute_result"
    }
   ],
   "source": [
    "df.groupby(['S', 'D'])['Y'].mean()"
   ]
  },
  {
   "cell_type": "markdown",
   "metadata": {
    "slideshow": {
     "slide_type": "slide"
    }
   },
   "source": [
    "Note that the observed outcomes within each stratum correspond to the averate potential outcome within the stratum. We can compute the average treatment effect by looking at the difference within each strata."
   ]
  },
  {
   "cell_type": "code",
   "execution_count": 28,
   "metadata": {
    "slideshow": {
     "slide_type": "-"
    }
   },
   "outputs": [
    {
     "name": "stdout",
     "output_type": "stream",
     "text": [
      "Exploiting perfect stratification, we estimate 2.640\n"
     ]
    }
   ],
   "source": [
    "stat = (4 - 2) * 0.44 + (8 - 6) * 0.24 + (14 - 10) * 0.32\n",
    "print('Exploiting perfect stratification, we estimate {:5.3f}'.format(stat))"
   ]
  },
  {
   "cell_type": "markdown",
   "metadata": {
    "slideshow": {
     "slide_type": "-"
    }
   },
   "source": [
    "The ATT and ATC can be computed analogously just by applying the appropriate weights to the strata-specific effect of treatment."
   ]
  },
  {
   "cell_type": "markdown",
   "metadata": {
    "slideshow": {
     "slide_type": "slide"
    }
   },
   "source": [
    "More generally.\n",
    "\n",
    "\\begin{align*}\n",
    "\\{E_N [y_i \\mid d_i = 1, s = s_i] - E_N [y_i \\mid d_i = 0, s = s_i]\\} \\\\\n",
    "\\xrightarrow{p} E[Y^1 - Y^0\\mid S = s] = E[\\delta \\mid S = s].\n",
    "\\end{align*}\n",
    "Weighted sums of these stratified estimates can then be taken such as for the unconditional ATE:\n",
    "\\begin{align*}\n",
    "& \\sum_s \\{E_N[y_i \\mid d_i = 1, s_i = s] - E_N[y_i \\mid d_i = 0, s_i = s]\\} \\\\\n",
    "& * {\\Pr}_N[s_i = s] \\xrightarrow{p} E[\\delta]\n",
    "\\end{align*}\n"
   ]
  },
  {
   "cell_type": "markdown",
   "metadata": {
    "slideshow": {
     "slide_type": "slide"
    }
   },
   "source": [
    "This examples shows all of the basic principles in matching estimators that we will discuss in greated detail in this lecture. \n",
    "\n",
    "* Treatment and control subjects are matched together in the sense theat they are grouped together into strata.\n",
    "\n",
    "* An average difference between the outcomes of the treatment and control subjects is estimated, based on a weighting of the strata by common distribution."
   ]
  },
  {
   "cell_type": "markdown",
   "metadata": {
    "slideshow": {
     "slide_type": "slide"
    }
   },
   "source": [
    "### Overlap conditions"
   ]
  },
  {
   "cell_type": "code",
   "execution_count": 29,
   "metadata": {
    "slideshow": {
     "slide_type": "-"
    }
   },
   "outputs": [
    {
     "data": {
      "text/html": [
       "<div>\n",
       "<style scoped>\n",
       "    .dataframe tbody tr th:only-of-type {\n",
       "        vertical-align: middle;\n",
       "    }\n",
       "\n",
       "    .dataframe tbody tr th {\n",
       "        vertical-align: top;\n",
       "    }\n",
       "\n",
       "    .dataframe thead th {\n",
       "        text-align: right;\n",
       "    }\n",
       "</style>\n",
       "<table border=\"1\" class=\"dataframe\">\n",
       "  <thead>\n",
       "    <tr style=\"text-align: right;\">\n",
       "      <th></th>\n",
       "      <th>Y</th>\n",
       "      <th>D</th>\n",
       "      <th>S</th>\n",
       "    </tr>\n",
       "  </thead>\n",
       "  <tbody>\n",
       "    <tr>\n",
       "      <th>0</th>\n",
       "      <td>5.642426</td>\n",
       "      <td>0</td>\n",
       "      <td>2</td>\n",
       "    </tr>\n",
       "    <tr>\n",
       "      <th>1</th>\n",
       "      <td>15.401564</td>\n",
       "      <td>1</td>\n",
       "      <td>3</td>\n",
       "    </tr>\n",
       "    <tr>\n",
       "      <th>2</th>\n",
       "      <td>9.729472</td>\n",
       "      <td>0</td>\n",
       "      <td>3</td>\n",
       "    </tr>\n",
       "    <tr>\n",
       "      <th>3</th>\n",
       "      <td>13.059914</td>\n",
       "      <td>1</td>\n",
       "      <td>3</td>\n",
       "    </tr>\n",
       "    <tr>\n",
       "      <th>4</th>\n",
       "      <td>2.075422</td>\n",
       "      <td>0</td>\n",
       "      <td>1</td>\n",
       "    </tr>\n",
       "  </tbody>\n",
       "</table>\n",
       "</div>"
      ],
      "text/plain": [
       "           Y  D  S\n",
       "0   5.642426  0  2\n",
       "1  15.401564  1  3\n",
       "2   9.729472  0  3\n",
       "3  13.059914  1  3\n",
       "4   2.075422  0  1"
      ]
     },
     "execution_count": 29,
     "metadata": {},
     "output_type": "execute_result"
    }
   ],
   "source": [
    "df = get_sample_matching_demonstration_2(num_agents=1000)\n",
    "df[['Y', 'D', 'S']].head()"
   ]
  },
  {
   "cell_type": "code",
   "execution_count": 30,
   "metadata": {
    "slideshow": {
     "slide_type": "slide"
    }
   },
   "outputs": [
    {
     "data": {
      "text/plain": [
       "S  D\n",
       "1  0     1.977619\n",
       "2  0     5.750006\n",
       "   1     8.120596\n",
       "3  0     9.952842\n",
       "   1    14.105079\n",
       "Name: Y, dtype: float64"
      ]
     },
     "execution_count": 30,
     "metadata": {},
     "output_type": "execute_result"
    }
   ],
   "source": [
    "df.groupby(['S', 'D'])['Y'].mean() "
   ]
  },
  {
   "cell_type": "markdown",
   "metadata": {
    "slideshow": {
     "slide_type": "-"
    }
   },
   "source": [
    "What can we do?"
   ]
  },
  {
   "cell_type": "markdown",
   "metadata": {
    "slideshow": {
     "slide_type": "slide"
    }
   },
   "source": [
    "## Matching as weighting\n",
    "\n",
    "\n",
    "As indicated by the stylized example, there are often many strata where we do not have treated and control individuals available at the same time.\n",
    "\n",
    "$\\rightarrow$ combine information from different strata with the same propensity score $p$"
   ]
  },
  {
   "cell_type": "markdown",
   "metadata": {
    "slideshow": {
     "slide_type": "slide"
    }
   },
   "source": [
    "**Definition** The estimated propensity score is the estimated probability of taking the treatment as a function of variables that predict treatment assignment, i.e. $\\Pr[D = 1 \\mid S]$.\n",
    "\n",
    "$\\rightarrow$ stratifying on the propensity score itself ameliorates the sparseness problem because the propensity score can be treated as a single stratifying variable."
   ]
  },
  {
   "cell_type": "code",
   "execution_count": 31,
   "metadata": {
    "slideshow": {
     "slide_type": "slide"
    }
   },
   "outputs": [
    {
     "data": {
      "text/html": [
       "<div>\n",
       "<style scoped>\n",
       "    .dataframe tbody tr th:only-of-type {\n",
       "        vertical-align: middle;\n",
       "    }\n",
       "\n",
       "    .dataframe tbody tr th {\n",
       "        vertical-align: top;\n",
       "    }\n",
       "\n",
       "    .dataframe thead th {\n",
       "        text-align: right;\n",
       "    }\n",
       "</style>\n",
       "<table border=\"1\" class=\"dataframe\">\n",
       "  <thead>\n",
       "    <tr style=\"text-align: right;\">\n",
       "      <th></th>\n",
       "      <th>a</th>\n",
       "      <th>b</th>\n",
       "      <th>d</th>\n",
       "      <th>y</th>\n",
       "      <th>y_1</th>\n",
       "      <th>y_0</th>\n",
       "      <th>p</th>\n",
       "    </tr>\n",
       "  </thead>\n",
       "  <tbody>\n",
       "    <tr>\n",
       "      <th>0</th>\n",
       "      <td>0.01</td>\n",
       "      <td>0.01</td>\n",
       "      <td>0</td>\n",
       "      <td>98.449017</td>\n",
       "      <td>98.401980</td>\n",
       "      <td>98.449017</td>\n",
       "      <td>0.330041</td>\n",
       "    </tr>\n",
       "    <tr>\n",
       "      <th>1</th>\n",
       "      <td>0.01</td>\n",
       "      <td>0.02</td>\n",
       "      <td>0</td>\n",
       "      <td>94.963182</td>\n",
       "      <td>101.956794</td>\n",
       "      <td>94.963182</td>\n",
       "      <td>0.331369</td>\n",
       "    </tr>\n",
       "    <tr>\n",
       "      <th>2</th>\n",
       "      <td>0.01</td>\n",
       "      <td>0.03</td>\n",
       "      <td>0</td>\n",
       "      <td>101.622931</td>\n",
       "      <td>101.434833</td>\n",
       "      <td>101.622931</td>\n",
       "      <td>0.332700</td>\n",
       "    </tr>\n",
       "    <tr>\n",
       "      <th>3</th>\n",
       "      <td>0.01</td>\n",
       "      <td>0.05</td>\n",
       "      <td>1</td>\n",
       "      <td>100.490135</td>\n",
       "      <td>100.490135</td>\n",
       "      <td>94.548580</td>\n",
       "      <td>0.335369</td>\n",
       "    </tr>\n",
       "    <tr>\n",
       "      <th>4</th>\n",
       "      <td>0.01</td>\n",
       "      <td>0.06</td>\n",
       "      <td>0</td>\n",
       "      <td>97.737132</td>\n",
       "      <td>93.222637</td>\n",
       "      <td>97.737132</td>\n",
       "      <td>0.336708</td>\n",
       "    </tr>\n",
       "  </tbody>\n",
       "</table>\n",
       "</div>"
      ],
      "text/plain": [
       "      a     b  d           y         y_1         y_0         p\n",
       "0  0.01  0.01  0   98.449017   98.401980   98.449017  0.330041\n",
       "1  0.01  0.02  0   94.963182  101.956794   94.963182  0.331369\n",
       "2  0.01  0.03  0  101.622931  101.434833  101.622931  0.332700\n",
       "3  0.01  0.05  1  100.490135  100.490135   94.548580  0.335369\n",
       "4  0.01  0.06  0   97.737132   93.222637   97.737132  0.336708"
      ]
     },
     "execution_count": 31,
     "metadata": {},
     "output_type": "execute_result"
    }
   ],
   "source": [
    "a_grid = np.linspace(0.01, 1.00, 100)\n",
    "b_grid = np.linspace(0.01, 1.00, 100)\n",
    "\n",
    "df, counts = get_sample_matching_demonstration_3(a_grid, b_grid)\n",
    "df.head()"
   ]
  },
  {
   "cell_type": "markdown",
   "metadata": {
    "slideshow": {
     "slide_type": "slide"
    }
   },
   "source": [
    "**underlying causal graphs**\n",
    "\n",
    "<img src=\"material/fig-matching-demonstration-3.png\" height=500 width=500 />"
   ]
  },
  {
   "cell_type": "markdown",
   "metadata": {
    "slideshow": {
     "slide_type": "slide"
    }
   },
   "source": [
    "We will now look at different ways to construct estimates for the usual causal parameters. So, we first compute their true counterparts."
   ]
  },
  {
   "cell_type": "code",
   "execution_count": 32,
   "metadata": {
    "slideshow": {
     "slide_type": "-"
    }
   },
   "outputs": [],
   "source": [
    "true_effects = list()\n",
    "true_effects += [(df['y_1'] - df['y_0'])[(df['d'] == 1)].mean()]\n",
    "true_effects += [(df['y_1'] - df['y_0'])[(df['d'] == 0)].mean()]\n",
    "true_effects += [(df['y_1'] - df['y_0']).mean()]"
   ]
  },
  {
   "cell_type": "code",
   "execution_count": 33,
   "metadata": {
    "slideshow": {
     "slide_type": "slide"
    }
   },
   "outputs": [
    {
     "name": "stdout",
     "output_type": "stream",
     "text": [
      "The true estimate of the average causal effect is 4.506\n",
      "The naive estimate of the average causal effect is 4.888\n"
     ]
    }
   ],
   "source": [
    "print('The true estimate of the average causal effect is {:5.3f}'.format(true_effects[-1]))\n",
    "\n",
    "stat = df['y'][df['d'] == 1].mean() - df['y'][df['d'] == 0].mean()\n",
    "print('The naive estimate of the average causal effect is {:5.3f}'.format(stat))"
   ]
  },
  {
   "cell_type": "markdown",
   "metadata": {
    "slideshow": {
     "slide_type": "slide"
    }
   },
   "source": [
    "How about the issue of sparsity on the data?"
   ]
  },
  {
   "cell_type": "code",
   "execution_count": 34,
   "metadata": {
    "slideshow": {
     "slide_type": "-"
    }
   },
   "outputs": [
    {
     "data": {
      "image/png": "[encoded data removed]",
      "text/plain": [
       "<Figure size 432x288 with 1 Axes>"
      ]
     },
     "metadata": {
      "needs_background": "light"
     },
     "output_type": "display_data"
    }
   ],
   "source": [
    "get_sparsity_pattern_overall(counts)"
   ]
  },
  {
   "cell_type": "code",
   "execution_count": 35,
   "metadata": {
    "slideshow": {
     "slide_type": "slide"
    }
   },
   "outputs": [
    {
     "data": {
      "image/png": "[encoded data removed]",
      "text/plain": [
       "<Figure size 432x288 with 2 Axes>"
      ]
     },
     "metadata": {
      "needs_background": "light"
     },
     "output_type": "display_data"
    }
   ],
   "source": [
    "get_sparsity_pattern_by_treatment(counts)"
   ]
  },
  {
   "cell_type": "markdown",
   "metadata": {
    "slideshow": {
     "slide_type": "slide"
    }
   },
   "source": [
    "How does the propensity score $P(D = 1\\mid S)$ as a function of the observables $(a, b)$ look like?"
   ]
  },
  {
   "cell_type": "code",
   "execution_count": 36,
   "metadata": {
    "slideshow": {
     "slide_type": "-"
    }
   },
   "outputs": [
    {
     "data": {
      "image/png": "[encoded data removed]",
      "text/plain": [
       "<Figure size 432x288 with 1 Axes>"
      ]
     },
     "metadata": {
      "needs_background": "light"
     },
     "output_type": "display_data"
    }
   ],
   "source": [
    "plot_propensity_score(a_grid, b_grid)"
   ]
  },
  {
   "cell_type": "markdown",
   "metadata": {
    "slideshow": {
     "slide_type": "slide"
    }
   },
   "source": [
    "We still must be worried about common support."
   ]
  },
  {
   "cell_type": "code",
   "execution_count": 37,
   "metadata": {
    "slideshow": {
     "slide_type": "-"
    }
   },
   "outputs": [
    {
     "data": {
      "image/png": "[encoded data removed]",
      "text/plain": [
       "<Figure size 432x288 with 1 Axes>"
      ]
     },
     "metadata": {
      "needs_background": "light"
     },
     "output_type": "display_data"
    }
   ],
   "source": [
    "get_common_support(df)"
   ]
  },
  {
   "cell_type": "markdown",
   "metadata": {
    "slideshow": {
     "slide_type": "slide"
    }
   },
   "source": [
    "\n",
    "\\begin{align*}\n",
    "\\hat{\\delta}_{\\text{ATT, weight}} \\equiv \\left( \\frac{1}{n^1}\\sum_{i:d_i = 1} y_i\\right) \n",
    "- \\left(\\frac{\\sum_{i:d_i=0}\\hat{r}_i y_i}{\\sum_{i:d_i = 0} \\hat{r}_i}\\right)\n",
    "\\end{align*}\n",
    "\n",
    "\\begin{align*}\n",
    "\\hat{\\delta}_{\\text{ATC, weight}} \\equiv \n",
    "\\left(\n",
    "\\frac{\\sum_{i: d_i = 1}\\frac{y_i}{\\hat{r}_i}}{\\sum_{i: d_i = 1}\\frac{1}{\\hat{r}_i}}\n",
    "\\right)\n",
    "- \\left(\\frac{1}{n^0} \\sum_{i: d_i = 0} y_i\\right) \n",
    "\\end{align*}\n",
    "\n",
    "\\begin{align*}\n",
    "\\hat{\\delta}_{\\text{ATE, weight}} \\equiv \\left(\\frac{1}{n}\\sum_{i}d_i\\right) \\hat{\\delta}_{\\text{ATT, weight}} +  \\left(1 - \\frac{1}{n}\\sum_{i}d_i\\right) \\hat{\\delta}_{\\text{ATC, weight}}\n",
    "\\end{align*}"
   ]
  },
  {
   "cell_type": "markdown",
   "metadata": {
    "slideshow": {
     "slide_type": "slide"
    }
   },
   "source": [
    "\n",
    "\n",
    "**ATC weights** \n",
    "\n",
    "\\begin{align*}\n",
    "r_i = \\frac{p_i}{1 - p_i}\n",
    "\\end{align*}\n",
    "\n",
    "**ATT weights**\n",
    "\n",
    "\\begin{align*}\n",
    "r_i = \\frac{1 - p_i}{p_i}\n",
    "\\end{align*}\n"
   ]
  },
  {
   "cell_type": "code",
   "execution_count": 38,
   "metadata": {
    "slideshow": {
     "slide_type": "slide"
    }
   },
   "outputs": [
    {
     "data": {
      "image/png": "[encoded data removed]",
      "text/plain": [
       "<Figure size 432x288 with 1 Axes>"
      ]
     },
     "metadata": {
      "needs_background": "light"
     },
     "output_type": "display_data"
    }
   ],
   "source": [
    "plot_weights()"
   ]
  },
  {
   "cell_type": "code",
   "execution_count": 39,
   "metadata": {
    "slideshow": {
     "slide_type": "slide"
    }
   },
   "outputs": [
    {
     "name": "stdout",
     "output_type": "stream",
     "text": [
      "\n",
      "True\n",
      "estimated: ATT 4.644 ATC 4.419 ATE 4.525\n",
      "true:      ATT 4.740 ATC 4.299 ATE 4.506\n",
      "Optimization terminated successfully.\n",
      "         Current function value: 0.682239\n",
      "         Iterations 4\n",
      "\n",
      "Correct\n",
      "estimated: ATT 4.619 ATC 4.353 ATE 4.478\n",
      "true:      ATT 4.740 ATC 4.299 ATE 4.506\n",
      "Optimization terminated successfully.\n",
      "         Current function value: 0.682467\n",
      "         Iterations 4\n",
      "\n",
      "Misspecified\n",
      "estimated: ATT 4.620 ATC 4.371 ATE 4.488\n",
      "true:      ATT 4.740 ATC 4.299 ATE 4.506\n"
     ]
    }
   ],
   "source": [
    "def get_att_weight(df, p):\n",
    "    \"\"\" Get weighted ATT.\n",
    "    \n",
    "    Calculates the weighted ATT basd on a provided\n",
    "    dataset and the weights.\n",
    "    \n",
    "    Args:\n",
    "        df: A dataframe with the observed data.\n",
    "        p: A numpy array with the weights.\n",
    "        \n",
    "    Returns:\n",
    "        A float which corresponds to the ATT.\n",
    "    \"\"\"\n",
    "    weights = get_odds(p)\n",
    "    \n",
    "    is_control = (df['d'] == 0)\n",
    "    is_treated = (df['d'] == 1)\n",
    "\n",
    "    value, weights = df['y'][is_control], weights[is_control]\n",
    "    att = df['y'][is_treated].mean() - np.average(value, weights=weights)\n",
    "    \n",
    "    return att\n",
    "    \n",
    "def get_atc_weight(df, p):\n",
    "    \"\"\" Get weighted ATC.\n",
    "    \n",
    "    Calculates the weighted ATC basd on a provided\n",
    "    dataset and the weights.\n",
    "    \n",
    "    Args:\n",
    "        df: A dataframe with the observed data.\n",
    "        p: A numpy array with the weights.\n",
    "        \n",
    "    Returns:\n",
    "        A float which corresponds to the ATC.\n",
    "    \"\"\"\n",
    "    weights = get_inv_odds(p)\n",
    "\n",
    "    is_control = (df['d'] == 0)\n",
    "    is_treated = (df['d'] == 1)\n",
    "\n",
    "    value, weights = df['y'][is_treated], weights[is_treated]\n",
    "    atc = np.average(value, weights=weights) - df['y'][is_control].mean()\n",
    "    \n",
    "    return atc\n",
    "\n",
    "def get_ate_weight(df, p):\n",
    "    \"\"\" Get weighted ATE.\n",
    "    \n",
    "    Calculates the weighted ATE basd on a provided\n",
    "    dataset and the weights.\n",
    "    \n",
    "    Args:\n",
    "        df: A dataframe with the observed data.\n",
    "        p: A numpy array with the weights.\n",
    "        \n",
    "    Returns:\n",
    "        A float which corresponds to the ATE.\n",
    "    \"\"\"\n",
    "    share_treated = df['d'].value_counts(normalize=True)[1]\n",
    "\n",
    "    atc = get_atc_weight(df, p)\n",
    "    att = get_att_weight(df, p)\n",
    "\n",
    "    return share_treated * att + (1.0 - share_treated) * atc\n",
    "\n",
    "rslt = dict()\n",
    "for model in ['true', 'correct', 'misspecified']:\n",
    "    p = get_propensity_score_3(df, model)\n",
    "\n",
    "    rslt[model] = list()\n",
    "    rslt[model] += [get_att_weight(df, p)]\n",
    "    rslt[model] += [get_atc_weight(df, p)]\n",
    "    rslt[model] += [get_ate_weight(df, p)]\n",
    "    \n",
    "    print('')\n",
    "    print(model.capitalize())\n",
    "    print('estimated: ATT {:5.3f} ATC {:5.3f} ATE {:5.3f}'.format(*rslt[model]))\n",
    "    print('true:      ATT {:5.3f} ATC {:5.3f} ATE {:5.3f}'.format(*true_effects))"
   ]
  },
  {
   "cell_type": "markdown",
   "metadata": {
    "slideshow": {
     "slide_type": "-"
    }
   },
   "source": [
    "The covariates are balanced before any reweighting thanks to the assignment mechanisms."
   ]
  }
 ],
 "metadata": {
  "celltoolbar": "Slideshow",
  "kernelspec": {
   "display_name": "Python 3",
   "language": "python",
   "name": "python3"
  },
  "language_info": {
   "codemirror_mode": {
    "name": "ipython",
    "version": 3
   },
   "file_extension": ".py",
   "mimetype": "text/x-python",
   "name": "python",
   "nbconvert_exporter": "python",
   "pygments_lexer": "ipython3",
   "version": "3.7.2"
  },
  "varInspector": {
   "cols": {
    "lenName": 16,
    "lenType": 16,
    "lenVar": 40
   },
   "kernels_config": {
    "python": {
     "delete_cmd_postfix": "",
     "delete_cmd_prefix": "del ",
     "library": "var_list.py",
     "varRefreshCmd": "print(var_dic_list())"
    },
    "r": {
     "delete_cmd_postfix": ") ",
     "delete_cmd_prefix": "rm(",
     "library": "var_list.r",
     "varRefreshCmd": "cat(var_dic_list()) "
    }
   },
   "types_to_exclude": [
    "module",
    "function",
    "builtin_function_or_method",
    "instance",
    "_Feature"
   ],
   "window_display": false
  }
 },
 "nbformat": 4,
 "nbformat_minor": 2
}
