{
 "cells": [
  {
   "cell_type": "code",
   "execution_count": 19,
   "metadata": {},
   "outputs": [
    {
     "name": "stdout",
     "output_type": "stream",
     "text": [
      "The autoreload extension is already loaded. To reload it, use:\n",
      "  %reload_ext autoreload\n"
     ]
    }
   ],
   "source": [
    "%load_ext autoreload\n",
    "%autoreload 2\n",
    "\n",
    "%matplotlib inline\n",
    "\n",
    "import statsmodels.formula.api as smf\n",
    "import pandas as pd\n",
    "import numpy as np\n",
    "\n",
    "from auxiliary import *\n",
    "\n",
    "np.random.seed(123)"
   ]
  },
  {
   "cell_type": "markdown",
   "metadata": {},
   "source": [
    "###  Conditioning ot balance and conditioning to adjust\n",
    "\n",
    "There exists only one back-door path $D \\leftarrow S \\leftrightarrow X \\rightarrow Y$ and both $S$ nor $X$ are observable. Thus, we have a choice to condition on either one of them.\n",
    "\n",
    "<img src=\"material/conditioning_balance_adjust.png\" height=300 width=300 />\n",
    "\n",
    "* $X$, regression estmiator, adjustment-for-other-causes conditioning strategy\n",
    "* $S$, matching estimator, balancing conditioning strategy"
   ]
  },
  {
   "cell_type": "markdown",
   "metadata": {},
   "source": [
    "**Agenda**\n",
    "\n",
    "* Matching as conditioning via stratification\n",
    "* Matching as weighting\n",
    "* Matching as data analysis algorithm"
   ]
  },
  {
   "cell_type": "markdown",
   "metadata": {},
   "source": [
    "**Fundamental concepts**\n",
    "\n",
    "* stratification of data\n",
    "* weighting to achieve balance\n",
    "* propensity scores"
   ]
  },
  {
   "cell_type": "markdown",
   "metadata": {},
   "source": [
    "**Views on matching**\n",
    "\n",
    "* method to form quasi-experimental constrasts by sampling comparable treatment and control cases\n",
    "* as a nonparametric method of adjustment fro treatment assignment patterns"
   ]
  },
  {
   "cell_type": "markdown",
   "metadata": {
    "toc-hr-collapsed": true
   },
   "source": [
    "## Matching as conditioning via stratificaton\n",
    "\n",
    "Individuals withing groups determined by $S$ are entirely indistinguishable from each other in all ways except \n",
    "\n",
    "* observed treatment status\n",
    "\n",
    "* differences in potential outcomes that are independent of treatment status"
   ]
  },
  {
   "cell_type": "markdown",
   "metadata": {},
   "source": [
    "More formally,\n",
    "\n",
    "\\begin{align*}\n",
    "E[Y^1 \\mid D = 1, S] = E[Y^1 \\mid D = 0, S] \\\\\n",
    "E[Y^0 \\mid D = 0, S] = E[Y^0 \\mid D = 0, S]\n",
    "\\end{align*}\n",
    "\n",
    "implied by ...\n",
    "\n",
    "* treatment assignment is ignorable\n",
    "* selection on observables"
   ]
  },
  {
   "cell_type": "markdown",
   "metadata": {},
   "source": [
    "**ATC**\n",
    "\n",
    "\\begin{align*}\n",
    "E[\\delta \\mid D = 0, S] & = E[Y^1 - Y^0 \\mid D = 0, S] \\\\\n",
    "                        & = E[Y^1 \\mid D = 0, S] - E[Y^0 \\mid D = 0, S] \\\\\n",
    "                        & = E[Y^1 \\mid D = 1, S] - E[Y^0 \\mid D = 0, S] \\\\\n",
    "                        & = E[Y \\mid D = 1, S] - E[Y \\mid D = 0, S] \\\\\n",
    "\\end{align*}\n",
    "\n",
    "**ATT**\n",
    "\\begin{align*}\n",
    "E[\\delta \\mid D = 1, S] & = E[Y^1 - Y^0 \\mid D = 1, S] \\\\\n",
    "                        & = E[Y^1 \\mid D = 1, S] - E[Y^0 \\mid D = 1, S] \\\\\n",
    "                        & = E[Y^1 \\mid D = 1, S] - E[Y^0 \\mid D = 0, S] \\\\\n",
    "                        & = E[Y \\mid D = 1, S] - E[Y \\mid D = 0, S] \\\\\n",
    "\\end{align*}"
   ]
  },
  {
   "cell_type": "markdown",
   "metadata": {},
   "source": [
    "<img src=\"material/matching_demonstration_one.png\" height=300 width=300 />"
   ]
  },
  {
   "cell_type": "markdown",
   "metadata": {},
   "source": [
    "Let's study these idealized conditions for a simulated dataset."
   ]
  },
  {
   "cell_type": "code",
   "execution_count": 2,
   "metadata": {},
   "outputs": [
    {
     "data": {
      "text/html": [
       "<div>\n",
       "<style scoped>\n",
       "    .dataframe tbody tr th:only-of-type {\n",
       "        vertical-align: middle;\n",
       "    }\n",
       "\n",
       "    .dataframe tbody tr th {\n",
       "        vertical-align: top;\n",
       "    }\n",
       "\n",
       "    .dataframe thead th {\n",
       "        text-align: right;\n",
       "    }\n",
       "</style>\n",
       "<table border=\"1\" class=\"dataframe\">\n",
       "  <thead>\n",
       "    <tr style=\"text-align: right;\">\n",
       "      <th></th>\n",
       "      <th>Y</th>\n",
       "      <th>D</th>\n",
       "      <th>S</th>\n",
       "    </tr>\n",
       "  </thead>\n",
       "  <tbody>\n",
       "    <tr>\n",
       "      <th>0</th>\n",
       "      <td>15.463724</td>\n",
       "      <td>1</td>\n",
       "      <td>3</td>\n",
       "    </tr>\n",
       "    <tr>\n",
       "      <th>1</th>\n",
       "      <td>16.481999</td>\n",
       "      <td>1</td>\n",
       "      <td>3</td>\n",
       "    </tr>\n",
       "    <tr>\n",
       "      <th>2</th>\n",
       "      <td>2.782870</td>\n",
       "      <td>0</td>\n",
       "      <td>1</td>\n",
       "    </tr>\n",
       "    <tr>\n",
       "      <th>3</th>\n",
       "      <td>1.547622</td>\n",
       "      <td>0</td>\n",
       "      <td>1</td>\n",
       "    </tr>\n",
       "    <tr>\n",
       "      <th>4</th>\n",
       "      <td>6.034757</td>\n",
       "      <td>0</td>\n",
       "      <td>2</td>\n",
       "    </tr>\n",
       "  </tbody>\n",
       "</table>\n",
       "</div>"
      ],
      "text/plain": [
       "           Y  D  S\n",
       "0  15.463724  1  3\n",
       "1  16.481999  1  3\n",
       "2   2.782870  0  1\n",
       "3   1.547622  0  1\n",
       "4   6.034757  0  2"
      ]
     },
     "execution_count": 2,
     "metadata": {},
     "output_type": "execute_result"
    }
   ],
   "source": [
    "df = get_sample_matching_demonstration_1(num_agents=10000)\n",
    "df[['Y', 'D', 'S']].head()"
   ]
  },
  {
   "cell_type": "code",
   "execution_count": 3,
   "metadata": {},
   "outputs": [
    {
     "name": "stdout",
     "output_type": "stream",
     "text": [
      "The true average treatment effect is 2.644\n"
     ]
    }
   ],
   "source": [
    "print('The true average treatment effect is {:5.3f}'.format((df['Y_1'] - df['Y_0']).mean()))"
   ]
  },
  {
   "cell_type": "code",
   "execution_count": 4,
   "metadata": {},
   "outputs": [
    {
     "name": "stdout",
     "output_type": "stream",
     "text": [
      "The naive estimate is 5.845\n"
     ]
    }
   ],
   "source": [
    "stat = df['Y'][df['D'] == 1].mean() - df['Y'][df['D'] == 0].mean()\n",
    "print('The naive estimate is {:5.3f}'.format(stat))"
   ]
  },
  {
   "cell_type": "markdown",
   "metadata": {},
   "source": [
    "What to do?"
   ]
  },
  {
   "cell_type": "code",
   "execution_count": 5,
   "metadata": {},
   "outputs": [
    {
     "data": {
      "text/plain": [
       "S  D\n",
       "1  0     1.984585\n",
       "   1     3.998212\n",
       "2  0     5.963554\n",
       "   1     7.987446\n",
       "3  0     9.998646\n",
       "   1    14.000943\n",
       "Name: Y, dtype: float64"
      ]
     },
     "execution_count": 5,
     "metadata": {},
     "output_type": "execute_result"
    }
   ],
   "source": [
    "df.groupby(['S', 'D'])['Y'].mean()"
   ]
  },
  {
   "cell_type": "markdown",
   "metadata": {},
   "source": [
    "Note that the observed outcomes within each stratum correspond to the averate potential outcome within the stratum. We can compute the average treatment effect by looking at the difference within each strata."
   ]
  },
  {
   "cell_type": "code",
   "execution_count": 6,
   "metadata": {},
   "outputs": [
    {
     "name": "stdout",
     "output_type": "stream",
     "text": [
      "Exploiting perfect stratification, we estimate 2.640\n"
     ]
    }
   ],
   "source": [
    "stat = (4 - 2) * 0.44 + (8 - 6) * 0.24 + (14 - 10) * 0.32\n",
    "print('Exploiting perfect stratification, we estimate {:5.3f}'.format(stat))"
   ]
  },
  {
   "cell_type": "markdown",
   "metadata": {},
   "source": [
    "The ATT and ATC can be computed analogously just by applying the appropriate weights to the strata-specific effect of treatment."
   ]
  },
  {
   "cell_type": "markdown",
   "metadata": {},
   "source": [
    "More generally.\n",
    "\n",
    "\\begin{align*}\n",
    "\\{E_N [y_i \\mid d_i = 1, s = s_i] - E_N [y_i \\mid d_i = 0, s = s_i]\\} \\\\\n",
    "\\xrightarrow{p} E[Y^1 - Y^0\\mid S = s] = E[\\delta \\mid S = s].\n",
    "\\end{align*}\n",
    "Weighted sums of these stratified estimates can then be taken such as for the unconditional ATE:\n",
    "\\begin{align*}\n",
    "\\sum_s \\{E_N[y_i \\mid d_i = 1, s_i = s] - E_N[y_i \\mid d_i = 0, s_i = s]\\} * {\\Pr}_N[s_i = s] \\\\ \n",
    "\\xrightarrow{p} E[\\delta]\n",
    "\\end{align*}\n"
   ]
  },
  {
   "cell_type": "markdown",
   "metadata": {},
   "source": [
    "This example shows all of the basic principles in matching estimators that we will discuss in greated detail in this lecture. \n",
    "\n",
    "* Treatment and condtrol subjects are matched together in the sense theat they are grouped together into strata.\n",
    "\n",
    "* An average difference between the outcomes of the treatment and control subjects is estimated, based on a weighting of the strata by common distribution."
   ]
  },
  {
   "cell_type": "markdown",
   "metadata": {},
   "source": [
    "### Overlap conditions"
   ]
  },
  {
   "cell_type": "code",
   "execution_count": 21,
   "metadata": {},
   "outputs": [
    {
     "data": {
      "text/html": [
       "<div>\n",
       "<style scoped>\n",
       "    .dataframe tbody tr th:only-of-type {\n",
       "        vertical-align: middle;\n",
       "    }\n",
       "\n",
       "    .dataframe tbody tr th {\n",
       "        vertical-align: top;\n",
       "    }\n",
       "\n",
       "    .dataframe thead th {\n",
       "        text-align: right;\n",
       "    }\n",
       "</style>\n",
       "<table border=\"1\" class=\"dataframe\">\n",
       "  <thead>\n",
       "    <tr style=\"text-align: right;\">\n",
       "      <th></th>\n",
       "      <th>Y</th>\n",
       "      <th>D</th>\n",
       "      <th>S</th>\n",
       "    </tr>\n",
       "  </thead>\n",
       "  <tbody>\n",
       "    <tr>\n",
       "      <th>0</th>\n",
       "      <td>7.047903</td>\n",
       "      <td>1</td>\n",
       "      <td>2</td>\n",
       "    </tr>\n",
       "    <tr>\n",
       "      <th>1</th>\n",
       "      <td>11.651437</td>\n",
       "      <td>0</td>\n",
       "      <td>3</td>\n",
       "    </tr>\n",
       "    <tr>\n",
       "      <th>2</th>\n",
       "      <td>13.795799</td>\n",
       "      <td>1</td>\n",
       "      <td>3</td>\n",
       "    </tr>\n",
       "    <tr>\n",
       "      <th>3</th>\n",
       "      <td>1.133260</td>\n",
       "      <td>0</td>\n",
       "      <td>1</td>\n",
       "    </tr>\n",
       "    <tr>\n",
       "      <th>4</th>\n",
       "      <td>5.380809</td>\n",
       "      <td>0</td>\n",
       "      <td>2</td>\n",
       "    </tr>\n",
       "  </tbody>\n",
       "</table>\n",
       "</div>"
      ],
      "text/plain": [
       "           Y  D  S\n",
       "0   7.047903  1  2\n",
       "1  11.651437  0  3\n",
       "2  13.795799  1  3\n",
       "3   1.133260  0  1\n",
       "4   5.380809  0  2"
      ]
     },
     "execution_count": 21,
     "metadata": {},
     "output_type": "execute_result"
    }
   ],
   "source": [
    "df = get_sample_matching_demonstration_2(num_agents=1000)\n",
    "df[['Y', 'D', 'S']].head()"
   ]
  },
  {
   "cell_type": "code",
   "execution_count": 22,
   "metadata": {},
   "outputs": [
    {
     "data": {
      "text/plain": [
       "S  D\n",
       "1  0     2.064778\n",
       "2  0     5.932012\n",
       "   1     7.974866\n",
       "3  0    10.052487\n",
       "   1    14.069895\n",
       "Name: Y, dtype: float64"
      ]
     },
     "execution_count": 22,
     "metadata": {},
     "output_type": "execute_result"
    }
   ],
   "source": [
    "df.groupby(['S', 'D'])['Y'].mean() # Maybe with categorial variables to slaos show missing?"
   ]
  },
  {
   "cell_type": "markdown",
   "metadata": {},
   "source": [
    "What can we do?"
   ]
  },
  {
   "cell_type": "markdown",
   "metadata": {},
   "source": [
    "## Matching as weighting\n",
    "\n",
    "\n",
    "As indicated by the stylized example, there are often many strata where we do not have treated and control individuals available at the same time.\n",
    "\n",
    "$\\rightarrow$ combine information from different strata with the same propensity score $p$"
   ]
  },
  {
   "cell_type": "markdown",
   "metadata": {},
   "source": [
    "**Definition** The estimated propensity score is the estimated probability of taking the treatment as a function of variables that predict treatment assignment, i.e. $\\Pr[D = 1 \\mid S]$.\n",
    "\n",
    "$\\rightarrow$ stratifying on the propensity score itself ameliorates the sparseness problem because the propensity score can be treated as a single stratifying variable."
   ]
  },
  {
   "cell_type": "code",
   "execution_count": 25,
   "metadata": {},
   "outputs": [
    {
     "data": {
      "text/html": [
       "<div>\n",
       "<style scoped>\n",
       "    .dataframe tbody tr th:only-of-type {\n",
       "        vertical-align: middle;\n",
       "    }\n",
       "\n",
       "    .dataframe tbody tr th {\n",
       "        vertical-align: top;\n",
       "    }\n",
       "\n",
       "    .dataframe thead th {\n",
       "        text-align: right;\n",
       "    }\n",
       "</style>\n",
       "<table border=\"1\" class=\"dataframe\">\n",
       "  <thead>\n",
       "    <tr style=\"text-align: right;\">\n",
       "      <th></th>\n",
       "      <th>a</th>\n",
       "      <th>b</th>\n",
       "      <th>d</th>\n",
       "      <th>y</th>\n",
       "      <th>y_1</th>\n",
       "      <th>y_0</th>\n",
       "      <th>prob</th>\n",
       "    </tr>\n",
       "  </thead>\n",
       "  <tbody>\n",
       "    <tr>\n",
       "      <th>0</th>\n",
       "      <td>0.01</td>\n",
       "      <td>0.03</td>\n",
       "      <td>0</td>\n",
       "      <td>92.823538</td>\n",
       "      <td>102.586395</td>\n",
       "      <td>92.823538</td>\n",
       "      <td>0.332700</td>\n",
       "    </tr>\n",
       "    <tr>\n",
       "      <th>1</th>\n",
       "      <td>0.01</td>\n",
       "      <td>0.04</td>\n",
       "      <td>1</td>\n",
       "      <td>108.521566</td>\n",
       "      <td>108.521566</td>\n",
       "      <td>100.395946</td>\n",
       "      <td>0.334033</td>\n",
       "    </tr>\n",
       "    <tr>\n",
       "      <th>2</th>\n",
       "      <td>0.01</td>\n",
       "      <td>0.06</td>\n",
       "      <td>0</td>\n",
       "      <td>96.382755</td>\n",
       "      <td>97.709843</td>\n",
       "      <td>96.382755</td>\n",
       "      <td>0.336708</td>\n",
       "    </tr>\n",
       "    <tr>\n",
       "      <th>3</th>\n",
       "      <td>0.01</td>\n",
       "      <td>0.06</td>\n",
       "      <td>0</td>\n",
       "      <td>109.087906</td>\n",
       "      <td>103.234169</td>\n",
       "      <td>109.087906</td>\n",
       "      <td>0.336708</td>\n",
       "    </tr>\n",
       "    <tr>\n",
       "      <th>4</th>\n",
       "      <td>0.01</td>\n",
       "      <td>0.08</td>\n",
       "      <td>0</td>\n",
       "      <td>98.656525</td>\n",
       "      <td>108.485838</td>\n",
       "      <td>98.656525</td>\n",
       "      <td>0.339393</td>\n",
       "    </tr>\n",
       "  </tbody>\n",
       "</table>\n",
       "</div>"
      ],
      "text/plain": [
       "      a     b  d           y         y_1         y_0      prob\n",
       "0  0.01  0.03  0   92.823538  102.586395   92.823538  0.332700\n",
       "1  0.01  0.04  1  108.521566  108.521566  100.395946  0.334033\n",
       "2  0.01  0.06  0   96.382755   97.709843   96.382755  0.336708\n",
       "3  0.01  0.06  0  109.087906  103.234169  109.087906  0.336708\n",
       "4  0.01  0.08  0   98.656525  108.485838   98.656525  0.339393"
      ]
     },
     "execution_count": 25,
     "metadata": {},
     "output_type": "execute_result"
    }
   ],
   "source": [
    "df, counts = get_sample_matching_demonstration_3()\n",
    "df.head()"
   ]
  },
  {
   "cell_type": "markdown",
   "metadata": {},
   "source": [
    "We will now look at different ways to construct estimates for the usual causal parameters. So, we first compute their true counterparts."
   ]
  },
  {
   "cell_type": "code",
   "execution_count": 45,
   "metadata": {},
   "outputs": [],
   "source": [
    "true_effects = dict()\n",
    "true_effects['att'] = (df['y_1'] - df['y_0'])[(df['d'] == 1)].mean()\n",
    "true_effects['atc'] = (df['y_1'] - df['y_0'])[(df['d'] == 0)].mean()\n",
    "true_effects['ate'] = (df['y_1'] - df['y_0']).mean()"
   ]
  },
  {
   "cell_type": "code",
   "execution_count": 46,
   "metadata": {},
   "outputs": [
    {
     "name": "stdout",
     "output_type": "stream",
     "text": [
      "The true estimate of the average causal effect is 4.483\n",
      "The naive estimate of the average causal effect is 4.878\n"
     ]
    }
   ],
   "source": [
    "print('The true estimate of the average causal effect is {:5.3f}'.format(true_effects['ate']))\n",
    "\n",
    "stat = df['y'][df['d'] == 1].mean() - df['y'][df['d'] == 0].mean()\n",
    "print('The naive estimate of the average causal effect is {:5.3f}'.format(stat))"
   ]
  },
  {
   "cell_type": "markdown",
   "metadata": {},
   "source": [
    "How does the propensity score $P(D = 1\\mid S)$ as a function of the observables $(a, b)$ look like?"
   ]
  },
  {
   "cell_type": "code",
   "execution_count": 47,
   "metadata": {},
   "outputs": [
    {
     "data": {
      "image/png": "[encoded data removed]",
      "text/plain": [
       "<Figure size 432x288 with 1 Axes>"
      ]
     },
     "metadata": {
      "needs_background": "light"
     },
     "output_type": "display_data"
    }
   ],
   "source": [
    "plot_propensity_score(a_grid, b_grid)"
   ]
  },
  {
   "cell_type": "markdown",
   "metadata": {},
   "source": [
    "How about the issue of sparsity on the data?"
   ]
  },
  {
   "cell_type": "code",
   "execution_count": 48,
   "metadata": {},
   "outputs": [
    {
     "data": {
      "image/png": "[encoded data removed]",
      "text/plain": [
       "<Figure size 432x288 with 1 Axes>"
      ]
     },
     "metadata": {
      "needs_background": "light"
     },
     "output_type": "display_data"
    }
   ],
   "source": [
    "get_sparsity_pattern_overall(counts)"
   ]
  },
  {
   "cell_type": "code",
   "execution_count": 29,
   "metadata": {},
   "outputs": [
    {
     "data": {
      "image/png": "[encoded data removed]",
      "text/plain": [
       "<Figure size 432x288 with 2 Axes>"
      ]
     },
     "metadata": {
      "needs_background": "light"
     },
     "output_type": "display_data"
    }
   ],
   "source": [
    "get_sparsity_pattern_by_treatment(counts)"
   ]
  },
  {
   "cell_type": "code",
   "execution_count": null,
   "metadata": {},
   "outputs": [],
   "source": [
    "def get_att_weight(df, prob):\n",
    "    \n",
    "    weights = get_odds(prob)\n",
    "    is_untreated = (df['d'] == 0)\n",
    "    is_treated = (df['d'] == 1)\n",
    "\n",
    "    value, weights = df['y'][is_untreated], weights[is_untreated]\n",
    "    att = df['y'][is_treated].mean() - np.average(value, weights=weights)\n",
    "    \n",
    "    return att\n",
    "\n",
    "def get_ate_weight(df, prob):\n",
    "    \n",
    "    share_treated = df['d'].value_counts(normalize=True)[1]\n",
    "\n",
    "    atc = get_atc_weight(df, prob)\n",
    "    att = get_att_weight(df, prob)\n",
    "\n",
    "    return share_treated * att + (1.0 - share_treated) * atc\n",
    "    \n",
    "    \n",
    "def get_atc_weight(df, prob):\n",
    "    \n",
    "    weights = get_inv_odds(prob)\n",
    "\n",
    "    is_untreated = (df['d'] == 0)\n",
    "    is_treated = (df['d'] == 1)\n",
    "\n",
    "    value, weights = df['y'][is_treated], weights[is_treated]\n",
    "    att = np.average(value, weights=weights) - df['y'][is_untreated].mean()\n",
    "    \n",
    "    return att\n",
    "\n",
    "def get_odds(p):\n",
    "    return p / (1 - p)\n",
    "\n",
    "def get_inv_odds(p):\n",
    "    return (1 - p) / p\n",
    "\n",
    "# Calculate the ATT using the true odds ratio\n",
    "prob = df['prob']\n",
    "att_true = get_att_weight(df, prob)\n",
    "atc_true = get_atc_weight(df, prob)\n",
    "ate_true = get_ate_weight(df, prob)\n",
    "\n",
    "# Calculate the ATT using a correctly specified estimate of the propensity score\n",
    "prob = smf.logit(formula='d ~ a + b + a * b', data=df).fit().predict()\n",
    "att_correct = get_att_weight(df, prob)\n",
    "atc_correct = get_atc_weight(df, prob)\n",
    "ate_correct = get_ate_weight(df, prob)\n",
    "\n",
    "# Calculate the ATT using the misspecified probensity score\n",
    "prob = smf.logit(formula='d ~ a + b', data=df).fit().predict()\n",
    "att_misspecified = get_att_weight(df, prob)\n",
    "atc_misspecified = get_atc_weight(df, prob)\n",
    "ate_misspecified = get_ate_weight(df, prob)\n",
    "\n",
    "print(att_misspecified, att_correct, att_true, att)\n",
    "print(atc_misspecified, atc_correct, atc_true, atc)\n",
    "print(ate_misspecified, ate_correct, ate_true, ate)"
   ]
  },
  {
   "cell_type": "markdown",
   "metadata": {},
   "source": []
  },
  {
   "cell_type": "markdown",
   "metadata": {},
   "source": [
    "There exist multiple strata where there aren't treated and control individuals available at the same time."
   ]
  },
  {
   "cell_type": "markdown",
   "metadata": {},
   "source": [
    "\\begin{align*}\n",
    "\\hat{\\delta}_{\\text{ATC, weight}} \\equiv \n",
    "\\left(\n",
    "\\frac{\\sum_{i: d_i = 1}\\frac{y_i}{\\hat{r}_i}}{\\sum_{i: d_i = 1}\\frac{1}{\\hat{r}_i}}\n",
    "\\right)\n",
    "- \\left(\\frac{1}{n^0} \\sum_{i: d_i = 0} y_i\\right) \n",
    "\\end{align*}"
   ]
  },
  {
   "cell_type": "markdown",
   "metadata": {},
   "source": [
    "\\begin{align*}\n",
    "\\hat{\\delta}_{\\text{ATE, weight}} \\equiv \\left(\\frac{1}{n}\\sum_{i}d_i\\right) \\hat{\\delta}_{\\text{ATT, weight}} +  \\left(1 - \\frac{1}{n}\\sum_{i}d_i\\right) \\hat{\\delta}_{\\text{ATC, weight}}\n",
    "\\end{align*}"
   ]
  },
  {
   "cell_type": "markdown",
   "metadata": {
    "toc-hr-collapsed": true
   },
   "source": [
    "## Matching as data analysis algorithm"
   ]
  },
  {
   "cell_type": "markdown",
   "metadata": {},
   "source": [
    "\\begin{align*}\n",
    "\\hat{\\delta}_{\\text{ATT, match}} = \\frac{1}{n^1} \\sum_i \\left[\n",
    "(y_i \\mid d_i = 1) - \\sum_j \\omega_{i, j} (y_j \\mid d_j =0 )\n",
    "\\right]\n",
    "\\end{align*}\n",
    "\n",
    "\\begin{align*}\n",
    "\\hat{\\delta}_{\\text{ATC, match}} = \\frac{1}{n^0} \\sum_j \\left[\n",
    "(y_j \\mid d_j = 0) - \\sum_i \\omega_{j, i} (y_i\\mid d_i = 1)\n",
    "\\right]\n",
    "\\end{align*}\n"
   ]
  },
  {
   "cell_type": "markdown",
   "metadata": {},
   "source": [
    "### Basic variants of matching algorithms\n",
    "\n",
    "* exact matching\n",
    "\n",
    "* nearest-neighbor, caliper, and radius matching\n",
    "\n",
    "* interval matching\n",
    "\n",
    "* kernel matching"
   ]
  },
  {
   "cell_type": "markdown",
   "metadata": {
    "toc-hr-collapsed": true
   },
   "source": [
    "# TODO: I could show altarntive matching kernels plots\n",
    "\n",
    "**kernel matching**\n",
    "\n",
    "\\begin{align*}\n",
    "\\omega_{i, j} = \\frac{G\\left(\\frac{\\hat{p_j} - \\hat{p_i}}{a_n}\\right)}{\\sum_j G\\left(\\frac{\\hat{p_j} - \\hat{p_i}}{a_n}\\right)}\n",
    "\\end{align*}\n",
    "\n",
    "\n",
    "<img src=\"material/catholic_school_example.png\" height=300 width=300 />"
   ]
  },
  {
   "cell_type": "code",
   "execution_count": 141,
   "metadata": {},
   "outputs": [
    {
     "data": {
      "text/html": [
       "<div>\n",
       "<style scoped>\n",
       "    .dataframe tbody tr th:only-of-type {\n",
       "        vertical-align: middle;\n",
       "    }\n",
       "\n",
       "    .dataframe tbody tr th {\n",
       "        vertical-align: top;\n",
       "    }\n",
       "\n",
       "    .dataframe thead th {\n",
       "        text-align: right;\n",
       "    }\n",
       "</style>\n",
       "<table border=\"1\" class=\"dataframe\">\n",
       "  <thead>\n",
       "    <tr style=\"text-align: right;\">\n",
       "      <th></th>\n",
       "      <th>y</th>\n",
       "      <th>treat</th>\n",
       "      <th>asian</th>\n",
       "      <th>hispanic</th>\n",
       "      <th>black</th>\n",
       "      <th>natamer</th>\n",
       "      <th>urban</th>\n",
       "      <th>neast</th>\n",
       "      <th>ncentral</th>\n",
       "      <th>south</th>\n",
       "      <th>...</th>\n",
       "      <th>ncentralblack</th>\n",
       "      <th>southblack</th>\n",
       "      <th>twohisp</th>\n",
       "      <th>neasthisp</th>\n",
       "      <th>ncentralhisp</th>\n",
       "      <th>southhisp</th>\n",
       "      <th>yt</th>\n",
       "      <th>yc</th>\n",
       "      <th>dshock</th>\n",
       "      <th>d</th>\n",
       "    </tr>\n",
       "  </thead>\n",
       "  <tbody>\n",
       "    <tr>\n",
       "      <th>0</th>\n",
       "      <td>124.820446</td>\n",
       "      <td>0</td>\n",
       "      <td>0</td>\n",
       "      <td>0</td>\n",
       "      <td>0</td>\n",
       "      <td>0</td>\n",
       "      <td>0.0</td>\n",
       "      <td>1</td>\n",
       "      <td>0</td>\n",
       "      <td>0</td>\n",
       "      <td>...</td>\n",
       "      <td>0</td>\n",
       "      <td>0</td>\n",
       "      <td>0</td>\n",
       "      <td>0</td>\n",
       "      <td>0</td>\n",
       "      <td>0</td>\n",
       "      <td>128.815053</td>\n",
       "      <td>124.820446</td>\n",
       "      <td>-2.189125</td>\n",
       "      <td>3.994607</td>\n",
       "    </tr>\n",
       "    <tr>\n",
       "      <th>1</th>\n",
       "      <td>100.389487</td>\n",
       "      <td>0</td>\n",
       "      <td>0</td>\n",
       "      <td>0</td>\n",
       "      <td>0</td>\n",
       "      <td>0</td>\n",
       "      <td>0.0</td>\n",
       "      <td>1</td>\n",
       "      <td>0</td>\n",
       "      <td>0</td>\n",
       "      <td>...</td>\n",
       "      <td>0</td>\n",
       "      <td>0</td>\n",
       "      <td>0</td>\n",
       "      <td>0</td>\n",
       "      <td>0</td>\n",
       "      <td>0</td>\n",
       "      <td>104.467199</td>\n",
       "      <td>100.389487</td>\n",
       "      <td>-2.517059</td>\n",
       "      <td>4.077712</td>\n",
       "    </tr>\n",
       "    <tr>\n",
       "      <th>2</th>\n",
       "      <td>101.244684</td>\n",
       "      <td>0</td>\n",
       "      <td>0</td>\n",
       "      <td>0</td>\n",
       "      <td>0</td>\n",
       "      <td>0</td>\n",
       "      <td>0.0</td>\n",
       "      <td>1</td>\n",
       "      <td>0</td>\n",
       "      <td>0</td>\n",
       "      <td>...</td>\n",
       "      <td>0</td>\n",
       "      <td>0</td>\n",
       "      <td>0</td>\n",
       "      <td>0</td>\n",
       "      <td>0</td>\n",
       "      <td>0</td>\n",
       "      <td>105.924622</td>\n",
       "      <td>101.244684</td>\n",
       "      <td>-1.307933</td>\n",
       "      <td>4.679938</td>\n",
       "    </tr>\n",
       "    <tr>\n",
       "      <th>3</th>\n",
       "      <td>99.257258</td>\n",
       "      <td>0</td>\n",
       "      <td>0</td>\n",
       "      <td>0</td>\n",
       "      <td>0</td>\n",
       "      <td>0</td>\n",
       "      <td>0.0</td>\n",
       "      <td>1</td>\n",
       "      <td>0</td>\n",
       "      <td>0</td>\n",
       "      <td>...</td>\n",
       "      <td>0</td>\n",
       "      <td>0</td>\n",
       "      <td>0</td>\n",
       "      <td>0</td>\n",
       "      <td>0</td>\n",
       "      <td>0</td>\n",
       "      <td>97.574659</td>\n",
       "      <td>99.257258</td>\n",
       "      <td>-7.004977</td>\n",
       "      <td>-1.682599</td>\n",
       "    </tr>\n",
       "    <tr>\n",
       "      <th>4</th>\n",
       "      <td>92.977159</td>\n",
       "      <td>0</td>\n",
       "      <td>0</td>\n",
       "      <td>0</td>\n",
       "      <td>0</td>\n",
       "      <td>0</td>\n",
       "      <td>0.0</td>\n",
       "      <td>1</td>\n",
       "      <td>0</td>\n",
       "      <td>0</td>\n",
       "      <td>...</td>\n",
       "      <td>0</td>\n",
       "      <td>0</td>\n",
       "      <td>0</td>\n",
       "      <td>0</td>\n",
       "      <td>0</td>\n",
       "      <td>0</td>\n",
       "      <td>98.577122</td>\n",
       "      <td>92.977159</td>\n",
       "      <td>-0.236095</td>\n",
       "      <td>5.599963</td>\n",
       "    </tr>\n",
       "  </tbody>\n",
       "</table>\n",
       "<p>5 rows × 30 columns</p>\n",
       "</div>"
      ],
      "text/plain": [
       "            y  treat  asian  hispanic  black  natamer  urban  neast  ncentral  \\\n",
       "0  124.820446      0      0         0      0        0    0.0      1         0   \n",
       "1  100.389487      0      0         0      0        0    0.0      1         0   \n",
       "2  101.244684      0      0         0      0        0    0.0      1         0   \n",
       "3   99.257258      0      0         0      0        0    0.0      1         0   \n",
       "4   92.977159      0      0         0      0        0    0.0      1         0   \n",
       "\n",
       "   south  ...  ncentralblack  southblack  twohisp  neasthisp  ncentralhisp  \\\n",
       "0      0  ...              0           0        0          0             0   \n",
       "1      0  ...              0           0        0          0             0   \n",
       "2      0  ...              0           0        0          0             0   \n",
       "3      0  ...              0           0        0          0             0   \n",
       "4      0  ...              0           0        0          0             0   \n",
       "\n",
       "   southhisp          yt          yc    dshock         d  \n",
       "0          0  128.815053  124.820446 -2.189125  3.994607  \n",
       "1          0  104.467199  100.389487 -2.517059  4.077712  \n",
       "2          0  105.924622  101.244684 -1.307933  4.679938  \n",
       "3          0   97.574659   99.257258 -7.004977 -1.682599  \n",
       "4          0   98.577122   92.977159 -0.236095  5.599963  \n",
       "\n",
       "[5 rows x 30 columns]"
      ]
     },
     "execution_count": 141,
     "metadata": {},
     "output_type": "execute_result"
    }
   ],
   "source": [
    "## Tutorial on running the matching algoithms\n",
    "# We collected a host of data from two other influential textbooks.\n",
    "df = pd.read_csv('../../datasets/processed/morgan_winship/mw_cath1.csv')\n",
    "df.head()"
   ]
  },
  {
   "cell_type": "code",
   "execution_count": 98,
   "metadata": {},
   "outputs": [
    {
     "data": {
      "text/html": [
       "<div>\n",
       "<style scoped>\n",
       "    .dataframe tbody tr th:only-of-type {\n",
       "        vertical-align: middle;\n",
       "    }\n",
       "\n",
       "    .dataframe tbody tr th {\n",
       "        vertical-align: top;\n",
       "    }\n",
       "\n",
       "    .dataframe thead th {\n",
       "        text-align: right;\n",
       "    }\n",
       "</style>\n",
       "<table border=\"1\" class=\"dataframe\">\n",
       "  <thead>\n",
       "    <tr style=\"text-align: right;\">\n",
       "      <th></th>\n",
       "      <th>y</th>\n",
       "      <th>treat</th>\n",
       "      <th>asian</th>\n",
       "      <th>hispanic</th>\n",
       "      <th>black</th>\n",
       "      <th>natamer</th>\n",
       "      <th>urban</th>\n",
       "      <th>neast</th>\n",
       "      <th>ncentral</th>\n",
       "      <th>south</th>\n",
       "      <th>...</th>\n",
       "      <th>ncentralblack</th>\n",
       "      <th>southblack</th>\n",
       "      <th>twohisp</th>\n",
       "      <th>neasthisp</th>\n",
       "      <th>ncentralhisp</th>\n",
       "      <th>southhisp</th>\n",
       "      <th>yt</th>\n",
       "      <th>yc</th>\n",
       "      <th>dshock</th>\n",
       "      <th>d</th>\n",
       "    </tr>\n",
       "  </thead>\n",
       "  <tbody>\n",
       "    <tr>\n",
       "      <th>count</th>\n",
       "      <td>10000.000000</td>\n",
       "      <td>10000.000000</td>\n",
       "      <td>10000.000000</td>\n",
       "      <td>10000.000000</td>\n",
       "      <td>10000.000000</td>\n",
       "      <td>10000.000000</td>\n",
       "      <td>10000.000000</td>\n",
       "      <td>10000.000000</td>\n",
       "      <td>10000.000000</td>\n",
       "      <td>10000.00000</td>\n",
       "      <td>...</td>\n",
       "      <td>10000.000000</td>\n",
       "      <td>10000.00000</td>\n",
       "      <td>10000.000000</td>\n",
       "      <td>10000.000000</td>\n",
       "      <td>10000.000000</td>\n",
       "      <td>10000.000000</td>\n",
       "      <td>10000.000000</td>\n",
       "      <td>10000.000000</td>\n",
       "      <td>1.000000e+04</td>\n",
       "      <td>10000.000000</td>\n",
       "    </tr>\n",
       "    <tr>\n",
       "      <th>mean</th>\n",
       "      <td>100.444518</td>\n",
       "      <td>0.105000</td>\n",
       "      <td>0.092400</td>\n",
       "      <td>0.139100</td>\n",
       "      <td>0.099500</td>\n",
       "      <td>0.008900</td>\n",
       "      <td>0.379000</td>\n",
       "      <td>0.204700</td>\n",
       "      <td>0.257600</td>\n",
       "      <td>0.30380</td>\n",
       "      <td>...</td>\n",
       "      <td>0.013900</td>\n",
       "      <td>0.05430</td>\n",
       "      <td>0.100800</td>\n",
       "      <td>0.016600</td>\n",
       "      <td>0.012300</td>\n",
       "      <td>0.052600</td>\n",
       "      <td>105.720209</td>\n",
       "      <td>99.717496</td>\n",
       "      <td>-2.842171e-17</td>\n",
       "      <td>6.002714</td>\n",
       "    </tr>\n",
       "    <tr>\n",
       "      <th>std</th>\n",
       "      <td>13.687881</td>\n",
       "      <td>0.306569</td>\n",
       "      <td>0.289604</td>\n",
       "      <td>0.346068</td>\n",
       "      <td>0.299347</td>\n",
       "      <td>0.093924</td>\n",
       "      <td>0.485162</td>\n",
       "      <td>0.403502</td>\n",
       "      <td>0.437334</td>\n",
       "      <td>0.45992</td>\n",
       "      <td>...</td>\n",
       "      <td>0.117082</td>\n",
       "      <td>0.22662</td>\n",
       "      <td>0.301079</td>\n",
       "      <td>0.127774</td>\n",
       "      <td>0.110227</td>\n",
       "      <td>0.223245</td>\n",
       "      <td>13.761797</td>\n",
       "      <td>13.444580</td>\n",
       "      <td>2.062431e+00</td>\n",
       "      <td>2.119364</td>\n",
       "    </tr>\n",
       "    <tr>\n",
       "      <th>min</th>\n",
       "      <td>49.153866</td>\n",
       "      <td>0.000000</td>\n",
       "      <td>0.000000</td>\n",
       "      <td>0.000000</td>\n",
       "      <td>0.000000</td>\n",
       "      <td>0.000000</td>\n",
       "      <td>0.000000</td>\n",
       "      <td>0.000000</td>\n",
       "      <td>0.000000</td>\n",
       "      <td>0.00000</td>\n",
       "      <td>...</td>\n",
       "      <td>0.000000</td>\n",
       "      <td>0.00000</td>\n",
       "      <td>0.000000</td>\n",
       "      <td>0.000000</td>\n",
       "      <td>0.000000</td>\n",
       "      <td>0.000000</td>\n",
       "      <td>53.160711</td>\n",
       "      <td>49.153866</td>\n",
       "      <td>-7.403189e+00</td>\n",
       "      <td>-1.737095</td>\n",
       "    </tr>\n",
       "    <tr>\n",
       "      <th>25%</th>\n",
       "      <td>91.068925</td>\n",
       "      <td>0.000000</td>\n",
       "      <td>0.000000</td>\n",
       "      <td>0.000000</td>\n",
       "      <td>0.000000</td>\n",
       "      <td>0.000000</td>\n",
       "      <td>0.000000</td>\n",
       "      <td>0.000000</td>\n",
       "      <td>0.000000</td>\n",
       "      <td>0.00000</td>\n",
       "      <td>...</td>\n",
       "      <td>0.000000</td>\n",
       "      <td>0.00000</td>\n",
       "      <td>0.000000</td>\n",
       "      <td>0.000000</td>\n",
       "      <td>0.000000</td>\n",
       "      <td>0.000000</td>\n",
       "      <td>96.272178</td>\n",
       "      <td>90.533077</td>\n",
       "      <td>-1.404538e+00</td>\n",
       "      <td>4.565931</td>\n",
       "    </tr>\n",
       "    <tr>\n",
       "      <th>50%</th>\n",
       "      <td>100.398553</td>\n",
       "      <td>0.000000</td>\n",
       "      <td>0.000000</td>\n",
       "      <td>0.000000</td>\n",
       "      <td>0.000000</td>\n",
       "      <td>0.000000</td>\n",
       "      <td>0.000000</td>\n",
       "      <td>0.000000</td>\n",
       "      <td>0.000000</td>\n",
       "      <td>0.00000</td>\n",
       "      <td>...</td>\n",
       "      <td>0.000000</td>\n",
       "      <td>0.00000</td>\n",
       "      <td>0.000000</td>\n",
       "      <td>0.000000</td>\n",
       "      <td>0.000000</td>\n",
       "      <td>0.000000</td>\n",
       "      <td>105.642646</td>\n",
       "      <td>99.664441</td>\n",
       "      <td>-1.477168e-02</td>\n",
       "      <td>6.000846</td>\n",
       "    </tr>\n",
       "    <tr>\n",
       "      <th>75%</th>\n",
       "      <td>109.674823</td>\n",
       "      <td>0.000000</td>\n",
       "      <td>0.000000</td>\n",
       "      <td>0.000000</td>\n",
       "      <td>0.000000</td>\n",
       "      <td>0.000000</td>\n",
       "      <td>1.000000</td>\n",
       "      <td>0.000000</td>\n",
       "      <td>1.000000</td>\n",
       "      <td>1.00000</td>\n",
       "      <td>...</td>\n",
       "      <td>0.000000</td>\n",
       "      <td>0.00000</td>\n",
       "      <td>0.000000</td>\n",
       "      <td>0.000000</td>\n",
       "      <td>0.000000</td>\n",
       "      <td>0.000000</td>\n",
       "      <td>115.092691</td>\n",
       "      <td>108.712206</td>\n",
       "      <td>1.343005e+00</td>\n",
       "      <td>7.384966</td>\n",
       "    </tr>\n",
       "    <tr>\n",
       "      <th>max</th>\n",
       "      <td>150.513726</td>\n",
       "      <td>1.000000</td>\n",
       "      <td>1.000000</td>\n",
       "      <td>1.000000</td>\n",
       "      <td>1.000000</td>\n",
       "      <td>1.000000</td>\n",
       "      <td>1.000000</td>\n",
       "      <td>1.000000</td>\n",
       "      <td>1.000000</td>\n",
       "      <td>1.00000</td>\n",
       "      <td>...</td>\n",
       "      <td>1.000000</td>\n",
       "      <td>1.00000</td>\n",
       "      <td>1.000000</td>\n",
       "      <td>1.000000</td>\n",
       "      <td>1.000000</td>\n",
       "      <td>1.000000</td>\n",
       "      <td>154.738124</td>\n",
       "      <td>150.513726</td>\n",
       "      <td>8.223351e+00</td>\n",
       "      <td>14.298608</td>\n",
       "    </tr>\n",
       "  </tbody>\n",
       "</table>\n",
       "<p>8 rows × 30 columns</p>\n",
       "</div>"
      ],
      "text/plain": [
       "                  y         treat         asian      hispanic         black  \\\n",
       "count  10000.000000  10000.000000  10000.000000  10000.000000  10000.000000   \n",
       "mean     100.444518      0.105000      0.092400      0.139100      0.099500   \n",
       "std       13.687881      0.306569      0.289604      0.346068      0.299347   \n",
       "min       49.153866      0.000000      0.000000      0.000000      0.000000   \n",
       "25%       91.068925      0.000000      0.000000      0.000000      0.000000   \n",
       "50%      100.398553      0.000000      0.000000      0.000000      0.000000   \n",
       "75%      109.674823      0.000000      0.000000      0.000000      0.000000   \n",
       "max      150.513726      1.000000      1.000000      1.000000      1.000000   \n",
       "\n",
       "            natamer         urban         neast      ncentral        south  \\\n",
       "count  10000.000000  10000.000000  10000.000000  10000.000000  10000.00000   \n",
       "mean       0.008900      0.379000      0.204700      0.257600      0.30380   \n",
       "std        0.093924      0.485162      0.403502      0.437334      0.45992   \n",
       "min        0.000000      0.000000      0.000000      0.000000      0.00000   \n",
       "25%        0.000000      0.000000      0.000000      0.000000      0.00000   \n",
       "50%        0.000000      0.000000      0.000000      0.000000      0.00000   \n",
       "75%        0.000000      1.000000      0.000000      1.000000      1.00000   \n",
       "max        1.000000      1.000000      1.000000      1.000000      1.00000   \n",
       "\n",
       "       ...  ncentralblack   southblack       twohisp     neasthisp  \\\n",
       "count  ...   10000.000000  10000.00000  10000.000000  10000.000000   \n",
       "mean   ...       0.013900      0.05430      0.100800      0.016600   \n",
       "std    ...       0.117082      0.22662      0.301079      0.127774   \n",
       "min    ...       0.000000      0.00000      0.000000      0.000000   \n",
       "25%    ...       0.000000      0.00000      0.000000      0.000000   \n",
       "50%    ...       0.000000      0.00000      0.000000      0.000000   \n",
       "75%    ...       0.000000      0.00000      0.000000      0.000000   \n",
       "max    ...       1.000000      1.00000      1.000000      1.000000   \n",
       "\n",
       "       ncentralhisp     southhisp            yt            yc        dshock  \\\n",
       "count  10000.000000  10000.000000  10000.000000  10000.000000  1.000000e+04   \n",
       "mean       0.012300      0.052600    105.720209     99.717496 -2.842171e-17   \n",
       "std        0.110227      0.223245     13.761797     13.444580  2.062431e+00   \n",
       "min        0.000000      0.000000     53.160711     49.153866 -7.403189e+00   \n",
       "25%        0.000000      0.000000     96.272178     90.533077 -1.404538e+00   \n",
       "50%        0.000000      0.000000    105.642646     99.664441 -1.477168e-02   \n",
       "75%        0.000000      0.000000    115.092691    108.712206  1.343005e+00   \n",
       "max        1.000000      1.000000    154.738124    150.513726  8.223351e+00   \n",
       "\n",
       "                  d  \n",
       "count  10000.000000  \n",
       "mean       6.002714  \n",
       "std        2.119364  \n",
       "min       -1.737095  \n",
       "25%        4.565931  \n",
       "50%        6.000846  \n",
       "75%        7.384966  \n",
       "max       14.298608  \n",
       "\n",
       "[8 rows x 30 columns]"
      ]
     },
     "execution_count": 98,
     "metadata": {},
     "output_type": "execute_result"
    }
   ],
   "source": [
    "df.describe()"
   ]
  },
  {
   "cell_type": "code",
   "execution_count": 94,
   "metadata": {},
   "outputs": [
    {
     "name": "stdout",
     "output_type": "stream",
     "text": [
      "The true ATE is 6.003\n"
     ]
    }
   ],
   "source": [
    "print('The true ATE is {:5.3f}'.format((df['yt'] - df['yc']).mean()))"
   ]
  },
  {
   "cell_type": "code",
   "execution_count": 142,
   "metadata": {},
   "outputs": [
    {
     "data": {
      "text/plain": [
       "6.956710583276054"
      ]
     },
     "execution_count": 142,
     "metadata": {},
     "output_type": "execute_result"
    }
   ],
   "source": [
    "is_treated =df['treat'] == 1\n",
    "(df['yt'][is_treated] - df['yc'][is_treated]).mean()"
   ]
  },
  {
   "cell_type": "code",
   "execution_count": 109,
   "metadata": {},
   "outputs": [
    {
     "data": {
      "text/plain": [
       "0.3822521252307511"
      ]
     },
     "execution_count": 109,
     "metadata": {},
     "output_type": "execute_result"
    }
   ],
   "source": []
  }
 ],
 "metadata": {
  "celltoolbar": "Slideshow",
  "kernelspec": {
   "display_name": "Python 3",
   "language": "python",
   "name": "python3"
  },
  "language_info": {
   "codemirror_mode": {
    "name": "ipython",
    "version": 3
   },
   "file_extension": ".py",
   "mimetype": "text/x-python",
   "name": "python",
   "nbconvert_exporter": "python",
   "pygments_lexer": "ipython3",
   "version": "3.7.2"
  },
  "varInspector": {
   "cols": {
    "lenName": 16,
    "lenType": 16,
    "lenVar": 40
   },
   "kernels_config": {
    "python": {
     "delete_cmd_postfix": "",
     "delete_cmd_prefix": "del ",
     "library": "var_list.py",
     "varRefreshCmd": "print(var_dic_list())"
    },
    "r": {
     "delete_cmd_postfix": ") ",
     "delete_cmd_prefix": "rm(",
     "library": "var_list.r",
     "varRefreshCmd": "cat(var_dic_list()) "
    }
   },
   "types_to_exclude": [
    "module",
    "function",
    "builtin_function_or_method",
    "instance",
    "_Feature"
   ],
   "window_display": false
  }
 },
 "nbformat": 4,
 "nbformat_minor": 2
}
