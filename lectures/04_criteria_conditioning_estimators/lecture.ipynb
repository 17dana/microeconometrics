{
 "cells": [
  {
   "cell_type": "code",
   "execution_count": 7,
   "metadata": {
    "slideshow": {
     "slide_type": "skip"
    }
   },
   "outputs": [
    {
     "name": "stdout",
     "output_type": "stream",
     "text": [
      "The autoreload extension is already loaded. To reload it, use:\n",
      "  %reload_ext autoreload\n"
     ]
    }
   ],
   "source": [
    "%load_ext autoreload\n",
    "%autoreload 2\n",
    "\n",
    "%matplotlib inline\n",
    "\n",
    "import scipy.stats as stats\n",
    "import seaborn as sns\n",
    "import pandas as pd\n",
    "import numpy as np"
   ]
  },
  {
   "cell_type": "markdown",
   "metadata": {
    "slideshow": {
     "slide_type": "slide"
    }
   },
   "source": [
    "# Lecture 4: Models of causal exposure and identification criteria for conditioning estimators"
   ]
  },
  {
   "cell_type": "markdown",
   "metadata": {},
   "source": [
    "## Conditioning and directed graphs\n",
    "\n",
    "<img src=\"material/backdoor_path.png\" height=300 width=300 />\n",
    "\n",
    "This graph is an example where a simple mean-comparison between the treatend and untreated is not informative on the effect of the treatment."
   ]
  },
  {
   "cell_type": "markdown",
   "metadata": {
    "slideshow": {
     "slide_type": "notes"
    }
   },
   "source": [
    "What was the graph behind our analysis of the Lalonde dataset?\n",
    "\n",
    "<img src=\"material/fig-implicit-lalonde.png\" height=300 width=300 />"
   ]
  },
  {
   "cell_type": "markdown",
   "metadata": {
    "slideshow": {
     "slide_type": "slide"
    }
   },
   "source": [
    "#### Illustration of collider variables\n",
    "\n",
    "We introduced collider variables earlier. However, they will play a very important role going forward and thus we study in an illustration how conditioning on a **collider** induces a conditional association between two variables that are not associated."
   ]
  },
  {
   "cell_type": "code",
   "execution_count": 6,
   "metadata": {
    "slideshow": {
     "slide_type": "subslide"
    }
   },
   "outputs": [
    {
     "data": {
      "text/html": [
       "<div>\n",
       "<style scoped>\n",
       "    .dataframe tbody tr th:only-of-type {\n",
       "        vertical-align: middle;\n",
       "    }\n",
       "\n",
       "    .dataframe tbody tr th {\n",
       "        vertical-align: top;\n",
       "    }\n",
       "\n",
       "    .dataframe thead th {\n",
       "        text-align: right;\n",
       "    }\n",
       "</style>\n",
       "<table border=\"1\" class=\"dataframe\">\n",
       "  <thead>\n",
       "    <tr style=\"text-align: right;\">\n",
       "      <th></th>\n",
       "      <th>SAT</th>\n",
       "      <th>motivation</th>\n",
       "      <th>admission</th>\n",
       "    </tr>\n",
       "  </thead>\n",
       "  <tbody>\n",
       "    <tr>\n",
       "      <th>0</th>\n",
       "      <td>2.202840</td>\n",
       "      <td>1.127528</td>\n",
       "      <td>0.0</td>\n",
       "    </tr>\n",
       "    <tr>\n",
       "      <th>1</th>\n",
       "      <td>0.368797</td>\n",
       "      <td>0.287865</td>\n",
       "      <td>0.0</td>\n",
       "    </tr>\n",
       "    <tr>\n",
       "      <th>2</th>\n",
       "      <td>0.703353</td>\n",
       "      <td>0.973275</td>\n",
       "      <td>0.0</td>\n",
       "    </tr>\n",
       "    <tr>\n",
       "      <th>3</th>\n",
       "      <td>0.488334</td>\n",
       "      <td>0.376457</td>\n",
       "      <td>0.0</td>\n",
       "    </tr>\n",
       "    <tr>\n",
       "      <th>4</th>\n",
       "      <td>0.890772</td>\n",
       "      <td>0.480625</td>\n",
       "      <td>0.0</td>\n",
       "    </tr>\n",
       "  </tbody>\n",
       "</table>\n",
       "</div>"
      ],
      "text/plain": [
       "        SAT  motivation  admission\n",
       "0  2.202840    1.127528        0.0\n",
       "1  0.368797    0.287865        0.0\n",
       "2  0.703353    0.973275        0.0\n",
       "3  0.488334    0.376457        0.0\n",
       "4  0.890772    0.480625        0.0"
      ]
     },
     "execution_count": 6,
     "metadata": {},
     "output_type": "execute_result"
    }
   ],
   "source": [
    "# SAT scores and individual motivation are uncorrelated in the population\n",
    "num_individuals = 250\n",
    "SAT = np.random.normal(loc=1, scale=1, size=num_individuals)\n",
    "motivation = np.random.normal(loc=1, scale=1, size=num_individuals)\n",
    "\n",
    "# Both toghether determine college admission\n",
    "score = SAT + motivation\n",
    "cutoff = np.percentile(score, 85)\n",
    "is_admitted = score > cutoff\n",
    "\n",
    "# For further processing we create a data frame.\n",
    "data = np.array([SAT, motivation, is_admitted]).T\n",
    "columns = ['SAT', 'motivation', 'admission']\n",
    "df = pd.DataFrame(data=data, columns=columns)\n",
    "df.head()"
   ]
  },
  {
   "cell_type": "code",
   "execution_count": 5,
   "metadata": {
    "slideshow": {
     "slide_type": "slide"
    }
   },
   "outputs": [
    {
     "name": "stdout",
     "output_type": "stream",
     "text": [
      "The Pearson correlation coefficient is   0.025\n"
     ]
    },
    {
     "data": {
      "image/png": "[encoded data removed]",
      "text/plain": [
       "<Figure size 432x432 with 3 Axes>"
      ]
     },
     "metadata": {
      "needs_background": "light"
     },
     "output_type": "display_data"
    }
   ],
   "source": [
    "sns.jointplot('SAT', 'motivation', df);\n",
    "print('The Pearson correlation coefficient is {:7.3f}'.format(stats.pearsonr(df['SAT'], df['motivation'])[0]))"
   ]
  },
  {
   "cell_type": "markdown",
   "metadata": {
    "slideshow": {
     "slide_type": "slide"
    }
   },
   "source": [
    "What happens if we conidition on college admittance $C$, i.e. on a collider variable?"
   ]
  },
  {
   "cell_type": "code",
   "execution_count": 10,
   "metadata": {
    "slideshow": {
     "slide_type": "subslide"
    }
   },
   "outputs": [
    {
     "name": "stdout",
     "output_type": "stream",
     "text": [
      "The Pearson correlation coefficient is  -0.693\n"
     ]
    },
    {
     "data": {
      "image/png": "[encoded data removed]",
      "text/plain": [
       "<Figure size 432x432 with 3 Axes>"
      ]
     },
     "metadata": {
      "needs_background": "light"
     },
     "output_type": "display_data"
    }
   ],
   "source": [
    "df_admitted = df[is_admitted]\n",
    "sns.jointplot('SAT', 'motivation', df_admitted);\n",
    "print('The Pearson correlation coefficient is {:7.3f}'.format(stats.pearsonr(df_admitted['SAT'], df_admitted['motivation'])[0]))"
   ]
  },
  {
   "cell_type": "markdown",
   "metadata": {},
   "source": [
    "Let us practice our understanding for some interesting graph structures. The backdoor algorithm is also available [here](https://nbviewer.jupyter.org/github/HumanCapitalAnalysis/microeconometrics/blob/master/lectures/04_criteria_conditioning_estimators/back_door_algorithm.ipynb) for your reference."
   ]
  },
  {
   "cell_type": "markdown",
   "metadata": {
    "slideshow": {
     "slide_type": "slide"
    }
   },
   "source": [
    "## The back-door criterion\n",
    "\n",
    "The **back-door** criterion allows to determine the whether or not conditioning on a given set of observed variables will identify the causal effect of interest.\n",
    "\n",
    "\n",
    "* **Step 1** Write down the back-door paths from the causal variable to the outcome variable, determine which ones are unblocked, and then search for a candidate conditioning set of observed variables that will block all unblocked back-door paths.\n",
    "\n",
    "* **Step 2** If a candidate conditioning set is found that blocks all back-door paths, inspect the patterns of decent in the graph in order to verify that the variables in the candidate conditioning set do not block or otherwise adjust away any portion of the causal effect of interest.\n"
   ]
  },
  {
   "cell_type": "markdown",
   "metadata": {
    "slideshow": {
     "slide_type": "slide"
    }
   },
   "source": [
    "\n",
    "If one or more back-door paths connect the causal variable to the outcome variable, the causal effect is identified by conditioning on a set of variables $Z$ if \n",
    "\n",
    "**Condition 1** All back-door paths between the causal variable and the outcome variable are blocked after conditioning on $Z$, which will always be the case if each back-door path\n",
    "\n",
    "* contains a chain of mediation $A\\rightarrow C \\rightarrow B$ where the middle variable $C$ is in $Z$ \n",
    "\n",
    "* contains a fork of mutual dependence $A \\leftarrow C \\rightarrow B$, where the middle variable $C$ is in $Z$\n",
    "\n",
    "* contains an inverted fork of mutual causation $A \\rightarrow C \\leftarrow B$, where the middle variable $C$ and all of $C$'s decendents are **not** in $Z$\n",
    "\n",
    "and \n",
    "\n",
    "**Condition 2** No variables in $Z$ are decendents of the causal variable that lie on (or decend from other variables that lie on) any of the directed paths that begin at the causal variable and reach the outcmoe variable.\n"
   ]
  },
  {
   "cell_type": "markdown",
   "metadata": {},
   "source": [
    "We will now work through two examples where we focus on only the first conditions of the back-door criterion.\n",
    "\n",
    "* Let\"s start with a simple example and apply the idea of back-door identification to a graph where we consider on conditioning on a lagged outcome varaiable $Y_{t -1}$."
   ]
  },
  {
   "cell_type": "markdown",
   "metadata": {},
   "source": [
    "<img src=\"material/backdoor_example_1.png\" height=500 width=500 />"
   ]
  },
  {
   "cell_type": "markdown",
   "metadata": {},
   "source": [
    "Now, let's evalaute the a couple of potential conditioning sets.\n",
    "\n",
    "* $\\{F\\}$\n",
    "* $\\{A\\}$\n",
    "* $\\{A, B\\}$\n",
    "\n"
   ]
  },
  {
   "cell_type": "markdown",
   "metadata": {},
   "source": [
    "<img src=\"material/backdoor_example_2.png\" height=500 width=500 />"
   ]
  },
  {
   "cell_type": "markdown",
   "metadata": {},
   "source": [
    "Finally, let's focus on the second condition.\n",
    "\n",
    "* **Condition 2** No variables in $Z$ are decendents of the causal variable that lie on (or decend from other variables that lie on) any of the directed paths that begin at the causal variable and reach the outcome variable."
   ]
  },
  {
   "cell_type": "markdown",
   "metadata": {
    "slideshow": {
     "slide_type": "notes"
    }
   },
   "source": [
    "We first look at a graph that illustrates what a descendent is and remind ourselves of the difference between a direct and an indirect effect."
   ]
  },
  {
   "cell_type": "markdown",
   "metadata": {},
   "source": [
    "<img src=\"material/backdoor_indirect_effect.png\" height=400 width=400 />"
   ]
  },
  {
   "cell_type": "markdown",
   "metadata": {},
   "source": [
    "Let's evaluate the following conditioning sets: $\\{O, B\\}$.\n",
    "\n",
    "<img src=\"material/backdoor_condition_2.png\" height=300 width=300 />"
   ]
  },
  {
   "cell_type": "markdown",
   "metadata": {},
   "source": [
    "## Models of causal exposure and point identification based on potential outcome model\n",
    "\n",
    "### Treatment assignment modeling in statistics"
   ]
  },
  {
   "cell_type": "markdown",
   "metadata": {},
   "source": [
    "Treatment assignment patterns are represented by a general conditional probabilty distribution:\n",
    "\n",
    "\\begin{align*}\n",
    "\\Pr[D = 1 \\mid S], \n",
    "\\end{align*}\n",
    "wher $S$ denotes all variables that systematically determine treatment assignment.\n",
    "\n",
    "$\\rightarrow$ all remaining variation in treatment $D$ is random and thus ignorable."
   ]
  },
  {
   "cell_type": "markdown",
   "metadata": {},
   "source": [
    "\\begin{align*}\n",
    "(Y^0, Y^1) \\perp \\!\\!\\! \\perp D \\mid S \n",
    "\\end{align*}\n",
    "and all variables in $S$ are observed."
   ]
  },
  {
   "cell_type": "markdown",
   "metadata": {},
   "source": [
    "<img src=\"material/assignment_statistics.png\" height=500 width=500 />"
   ]
  },
  {
   "cell_type": "markdown",
   "metadata": {},
   "source": [
    "### Treatment assignment modeling in econometrics"
   ]
  },
  {
   "cell_type": "markdown",
   "metadata": {},
   "source": [
    "\\begin{align*}\n",
    "Y & = D Y^1 + (1 - D) Y^0 \\\\\n",
    "  & = Y^0 + D(Y^1 - Y^0) \\\\\n",
    "  & = Y^0 + \\delta D \\\\\n",
    "  & = \\mu^0 + \\delta D + \\nu^0,\n",
    "\\end{align*}\n",
    "where $\\mu^0 \\equiv E[Y^0]$ and $\\nu^0 \\equiv Y^0 - E[Y^0]$."
   ]
  },
  {
   "cell_type": "markdown",
   "metadata": {},
   "source": [
    "Let's emphasize potential treatment effect heterogeneity:\n",
    "\n",
    "\\begin{align*}\n",
    "Y = \\mu^0 + ( \\mu^1 - \\mu^0) D + \\{\\nu^0 + D(\\nu^1 - \\nu^0)\\}\n",
    "\\end{align*}\n",
    "where $\\mu^1 \\equiv E[Y^1]$ and $\\nu^1 \\equiv Y^1 - E[Y^1]$."
   ]
  },
  {
   "cell_type": "markdown",
   "metadata": {},
   "source": [
    "Let's introduce a latent variable module to be more precise about the \n",
    "\n",
    "\\begin{align*}\n",
    "\\tilde{D} = Z\\phi + U, \n",
    "\\end{align*}\n",
    "\n",
    "where $U$ contains systematic unobserved determinants of treatment selection and completely random components."
   ]
  },
  {
   "cell_type": "markdown",
   "metadata": {},
   "source": [
    "The latent continous variable $D$ is then related to our treatment selection dummy as follows.\n",
    "\n",
    "\\begin{align*}\n",
    "D = \\begin{cases}\n",
    "1 & \\quad\\text{if}\\quad \\tilde{D} > 0 \\\\\n",
    "0 & \\quad\\text{otherwise}\n",
    "\\end{cases}\n",
    "\\end{align*}\n"
   ]
  },
  {
   "cell_type": "markdown",
   "metadata": {},
   "source": [
    "**Selection on obervables and unobservables**\n",
    "\n",
    "<img src=\"material/assignment_econometrics.png\" height=500 width=500 />\n",
    "\n",
    "Link to the literature on treatment assignment in statistics:\n",
    "\n",
    "* $Z$ equals $S$  $\\rightarrow$ selection on observables\n",
    "* $Z$ is only a subset of $S$ $\\rightarrow$ selection on unobservables"
   ]
  },
  {
   "cell_type": "markdown",
   "metadata": {},
   "source": [
    "###  Conditioning ot balance and conditioning to adjust\n",
    "\n",
    "There exists only one back-door path $D \\leftarrow S \\leftrightarrow X \\rightarrow Y$ and both $S$ nor $X$ are observable. Thus, we have a choice to condition on either one of them.\n",
    "\n",
    "<img src=\"material/conditioning_balance_adjust.png\" height=300 width=300 />\n",
    "\n",
    "* $X$, regression estmiator, adjustment-for-other-causes conditioning strategy\n",
    "* $S$, matching estimator, balancing conditioning strategy"
   ]
  },
  {
   "cell_type": "code",
   "execution_count": null,
   "metadata": {},
   "outputs": [],
   "source": []
  }
 ],
 "metadata": {
  "kernelspec": {
   "display_name": "Python 3",
   "language": "python",
   "name": "python3"
  },
  "language_info": {
   "codemirror_mode": {
    "name": "ipython",
    "version": 3
   },
   "file_extension": ".py",
   "mimetype": "text/x-python",
   "name": "python",
   "nbconvert_exporter": "python",
   "pygments_lexer": "ipython3",
   "version": "3.7.2"
  }
 },
 "nbformat": 4,
 "nbformat_minor": 2
}
