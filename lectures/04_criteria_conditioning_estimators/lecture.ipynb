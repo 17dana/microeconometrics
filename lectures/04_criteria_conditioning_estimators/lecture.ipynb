{
 "cells": [
  {
   "cell_type": "code",
   "execution_count": 1,
   "metadata": {
    "slideshow": {
     "slide_type": "skip"
    }
   },
   "outputs": [],
   "source": [
    "%load_ext autoreload\n",
    "%autoreload 2\n",
    "\n",
    "%matplotlib inline\n",
    "\n",
    "import pandas as pd\n",
    "import numpy as np\n",
    "\n",
    "from auxiliary import *"
   ]
  },
  {
   "cell_type": "markdown",
   "metadata": {
    "slideshow": {
     "slide_type": "slide"
    }
   },
   "source": [
    "# Lecture 4: Models of causal exposure and identification criteria for conditioning estimators"
   ]
  },
  {
   "cell_type": "markdown",
   "metadata": {
    "slideshow": {
     "slide_type": "slide"
    }
   },
   "source": [
    "## Conditioning and directed graphs\n",
    "\n",
    "<img src=\"material/backdoor_path.png\" height=300 width=300 />\n",
    "\n",
    "This graph is an example where a simple mean-comparison between the treatend and untreated is not informative on the effect of the treatment."
   ]
  },
  {
   "cell_type": "markdown",
   "metadata": {
    "slideshow": {
     "slide_type": "slide"
    }
   },
   "source": [
    "What was the graph behind our analysis of the Lalonde dataset?\n",
    "\n",
    "<img src=\"material/fig-implicit-lalonde.png\" height=500 width=500 />"
   ]
  },
  {
   "cell_type": "markdown",
   "metadata": {
    "slideshow": {
     "slide_type": "slide"
    }
   },
   "source": [
    "#### Illustration of collider variables\n",
    "\n",
    "We introduced collider variables earlier. However, they will play a very important role going forward and thus we study in an illustration how conditioning on a **collider** induces a conditional association between two variables without an unconditional association.\n",
    "\n",
    "<img src=\"material/fig-collider-variable.png\" height=500 width=500 />\n"
   ]
  },
  {
   "cell_type": "code",
   "execution_count": 2,
   "metadata": {
    "slideshow": {
     "slide_type": "slide"
    }
   },
   "outputs": [
    {
     "data": {
      "text/html": [
       "<div>\n",
       "<style scoped>\n",
       "    .dataframe tbody tr th:only-of-type {\n",
       "        vertical-align: middle;\n",
       "    }\n",
       "\n",
       "    .dataframe tbody tr th {\n",
       "        vertical-align: top;\n",
       "    }\n",
       "\n",
       "    .dataframe thead th {\n",
       "        text-align: right;\n",
       "    }\n",
       "</style>\n",
       "<table border=\"1\" class=\"dataframe\">\n",
       "  <thead>\n",
       "    <tr style=\"text-align: right;\">\n",
       "      <th></th>\n",
       "      <th>SAT</th>\n",
       "      <th>motivation</th>\n",
       "      <th>admission</th>\n",
       "    </tr>\n",
       "  </thead>\n",
       "  <tbody>\n",
       "    <tr>\n",
       "      <th>0</th>\n",
       "      <td>1.837286</td>\n",
       "      <td>-0.193677</td>\n",
       "      <td>0.0</td>\n",
       "    </tr>\n",
       "    <tr>\n",
       "      <th>1</th>\n",
       "      <td>-0.052480</td>\n",
       "      <td>1.557418</td>\n",
       "      <td>0.0</td>\n",
       "    </tr>\n",
       "    <tr>\n",
       "      <th>2</th>\n",
       "      <td>0.839177</td>\n",
       "      <td>0.143768</td>\n",
       "      <td>0.0</td>\n",
       "    </tr>\n",
       "    <tr>\n",
       "      <th>3</th>\n",
       "      <td>1.509914</td>\n",
       "      <td>0.773636</td>\n",
       "      <td>0.0</td>\n",
       "    </tr>\n",
       "    <tr>\n",
       "      <th>4</th>\n",
       "      <td>0.933394</td>\n",
       "      <td>1.475697</td>\n",
       "      <td>0.0</td>\n",
       "    </tr>\n",
       "  </tbody>\n",
       "</table>\n",
       "</div>"
      ],
      "text/plain": [
       "        SAT  motivation  admission\n",
       "0  1.837286   -0.193677        0.0\n",
       "1 -0.052480    1.557418        0.0\n",
       "2  0.839177    0.143768        0.0\n",
       "3  1.509914    0.773636        0.0\n",
       "4  0.933394    1.475697        0.0"
      ]
     },
     "execution_count": 2,
     "metadata": {},
     "output_type": "execute_result"
    }
   ],
   "source": [
    "# SAT scores and individual motivation are uncorrelated in the population\n",
    "num_individuals = 250\n",
    "SAT = np.random.normal(loc=1, scale=1, size=num_individuals)\n",
    "motivation = np.random.normal(loc=1, scale=1, size=num_individuals)\n",
    "\n",
    "# Both toghether determine college admission\n",
    "score = SAT + motivation\n",
    "cutoff = np.percentile(score, 85)\n",
    "is_admitted = score > cutoff\n",
    "\n",
    "# For further processing we create a data frame.\n",
    "data = np.array([SAT, motivation, is_admitted]).T\n",
    "columns = ['SAT', 'motivation', 'admission']\n",
    "df = pd.DataFrame(data=data, columns=columns)\n",
    "df.head()"
   ]
  },
  {
   "cell_type": "code",
   "execution_count": 3,
   "metadata": {
    "slideshow": {
     "slide_type": "slide"
    }
   },
   "outputs": [
    {
     "name": "stdout",
     "output_type": "stream",
     "text": [
      "The Pearson correlation coefficient is  -0.003\n"
     ]
    },
    {
     "data": {
      "image/png": "[encoded data removed]",
      "text/plain": [
       "<Figure size 432x432 with 3 Axes>"
      ]
     },
     "metadata": {
      "needs_background": "light"
     },
     "output_type": "display_data"
    }
   ],
   "source": [
    "get_joint_distribution(df)"
   ]
  },
  {
   "cell_type": "markdown",
   "metadata": {
    "slideshow": {
     "slide_type": "slide"
    }
   },
   "source": [
    "What happens if we conidition on college admittance $C$, i.e. on a collider variable?"
   ]
  },
  {
   "cell_type": "code",
   "execution_count": 4,
   "metadata": {
    "slideshow": {
     "slide_type": "slide"
    }
   },
   "outputs": [
    {
     "name": "stdout",
     "output_type": "stream",
     "text": [
      "The Pearson correlation coefficient is  -0.570\n"
     ]
    },
    {
     "data": {
      "image/png": "[encoded data removed]",
      "text/plain": [
       "<Figure size 432x432 with 3 Axes>"
      ]
     },
     "metadata": {
      "needs_background": "light"
     },
     "output_type": "display_data"
    }
   ],
   "source": [
    "get_joint_distribution(df[is_admitted])"
   ]
  },
  {
   "cell_type": "markdown",
   "metadata": {
    "slideshow": {
     "slide_type": "slide"
    }
   },
   "source": [
    "## The back-door criterion\n",
    "\n",
    "The **back-door** criterion allows to determine the whether or not conditioning on a given set of observed variables will identify the causal effect of interest.\n",
    "\n",
    "\n",
    "* **Step 1** Write down the back-door paths from the causal variable to the outcome variable, determine which ones are unblocked, and then search for a candidate conditioning set of observed variables that will block all unblocked back-door paths.\n",
    "\n",
    "\n",
    "A back-door path is defined as any path between the causal variable and the outcome variable that begins with an arrow that points to the causal variable."
   ]
  },
  {
   "cell_type": "markdown",
   "metadata": {
    "slideshow": {
     "slide_type": "slide"
    }
   },
   "source": [
    "* **Step 2** If a candidate conditioning set is found that blocks all back-door paths, inspect the patterns of decent in the graph in order to verify that the variables in the candidate conditioning set do not block or otherwise adjust away any portion of the causal effect of interest."
   ]
  },
  {
   "cell_type": "markdown",
   "metadata": {
    "slideshow": {
     "slide_type": "slide"
    }
   },
   "source": [
    "\n",
    "If one or more back-door paths connect the causal variable to the outcome variable, the causal effect is identified by conditioning on a set of variables $Z$ if \n",
    "\n",
    "**Condition 1** All back-door paths between the causal variable and the outcome variable are blocked after conditioning on $Z$, which will always be the case if each back-door path\n",
    "\n",
    "* contains a chain of mediation $A\\rightarrow C \\rightarrow B$ where the middle variable $C$ is in $Z$ \n",
    "\n",
    "* contains a fork of mutual dependence $A \\leftarrow C \\rightarrow B$, where the middle variable $C$ is in $Z$\n",
    "\n",
    "* contains an inverted fork of mutual causation $A \\rightarrow C \\leftarrow B$, where the middle variable $C$ and all of $C$'s decendents are **not** in $Z$\n",
    "\n",
    "and ...\n",
    "\n"
   ]
  },
  {
   "cell_type": "markdown",
   "metadata": {
    "slideshow": {
     "slide_type": "slide"
    }
   },
   "source": [
    "**Condition 2** No variables in $Z$ are decendents of the causal variable that lie on (or decend from other variables that lie on) any of the directed paths that begin at the causal variable and reach the outcmoe variable."
   ]
  },
  {
   "cell_type": "markdown",
   "metadata": {
    "slideshow": {
     "slide_type": "slide"
    }
   },
   "source": [
    "We will now work through two examples where we focus on only the first conditions of the back-door criterion.\n",
    "\n",
    "* Let's start with a simple example and apply the idea of back-door identification to a graph where we consider conditioning on a lagged outcome varaiable $Y_{t -1}$."
   ]
  },
  {
   "cell_type": "markdown",
   "metadata": {
    "slideshow": {
     "slide_type": "slide"
    }
   },
   "source": [
    "<img src=\"material/backdoor_example_1.png\" height=750 width=750 />"
   ]
  },
  {
   "cell_type": "markdown",
   "metadata": {
    "slideshow": {
     "slide_type": "notes"
    }
   },
   "source": [
    "* $Y_{t - 1}$ lies on both back-door paths but it does not satisfy the backdoor criterion. It blocks one path, but is a collider variable on the other"
   ]
  },
  {
   "cell_type": "markdown",
   "metadata": {
    "slideshow": {
     "slide_type": "slide"
    }
   },
   "source": [
    "Let us practice our understanding for some interesting graph structures. The backdoor algorithm is also available [here](https://nbviewer.jupyter.org/github/HumanCapitalAnalysis/microeconometrics/blob/master/lectures/04_criteria_conditioning_estimators/back_door_algorithm.ipynb) for your reference."
   ]
  },
  {
   "cell_type": "markdown",
   "metadata": {
    "slideshow": {
     "slide_type": "slide"
    }
   },
   "source": [
    "Here are a couple of candidates conditioning sets.\n",
    "\n",
    "* $\\{F\\}$\n",
    "* $\\{A\\}$\n",
    "* $\\{A, B\\}$\n",
    "\n",
    "<img src=\"material/backdoor_example_2.png\" height=500 width=500 />"
   ]
  },
  {
   "cell_type": "markdown",
   "metadata": {
    "slideshow": {
     "slide_type": "slide"
    }
   },
   "source": [
    "Finally, let's focus on the second condition.\n",
    "\n",
    "* **Condition 2** No variables in $Z$ are decendents of the causal variable that lie on (or decend from other variables that lie on) any of the directed paths that begin at the causal variable and reach the outcome variable."
   ]
  },
  {
   "cell_type": "markdown",
   "metadata": {
    "slideshow": {
     "slide_type": "slide"
    }
   },
   "source": [
    "We first look at a graph that illustrates what a descendent is and remind ourselves of the difference between a direct and an indirect effect.\n",
    "\n",
    "<img src=\"material/backdoor_indirect_effect.png\" height=400 width=400 />\n",
    "\n",
    "Conditioning on $N$ does not satisfy the back-door criterion due to its violation of the second condition."
   ]
  },
  {
   "cell_type": "markdown",
   "metadata": {
    "slideshow": {
     "slide_type": "slide"
    }
   },
   "source": [
    "Let's evaluate the following conditioning set: $\\{O, B\\}$.\n",
    "\n",
    "<img src=\"material/backdoor_condition_2.png\" height=300 width=300 />"
   ]
  },
  {
   "cell_type": "markdown",
   "metadata": {
    "slideshow": {
     "slide_type": "slide"
    }
   },
   "source": [
    "## Models of causal exposure and point identification based on potential outcome model"
   ]
  },
  {
   "cell_type": "markdown",
   "metadata": {
    "slideshow": {
     "slide_type": "slide"
    }
   },
   "source": [
    "### Treatment assignment modeling in statistics\n",
    "\n",
    "Treatment assignment patterns are represented by a general conditional probabilty distribution:\n",
    "\n",
    "\\begin{align*}\n",
    "\\Pr[D = 1 \\mid S], \n",
    "\\end{align*}\n",
    "wher $S$ denotes all variables that systematically determine treatment assignment."
   ]
  },
  {
   "cell_type": "markdown",
   "metadata": {
    "slideshow": {
     "slide_type": "slide"
    }
   },
   "source": [
    "If all variables in $S$ are observed, then treatment assignment is ignorable\n",
    "\\begin{align*}\n",
    "(Y^0, Y^1) \\perp \\!\\!\\! \\perp D \\mid S \n",
    "\\end{align*}\n",
    "\n",
    "**Nonignorable and ignorable treatment assignment**\n",
    "\n",
    "<img src=\"material/assignment_statistics.png\" height=500 width=500 />"
   ]
  },
  {
   "cell_type": "markdown",
   "metadata": {
    "slideshow": {
     "slide_type": "slide"
    }
   },
   "source": [
    "### Treatment assignment modeling in econometrics\n",
    "\n",
    "\n",
    "\\begin{align*}\n",
    "Y & = D Y^1 + (1 - D) Y^0 \\\\\n",
    "  & = Y^0 + D(Y^1 - Y^0) \\\\\n",
    "  & = Y^0 + \\delta D \\\\\n",
    "  & = \\mu^0 + \\delta D + \\nu^0,\n",
    "\\end{align*}\n",
    "\n",
    "where $\\mu^0 \\equiv E[Y^0]$ and $\\nu^0 \\equiv Y^0 - E[Y^0]$."
   ]
  },
  {
   "cell_type": "markdown",
   "metadata": {
    "slideshow": {
     "slide_type": "slide"
    }
   },
   "source": [
    "Let's emphasize potential treatment effect heterogeneity:\n",
    "\n",
    "\\begin{align*}\n",
    "Y = \\mu^0 + ( \\mu^1 - \\mu^0) D + \\{\\nu^0 + D(\\nu^1 - \\nu^0)\\}\n",
    "\\end{align*}\n",
    "where $\\mu^1 \\equiv E[Y^1]$ and $\\nu^1 \\equiv Y^1 - E[Y^1]$."
   ]
  },
  {
   "cell_type": "markdown",
   "metadata": {
    "slideshow": {
     "slide_type": "slide"
    }
   },
   "source": [
    "Let's introduce a latent variable module to be more precise about the \n",
    "\n",
    "\\begin{align*}\n",
    "\\tilde{D} = Z\\phi + U, \n",
    "\\end{align*}\n",
    "\n",
    "where $U$ contains systematic unobserved determinants of treatment selection and completely random components."
   ]
  },
  {
   "cell_type": "markdown",
   "metadata": {
    "slideshow": {
     "slide_type": "slide"
    }
   },
   "source": [
    "The latent continous variable $D$ is then related to our treatment selection dummy as follows.\n",
    "\n",
    "\\begin{align*}\n",
    "D = \\begin{cases}\n",
    "1 & \\quad\\text{if}\\quad \\tilde{D} > 0 \\\\\n",
    "0 & \\quad\\text{otherwise}\n",
    "\\end{cases}\n",
    "\\end{align*}\n"
   ]
  },
  {
   "cell_type": "markdown",
   "metadata": {
    "slideshow": {
     "slide_type": "slide"
    }
   },
   "source": [
    "**Selection on obervables and unobservables**\n",
    "\n",
    "<img src=\"material/assignment_econometrics.png\" height=500 width=500 />\n",
    "\n",
    "Link to the literature on treatment assignment in statistics:\n",
    "\n",
    "* $Z$ equals $S$  $\\rightarrow$ selection on observables\n",
    "* $Z$ is only a subset of $S$ $\\rightarrow$ selection on unobservables"
   ]
  }
 ],
 "metadata": {
  "celltoolbar": "Slideshow",
  "kernelspec": {
   "display_name": "Python 3",
   "language": "python",
   "name": "python3"
  },
  "language_info": {
   "codemirror_mode": {
    "name": "ipython",
    "version": 3
   },
   "file_extension": ".py",
   "mimetype": "text/x-python",
   "name": "python",
   "nbconvert_exporter": "python",
   "pygments_lexer": "ipython3",
   "version": "3.7.2"
  },
  "varInspector": {
   "cols": {
    "lenName": 16,
    "lenType": 16,
    "lenVar": 40
   },
   "kernels_config": {
    "python": {
     "delete_cmd_postfix": "",
     "delete_cmd_prefix": "del ",
     "library": "var_list.py",
     "varRefreshCmd": "print(var_dic_list())"
    },
    "r": {
     "delete_cmd_postfix": ") ",
     "delete_cmd_prefix": "rm(",
     "library": "var_list.r",
     "varRefreshCmd": "cat(var_dic_list()) "
    }
   },
   "types_to_exclude": [
    "module",
    "function",
    "builtin_function_or_method",
    "instance",
    "_Feature"
   ],
   "window_display": false
  }
 },
 "nbformat": 4,
 "nbformat_minor": 2
}
