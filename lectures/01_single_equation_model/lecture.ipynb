{
 "cells": [
  {
   "cell_type": "markdown",
   "metadata": {},
   "source": [
    "# Lecture Skeleton"
   ]
  },
  {
   "cell_type": "markdown",
   "metadata": {},
   "source": [
    "\n",
    "<img src=\"figures/fig-academic-presentation-1.png\" width=\"200\">\n",
    "<center>Academic presentation</center>\n",
    "\n",
    "<img src=\"figures/fig-academic-reading-1.png\" width=\"200\">\n",
    "<center>Academic reading</center>\n",
    "\n",
    "<img src=\"figures/fig-academic-research-1.png\" width=\"200\">\n",
    "<center>Academic research</center>\n",
    "\n",
    "<img src=\"figures/fig-academic-writing-1.png\" width=\"200\">\n",
    "<center>Academic writing I</center>\n",
    "\n",
    "<img src=\"figures/fig-academic-writing-2.png\" width=\"200\">\n",
    "<center>Academic writing II</center>\n",
    "\n",
    "<img src=\"figures/fig-book-recommendation-poor-economics.png\" width=\"200\">\n",
    "<center>Book recommendation I</center>\n",
    "\n",
    "<img src=\"figures/fig-book-recommendation-tyranny-experts.png\" width=\"200\">\n",
    "<center>Book recommendation II</center>\n",
    "\n",
    "<img src=\"figures/fig-book-recommendation-keynes-vs-hayek.jpg\" width=\"200\">\n",
    "<center>Book recommendation III</center>"
   ]
  }
 ],
 "metadata": {
  "kernelspec": {
   "display_name": "Python 3",
   "language": "python",
   "name": "python3"
  },
  "language_info": {
   "codemirror_mode": {
    "name": "ipython",
    "version": 3
   },
   "file_extension": ".py",
   "mimetype": "text/x-python",
   "name": "python",
   "nbconvert_exporter": "python",
   "pygments_lexer": "ipython3",
   "version": "3.7.2"
  },
  "latex_envs": {
   "LaTeX_envs_menu_present": true,
   "autoclose": false,
   "autocomplete": true,
   "bibliofile": "literature.bib",
   "cite_by": "apalike",
   "current_citInitial": 1,
   "eqLabelWithNumbers": true,
   "eqNumInitial": 1,
   "hotkeys": {
    "equation": "Ctrl-E",
    "itemize": "Ctrl-I"
   },
   "labels_anchors": false,
   "latex_user_defs": false,
   "report_style_numbering": false,
   "user_envs_cfg": false
  }
 },
 "nbformat": 4,
 "nbformat_minor": 2
}
