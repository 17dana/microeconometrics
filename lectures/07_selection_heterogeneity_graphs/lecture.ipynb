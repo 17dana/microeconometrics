{
 "cells": [
  {
   "cell_type": "code",
   "execution_count": 31,
   "metadata": {},
   "outputs": [],
   "source": [
    "%matplotlib inline\n",
    "\n",
    "import statsmodels.formula.api as smf\n",
    "from functools import partial\n",
    "import pandas as pd\n",
    "import numpy as np\n",
    "\n",
    "from auxiliary import *\n",
    "\n",
    "np.random.seed(123)"
   ]
  },
  {
   "cell_type": "markdown",
   "metadata": {},
   "source": [
    "# Self-selection, heterogeneity, and causal graphs\n",
    "\n",
    "**Overview**\n",
    "\n",
    "* Introduction\n",
    "\n",
    "* Nonignorability and selection on the unobservables revisited\n",
    "\n",
    "* Selection on the unobservables and the utility of additional posttreatment measures of the outcome\n",
    "\n",
    "* Causal graphs for complex patterns of self-selection and heterogeneity\n",
    "\n",
    "* Conclusion\n"
   ]
  },
  {
   "cell_type": "markdown",
   "metadata": {},
   "source": [
    "**Alternatives to back-door identification**\n",
    "\n",
    "The next chapters deal with:\n",
    "\n",
    "* instrumental variables\n",
    "* front-door identification with causal mechanisms\n",
    "* conditioning estimators using pretreatment variables\n",
    "\n",
    "Why do we need to consider alternatives?\n",
    "\n",
    "$\\rightarrow$selection on unobservables / nonignorability of treatment}\n",
    "\n",
    "What makes an unobservable?\n",
    "\n",
    "* simple confounding, stable unobserved common cause of treatment and outcome variable\n",
    "\n",
    "* subtle confounding, direct self-selection into the treatment based on accurate perceptions of the individual level treatment effect\n",
    "\n",
    "Selection on unobservables as a combination of two features:\n",
    "\n",
    "* treatment effect heterogeneity\n",
    "* self-selection"
   ]
  },
  {
   "cell_type": "markdown",
   "metadata": {},
   "source": [
    "## Nonignorability and selection on the unobservables\n",
    "\n",
    "### Selection on observables \n",
    "\n",
    "<img src=\"material/figure-4-8.png\" height=500 width=500 />\n",
    "\n",
    "### Selection on unobservables\n",
    "\n",
    "<img src=\"material/figure-4-9.png\" height=500 width=500 />\n"
   ]
  },
  {
   "cell_type": "markdown",
   "metadata": {},
   "source": [
    "## Selection on the unobservables and the utility of additional posttreatment measures of the outcome\n",
    "\n",
    "We proceed in two steps:\n",
    "\n",
    "* assess identification for given directed graphs\n",
    "\n",
    "* examine structure of directed graph itself\n",
    "\n",
    "<img src=\"material/figure-8-1.png\" height=500 width=500 />\n",
    "\n",
    "* **U**, unobserved motivation to learn, differences in home environment, anticipation of causal effect itself.\n",
    "\n",
    "We cannot identify the causal effect of $D$ on $Y_{10}$ in subfigure (a) but in subfigure (b). However, at what cost?"
   ]
  },
  {
   "cell_type": "markdown",
   "metadata": {},
   "source": [
    "<img src=\"material/figure-8-2.png\" height=500 width=500 />\n",
    "\n",
    "Back-door adjustment by $Y_{10}$ ineffective again after revisiting economic implications of the imposed graph. In fact, $Y_{10}$ is now a collider variable that induces a noncausal dependence."
   ]
  },
  {
   "cell_type": "markdown",
   "metadata": {},
   "source": [
    "## Panel Data Demonstration\n",
    "\n",
    "The motivation behind this example is simply to show that we cannot learn anything about the underlying causal effect with the conventional strategies and how we model self-selection in the data generating process."
   ]
  },
  {
   "cell_type": "code",
   "execution_count": 85,
   "metadata": {},
   "outputs": [],
   "source": [
    "num_agents = 100"
   ]
  },
  {
   "cell_type": "code",
   "execution_count": 87,
   "metadata": {},
   "outputs": [],
   "source": [
    "def get_propensity_score(o, u):\n",
    "    \"\"\"Get the propenstiy score.\"\"\"\n",
    "    level = -3.8 + o + u \n",
    "    return np.exp(level) / (1 + np.exp(level))\n",
    "\n",
    "\n",
    "def get_treatment_status(o, u):\n",
    "    # Following the causal graph, the treatment indicator is only a function \n",
    "    # of the background characteristics O and the unobservable U.\n",
    "    p = get_propensity_score(o, u)\n",
    "    return np.random.choice([1, 0], p=[p, 1 - p])\n",
    "   \n",
    "def get_covariates():\n",
    "    \"\"\"\n",
    "    \n",
    "    \"\"\"\n",
    "    o = np.random.normal()\n",
    "    e = np.random.normal()\n",
    "    \n",
    "    # Based on the graph, the variables X and U both depend on O.\n",
    "    x = o + np.random.normal()\n",
    "    u = o + np.random.normal()\n",
    "        \n",
    "    return o, u, x, e\n",
    "    \n",
    "    \n",
    "def get_potential_outcomes(grade, o, u, x, e, scenario=0, selection=False):\n",
    "    \"\"\"\n",
    "        0: without\n",
    "        1: with supplementary dependence on E\n",
    "    \"\"\"\n",
    "    assert scenario in range(2)\n",
    "    \n",
    "    if scenario == 0:\n",
    "        y_0 = list()\n",
    "        y_0.append(100 + o + u + x + np.random.normal())\n",
    "        y_0.append(101 + o + u + x + np.random.normal())\n",
    "        y_0.append(102 + o + u + x + np.random.normal())\n",
    "    elif scenario == 1:\n",
    "        y_0 = list()\n",
    "        y_0.append(100 + o + u + x + e + np.random.normal())\n",
    "        y_0.append(101 + o + u + x + e + np.random.normal())\n",
    "        y_0.append(102 + o + u + x + e + np.random.normal())\n",
    "    else:\n",
    "        raise NotImplementedError\n",
    "    \n",
    "    # Sampling treatment effecs\n",
    "    delta_1 = np.random.normal(loc=10, scale=1)\n",
    "    \n",
    "    if selection:\n",
    "        delta_2 = np.random.normal(loc=u)\n",
    "    else:\n",
    "        delta_2 = np.random.normal()\n",
    "    \n",
    "    y_1 = list()\n",
    "    y_1.append(y_0[0] + delta_1 + delta_2)\n",
    "    y_1.append(y_0[1] + (1 + delta_1) + delta_2)\n",
    "    y_1.append(y_0[2] + (2 + delta_1) + delta_2)\n",
    "        \n",
    "    idx = grade - 10\n",
    "\n",
    "    return y_0[idx], y_1[idx]\n",
    "        \n",
    "def get_sample_panel_demonstration(num_agents=1000, scenario=0, selection=False, seed=123):\n",
    "    \n",
    "    columns = ['Y', 'D', 'O', 'U', 'X', 'E', 'Y_1', 'Y_0']\n",
    "    index = list()\n",
    "    for i in range(num_agents):\n",
    "        for j in [10, 11, 12]:\n",
    "            index.append((i, j))\n",
    "    index = pd.MultiIndex.from_tuples(index, names=('Identifier', 'Grade'))\n",
    "    df = pd.DataFrame(columns=columns, index=index)\n",
    "\n",
    "    np.random.seed(seed)\n",
    "    for i in range(num_agents):\n",
    "\n",
    "        o, u, x, e = get_covariates()\n",
    "        d = get_treatment_status(o, u)\n",
    "        for grade in [10, 11, 12]:\n",
    "            y_0, y_1 = get_potential_outcomes(grade, o, u, x, e, scenario, selection)\n",
    "            y = d * y_1 + (1 - d) * y_0\n",
    "            df.loc[(i, grade), :] = [y, d, o, u, x, e, y_1, y_0]\n",
    "\n",
    "    df = df.astype(np.float)\n",
    "    df = df.astype({'D': np.int})\n",
    "\n",
    "    return df"
   ]
  },
  {
   "cell_type": "code",
   "execution_count": 81,
   "metadata": {},
   "outputs": [
    {
     "data": {
      "text/html": [
       "<div>\n",
       "<style scoped>\n",
       "    .dataframe tbody tr th:only-of-type {\n",
       "        vertical-align: middle;\n",
       "    }\n",
       "\n",
       "    .dataframe tbody tr th {\n",
       "        vertical-align: top;\n",
       "    }\n",
       "\n",
       "    .dataframe thead th {\n",
       "        text-align: right;\n",
       "    }\n",
       "</style>\n",
       "<table border=\"1\" class=\"dataframe\">\n",
       "  <thead>\n",
       "    <tr style=\"text-align: right;\">\n",
       "      <th></th>\n",
       "      <th></th>\n",
       "      <th>Y</th>\n",
       "      <th>D</th>\n",
       "      <th>O</th>\n",
       "      <th>U</th>\n",
       "      <th>X</th>\n",
       "      <th>E</th>\n",
       "      <th>Y_1</th>\n",
       "      <th>Y_0</th>\n",
       "    </tr>\n",
       "    <tr>\n",
       "      <th>Identifier</th>\n",
       "      <th>Grade</th>\n",
       "      <th></th>\n",
       "      <th></th>\n",
       "      <th></th>\n",
       "      <th></th>\n",
       "      <th></th>\n",
       "      <th></th>\n",
       "      <th></th>\n",
       "      <th></th>\n",
       "    </tr>\n",
       "  </thead>\n",
       "  <tbody>\n",
       "    <tr>\n",
       "      <th rowspan=\"3\" valign=\"top\">0</th>\n",
       "      <th>10</th>\n",
       "      <td>98.345538</td>\n",
       "      <td>0</td>\n",
       "      <td>-1.085631</td>\n",
       "      <td>-0.802652</td>\n",
       "      <td>-0.088285</td>\n",
       "      <td>-1.506295</td>\n",
       "      <td>108.705587</td>\n",
       "      <td>98.345538</td>\n",
       "    </tr>\n",
       "    <tr>\n",
       "      <th>11</th>\n",
       "      <td>98.575991</td>\n",
       "      <td>0</td>\n",
       "      <td>-1.085631</td>\n",
       "      <td>-0.802652</td>\n",
       "      <td>-0.088285</td>\n",
       "      <td>-1.506295</td>\n",
       "      <td>108.813428</td>\n",
       "      <td>98.575991</td>\n",
       "    </tr>\n",
       "    <tr>\n",
       "      <th>12</th>\n",
       "      <td>100.149958</td>\n",
       "      <td>0</td>\n",
       "      <td>-1.085631</td>\n",
       "      <td>-0.802652</td>\n",
       "      <td>-0.088285</td>\n",
       "      <td>-1.506295</td>\n",
       "      <td>113.055897</td>\n",
       "      <td>100.149958</td>\n",
       "    </tr>\n",
       "    <tr>\n",
       "      <th rowspan=\"2\" valign=\"top\">1</th>\n",
       "      <th>10</th>\n",
       "      <td>103.505368</td>\n",
       "      <td>0</td>\n",
       "      <td>0.522742</td>\n",
       "      <td>1.247658</td>\n",
       "      <td>0.988387</td>\n",
       "      <td>1.495827</td>\n",
       "      <td>112.983792</td>\n",
       "      <td>103.505368</td>\n",
       "    </tr>\n",
       "    <tr>\n",
       "      <th>11</th>\n",
       "      <td>102.897032</td>\n",
       "      <td>0</td>\n",
       "      <td>0.522742</td>\n",
       "      <td>1.247658</td>\n",
       "      <td>0.988387</td>\n",
       "      <td>1.495827</td>\n",
       "      <td>109.326910</td>\n",
       "      <td>102.897032</td>\n",
       "    </tr>\n",
       "  </tbody>\n",
       "</table>\n",
       "</div>"
      ],
      "text/plain": [
       "                           Y  D         O         U         X         E  \\\n",
       "Identifier Grade                                                          \n",
       "0          10      98.345538  0 -1.085631 -0.802652 -0.088285 -1.506295   \n",
       "           11      98.575991  0 -1.085631 -0.802652 -0.088285 -1.506295   \n",
       "           12     100.149958  0 -1.085631 -0.802652 -0.088285 -1.506295   \n",
       "1          10     103.505368  0  0.522742  1.247658  0.988387  1.495827   \n",
       "           11     102.897032  0  0.522742  1.247658  0.988387  1.495827   \n",
       "\n",
       "                         Y_1         Y_0  \n",
       "Identifier Grade                          \n",
       "0          10     108.705587   98.345538  \n",
       "           11     108.813428   98.575991  \n",
       "           12     113.055897  100.149958  \n",
       "1          10     112.983792  103.505368  \n",
       "           11     109.326910  102.897032  "
      ]
     },
     "execution_count": 81,
     "metadata": {},
     "output_type": "execute_result"
    }
   ],
   "source": [
    "num_agents, scenario, selection = 100, 0, False\n",
    "df = get_sample_panel_demonstration(num_agents, scenario, selection)\n",
    "df.head()"
   ]
  },
  {
   "cell_type": "markdown",
   "metadata": {},
   "source": [
    "What is the average treatment effect and how does it depend on the presence of selection?"
   ]
  },
  {
   "cell_type": "code",
   "execution_count": 82,
   "metadata": {},
   "outputs": [
    {
     "name": "stdout",
     "output_type": "stream",
     "text": [
      " Selection False\n",
      " Grade 10:  ATE 10.072\n",
      " Grade 12:  ATE 12.020\n",
      "\n",
      "\n",
      " Selection True\n",
      " Grade 10:  ATE 10.020\n",
      " Grade 12:  ATE 11.968\n",
      "\n",
      "\n"
     ]
    }
   ],
   "source": [
    "num_agents, scenario, selection = 1000, 0, False\n",
    "\n",
    "# This setup allows to freeze some arguments of the function\n",
    "# that do not change during the analysis.\n",
    "simulate_sample = partial(get_sample_panel_demonstration, num_agents, scenario)\n",
    "\n",
    "for selection in [False, True]:\n",
    "    print(' Selection {:}'.format(selection))\n",
    "    df = simulate_sample(selection)\n",
    "    for grade in [10, 12]:\n",
    "        subset = df.loc[(slice(None), grade), :]\n",
    "        stat = (subset['Y_1'] - subset['Y_0']).mean()\n",
    "        print(\" Grade {:}:  ATE {:5.3f}\".format(*[grade, stat]))\n",
    "    print('\\n')"
   ]
  },
  {
   "cell_type": "code",
   "execution_count": 83,
   "metadata": {},
   "outputs": [
    {
     "name": "stdout",
     "output_type": "stream",
     "text": [
      " Selection False\n",
      " Grade 10:  ATT 9.919   ATC 10.083\n",
      " Grade 12:  ATT 11.626   ATC 12.050\n",
      "\n",
      "\n",
      " Selection True\n",
      " Grade 10:  ATT 11.609   ATC 9.900\n",
      " Grade 12:  ATT 13.317   ATC 11.867\n",
      "\n",
      "\n"
     ]
    }
   ],
   "source": [
    "for selection in [False, True]:\n",
    "    print(' Selection {:}'.format(selection))\n",
    "    df = simulate_sample(selection)\n",
    "    for grade in [10, 12]:\n",
    "        subset = df.loc[(slice(None), grade), :]\n",
    "            \n",
    "        treated = subset['D'] == 1\n",
    "        control = subset['D'] == 0\n",
    "\n",
    "        stat = list()\n",
    "        stat.append((subset['Y_1'][treated] - subset['Y_0'][treated]).mean())\n",
    "        stat.append((subset['Y_1'][control] - subset['Y_0'][control]).mean())\n",
    "        print(\" Grade {:}:  ATT {:5.3f}   ATC {:5.3f}\".format(grade, *stat))\n",
    "    print('\\n')"
   ]
  },
  {
   "cell_type": "markdown",
   "metadata": {},
   "source": [
    "We want to run some exemplary estimations that just confirm our fear that we cannot learn anything about the underlying causal effects by applying regression-based estimations."
   ]
  },
  {
   "cell_type": "code",
   "execution_count": 84,
   "metadata": {},
   "outputs": [
    {
     "name": "stdout",
     "output_type": "stream",
     "text": [
      "Grade: 10  Model: Y ~ D\n",
      "   Estimated Treatment Effect: 15.647\n",
      "\n",
      "Grade: 10  Model: Y ~ D + X + O\n",
      "   Estimated Treatment Effect: 12.283\n",
      "\n",
      "Grade: 12  Model: Y ~ D\n",
      "   Estimated Treatment Effect: 17.528\n",
      "\n",
      "Grade: 12  Model: Y ~ D + X + O\n",
      "   Estimated Treatment Effect: 14.190\n",
      "\n"
     ]
    }
   ],
   "source": [
    "for grade in [10, 12]:\n",
    "    for model in ['Y ~ D', 'Y ~ D + X + O']:\n",
    "        subset = df.loc[(slice(None), grade), :]\n",
    "        rslt = smf.ols(formula=model, data=subset).fit()\n",
    "        stat = rslt.params['D']\n",
    "        print('Grade: {}  Model: {:}'.format(*[grade, model]))\n",
    "        print('   Estimated Treatment Effect: {:5.3f}\\n'.format(stat))"
   ]
  },
  {
   "cell_type": "markdown",
   "metadata": {},
   "source": [
    "## Causal graphs for complex patterns of self-selection\n",
    "\n",
    "We want to make sure that complex patterns of self-selection can be represented by directed graphs.\n",
    "\n",
    "### Separate graphs for separate latent classes\n",
    "\n",
    "**Groups**\n",
    "\n",
    "* $G=1$, selection of schools mainly for lifestyle reasons, proximity to home and taste for school cultures\n",
    "\n",
    "* $G=2$, selection of schools to maximize expected achievement\n",
    "\n",
    "\n",
    "\n",
    "<img src=\"material/figure-8-3.png\" height=500 width=500 />\n",
    "\n",
    "What is economic mechanisms are represented by each of the arrows? Why would we expect them to differ across the two groups?\n"
   ]
  },
  {
   "cell_type": "markdown",
   "metadata": {},
   "source": [
    "### A single graph that represents all latent classes\n",
    "\n",
    "<img src=\"material/figure-8-4.png\" height=500 width=500 />\n"
   ]
  },
  {
   "cell_type": "markdown",
   "metadata": {},
   "source": [
    "<img src=\"material/figure-8-5.png\" height=500 width=500 />\n"
   ]
  },
  {
   "cell_type": "code",
   "execution_count": null,
   "metadata": {},
   "outputs": [],
   "source": []
  }
 ],
 "metadata": {
  "kernelspec": {
   "display_name": "Python 3",
   "language": "python",
   "name": "python3"
  },
  "language_info": {
   "codemirror_mode": {
    "name": "ipython",
    "version": 3
   },
   "file_extension": ".py",
   "mimetype": "text/x-python",
   "name": "python",
   "nbconvert_exporter": "python",
   "pygments_lexer": "ipython3",
   "version": "3.7.1"
  }
 },
 "nbformat": 4,
 "nbformat_minor": 2
}
