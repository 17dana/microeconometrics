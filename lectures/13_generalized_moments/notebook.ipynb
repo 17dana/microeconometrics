{
 "cells": [
  {
   "cell_type": "code",
   "execution_count": 1,
   "metadata": {},
   "outputs": [],
   "source": [
    "%matplotlib inline\n",
    "\n",
    "import statsmodels.formula.api as smf\n",
    "import matplotlib.pyplot as plt\n",
    "import seaborn as sns\n",
    "import pandas as pd\n",
    "import numpy as np\n",
    "import scipy\n",
    "\n",
    "# fancy imports \n",
    "from scipy.optimize import minimize\n",
    "from linearmodels.iv import IV2SLS\n",
    "from functools import partial\n",
    "from scipy.stats import norm\n",
    "\n",
    "np.random.seed(123)"
   ]
  },
  {
   "cell_type": "markdown",
   "metadata": {},
   "source": [
    "# Generalized method of moments\n",
    "\n",
    "This notebook accompanies the lecture slides on the *Generalized method of moments*. \n",
    "\n",
    "* **Example 1** We study a simulated sample that can be estimated by ordinary least squares regression to illustrate its unifying principles.\n",
    "\n",
    "* **Example 2** We study a simulated sample that can be estimated by instrumental variables methods."
   ]
  },
  {
   "cell_type": "code",
   "execution_count": 4,
   "metadata": {},
   "outputs": [],
   "source": [
    "def get_sample_1(num_agents, beta, seed=123):\n",
    "    \n",
    "    random_sampling = partial(np.random.normal, size=num_agents)\n",
    "    np.random.seed(seed)\n",
    "    \n",
    "    X = random_sampling(scale=10)\n",
    "    eps = random_sampling()\n",
    "    \n",
    "    Y = 1 + beta * X + eps\n",
    "    \n",
    "    index = pd.Index(range(num_agents), name='Identifier')\n",
    "    columns = ['Y', 'X']\n",
    "    df = pd.DataFrame(np.vstack((Y, X)).T, columns=columns, index=index)\n",
    "    return df\n",
    "\n",
    "def get_moments(df, beta):\n",
    "    pass"
   ]
  },
  {
   "cell_type": "markdown",
   "metadata": {},
   "source": [
    "## How does the empirical moment at the truth change as we increase the sample size?"
   ]
  },
  {
   "cell_type": "code",
   "execution_count": null,
   "metadata": {},
   "outputs": [],
   "source": []
  },
  {
   "cell_type": "markdown",
   "metadata": {},
   "source": [
    "## How does a GMM estimation look like?"
   ]
  },
  {
   "cell_type": "code",
   "execution_count": null,
   "metadata": {},
   "outputs": [],
   "source": []
  },
  {
   "cell_type": "markdown",
   "metadata": {},
   "source": [
    "## How does an OLS estimation look like?"
   ]
  },
  {
   "cell_type": "code",
   "execution_count": null,
   "metadata": {},
   "outputs": [],
   "source": []
  },
  {
   "cell_type": "markdown",
   "metadata": {},
   "source": [
    "## How does a standard MLE estimation look like?"
   ]
  },
  {
   "cell_type": "code",
   "execution_count": null,
   "metadata": {},
   "outputs": [],
   "source": []
  },
  {
   "cell_type": "markdown",
   "metadata": {},
   "source": [
    "## Example 2"
   ]
  },
  {
   "cell_type": "code",
   "execution_count": 8,
   "metadata": {},
   "outputs": [],
   "source": [
    "def get_sample_2(num_agents, beta, seed=123):\n",
    "\n",
    "    # Setup of sample simulation\n",
    "    random_sampling = partial(np.random.normal, size=num_agents)\n",
    "    np.random.seed(seed)\n",
    "\n",
    "    # Create canvas for data frame\n",
    "    index = pd.Index(range(num_agents), name='Identifier')\n",
    "    columns = ['Y', 'X', 'Z1', 'Z2']\n",
    "    df = pd.DataFrame(columns=columns, index=index)\n",
    "\n",
    "    for label in ['Z1', 'Z2']:\n",
    "        df[label] = random_sampling(scale=10)\n",
    "    C = random_sampling(scale=10)\n",
    "    \n",
    "    df['X'] = C + df[['Z1', 'Z2']].sum(axis=1) + random_sampling() \n",
    "    U = C + random_sampling()\n",
    "    \n",
    "    df['Y'] = 1 + beta * df['X'] + U\n",
    "    \n",
    "    return df\n",
    "\n",
    "df = get_sample_2(num_agents=10000, beta=7)"
   ]
  },
  {
   "cell_type": "markdown",
   "metadata": {},
   "source": [
    "## How does an OLS estimate look like?"
   ]
  },
  {
   "cell_type": "code",
   "execution_count": null,
   "metadata": {},
   "outputs": [],
   "source": []
  },
  {
   "cell_type": "markdown",
   "metadata": {},
   "source": [
    "## How does an IV estimate look like?"
   ]
  },
  {
   "cell_type": "code",
   "execution_count": null,
   "metadata": {},
   "outputs": [],
   "source": []
  },
  {
   "cell_type": "markdown",
   "metadata": {},
   "source": [
    "## How does a GMM estimation look like?"
   ]
  },
  {
   "cell_type": "code",
   "execution_count": null,
   "metadata": {},
   "outputs": [],
   "source": []
  },
  {
   "cell_type": "code",
   "execution_count": 25,
   "metadata": {},
   "outputs": [
    {
     "data": {
      "text/html": [
       "<link href='http://fonts.googleapis.com/css?family=PT+Mono' rel='stylesheet' type='text/css'>\n",
       "<link href='http://fonts.googleapis.com/css?family=Ubuntu:400,700,400italic,700italic' rel='stylesheet' type='text/css'>\n",
       "<link href='http://fonts.googleapis.com/css?family=Open Sans:400,700,400italic' rel='stylesheet' type='text/css'>\n",
       "\n",
       "<style>\n",
       "\n",
       "@font-face {\n",
       "    font-family: \"Computer Modern\";\n",
       "    src: url('http://mirrors.ctan.org/fonts/cm-unicode/fonts/otf/cmunss.otf');\n",
       "}\n",
       "\n",
       "#notebook_panel { /* main background */\n",
       "    background: #888;\n",
       "    color: #f6f6f6;\n",
       "}\n",
       "\n",
       "\n",
       "div.cell { /* set cell width to about 80 chars */\n",
       "    width: 1000px;\n",
       "}\n",
       "\n",
       "\n",
       "div.text_cell_render {\n",
       "/*font-family: \"Helvetica Neue\", Arial, Helvetica, Geneva, sans-serif;*/\n",
       "font-family: \"Open Sans\", sans-serif; /* Make non-code text serif. */\n",
       "line-height: 145%; /* added for some line spacing of text. */\n",
       "width: 105ex; /* instead of 'inherit' for shorter lines */\n",
       "}\n",
       "\n",
       "div #notebook { /* centre the content */\n",
       "    background: #fff; /* white background for content */\n",
       "    width: 1200px;\n",
       "    margin: auto;\n",
       "    padding-left: 1em;\n",
       "}\n",
       "\n",
       "#notebook li { /* More space between bullet points */\n",
       "margin-top:0.8em;\n",
       "}\n",
       "\n",
       "/* draw border around running cells */\n",
       "div.cell.border-box-sizing.code_cell.running {\n",
       "    border: 3px solid #111;\n",
       "}\n",
       "\n",
       "/* Put a solid color box around each cell and its output, visually linking them together */\n",
       "div.cell.code_cell {\n",
       "    background-color: rgba(171,165,131,0.3); \n",
       "    border-radius: 10px; /* rounded borders */\n",
       "    padding: 1em;\n",
       "    margin-top: 1em;\n",
       "}\n",
       "\n",
       "div.cell {  /* set cell width to about 80 chars, rounds edges, adds left colorerd bracket */\n",
       "    width: 1000px;\n",
       "    border-radius: 10px;\n",
       "    border-left: 5px solid rgb(0,137,183) !important;\n",
       "}\n",
       "\n",
       "div.cell.selected { /* rounds edges, adds left colorerd bracket */\n",
       "    border-radius: 10px;\n",
       "    border-left: 5px solid rgb(0,137,183) !important;\n",
       "}\n",
       "\n",
       ".edit_mode div.cell.selected {  /* rounds edges, adds left colorerd bracket */\n",
       "    border: medium solid rgb(0,137,183);\n",
       "    border-radius: 10px;\n",
       "}\n",
       "\n",
       "div.text_cell_render{\n",
       "    font-family: 'Open Sans', sans-serif;\n",
       "    line-height: 130%;\n",
       "    font-size: 150%;\n",
       "    font-weight: 400;\n",
       "    width:900px;\n",
       "    margin-left:auto;\n",
       "    margin-right:auto;\n",
       "}\n",
       "\n",
       "/* Formatting for header cells */\n",
       ".text_cell_render h1 {\n",
       "    font-family: 'Ubuntu', sans-serif;\n",
       "    font-weight: 400;\n",
       "    font-size: 32pt;\n",
       "    line-height: 100%;\n",
       "    color: rgb(0,137,183);\n",
       "    margin-bottom: 0.1em;\n",
       "    margin-top: 0.1em;\n",
       "    display: block;\n",
       "}\n",
       "\n",
       ".text_cell_render h2 {\n",
       "    font-family: 'Ubuntu', sans-serif;\n",
       "    font-weight: 400;\n",
       "    font-size: 24pt;\n",
       "    line-height: 100%;\n",
       "    color: rgb(0,137,183);\n",
       "    margin-bottom: 0.1em;\n",
       "    margin-top: 0.1em;\n",
       "    display: block;\n",
       "}    \n",
       "\n",
       ".text_cell_render h3 {\n",
       "    font-family: 'Ubuntu', sans-serif;\n",
       "    font-weight: 400;\n",
       "    margin-top:16px;\n",
       "    margin-bottom: 3px;\n",
       "    font-style: italic;\n",
       "    color: rgb(0,76,102);\n",
       "}\n",
       "\n",
       ".text_cell_render h4 {\n",
       "    font-family: 'Ubuntu', sans-serif;\n",
       "    font-weight: 400;\n",
       "    font-size: 19pt;\n",
       "    color: rgb(0,76,102);\n",
       "}\n",
       "\n",
       ".text_cell_render h5 {\n",
       "    font-family: 'Ubuntu', sans-serif;\n",
       "    font-weight: 400;\n",
       "    font-size: 16pt;\n",
       "    color: rgb(0,76,102);\n",
       "    font-style: italic;\n",
       "    margin-bottom: .1em;\n",
       "    margin-top: 0.1em;\n",
       "    display: block;\n",
       "}\n",
       "\n",
       ".text_cell_render h6 {\n",
       "    font-family: 'Ubuntu', sans-serif;\n",
       "    font-weight: 400;\n",
       "    font-size: 10pt;\n",
       "    color: rgb(0,76,102);\n",
       "    margin-bottom: 1px;\n",
       "    margin-top: 1px;\n",
       "}\n",
       "\n",
       ".CodeMirror{\n",
       "        font-family: \"PT Mono\";\n",
       "        font-size: 120%;\n",
       "}\n",
       "</style>\n"
      ],
      "text/plain": [
       "<IPython.core.display.HTML object>"
      ]
     },
     "execution_count": 25,
     "metadata": {},
     "output_type": "execute_result"
    }
   ],
   "source": [
    "from IPython.display import HTML\n",
    "from urllib.request import urlopen\n",
    "html = urlopen('http://bit.ly/2DeuEQx')\n",
    "HTML(html.read().decode('utf-8'))"
   ]
  }
 ],
 "metadata": {
  "kernelspec": {
   "display_name": "Python 3",
   "language": "python",
   "name": "python3"
  },
  "language_info": {
   "codemirror_mode": {
    "name": "ipython",
    "version": 3
   },
   "file_extension": ".py",
   "mimetype": "text/x-python",
   "name": "python",
   "nbconvert_exporter": "python",
   "pygments_lexer": "ipython3",
   "version": "3.7.3"
  }
 },
 "nbformat": 4,
 "nbformat_minor": 2
}
