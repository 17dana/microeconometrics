{
 "cells": [
  {
   "cell_type": "code",
   "execution_count": 1,
   "metadata": {
    "slideshow": {
     "slide_type": "skip"
    }
   },
   "outputs": [],
   "source": [
    "%load_ext autoreload\n",
    "%matplotlib inline\n",
    "%autoreload 2\n",
    "\n",
    "import sys\n",
    "sys.path.append('material')\n",
    "\n",
    "import matplotlib.pyplot as plt\n",
    "import scipy.stats as ss\n",
    "\n",
    "from auxiliary import *"
   ]
  },
  {
   "cell_type": "markdown",
   "metadata": {
    "slideshow": {
     "slide_type": "slide"
    }
   },
   "source": [
    "# Potential outcome model\n",
    "\n",
    "Given what we know from the introduction about the potential outcome model, we will initialily prepare the Lalonde Dataset to fit the framework and use it as a running example going forward."
   ]
  },
  {
   "cell_type": "code",
   "execution_count": 14,
   "metadata": {
    "slideshow": {
     "slide_type": "slide"
    }
   },
   "outputs": [
    {
     "data": {
      "text/html": [
       "<div>\n",
       "<style scoped>\n",
       "    .dataframe tbody tr th:only-of-type {\n",
       "        vertical-align: middle;\n",
       "    }\n",
       "\n",
       "    .dataframe tbody tr th {\n",
       "        vertical-align: top;\n",
       "    }\n",
       "\n",
       "    .dataframe thead th {\n",
       "        text-align: right;\n",
       "    }\n",
       "</style>\n",
       "<table border=\"1\" class=\"dataframe\">\n",
       "  <thead>\n",
       "    <tr style=\"text-align: right;\">\n",
       "      <th></th>\n",
       "      <th>treat</th>\n",
       "      <th>age</th>\n",
       "      <th>ed</th>\n",
       "      <th>black</th>\n",
       "      <th>hisp</th>\n",
       "      <th>married</th>\n",
       "      <th>nodeg</th>\n",
       "      <th>re74</th>\n",
       "      <th>re75</th>\n",
       "      <th>re78</th>\n",
       "      <th>age2</th>\n",
       "    </tr>\n",
       "  </thead>\n",
       "  <tbody>\n",
       "    <tr>\n",
       "      <th>0</th>\n",
       "      <td>1</td>\n",
       "      <td>37</td>\n",
       "      <td>11</td>\n",
       "      <td>1</td>\n",
       "      <td>0</td>\n",
       "      <td>1</td>\n",
       "      <td>1</td>\n",
       "      <td>0.0</td>\n",
       "      <td>0.0</td>\n",
       "      <td>9930.0460</td>\n",
       "      <td>1369.0</td>\n",
       "    </tr>\n",
       "    <tr>\n",
       "      <th>1</th>\n",
       "      <td>1</td>\n",
       "      <td>22</td>\n",
       "      <td>9</td>\n",
       "      <td>0</td>\n",
       "      <td>1</td>\n",
       "      <td>0</td>\n",
       "      <td>1</td>\n",
       "      <td>0.0</td>\n",
       "      <td>0.0</td>\n",
       "      <td>3595.8940</td>\n",
       "      <td>484.0</td>\n",
       "    </tr>\n",
       "    <tr>\n",
       "      <th>2</th>\n",
       "      <td>1</td>\n",
       "      <td>30</td>\n",
       "      <td>12</td>\n",
       "      <td>1</td>\n",
       "      <td>0</td>\n",
       "      <td>0</td>\n",
       "      <td>0</td>\n",
       "      <td>0.0</td>\n",
       "      <td>0.0</td>\n",
       "      <td>24909.4500</td>\n",
       "      <td>900.0</td>\n",
       "    </tr>\n",
       "    <tr>\n",
       "      <th>3</th>\n",
       "      <td>1</td>\n",
       "      <td>27</td>\n",
       "      <td>11</td>\n",
       "      <td>1</td>\n",
       "      <td>0</td>\n",
       "      <td>0</td>\n",
       "      <td>1</td>\n",
       "      <td>0.0</td>\n",
       "      <td>0.0</td>\n",
       "      <td>7506.1460</td>\n",
       "      <td>729.0</td>\n",
       "    </tr>\n",
       "    <tr>\n",
       "      <th>4</th>\n",
       "      <td>1</td>\n",
       "      <td>33</td>\n",
       "      <td>8</td>\n",
       "      <td>1</td>\n",
       "      <td>0</td>\n",
       "      <td>0</td>\n",
       "      <td>1</td>\n",
       "      <td>0.0</td>\n",
       "      <td>0.0</td>\n",
       "      <td>289.7899</td>\n",
       "      <td>1089.0</td>\n",
       "    </tr>\n",
       "  </tbody>\n",
       "</table>\n",
       "</div>"
      ],
      "text/plain": [
       "   treat  age  ed  black  hisp  married  nodeg  re74  re75        re78    age2\n",
       "0      1   37  11      1     0        1      1   0.0   0.0   9930.0460  1369.0\n",
       "1      1   22   9      0     1        0      1   0.0   0.0   3595.8940   484.0\n",
       "2      1   30  12      1     0        0      0   0.0   0.0  24909.4500   900.0\n",
       "3      1   27  11      1     0        0      1   0.0   0.0   7506.1460   729.0\n",
       "4      1   33   8      1     0        0      1   0.0   0.0    289.7899  1089.0"
      ]
     },
     "execution_count": 14,
     "metadata": {},
     "output_type": "execute_result"
    }
   ],
   "source": [
    "df = pd.read_csv('../../datasets/processed/angrist_pischke/nswre74.csv')\n",
    "df.head()"
   ]
  },
  {
   "cell_type": "markdown",
   "metadata": {
    "slideshow": {
     "slide_type": "slide"
    }
   },
   "source": [
    "Let's put this in the same form of the basic model."
   ]
  },
  {
   "cell_type": "code",
   "execution_count": 15,
   "metadata": {
    "slideshow": {
     "slide_type": "-"
    }
   },
   "outputs": [],
   "source": [
    "df = df[['treat', 're78']].sample(frac=1)\n",
    "\n",
    "df['Y'] = df['re78']\n",
    "df['Y_0'] = df.loc[df['treat'] == 0, 're78']\n",
    "df['Y_1'] = df.loc[df['treat'] == 1, 're78']\n",
    "\n",
    "df['D'] = 0\n",
    "df.loc[df['treat'] == 1, 'D'] = 1"
   ]
  },
  {
   "cell_type": "markdown",
   "metadata": {
    "slideshow": {
     "slide_type": "slide"
    }
   },
   "source": [
    "## Individual-specific effect of treatment\n",
    "\n",
    "It would be great if we could get our hands on the individual-specific effect of treatment.\n",
    "\n",
    "\\begin{align*}\n",
    "\\delta_i = y_i^1 - y_i^0\n",
    "\\end{align*}\n",
    "\n",
    "* Why do individuals have potentially different effects of treatment?"
   ]
  },
  {
   "cell_type": "code",
   "execution_count": 4,
   "metadata": {
    "slideshow": {
     "slide_type": "slide"
    }
   },
   "outputs": [
    {
     "data": {
      "image/png": "[encoded data removed]",
      "text/plain": [
       "<Figure size 432x288 with 1 Axes>"
      ]
     },
     "metadata": {
      "needs_background": "light"
     },
     "output_type": "display_data"
    }
   ],
   "source": [
    "fig, ax = plt.subplots(1, 1)\n",
    "x = np.linspace(-5, 5, 5000)\n",
    "pdf = ss.norm.pdf(x, 0, 1)\n",
    "ax.plot(x, pdf)\n",
    "    \n",
    "ax.set_xlabel('$\\delta$')\n",
    "ax.set_ylabel('Density')\n",
    "ax.set_xticklabels(['', '', '', 0.5, '', '', ''])\n",
    "ax.set_xlim([-3, 3])\n",
    "ax.set_ylim([0, 0.5]);"
   ]
  },
  {
   "cell_type": "markdown",
   "metadata": {
    "slideshow": {
     "slide_type": "slide"
    }
   },
   "source": [
    "* There might be considerable heterogeneity in the benefits of treatment among the population. And summarizing the distribution of benefits with a single number, for example $E[\\delta]$, might result in a loss of information.\n",
    "\n",
    "**Examples**\n",
    "\n",
    "* medical treatment\n",
    "* .."
   ]
  },
  {
   "cell_type": "markdown",
   "metadata": {
    "slideshow": {
     "slide_type": "slide"
    }
   },
   "source": [
    "Give our definitions of $(Y^1, Y^0, D)$ and their individual realizations $(y^1_i, y^0_i, d_i)$ we can now define the observed outcome $Y$ in terms of them.\n",
    "\n",
    "\\begin{align*}\n",
    "Y = \\begin{cases}\n",
    "Y^1 & \\quad\\text{if}\\quad D = 1 \\\\\n",
    "Y^0 & \\quad\\text{if}\\quad D = 0\n",
    "\\end{cases}\n",
    "\\end{align*}\n",
    "\n",
    "or more compactly in switching-regime notation\n",
    "\n",
    "\\begin{align*}\n",
    "Y = D Y^1 + (1 - D) Y^0.\n",
    "\\end{align*}"
   ]
  },
  {
   "cell_type": "markdown",
   "metadata": {
    "slideshow": {
     "slide_type": "slide"
    }
   },
   "source": [
    "This leads Holland (1986) to describe the fundamental problem of causal inference:\n",
    "\n",
    "<img src=\"material/fundamental_problem.png\" height=\"500\" width=500 />\n",
    "\n",
    "$\\rightarrow$ as only the diagonal of the table is observable we cannot simply compute $\\delta_i$ by taking the difference in potential outcomes $(y^1_i, y^0_i)$."
   ]
  },
  {
   "cell_type": "code",
   "execution_count": 5,
   "metadata": {
    "slideshow": {
     "slide_type": "slide"
    }
   },
   "outputs": [
    {
     "data": {
      "text/html": [
       "<div>\n",
       "<style scoped>\n",
       "    .dataframe tbody tr th:only-of-type {\n",
       "        vertical-align: middle;\n",
       "    }\n",
       "\n",
       "    .dataframe tbody tr th {\n",
       "        vertical-align: top;\n",
       "    }\n",
       "\n",
       "    .dataframe thead th {\n",
       "        text-align: right;\n",
       "    }\n",
       "</style>\n",
       "<table border=\"1\" class=\"dataframe\">\n",
       "  <thead>\n",
       "    <tr style=\"text-align: right;\">\n",
       "      <th></th>\n",
       "      <th>treat</th>\n",
       "      <th>re78</th>\n",
       "      <th>Y</th>\n",
       "      <th>Y_0</th>\n",
       "      <th>Y_1</th>\n",
       "      <th>D</th>\n",
       "    </tr>\n",
       "  </thead>\n",
       "  <tbody>\n",
       "    <tr>\n",
       "      <th>331</th>\n",
       "      <td>0</td>\n",
       "      <td>0.000000</td>\n",
       "      <td>0.000000</td>\n",
       "      <td>0.000000</td>\n",
       "      <td>NaN</td>\n",
       "      <td>0</td>\n",
       "    </tr>\n",
       "    <tr>\n",
       "      <th>187</th>\n",
       "      <td>0</td>\n",
       "      <td>0.000000</td>\n",
       "      <td>0.000000</td>\n",
       "      <td>0.000000</td>\n",
       "      <td>NaN</td>\n",
       "      <td>0</td>\n",
       "    </tr>\n",
       "    <tr>\n",
       "      <th>383</th>\n",
       "      <td>0</td>\n",
       "      <td>16477.019531</td>\n",
       "      <td>16477.019531</td>\n",
       "      <td>16477.019531</td>\n",
       "      <td>NaN</td>\n",
       "      <td>0</td>\n",
       "    </tr>\n",
       "    <tr>\n",
       "      <th>360</th>\n",
       "      <td>0</td>\n",
       "      <td>6771.622070</td>\n",
       "      <td>6771.622070</td>\n",
       "      <td>6771.622070</td>\n",
       "      <td>NaN</td>\n",
       "      <td>0</td>\n",
       "    </tr>\n",
       "    <tr>\n",
       "      <th>350</th>\n",
       "      <td>0</td>\n",
       "      <td>0.000000</td>\n",
       "      <td>0.000000</td>\n",
       "      <td>0.000000</td>\n",
       "      <td>NaN</td>\n",
       "      <td>0</td>\n",
       "    </tr>\n",
       "  </tbody>\n",
       "</table>\n",
       "</div>"
      ],
      "text/plain": [
       "     treat          re78             Y           Y_0  Y_1  D\n",
       "331      0      0.000000      0.000000      0.000000  NaN  0\n",
       "187      0      0.000000      0.000000      0.000000  NaN  0\n",
       "383      0  16477.019531  16477.019531  16477.019531  NaN  0\n",
       "360      0   6771.622070   6771.622070   6771.622070  NaN  0\n",
       "350      0      0.000000      0.000000      0.000000  NaN  0"
      ]
     },
     "execution_count": 5,
     "metadata": {},
     "output_type": "execute_result"
    }
   ],
   "source": [
    "df.head()"
   ]
  },
  {
   "cell_type": "markdown",
   "metadata": {
    "slideshow": {
     "slide_type": "slide"
    }
   },
   "source": [
    "## Population-level parameters\n",
    "\n",
    "It looks like we need to give our our hope of obtaining the individual-specific effect of treatment. But what can we still hope for?\n",
    "\n",
    "$\\rightarrow$ population-level parameters\n",
    "\n",
    "* What are common examples?\n",
    "\n",
    "* What are the policy questions they address?\n",
    "\n",
    "* What is their relationship to each other?"
   ]
  },
  {
   "cell_type": "markdown",
   "metadata": {
    "slideshow": {
     "slide_type": "slide"
    }
   },
   "source": [
    "\\begin{align*}\n",
    "\\begin{array}{lll}\n",
    "E[Y^1 - Y^0] & \\qquad ATE & \\qquad\\text{average effect of treatment} \\\\\n",
    "E[Y^1 - Y^0 \\mid D = 1] & \\qquad ATT & \\qquad\\text{average effect on treated} \\\\\n",
    "E[Y^1 - Y^0 \\mid D = 0] & \\qquad ATC & \\qquad\\text{average effect on untreated}\n",
    "\\end{array}\n",
    "\\end{align*}"
   ]
  },
  {
   "cell_type": "code",
   "execution_count": 6,
   "metadata": {
    "slideshow": {
     "slide_type": "slide"
    }
   },
   "outputs": [
    {
     "data": {
      "image/png": "[encoded data removed]",
      "text/plain": [
       "<Figure size 432x288 with 1 Axes>"
      ]
     },
     "metadata": {
      "needs_background": "light"
     },
     "output_type": "display_data"
    }
   ],
   "source": [
    "plot_individual_specific_effects(with_parameters=[0, 0.7, -0.5])"
   ]
  },
  {
   "cell_type": "code",
   "execution_count": 7,
   "metadata": {
    "slideshow": {
     "slide_type": "slide"
    }
   },
   "outputs": [
    {
     "data": {
      "image/png": "[encoded data removed]",
      "text/plain": [
       "<Figure size 432x288 with 1 Axes>"
      ]
     },
     "metadata": {
      "needs_background": "light"
     },
     "output_type": "display_data"
    }
   ],
   "source": [
    "plot_individual_specific_effects(with_parameters=[0, -0.7, 0.5])"
   ]
  },
  {
   "cell_type": "code",
   "execution_count": 8,
   "metadata": {
    "slideshow": {
     "slide_type": "slide"
    }
   },
   "outputs": [
    {
     "data": {
      "image/png": "[encoded data removed]",
      "text/plain": [
       "<Figure size 432x288 with 1 Axes>"
      ]
     },
     "metadata": {
      "needs_background": "light"
     },
     "output_type": "display_data"
    }
   ],
   "source": [
    "plot_individual_specific_effects(with_parameters=[0, 0, 0])"
   ]
  },
  {
   "cell_type": "markdown",
   "metadata": {
    "slideshow": {
     "slide_type": "slide"
    }
   },
   "source": [
    "The potential outcome model is gets its empirical tractability when combined with the **Stable Unit Treatment Value Assumption (SUTVA)** of which there exist many formulations. We will go with the one from Imbens and Rubin (2015):\n",
    "\n",
    "> The potential outcomes for any unit do not vary with the treatments assigned to other units, and, for each unit there are no different forms or versions of each treatment level, which lead to different potential outcomes.\n",
    "\n",
    "* When do we need to expect this is vioated?\n"
   ]
  },
  {
   "cell_type": "markdown",
   "metadata": {
    "slideshow": {
     "slide_type": "slide"
    }
   },
   "source": [
    "<img src=\"material/stable_unit_treatment.png\" height=\"500\" width=500 />"
   ]
  },
  {
   "cell_type": "markdown",
   "metadata": {
    "slideshow": {
     "slide_type": "slide"
    }
   },
   "source": [
    "* randomized experiment\n",
    "\n",
    "\\begin{align*}\n",
    "(Y^0, Y^1)  \\perp \\!\\!\\! \\perp D\n",
    "\\end{align*}\n",
    "\n",
    "* observational study\n",
    "\n",
    "> A *observational study* is an empirical investigation of treatments, policies, or exposures and the effects they cause, but it differs from an experiment in that the investigator cannot control the assingment of treatments to subjects. (Rosenbaum (2002))"
   ]
  },
  {
   "cell_type": "markdown",
   "metadata": {
    "slideshow": {
     "slide_type": "slide"
    }
   },
   "source": [
    "\\begin{align*}\n",
    "\\hat{\\delta}_{NAIVE} = E_N[y_i\\mid d_i = 1] - E_N[y_i\\mid d_i = 0]\n",
    "\\end{align*}\n",
    "\n",
    "where \n",
    "\n",
    "\\begin{align*}\n",
    "E_N[y_i\\mid d_i = 1] \\xrightarrow{p} E[Y^1\\mid D = 1] \\neq E[Y^1]\\\\\n",
    "E_N[y_i\\mid d_i = 0] \\xrightarrow{p} E[Y^0\\mid D = 0] \\neq E[Y^0]\n",
    "\\end{align*}"
   ]
  },
  {
   "cell_type": "markdown",
   "metadata": {
    "slideshow": {
     "slide_type": "slide"
    }
   },
   "source": [
    "\\begin{align*}\n",
    "E[\\delta] & = \\{\\pi E[Y^1\\mid D = 1] + (1 - \\pi)E[Y^1\\mid D = 0]\\} \\\\\n",
    "          & - \\{\\pi E[Y^0\\mid D = 1] + (1 - \\pi)E[Y^0\\mid D = 0]\\}\n",
    "\\end{align*}\n",
    "\n",
    "\n",
    "* Which components can be easily computed from data?"
   ]
  },
  {
   "cell_type": "markdown",
   "metadata": {},
   "source": [
    "\\begin{align*}\n",
    "E[Y^1 \\mid D = 1] - E[Y^0 \\mid D = 0] & = E[\\delta] + \\{E[Y^0\\mid D= 1] - E[Y^0\\mid D= 0]\\} \\\\\n",
    "                                      & + (1 - \\pi) \\{E[\\delta \\mid D = 1] -E[\\delta \\mid D = 0]\\}\n",
    "\\end{align*}\n",
    "\n",
    "* baseline bias\n",
    "* differential treatment effect bias"
   ]
  },
  {
   "cell_type": "markdown",
   "metadata": {
    "slideshow": {
     "slide_type": "slide"
    }
   },
   "source": [
    "<img src=\"material/bias_example.png\" height=\"500\" width=500 />"
   ]
  },
  {
   "cell_type": "markdown",
   "metadata": {
    "slideshow": {
     "slide_type": "slide"
    }
   },
   "source": [
    "What assumptions suffice to estimate the ATE with the naive estimator?\n",
    "\n",
    "* assumptions about potential outcomes for subsets of the population defined by treatment status\n",
    "* assumptions about the treatment selection / assignment process "
   ]
  },
  {
   "cell_type": "markdown",
   "metadata": {
    "slideshow": {
     "slide_type": "slide"
    }
   },
   "source": [
    "Consider the following two assumptions:\n",
    "\n",
    "\\begin{align*}\n",
    "E[Y^1\\mid D = 1] = E[Y^1\\mid D = 0] \\\\\n",
    "E[Y^0\\mid D = 1] = E[Y^0\\mid D = 0] \\\\\n",
    "\\end{align*}\n",
    "\n",
    "and recall our naive estimate \n",
    "\n",
    "\n",
    "\\begin{align*}\n",
    "\\hat{\\delta}_{NAIVE} & = E_N[y_i\\mid d_i = 1] - E_N[y_i\\mid d_i = 0] \\\\\n",
    "                     & \\xrightarrow{p} E[Y^1\\mid D = 1] - E[Y^0\\mid D = 0] \n",
    "\\end{align*}\n",
    "\n",
    "* What happeens if the two assumptions or at least one is satisfied?\n"
   ]
  },
  {
   "cell_type": "markdown",
   "metadata": {
    "slideshow": {
     "slide_type": "slide"
    }
   },
   "source": [
    "### Missing data and imputation\n",
    "\n",
    "This is an adopted example from Imbens & Rubin (2015)."
   ]
  },
  {
   "cell_type": "code",
   "execution_count": 5,
   "metadata": {
    "slideshow": {
     "slide_type": "-"
    }
   },
   "outputs": [
    {
     "data": {
      "text/html": [
       "<div>\n",
       "<style scoped>\n",
       "    .dataframe tbody tr th:only-of-type {\n",
       "        vertical-align: middle;\n",
       "    }\n",
       "\n",
       "    .dataframe tbody tr th {\n",
       "        vertical-align: top;\n",
       "    }\n",
       "\n",
       "    .dataframe thead th {\n",
       "        text-align: right;\n",
       "    }\n",
       "</style>\n",
       "<table border=\"1\" class=\"dataframe\">\n",
       "  <thead>\n",
       "    <tr style=\"text-align: right;\">\n",
       "      <th></th>\n",
       "      <th>treat</th>\n",
       "      <th>re78</th>\n",
       "      <th>Y</th>\n",
       "      <th>Y_0</th>\n",
       "      <th>Y_1</th>\n",
       "      <th>D</th>\n",
       "    </tr>\n",
       "  </thead>\n",
       "  <tbody>\n",
       "    <tr>\n",
       "      <th>339</th>\n",
       "      <td>0</td>\n",
       "      <td>5071.801</td>\n",
       "      <td>5071.801</td>\n",
       "      <td>5071.801</td>\n",
       "      <td>NaN</td>\n",
       "      <td>0</td>\n",
       "    </tr>\n",
       "    <tr>\n",
       "      <th>53</th>\n",
       "      <td>1</td>\n",
       "      <td>2348.973</td>\n",
       "      <td>2348.973</td>\n",
       "      <td>NaN</td>\n",
       "      <td>2348.973</td>\n",
       "      <td>1</td>\n",
       "    </tr>\n",
       "    <tr>\n",
       "      <th>152</th>\n",
       "      <td>1</td>\n",
       "      <td>7535.942</td>\n",
       "      <td>7535.942</td>\n",
       "      <td>NaN</td>\n",
       "      <td>7535.942</td>\n",
       "      <td>1</td>\n",
       "    </tr>\n",
       "    <tr>\n",
       "      <th>359</th>\n",
       "      <td>0</td>\n",
       "      <td>16461.570</td>\n",
       "      <td>16461.570</td>\n",
       "      <td>16461.570</td>\n",
       "      <td>NaN</td>\n",
       "      <td>0</td>\n",
       "    </tr>\n",
       "    <tr>\n",
       "      <th>312</th>\n",
       "      <td>0</td>\n",
       "      <td>14792.900</td>\n",
       "      <td>14792.900</td>\n",
       "      <td>14792.900</td>\n",
       "      <td>NaN</td>\n",
       "      <td>0</td>\n",
       "    </tr>\n",
       "  </tbody>\n",
       "</table>\n",
       "</div>"
      ],
      "text/plain": [
       "     treat       re78          Y        Y_0       Y_1  D\n",
       "339      0   5071.801   5071.801   5071.801       NaN  0\n",
       "53       1   2348.973   2348.973        NaN  2348.973  1\n",
       "152      1   7535.942   7535.942        NaN  7535.942  1\n",
       "359      0  16461.570  16461.570  16461.570       NaN  0\n",
       "312      0  14792.900  14792.900  14792.900       NaN  0"
      ]
     },
     "execution_count": 5,
     "metadata": {},
     "output_type": "execute_result"
    }
   ],
   "source": [
    "df.head()"
   ]
  },
  {
   "cell_type": "markdown",
   "metadata": {
    "slideshow": {
     "slide_type": "slide"
    }
   },
   "source": [
    "We can impute the missing values simply by their average counterpart."
   ]
  },
  {
   "cell_type": "code",
   "execution_count": 10,
   "metadata": {
    "slideshow": {
     "slide_type": "-"
    }
   },
   "outputs": [
    {
     "name": "stdout",
     "output_type": "stream",
     "text": [
      "1794.342404270272\n"
     ]
    }
   ],
   "source": [
    "df.loc[df['D'] == 0, 'Y_1'] = df['Y_1'].mean()\n",
    "df.loc[df['D'] == 1, 'Y_0'] = df['Y_0'].mean()\n",
    "print((df['Y_1' ]- df['Y_0']).mean())"
   ]
  },
  {
   "cell_type": "markdown",
   "metadata": {
    "slideshow": {
     "slide_type": "slide"
    }
   },
   "source": [
    "However, this does not really account for any uncertainty in our estimate. Can we do better?"
   ]
  },
  {
   "cell_type": "code",
   "execution_count": 16,
   "metadata": {},
   "outputs": [
    {
     "data": {
      "text/plain": [
       "{0: 260, 1: 185}"
      ]
     },
     "execution_count": 16,
     "metadata": {},
     "output_type": "execute_result"
    }
   ],
   "source": [
    "status_counts = df['D'].value_counts().to_dict()\n",
    "status_counts"
   ]
  },
  {
   "cell_type": "code",
   "execution_count": 29,
   "metadata": {
    "slideshow": {
     "slide_type": "-"
    }
   },
   "outputs": [
    {
     "data": {
      "text/plain": [
       "1825.8582467973038"
      ]
     },
     "execution_count": 29,
     "metadata": {},
     "output_type": "execute_result"
    }
   ],
   "source": [
    "np.random.seed(123)\n",
    "treatment_effect_estimates = list()\n",
    "\n",
    "for _ in range(100):\n",
    "    \n",
    "    # sample for the observed distribution of the other treatment state to impoute the value\n",
    "    y_1_sampled = df['Y_1'].dropna().sample(n=status_counts[0], replace=True).values\n",
    "    y_0_sampled = df['Y_0'].dropna().sample(n=status_counts[1], replace=True).values\n",
    "\n",
    "    df_boot = df.copy()\n",
    "    \n",
    "    df_boot.loc[df_boot['D'] == 1, 'Y_0'] = y_0_sampled\n",
    "    df_boot.loc[df_boot['D'] == 0, 'Y_1'] = y_1_sampled\n",
    "    \n",
    "    effect = (df_boot['Y_1'] - df_boot['Y_0']).mean()\n",
    "    \n",
    "    \n",
    "    treatment_effect_estimates.append(effect)\n",
    "    \n",
    "np.mean(treatment_effect_estimates)"
   ]
  },
  {
   "cell_type": "code",
   "execution_count": 30,
   "metadata": {},
   "outputs": [
    {
     "data": {
      "text/plain": [
       "array([ 4309.878  ,  2891.668  ,  5767.133  ,  5193.247  ,  5970.257  ,\n",
       "       14792.9    ,   499.2572 , 12383.68   ,  9602.439  ,  8993.865  ,\n",
       "           0.     ,     0.     ,  7618.639  ,     0.     ,     0.     ,\n",
       "        7152.132  , 10877.35   ,     0.     ,  3515.929  ,  8598.522  ,\n",
       "        7094.92   ,  7344.678  ,  6735.32   ,  5497.591  ,  3795.799  ,\n",
       "        9772.283  ,  7812.522  ,     0.     ,  3523.578  ,  8329.823  ,\n",
       "       15791.13   ,  2920.199  ,     0.     ,   604.1987 ,   284.6584 ,\n",
       "        5193.247  , 10225.88   ,  1553.291  ,     0.     , 10569.27   ,\n",
       "        4813.05   ,  5088.76   , 20857.84   , 10798.56   ,     0.     ,\n",
       "        8190.421  ,  1859.167  ,     0.     ,     0.     , 12486.17   ,\n",
       "       15791.13   ,     0.     ,     0.     ,     0.     ,     0.     ,\n",
       "           0.     , 16900.3    ,  6930.336  , 11303.14   ,  7565.273  ,\n",
       "           0.     ,     0.     ,     0.     ,     0.     ,  5970.257  ,\n",
       "        9772.283  , 18859.89   , 20942.24   ,     0.     , 16461.57   ,\n",
       "        2015.503  ,     0.     ,  3343.224  ,     0.     , 10225.88   ,\n",
       "        7010.444  ,  4485.616  ,     0.     ,     0.     ,  7565.273  ,\n",
       "        5193.247  ,  7618.639  ,  4844.803  , 11796.47   ,     0.     ,\n",
       "        1720.907  ,     0.     ,     0.     , 10225.88   ,     0.     ,\n",
       "        5088.76   ,  9602.439  ,     0.     ,     0.     , 14527.88   ,\n",
       "           0.     ,  3590.702  ,  5712.643  , 10225.88   ,  1698.304  ,\n",
       "           0.     ,     0.     ,  7094.92   ,     0.     ,  7284.394  ,\n",
       "        9722.003  ,  7094.92   , 11195.93   ,     0.     , 10798.56   ,\n",
       "        7367.04   ,  5497.591  ,    44.75546,  2920.199  ,  8551.533  ,\n",
       "        5193.247  ,     0.     ,  3343.224  ,  6040.335  ,   604.1987 ,\n",
       "           0.     ,     0.     ,  7343.964  , 12898.38   ,  5775.062  ,\n",
       "           0.     , 15791.13   ,     0.     ,     0.     , 11011.57   ,\n",
       "           0.     ,     0.     ,     0.     , 11197.34   ,     0.     ,\n",
       "        6527.919  , 11048.08   ,     0.     ,  6527.919  ,  4844.803  ,\n",
       "        5497.591  ,     0.     , 10740.08   ,     0.     ,  2389.679  ,\n",
       "       11306.27   ,  7618.639  ,     0.     ,     0.     ,  2389.679  ,\n",
       "        7812.522  ,     0.     ,  1324.542  ,     0.     ,     0.     ,\n",
       "           0.     ,     0.     ,  1568.15   ,  9378.653  ,     0.     ,\n",
       "         499.2572 ,     0.     ,     0.     ,     0.     ,  5767.133  ,\n",
       "       14626.39   ,     0.     , 13613.35   ,   284.6584 ,  1720.907  ,\n",
       "           0.     , 12359.31   ,     0.     ,   445.8309 ,  9602.439  ,\n",
       "           0.     ,     0.     , 18859.89   ,  1698.304  ,     0.     ,\n",
       "        1264.232  ,  3515.929  ,  3795.799  ,     0.     ,  1324.542  ])"
      ]
     },
     "execution_count": 30,
     "metadata": {},
     "output_type": "execute_result"
    }
   ],
   "source": [
    "type(df['Y_0'].dropna().sample(n=status_counts[1], replace=True))\n",
    "df['Y_0'].dropna().sample(n=status_counts[1], replace=True).values"
   ]
  },
  {
   "cell_type": "markdown",
   "metadata": {
    "slideshow": {
     "slide_type": "slide"
    }
   },
   "source": [
    "How does the full distribution of estimates look like?"
   ]
  },
  {
   "cell_type": "code",
   "execution_count": 20,
   "metadata": {
    "slideshow": {
     "slide_type": "-"
    }
   },
   "outputs": [
    {
     "data": {
      "text/plain": [
       "(array([ 5.,  8., 15., 14., 18., 13., 11., 11.,  0.,  5.]),\n",
       " array([1106.16907582, 1257.76878094, 1409.36848607, 1560.96819119,\n",
       "        1712.56789631, 1864.16760144, 2015.76730656, 2167.36701169,\n",
       "        2318.96671681, 2470.56642193, 2622.16612706]),\n",
       " <a list of 10 Patch objects>)"
      ]
     },
     "execution_count": 20,
     "metadata": {},
     "output_type": "execute_result"
    },
    {
     "data": {
      "image/png": "[encoded data removed]",
      "text/plain": [
       "<Figure size 432x288 with 1 Axes>"
      ]
     },
     "metadata": {
      "needs_background": "light"
     },
     "output_type": "display_data"
    }
   ],
   "source": [
    "fig, ax = plt.subplots(1, 1)\n",
    "ax.hist(treatment_effect_estimates)"
   ]
  },
  {
   "cell_type": "markdown",
   "metadata": {
    "slideshow": {
     "slide_type": "slide"
    }
   },
   "source": [
    "Still some limitations remains. For example, we do sample from the empirical distribution of the observed outcomes and the actual distribution. Phrased differently, we treat the distribution of potential outcomes as knows and abstract from any uncertainty in our knowledge about it."
   ]
  },
  {
   "cell_type": "markdown",
   "metadata": {
    "slideshow": {
     "slide_type": "slide"
    }
   },
   "source": [
    "## Extensions of the binary potential outcome model\n",
    "\n",
    "* over-time potential outcomes and causal effects\n",
    "    * a single unit over time (time series)\n",
    "    * many units over time (panel data)\n",
    "    \n",
    "* many-valued treatments"
   ]
  },
  {
   "cell_type": "markdown",
   "metadata": {
    "slideshow": {
     "slide_type": "slide"
    }
   },
   "source": [
    "### Over-time potential outcomes\n",
    "\n",
    "We explore the case of a single unit over time.\n",
    "\n",
    "**Ingredients** \n",
    "\n",
    "* discrete time periods, $t\\in\\{1, ..., T\\}$\n",
    "* sequence of observed values, $\\{y_1, y_2, ..., y_T\\}$\n",
    "\n",
    "Setting up the potential outcome model to explore the basic features of before-and-after designs for a single unit of analsysis.\n",
    "\n",
    "* before the treatment is introduced (for $t < t^*$):\n",
    "\n",
    "\\begin{align*}\n",
    "D_t & = 0 \\\\\n",
    "Y_t & = Y^0_t\\\\\n",
    "\\end{align*}\n",
    "\n",
    "* while the treatment is in place (from $t^*$ through $t^* + k$):\n",
    "\n",
    "\\begin{align*}\n",
    "D_t & = 1 \\\\\n",
    "Y_t & = Y^1_t\\\\\n",
    "Y^0_t & \\text{exists but is counterfactual}\n",
    "\\end{align*}\n",
    "\n",
    "* after the treatment ends (for time periods $t > (t^* + k)$):\n",
    "\\begin{align*}\n",
    "D_t & = 0 \\\\\n",
    "Y_t & = Y^0_t\\\\\n",
    "Y^0_t & \\text{exists but is counterfactual}\n",
    "\\end{align*}"
   ]
  },
  {
   "cell_type": "markdown",
   "metadata": {
    "slideshow": {
     "slide_type": "slide"
    }
   },
   "source": [
    "The following is an adapted example from our core textbook. "
   ]
  },
  {
   "cell_type": "code",
   "execution_count": 4,
   "metadata": {
    "slideshow": {
     "slide_type": "-"
    }
   },
   "outputs": [],
   "source": [
    "# get hands on World Bank data"
   ]
  },
  {
   "cell_type": "markdown",
   "metadata": {
    "slideshow": {
     "slide_type": "slide"
    }
   },
   "source": [
    "Let's get to work."
   ]
  },
  {
   "cell_type": "code",
   "execution_count": 3,
   "metadata": {
    "slideshow": {
     "slide_type": "-"
    }
   },
   "outputs": [],
   "source": [
    "# basic plotting"
   ]
  },
  {
   "cell_type": "code",
   "execution_count": 1,
   "metadata": {
    "slideshow": {
     "slide_type": "slide"
    }
   },
   "outputs": [],
   "source": [
    "# inspect a subset"
   ]
  },
  {
   "cell_type": "code",
   "execution_count": 2,
   "metadata": {
    "slideshow": {
     "slide_type": "slide"
    }
   },
   "outputs": [],
   "source": [
    "# calculate a reasonable treatment effect"
   ]
  }
 ],
 "metadata": {
  "kernelspec": {
   "display_name": "Python 3",
   "language": "python",
   "name": "python3"
  },
  "language_info": {
   "codemirror_mode": {
    "name": "ipython",
    "version": 3
   },
   "file_extension": ".py",
   "mimetype": "text/x-python",
   "name": "python",
   "nbconvert_exporter": "python",
   "pygments_lexer": "ipython3",
   "version": "3.7.2"
  },
  "latex_envs": {
   "LaTeX_envs_menu_present": true,
   "autoclose": false,
   "autocomplete": true,
   "bibliofile": "literature.bib",
   "cite_by": "apalike",
   "current_citInitial": 1,
   "eqLabelWithNumbers": true,
   "eqNumInitial": 1,
   "hotkeys": {
    "equation": "Ctrl-E",
    "itemize": "Ctrl-I"
   },
   "labels_anchors": false,
   "latex_user_defs": false,
   "report_style_numbering": false,
   "user_envs_cfg": false
  },
  "toc-autonumbering": false
 },
 "nbformat": 4,
 "nbformat_minor": 2
}
