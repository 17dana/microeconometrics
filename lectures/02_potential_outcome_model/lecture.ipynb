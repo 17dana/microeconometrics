{
 "cells": [
  {
   "cell_type": "code",
   "execution_count": 1,
   "metadata": {
    "slideshow": {
     "slide_type": "skip"
    }
   },
   "outputs": [],
   "source": [
    "%load_ext autoreload\n",
    "%matplotlib inline\n",
    "%autoreload 2\n",
    "\n",
    "import sys\n",
    "sys.path.append('material')\n",
    "\n",
    "import matplotlib.pyplot as plt\n",
    "import scipy.stats as ss\n",
    "\n",
    "from auxiliary import *"
   ]
  },
  {
   "cell_type": "markdown",
   "metadata": {
    "slideshow": {
     "slide_type": "slide"
    }
   },
   "source": [
    "# Potential outcome model\n",
    "\n",
    "Given what we know from the introduction about the potential outcome model, we will initialily prepare the Lalonde Dataset to fit the framework and use it as a running example going forward."
   ]
  },
  {
   "cell_type": "code",
   "execution_count": 4,
   "metadata": {
    "slideshow": {
     "slide_type": "slide"
    }
   },
   "outputs": [
    {
     "data": {
      "text/html": [
       "<div>\n",
       "<style scoped>\n",
       "    .dataframe tbody tr th:only-of-type {\n",
       "        vertical-align: middle;\n",
       "    }\n",
       "\n",
       "    .dataframe tbody tr th {\n",
       "        vertical-align: top;\n",
       "    }\n",
       "\n",
       "    .dataframe thead th {\n",
       "        text-align: right;\n",
       "    }\n",
       "</style>\n",
       "<table border=\"1\" class=\"dataframe\">\n",
       "  <thead>\n",
       "    <tr style=\"text-align: right;\">\n",
       "      <th></th>\n",
       "      <th>treat</th>\n",
       "      <th>age</th>\n",
       "      <th>ed</th>\n",
       "      <th>black</th>\n",
       "      <th>hisp</th>\n",
       "      <th>married</th>\n",
       "      <th>nodeg</th>\n",
       "      <th>re74</th>\n",
       "      <th>re75</th>\n",
       "      <th>re78</th>\n",
       "      <th>age2</th>\n",
       "    </tr>\n",
       "  </thead>\n",
       "  <tbody>\n",
       "    <tr>\n",
       "      <th>0</th>\n",
       "      <td>1</td>\n",
       "      <td>37</td>\n",
       "      <td>11</td>\n",
       "      <td>1</td>\n",
       "      <td>0</td>\n",
       "      <td>1</td>\n",
       "      <td>1</td>\n",
       "      <td>0.0</td>\n",
       "      <td>0.0</td>\n",
       "      <td>9930.0460</td>\n",
       "      <td>1369.0</td>\n",
       "    </tr>\n",
       "    <tr>\n",
       "      <th>1</th>\n",
       "      <td>1</td>\n",
       "      <td>22</td>\n",
       "      <td>9</td>\n",
       "      <td>0</td>\n",
       "      <td>1</td>\n",
       "      <td>0</td>\n",
       "      <td>1</td>\n",
       "      <td>0.0</td>\n",
       "      <td>0.0</td>\n",
       "      <td>3595.8940</td>\n",
       "      <td>484.0</td>\n",
       "    </tr>\n",
       "    <tr>\n",
       "      <th>2</th>\n",
       "      <td>1</td>\n",
       "      <td>30</td>\n",
       "      <td>12</td>\n",
       "      <td>1</td>\n",
       "      <td>0</td>\n",
       "      <td>0</td>\n",
       "      <td>0</td>\n",
       "      <td>0.0</td>\n",
       "      <td>0.0</td>\n",
       "      <td>24909.4500</td>\n",
       "      <td>900.0</td>\n",
       "    </tr>\n",
       "    <tr>\n",
       "      <th>3</th>\n",
       "      <td>1</td>\n",
       "      <td>27</td>\n",
       "      <td>11</td>\n",
       "      <td>1</td>\n",
       "      <td>0</td>\n",
       "      <td>0</td>\n",
       "      <td>1</td>\n",
       "      <td>0.0</td>\n",
       "      <td>0.0</td>\n",
       "      <td>7506.1460</td>\n",
       "      <td>729.0</td>\n",
       "    </tr>\n",
       "    <tr>\n",
       "      <th>4</th>\n",
       "      <td>1</td>\n",
       "      <td>33</td>\n",
       "      <td>8</td>\n",
       "      <td>1</td>\n",
       "      <td>0</td>\n",
       "      <td>0</td>\n",
       "      <td>1</td>\n",
       "      <td>0.0</td>\n",
       "      <td>0.0</td>\n",
       "      <td>289.7899</td>\n",
       "      <td>1089.0</td>\n",
       "    </tr>\n",
       "  </tbody>\n",
       "</table>\n",
       "</div>"
      ],
      "text/plain": [
       "   treat  age  ed  black  hisp  married  nodeg  re74  re75        re78    age2\n",
       "0      1   37  11      1     0        1      1   0.0   0.0   9930.0460  1369.0\n",
       "1      1   22   9      0     1        0      1   0.0   0.0   3595.8940   484.0\n",
       "2      1   30  12      1     0        0      0   0.0   0.0  24909.4500   900.0\n",
       "3      1   27  11      1     0        0      1   0.0   0.0   7506.1460   729.0\n",
       "4      1   33   8      1     0        0      1   0.0   0.0    289.7899  1089.0"
      ]
     },
     "execution_count": 4,
     "metadata": {},
     "output_type": "execute_result"
    }
   ],
   "source": [
    "df = pd.read_csv('../../datasets/processed/angrist_pischke/nswre74.csv')\n",
    "df.head()"
   ]
  },
  {
   "cell_type": "markdown",
   "metadata": {
    "slideshow": {
     "slide_type": "slide"
    }
   },
   "source": [
    "Let's put this in the same form of the basic model."
   ]
  },
  {
   "cell_type": "code",
   "execution_count": 3,
   "metadata": {
    "slideshow": {
     "slide_type": "-"
    }
   },
   "outputs": [],
   "source": [
    "df = df[['treat', 're78']].sample(frac=1)\n",
    "\n",
    "df['Y'] = df['re78']\n",
    "df['Y_0'] = df.loc[df['treat'] == 0, 're78']\n",
    "df['Y_1'] = df.loc[df['treat'] == 1, 're78']\n",
    "\n",
    "df['D'] = 0\n",
    "df.loc[df['treat'] == 1, 'D'] = 1"
   ]
  },
  {
   "cell_type": "markdown",
   "metadata": {
    "slideshow": {
     "slide_type": "slide"
    }
   },
   "source": [
    "## Individual-specific effect of treatment\n",
    "\n",
    "It would be great if we could get our hands on the individual-specific effect of treatment.\n",
    "\n",
    "\\begin{align*}\n",
    "\\delta_i = y_i^1 - y_i^0\n",
    "\\end{align*}\n",
    "\n",
    "* Why do individuals have potentially different effects of treatment?"
   ]
  },
  {
   "cell_type": "code",
   "execution_count": 4,
   "metadata": {
    "slideshow": {
     "slide_type": "slide"
    }
   },
   "outputs": [
    {
     "data": {
      "image/png": "[encoded data removed]",
      "text/plain": [
       "<Figure size 432x288 with 1 Axes>"
      ]
     },
     "metadata": {
      "needs_background": "light"
     },
     "output_type": "display_data"
    }
   ],
   "source": [
    "fig, ax = plt.subplots(1, 1)\n",
    "x = np.linspace(-5, 5, 5000)\n",
    "pdf = ss.norm.pdf(x, 0, 1)\n",
    "ax.plot(x, pdf)\n",
    "    \n",
    "ax.set_xlabel('$\\delta$')\n",
    "ax.set_ylabel('Density')\n",
    "ax.set_xticklabels(['', '', '', 0.5, '', '', ''])\n",
    "ax.set_xlim([-3, 3])\n",
    "ax.set_ylim([0, 0.5]);"
   ]
  },
  {
   "cell_type": "markdown",
   "metadata": {
    "slideshow": {
     "slide_type": "slide"
    }
   },
   "source": [
    "* There might be considerable heterogeneity in the benefits of treatment among the population. And summarizing the distribution of benefits with a single number, for example $E[\\delta]$, might result in a loss of information.\n",
    "\n",
    "**Examples**\n",
    "\n",
    "* medical treatment\n",
    "* .."
   ]
  },
  {
   "cell_type": "markdown",
   "metadata": {
    "slideshow": {
     "slide_type": "slide"
    }
   },
   "source": [
    "Give our definitions of $(Y^1, Y^0, D)$ and their individual realizations $(y^1_i, y^0_i, d_i)$ we can now define the observed outcome $Y$ in terms of them.\n",
    "\n",
    "\\begin{align*}\n",
    "Y = \\begin{cases}\n",
    "Y^1 & \\quad\\text{if}\\quad D = 1 \\\\\n",
    "Y^0 & \\quad\\text{if}\\quad D = 0\n",
    "\\end{cases}\n",
    "\\end{align*}\n",
    "\n",
    "or more compactly in switching-regime notation\n",
    "\n",
    "\\begin{align*}\n",
    "Y = D Y^1 + (1 - D) Y^0.\n",
    "\\end{align*}"
   ]
  },
  {
   "cell_type": "markdown",
   "metadata": {
    "slideshow": {
     "slide_type": "slide"
    }
   },
   "source": [
    "This leads Holland (1986) to describe the fundamental problem of causal inference:\n",
    "\n",
    "<img src=\"material/fundamental_problem.png\" height=\"500\" width=500 />\n",
    "\n",
    "$\\rightarrow$ as only the diagonal of the table is observable we cannot simply compute $\\delta_i$ by taking the difference in potential outcomes $(y^1_i, y^0_i)$."
   ]
  },
  {
   "cell_type": "code",
   "execution_count": 5,
   "metadata": {
    "slideshow": {
     "slide_type": "slide"
    }
   },
   "outputs": [
    {
     "data": {
      "text/html": [
       "<div>\n",
       "<style scoped>\n",
       "    .dataframe tbody tr th:only-of-type {\n",
       "        vertical-align: middle;\n",
       "    }\n",
       "\n",
       "    .dataframe tbody tr th {\n",
       "        vertical-align: top;\n",
       "    }\n",
       "\n",
       "    .dataframe thead th {\n",
       "        text-align: right;\n",
       "    }\n",
       "</style>\n",
       "<table border=\"1\" class=\"dataframe\">\n",
       "  <thead>\n",
       "    <tr style=\"text-align: right;\">\n",
       "      <th></th>\n",
       "      <th>treat</th>\n",
       "      <th>re78</th>\n",
       "      <th>Y</th>\n",
       "      <th>Y_0</th>\n",
       "      <th>Y_1</th>\n",
       "      <th>D</th>\n",
       "    </tr>\n",
       "  </thead>\n",
       "  <tbody>\n",
       "    <tr>\n",
       "      <th>331</th>\n",
       "      <td>0</td>\n",
       "      <td>0.000000</td>\n",
       "      <td>0.000000</td>\n",
       "      <td>0.000000</td>\n",
       "      <td>NaN</td>\n",
       "      <td>0</td>\n",
       "    </tr>\n",
       "    <tr>\n",
       "      <th>187</th>\n",
       "      <td>0</td>\n",
       "      <td>0.000000</td>\n",
       "      <td>0.000000</td>\n",
       "      <td>0.000000</td>\n",
       "      <td>NaN</td>\n",
       "      <td>0</td>\n",
       "    </tr>\n",
       "    <tr>\n",
       "      <th>383</th>\n",
       "      <td>0</td>\n",
       "      <td>16477.019531</td>\n",
       "      <td>16477.019531</td>\n",
       "      <td>16477.019531</td>\n",
       "      <td>NaN</td>\n",
       "      <td>0</td>\n",
       "    </tr>\n",
       "    <tr>\n",
       "      <th>360</th>\n",
       "      <td>0</td>\n",
       "      <td>6771.622070</td>\n",
       "      <td>6771.622070</td>\n",
       "      <td>6771.622070</td>\n",
       "      <td>NaN</td>\n",
       "      <td>0</td>\n",
       "    </tr>\n",
       "    <tr>\n",
       "      <th>350</th>\n",
       "      <td>0</td>\n",
       "      <td>0.000000</td>\n",
       "      <td>0.000000</td>\n",
       "      <td>0.000000</td>\n",
       "      <td>NaN</td>\n",
       "      <td>0</td>\n",
       "    </tr>\n",
       "  </tbody>\n",
       "</table>\n",
       "</div>"
      ],
      "text/plain": [
       "     treat          re78             Y           Y_0  Y_1  D\n",
       "331      0      0.000000      0.000000      0.000000  NaN  0\n",
       "187      0      0.000000      0.000000      0.000000  NaN  0\n",
       "383      0  16477.019531  16477.019531  16477.019531  NaN  0\n",
       "360      0   6771.622070   6771.622070   6771.622070  NaN  0\n",
       "350      0      0.000000      0.000000      0.000000  NaN  0"
      ]
     },
     "execution_count": 5,
     "metadata": {},
     "output_type": "execute_result"
    }
   ],
   "source": [
    "df.head()"
   ]
  },
  {
   "cell_type": "markdown",
   "metadata": {
    "slideshow": {
     "slide_type": "slide"
    }
   },
   "source": [
    "## Population-level parameters\n",
    "\n",
    "It looks like we need to give our our hope of obtaining the individual-specific effect of treatment. But what can we still hope for?\n",
    "\n",
    "$\\rightarrow$ population-level parameters\n",
    "\n",
    "* What are common examples?\n",
    "\n",
    "* What are the policy questions they address?\n",
    "\n",
    "* What is their relationship to each other?"
   ]
  },
  {
   "cell_type": "markdown",
   "metadata": {
    "slideshow": {
     "slide_type": "slide"
    }
   },
   "source": [
    "\\begin{align*}\n",
    "\\begin{array}{lll}\n",
    "E[Y^1 - Y^0] & \\qquad ATE & \\qquad\\text{average effect of treatment} \\\\\n",
    "E[Y^1 - Y^0 \\mid D = 1] & \\qquad ATT & \\qquad\\text{average effect on treated} \\\\\n",
    "E[Y^1 - Y^0 \\mid D = 0] & \\qquad ATC & \\qquad\\text{average effect on untreated}\n",
    "\\end{array}\n",
    "\\end{align*}"
   ]
  },
  {
   "cell_type": "code",
   "execution_count": 6,
   "metadata": {
    "slideshow": {
     "slide_type": "slide"
    }
   },
   "outputs": [
    {
     "data": {
      "image/png": "[encoded data removed]",
      "text/plain": [
       "<Figure size 432x288 with 1 Axes>"
      ]
     },
     "metadata": {
      "needs_background": "light"
     },
     "output_type": "display_data"
    }
   ],
   "source": [
    "plot_individual_specific_effects(with_parameters=[0, 0.7, -0.5])"
   ]
  },
  {
   "cell_type": "code",
   "execution_count": 7,
   "metadata": {
    "slideshow": {
     "slide_type": "slide"
    }
   },
   "outputs": [
    {
     "data": {
      "image/png": "[encoded data removed]",
      "text/plain": [
       "<Figure size 432x288 with 1 Axes>"
      ]
     },
     "metadata": {
      "needs_background": "light"
     },
     "output_type": "display_data"
    }
   ],
   "source": [
    "plot_individual_specific_effects(with_parameters=[0, -0.7, 0.5])"
   ]
  },
  {
   "cell_type": "code",
   "execution_count": 8,
   "metadata": {
    "slideshow": {
     "slide_type": "slide"
    }
   },
   "outputs": [
    {
     "data": {
      "image/png": "[encoded data removed]",
      "text/plain": [
       "<Figure size 432x288 with 1 Axes>"
      ]
     },
     "metadata": {
      "needs_background": "light"
     },
     "output_type": "display_data"
    }
   ],
   "source": [
    "plot_individual_specific_effects(with_parameters=[0, 0, 0])"
   ]
  },
  {
   "cell_type": "markdown",
   "metadata": {
    "slideshow": {
     "slide_type": "slide"
    }
   },
   "source": [
    "The potential outcome model is gets its empirical tractability when combined with the **Stable Unit Treatment Value Assumption (SUTVA)** of which there exist many formulations. We will go with the one from Imbens and Rubin (2015):\n",
    "\n",
    "> The potential outcomes for any unit do not vary with the treatments assigned to other units, and, for each unit there are no different forms or versions of each treatment level, which lead to different potential outcomes.\n",
    "\n",
    "* When do we need to expect this is vioated?\n"
   ]
  },
  {
   "cell_type": "markdown",
   "metadata": {
    "slideshow": {
     "slide_type": "slide"
    }
   },
   "source": [
    "<img src=\"material/stable_unit_treatment.png\" height=\"500\" width=500 />"
   ]
  },
  {
   "cell_type": "markdown",
   "metadata": {
    "slideshow": {
     "slide_type": "slide"
    }
   },
   "source": [
    "* randomized experiment\n",
    "\n",
    "\\begin{align*}\n",
    "(Y^0, Y^1)  \\perp \\!\\!\\! \\perp D\n",
    "\\end{align*}\n",
    "\n",
    "* observational study\n",
    "\n",
    "> A *observational study* is an empirical investigation of treatments, policies, or exposures and the effects they cause, but it differs from an experiment in that the investigator cannot control the assingment of treatments to subjects. (Rosenbaum (2002))"
   ]
  },
  {
   "cell_type": "markdown",
   "metadata": {
    "slideshow": {
     "slide_type": "slide"
    }
   },
   "source": [
    "\\begin{align*}\n",
    "\\hat{\\delta}_{NAIVE} = E_N[y_i\\mid d_i = 1] - E_N[y_i\\mid d_i = 0]\n",
    "\\end{align*}\n",
    "\n",
    "where \n",
    "\n",
    "\\begin{align*}\n",
    "E_N[y_i\\mid d_i = 1] \\xrightarrow{p} E[Y^1\\mid D = 1] \\neq E[Y^1]\\\\\n",
    "E_N[y_i\\mid d_i = 0] \\xrightarrow{p} E[Y^0\\mid D = 0] \\neq E[Y^0]\n",
    "\\end{align*}"
   ]
  },
  {
   "cell_type": "markdown",
   "metadata": {
    "slideshow": {
     "slide_type": "slide"
    }
   },
   "source": [
    "\\begin{align*}\n",
    "E[\\delta] & = \\{\\pi E[Y^1\\mid D = 1] + (1 - \\pi)E[Y^1\\mid D = 0]\\} \\\\\n",
    "          & - \\{\\pi E[Y^0\\mid D = 1] + (1 - \\pi)E[Y^0\\mid D = 0]\\}\n",
    "\\end{align*}\n",
    "\n",
    "\n",
    "* Which components can be easily computed from data?"
   ]
  },
  {
   "cell_type": "markdown",
   "metadata": {},
   "source": [
    "\\begin{align*}\n",
    "E[Y^1 \\mid D = 1] - E[Y^0 \\mid D = 0] & = E[\\delta] + \\{E[Y^0\\mid D= 1] - E[Y^0\\mid D= 0]\\} \\\\\n",
    "                                      & + (1 - \\pi) \\{E[\\delta \\mid D = 1] -E[\\delta \\mid D = 0]\\}\n",
    "\\end{align*}\n",
    "\n",
    "* baseline bias\n",
    "* differential treatment effect bias"
   ]
  },
  {
   "cell_type": "markdown",
   "metadata": {
    "slideshow": {
     "slide_type": "slide"
    }
   },
   "source": [
    "<img src=\"material/bias_example.png\" height=\"500\" width=500 />"
   ]
  },
  {
   "cell_type": "markdown",
   "metadata": {
    "slideshow": {
     "slide_type": "slide"
    }
   },
   "source": [
    "What assumptions suffice to estimate the ATE with the navie estimator?\n",
    "\n",
    "* assumptions about potential outcomes for subsets of the population defined by treatment status\n",
    "* assumptions about the treatment selection / assignment process "
   ]
  },
  {
   "cell_type": "markdown",
   "metadata": {
    "slideshow": {
     "slide_type": "slide"
    }
   },
   "source": [
    "Consider the following two assumptions:\n",
    "\n",
    "\\begin{align*}\n",
    "E[Y^1\\mid D = 1] = E[Y^1\\mid D = 0] \\\\\n",
    "E[Y^0\\mid D = 1] = E[Y^0\\mid D = 0] \\\\\n",
    "\\end{align*}\n",
    "\n",
    "and recall our naive estimate \n",
    "\n",
    "\n",
    "\\begin{align*}\n",
    "\\hat{\\delta}_{NAIVE} & = E_N[y_i\\mid d_i = 1] - E_N[y_i\\mid d_i = 0] \\\\\n",
    "                     & \\xrightarrow{p} E[Y^1\\mid D = 1] - E[Y^0\\mid D = 0] \n",
    "\\end{align*}\n",
    "\n",
    "* What happeens if the two assumptions or at least one is satisfied?\n"
   ]
  },
  {
   "cell_type": "markdown",
   "metadata": {
    "slideshow": {
     "slide_type": "slide"
    }
   },
   "source": [
    "### Missing data and imputation\n",
    "\n",
    "This is an adopted example from Imbens & Rubin (2015)."
   ]
  },
  {
   "cell_type": "code",
   "execution_count": 9,
   "metadata": {
    "slideshow": {
     "slide_type": "-"
    }
   },
   "outputs": [
    {
     "data": {
      "text/html": [
       "<div>\n",
       "<style scoped>\n",
       "    .dataframe tbody tr th:only-of-type {\n",
       "        vertical-align: middle;\n",
       "    }\n",
       "\n",
       "    .dataframe tbody tr th {\n",
       "        vertical-align: top;\n",
       "    }\n",
       "\n",
       "    .dataframe thead th {\n",
       "        text-align: right;\n",
       "    }\n",
       "</style>\n",
       "<table border=\"1\" class=\"dataframe\">\n",
       "  <thead>\n",
       "    <tr style=\"text-align: right;\">\n",
       "      <th></th>\n",
       "      <th>treat</th>\n",
       "      <th>re78</th>\n",
       "      <th>Y</th>\n",
       "      <th>Y_0</th>\n",
       "      <th>Y_1</th>\n",
       "      <th>D</th>\n",
       "    </tr>\n",
       "  </thead>\n",
       "  <tbody>\n",
       "    <tr>\n",
       "      <th>331</th>\n",
       "      <td>0</td>\n",
       "      <td>0.000000</td>\n",
       "      <td>0.000000</td>\n",
       "      <td>0.000000</td>\n",
       "      <td>NaN</td>\n",
       "      <td>0</td>\n",
       "    </tr>\n",
       "    <tr>\n",
       "      <th>187</th>\n",
       "      <td>0</td>\n",
       "      <td>0.000000</td>\n",
       "      <td>0.000000</td>\n",
       "      <td>0.000000</td>\n",
       "      <td>NaN</td>\n",
       "      <td>0</td>\n",
       "    </tr>\n",
       "    <tr>\n",
       "      <th>383</th>\n",
       "      <td>0</td>\n",
       "      <td>16477.019531</td>\n",
       "      <td>16477.019531</td>\n",
       "      <td>16477.019531</td>\n",
       "      <td>NaN</td>\n",
       "      <td>0</td>\n",
       "    </tr>\n",
       "    <tr>\n",
       "      <th>360</th>\n",
       "      <td>0</td>\n",
       "      <td>6771.622070</td>\n",
       "      <td>6771.622070</td>\n",
       "      <td>6771.622070</td>\n",
       "      <td>NaN</td>\n",
       "      <td>0</td>\n",
       "    </tr>\n",
       "    <tr>\n",
       "      <th>350</th>\n",
       "      <td>0</td>\n",
       "      <td>0.000000</td>\n",
       "      <td>0.000000</td>\n",
       "      <td>0.000000</td>\n",
       "      <td>NaN</td>\n",
       "      <td>0</td>\n",
       "    </tr>\n",
       "  </tbody>\n",
       "</table>\n",
       "</div>"
      ],
      "text/plain": [
       "     treat          re78             Y           Y_0  Y_1  D\n",
       "331      0      0.000000      0.000000      0.000000  NaN  0\n",
       "187      0      0.000000      0.000000      0.000000  NaN  0\n",
       "383      0  16477.019531  16477.019531  16477.019531  NaN  0\n",
       "360      0   6771.622070   6771.622070   6771.622070  NaN  0\n",
       "350      0      0.000000      0.000000      0.000000  NaN  0"
      ]
     },
     "execution_count": 9,
     "metadata": {},
     "output_type": "execute_result"
    }
   ],
   "source": [
    "df.head()"
   ]
  },
  {
   "cell_type": "markdown",
   "metadata": {
    "slideshow": {
     "slide_type": "slide"
    }
   },
   "source": [
    "We can impute the missing values simply by their average counterpart."
   ]
  },
  {
   "cell_type": "code",
   "execution_count": 10,
   "metadata": {
    "slideshow": {
     "slide_type": "-"
    }
   },
   "outputs": [
    {
     "name": "stdout",
     "output_type": "stream",
     "text": [
      "Our estimated treatment effect is    1794.34\n"
     ]
    }
   ],
   "source": [
    "df.loc[df['D'] == 0, 'Y_1'] = df['Y_1'].mean()\n",
    "df.loc[df['D'] == 1, 'Y_0'] = df['Y_0'].mean()\n",
    "print('Our estimated treatment effect is {:10.2f}'.format((df['Y_1'] - df['Y_0']).mean()))"
   ]
  },
  {
   "cell_type": "markdown",
   "metadata": {
    "slideshow": {
     "slide_type": "slide"
    }
   },
   "source": [
    "However, this does not really account for any uncertainty in our estimate. Can we do better?"
   ]
  },
  {
   "cell_type": "code",
   "execution_count": 11,
   "metadata": {
    "slideshow": {
     "slide_type": "-"
    }
   },
   "outputs": [
    {
     "name": "stdout",
     "output_type": "stream",
     "text": [
      "Our estimated treatment effect is    1769.54\n"
     ]
    }
   ],
   "source": [
    "status_counts = df['D'].value_counts().to_dict()\n",
    "\n",
    "stats = list()\n",
    "for _ in range(100):\n",
    "    y_1_sampled = df['Y_1'].dropna().sample(n=status_counts[0], replace=True).values\n",
    "    y_0_sampled = df['Y_0'].dropna().sample(n=status_counts[1], replace=True).values\n",
    "\n",
    "    df_boot = df.copy()\n",
    "\n",
    "    df_boot.loc[df_boot['D'] == 1, 'Y_0'] = y_0_sampled\n",
    "    df_boot.loc[df_boot['D'] == 0, 'Y_1'] = y_1_sampled\n",
    "    \n",
    "    stat = (df_boot['Y_1'] - df_boot['Y_0']).mean()\n",
    "    stats.append(stat)\n",
    "print('Our estimated treatment effect is {:10.2f}'.format(np.mean(stats)))"
   ]
  },
  {
   "cell_type": "markdown",
   "metadata": {
    "slideshow": {
     "slide_type": "slide"
    }
   },
   "source": [
    "How does the full distribution of estimates look like?"
   ]
  },
  {
   "cell_type": "code",
   "execution_count": 12,
   "metadata": {
    "slideshow": {
     "slide_type": "-"
    }
   },
   "outputs": [
    {
     "data": {
      "image/png": "[encoded data removed]",
      "text/plain": [
       "<Figure size 432x288 with 1 Axes>"
      ]
     },
     "metadata": {
      "needs_background": "light"
     },
     "output_type": "display_data"
    }
   ],
   "source": [
    "fig, ax = plt.subplots(1, 1)\n",
    "ax.hist(stats)\n",
    "ax.set_ylabel('Statistic')\n",
    "ax.set_xlabel('Frequency');"
   ]
  },
  {
   "cell_type": "markdown",
   "metadata": {
    "slideshow": {
     "slide_type": "slide"
    }
   },
   "source": [
    "Still some limitations remains. For example, we do sample from the empirical distribution of the observed outcomes and the actual distribution. Phrased differently, we treat the distribution of potential outcomes as knows and abstract from any uncertainty in our knowledge about it."
   ]
  },
  {
   "cell_type": "markdown",
   "metadata": {
    "slideshow": {
     "slide_type": "slide"
    }
   },
   "source": [
    "## Extensions of the binary potential outcome model\n",
    "\n",
    "* over-time potential outcomes and causal effects\n",
    "    * a single unit over time (time series)\n",
    "    * many units over time (panel data)\n",
    "    \n",
    "* many-valued treatments"
   ]
  },
  {
   "cell_type": "markdown",
   "metadata": {
    "slideshow": {
     "slide_type": "slide"
    }
   },
   "source": [
    "### Over-time potential outcomes\n",
    "\n",
    "We explore the case of a single unit over time.\n",
    "\n",
    "**Ingredients** \n",
    "\n",
    "* discrete time periods, $t\\in\\{1, ..., T\\}$\n",
    "* sequence of observed values, $\\{y_1, y_2, ..., y_T\\}$\n",
    "\n",
    "Setting up the potential outcome model to explore the basic features of before-and-after designs for a single unit of analsysis.\n",
    "\n",
    "* before the treatment is introduced (for $t < t^*$):\n",
    "\n",
    "\\begin{align*}\n",
    "D_t & = 0 \\\\\n",
    "Y_t & = Y^0_t\\\\\n",
    "\\end{align*}\n",
    "\n",
    "* while the treatment is in place (from $t^*$ through $t^* + k$):\n",
    "\n",
    "\\begin{align*}\n",
    "D_t & = 1 \\\\\n",
    "Y_t & = Y^1_t\\\\\n",
    "Y^0_t & \\text{exists but is counterfactual}\n",
    "\\end{align*}\n",
    "\n",
    "* after the treatment ends (for time periods $t > (t^* + k)$):\n",
    "\\begin{align*}\n",
    "D_t & = 0 \\\\\n",
    "Y_t & = Y^1_t\\\\\n",
    "Y^1_t & \\text{exists but is counterfactual}\n",
    "\\end{align*}"
   ]
  },
  {
   "cell_type": "markdown",
   "metadata": {
    "slideshow": {
     "slide_type": "slide"
    }
   },
   "source": [
    "The following is an adapted example from our core textbook. "
   ]
  },
  {
   "cell_type": "code",
   "execution_count": 13,
   "metadata": {
    "slideshow": {
     "slide_type": "-"
    }
   },
   "outputs": [
    {
     "data": {
      "text/html": [
       "<div>\n",
       "<style scoped>\n",
       "    .dataframe tbody tr th:only-of-type {\n",
       "        vertical-align: middle;\n",
       "    }\n",
       "\n",
       "    .dataframe tbody tr th {\n",
       "        vertical-align: top;\n",
       "    }\n",
       "\n",
       "    .dataframe thead th {\n",
       "        text-align: right;\n",
       "    }\n",
       "</style>\n",
       "<table border=\"1\" class=\"dataframe\">\n",
       "  <thead>\n",
       "    <tr style=\"text-align: right;\">\n",
       "      <th></th>\n",
       "      <th>Birth rate</th>\n",
       "    </tr>\n",
       "    <tr>\n",
       "      <th>date</th>\n",
       "      <th></th>\n",
       "    </tr>\n",
       "  </thead>\n",
       "  <tbody>\n",
       "    <tr>\n",
       "      <th>1960</th>\n",
       "      <td>17.3</td>\n",
       "    </tr>\n",
       "    <tr>\n",
       "      <th>1961</th>\n",
       "      <td>17.0</td>\n",
       "    </tr>\n",
       "    <tr>\n",
       "      <th>1962</th>\n",
       "      <td>17.1</td>\n",
       "    </tr>\n",
       "    <tr>\n",
       "      <th>1963</th>\n",
       "      <td>17.4</td>\n",
       "    </tr>\n",
       "    <tr>\n",
       "      <th>1964</th>\n",
       "      <td>17.8</td>\n",
       "    </tr>\n",
       "  </tbody>\n",
       "</table>\n",
       "</div>"
      ],
      "text/plain": [
       "      Birth rate\n",
       "date            \n",
       "1960        17.3\n",
       "1961        17.0\n",
       "1962        17.1\n",
       "1963        17.4\n",
       "1964        17.8"
      ]
     },
     "execution_count": 13,
     "metadata": {},
     "output_type": "execute_result"
    }
   ],
   "source": [
    "import wbdata    # easy access to World Bank data\n",
    " \n",
    "# source: https://data.worldbank.org/indicator/sp.dyn.cbrt.in\n",
    "indicators = {'SP.DYN.CBRT.IN':'Birth rate'}\n",
    "df = wbdata.get_dataframe(indicators, country=[\"JP\"], convert_date=False)\n",
    "\n",
    "df.sort_index(inplace=True)       # sort by year\n",
    "df.index = df.index.astype(int)   # format index to integer type\n",
    "df.head()"
   ]
  },
  {
   "cell_type": "markdown",
   "metadata": {
    "slideshow": {
     "slide_type": "slide"
    }
   },
   "source": [
    "Let's get to work."
   ]
  },
  {
   "cell_type": "code",
   "execution_count": 14,
   "metadata": {
    "slideshow": {
     "slide_type": "-"
    }
   },
   "outputs": [
    {
     "data": {
      "image/png": "[encoded data removed]",
      "text/plain": [
       "<Figure size 432x288 with 1 Axes>"
      ]
     },
     "metadata": {
      "needs_background": "light"
     },
     "output_type": "display_data"
    }
   ],
   "source": [
    "fig, ax = plt.subplots(1, 1)\n",
    "ax.plot(df['Birth rate'].index, df['Birth rate'])\n",
    "ax.set_ylabel('Birth rate')\n",
    "ax.set_xlabel('Year');"
   ]
  },
  {
   "cell_type": "code",
   "execution_count": 15,
   "metadata": {
    "slideshow": {
     "slide_type": "slide"
    }
   },
   "outputs": [
    {
     "data": {
      "text/plain": [
       "date\n",
       "1960    17.3\n",
       "1961    17.0\n",
       "1962    17.1\n",
       "1963    17.4\n",
       "1964    17.8\n",
       "1965    18.7\n",
       "1966    13.8\n",
       "1967    19.4\n",
       "1968    18.7\n",
       "1969    18.5\n",
       "1970    18.7\n",
       "Name: Birth rate, dtype: float64"
      ]
     },
     "execution_count": 15,
     "metadata": {},
     "output_type": "execute_result"
    }
   ],
   "source": [
    "df.loc[slice(1960, 1970), 'Birth rate']"
   ]
  },
  {
   "cell_type": "code",
   "execution_count": 16,
   "metadata": {
    "slideshow": {
     "slide_type": "slide"
    }
   },
   "outputs": [
    {
     "name": "stdout",
     "output_type": "stream",
     "text": [
      " A reasonable treatment effect is   -4.15000\n"
     ]
    }
   ],
   "source": [
    "y_0 = df.loc[[1963, 1969], 'Birth rate'].mean()\n",
    "y_1 = df.loc[1966, 'Birth rate']\n",
    "print(' A reasonable treatment effect is {:10.5f}'.format(y_1 - y_0))"
   ]
  }
 ],
 "metadata": {
  "kernelspec": {
   "display_name": "Python 3",
   "language": "python",
   "name": "python3"
  },
  "language_info": {
   "codemirror_mode": {
    "name": "ipython",
    "version": 3
   },
   "file_extension": ".py",
   "mimetype": "text/x-python",
   "name": "python",
   "nbconvert_exporter": "python",
   "pygments_lexer": "ipython3",
   "version": "3.7.2"
  },
  "latex_envs": {
   "LaTeX_envs_menu_present": true,
   "autoclose": false,
   "autocomplete": true,
   "bibliofile": "literature.bib",
   "cite_by": "apalike",
   "current_citInitial": 1,
   "eqLabelWithNumbers": true,
   "eqNumInitial": 1,
   "hotkeys": {
    "equation": "Ctrl-E",
    "itemize": "Ctrl-I"
   },
   "labels_anchors": false,
   "latex_user_defs": false,
   "report_style_numbering": false,
   "user_envs_cfg": false
  },
  "toc-autonumbering": false
 },
 "nbformat": 4,
 "nbformat_minor": 2
}
