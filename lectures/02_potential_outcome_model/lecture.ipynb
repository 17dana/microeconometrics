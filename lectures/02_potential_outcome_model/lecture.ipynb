{
 "cells": [
  {
   "cell_type": "code",
   "execution_count": 1,
   "metadata": {
    "slideshow": {
     "slide_type": "skip"
    }
   },
   "outputs": [],
   "source": [
    "%load_ext autoreload\n",
    "\n",
    "%autoreload 2\n",
    "\n",
    "import sys\n",
    "sys.path.append('material')\n",
    "\n",
    "import matplotlib.pyplot as plt\n",
    "import scipy.stats as ss\n",
    "\n",
    "from auxiliary import *"
   ]
  },
  {
   "cell_type": "markdown",
   "metadata": {},
   "source": [
    "# Housekeeping\n",
    "\n",
    "* questions / feedback regarding last week\n",
    "* updated due date of the student projects on the course website\n",
    "* technical support on Thursday\n",
    "* project updates"
   ]
  },
  {
   "cell_type": "markdown",
   "metadata": {
    "slideshow": {
     "slide_type": "slide"
    }
   },
   "source": [
    "# Potential outcome model\n",
    "\n",
    "Given what we know from the introduction about the potential outcome model, we will initialily prepare the Lalonde Dataset to fit the framework and use it as a running example going forward."
   ]
  },
  {
   "cell_type": "code",
   "execution_count": 2,
   "metadata": {
    "slideshow": {
     "slide_type": "slide"
    }
   },
   "outputs": [],
   "source": [
    "# revisit data"
   ]
  },
  {
   "cell_type": "markdown",
   "metadata": {
    "slideshow": {
     "slide_type": "slide"
    }
   },
   "source": [
    "Let's put this in the same form of the basic model."
   ]
  },
  {
   "cell_type": "code",
   "execution_count": 3,
   "metadata": {
    "slideshow": {
     "slide_type": "-"
    }
   },
   "outputs": [],
   "source": [
    "# cut data to our liking"
   ]
  },
  {
   "cell_type": "markdown",
   "metadata": {
    "slideshow": {
     "slide_type": "slide"
    }
   },
   "source": [
    "## Individual-specific effect of treatment\n",
    "\n",
    "It would be great if we could get our hands on the individual-specific effect of treatment.\n",
    "\n",
    "\\begin{align*}\n",
    "\\delta_i = y_i^1 - y_i^0\n",
    "\\end{align*}\n",
    "\n",
    "* Why do individuals have potentially different effects of treatment?"
   ]
  },
  {
   "cell_type": "code",
   "execution_count": 4,
   "metadata": {
    "slideshow": {
     "slide_type": "slide"
    }
   },
   "outputs": [],
   "source": [
    "# Create a pretty example plot that illustrates the potential heterogeneity in individual benefits."
   ]
  },
  {
   "cell_type": "markdown",
   "metadata": {
    "slideshow": {
     "slide_type": "slide"
    }
   },
   "source": [
    "* There might be considerable heterogeneity in the benefits of treatment among the population. And summarizing the distribution of benefits with a single number, for example $E[\\delta]$, might result in a loss of information.\n",
    "\n",
    "**Examples**\n",
    "\n",
    "* medical treatment\n",
    "* .."
   ]
  },
  {
   "cell_type": "markdown",
   "metadata": {
    "slideshow": {
     "slide_type": "slide"
    }
   },
   "source": [
    "Give our definitions of $(Y^1, Y^0, D)$ and their individual realizations $(y^1_i, y^0_i, d_i)$ we can now define the observed outcome $Y$ in terms of them.\n",
    "\n",
    "\\begin{align*}\n",
    "Y = \\begin{cases}\n",
    "Y^1 & \\quad\\text{if}\\quad D = 1 \\\\\n",
    "Y^0 & \\quad\\text{if}\\quad D = 0\n",
    "\\end{cases}\n",
    "\\end{align*}\n",
    "\n",
    "or more compactly in switching-regime notation\n",
    "\n",
    "\\begin{align*}\n",
    "Y = D Y^1 + (1 - D) Y^0.\n",
    "\\end{align*}"
   ]
  },
  {
   "cell_type": "markdown",
   "metadata": {
    "slideshow": {
     "slide_type": "slide"
    }
   },
   "source": [
    "This leads Holland (1986) to describe the fundamental problem of causal inference:\n",
    "\n",
    "<img src=\"material/fundamental_problem.png\" height=\"500\" width=500 />\n",
    "\n",
    "$\\rightarrow$ as only the diagonal of the table is observable we cannot simply compute $\\delta_i$ by taking the difference in potential outcomes $(y^1_i, y^0_i)$."
   ]
  },
  {
   "cell_type": "code",
   "execution_count": 5,
   "metadata": {
    "slideshow": {
     "slide_type": "slide"
    }
   },
   "outputs": [],
   "source": [
    "# look at dataset to drive home the point of missing data"
   ]
  },
  {
   "cell_type": "markdown",
   "metadata": {
    "slideshow": {
     "slide_type": "slide"
    }
   },
   "source": [
    "## Population-level parameters\n",
    "\n",
    "It looks like we need to give our our hope of obtaining the individual-specific effect of treatment. But what can we still hope for?\n",
    "\n",
    "$\\rightarrow$ population-level parameters\n",
    "\n",
    "* What are common examples?\n",
    "\n",
    "* What are the policy questions they address?\n",
    "\n",
    "* What is their relationship to each other?"
   ]
  },
  {
   "cell_type": "markdown",
   "metadata": {
    "slideshow": {
     "slide_type": "slide"
    }
   },
   "source": [
    "\\begin{align*}\n",
    "\\begin{array}{lll}\n",
    "E[Y^1 - Y^0] & \\qquad ATE & \\qquad\\text{average effect of treatment} \\\\\n",
    "E[Y^1 - Y^0 \\mid D = 1] & \\qquad ATT & \\qquad\\text{average effect on treated} \\\\\n",
    "E[Y^1 - Y^0 \\mid D = 0] & \\qquad ATC & \\qquad\\text{average effect on untreated}\n",
    "\\end{array}\n",
    "\\end{align*}"
   ]
  },
  {
   "cell_type": "code",
   "execution_count": 6,
   "metadata": {
    "slideshow": {
     "slide_type": "slide"
    }
   },
   "outputs": [],
   "source": [
    "# Pretty plots that illustrate the potential relationships between the different population level parameters"
   ]
  },
  {
   "cell_type": "markdown",
   "metadata": {
    "slideshow": {
     "slide_type": "slide"
    }
   },
   "source": [
    "The potential outcome model is gets its empirical tractability when combined with the **Stable Unit Treatment Value Assumption (SUTVA)** of which there exist many formulations. We will go with the one from Imbens and Rubin (2015):\n",
    "\n",
    "> The potential outcomes for any unit do not vary with the treatments assigned to other units, and, for each unit there are no different forms or versions of each treatment level, which lead to different potential outcomes.\n",
    "\n",
    "* When do we need to expect this is vioated?\n"
   ]
  },
  {
   "cell_type": "markdown",
   "metadata": {
    "slideshow": {
     "slide_type": "slide"
    }
   },
   "source": [
    "<img src=\"material/stable_unit_treatment.png\" height=\"500\" width=500 />"
   ]
  },
  {
   "cell_type": "markdown",
   "metadata": {
    "slideshow": {
     "slide_type": "slide"
    }
   },
   "source": [
    "* randomized experiment\n",
    "\n",
    "\\begin{align*}\n",
    "(Y^0, Y^1)  \\perp \\!\\!\\! \\perp D\n",
    "\\end{align*}\n",
    "\n",
    "* observational study\n",
    "\n",
    "> A *observational study* is an empirical investigation of treatments, policies, or exposures and the effects they cause, but it differs from an experiment in that the investigator cannot control the assingment of treatments to subjects. (Rosenbaum (2002))"
   ]
  },
  {
   "cell_type": "markdown",
   "metadata": {
    "slideshow": {
     "slide_type": "slide"
    }
   },
   "source": [
    "\\begin{align*}\n",
    "\\hat{\\delta}_{NAIVE} = E_N[y_i\\mid d_i = 1] - E_N[y_i\\mid d_i = 0]\n",
    "\\end{align*}\n",
    "\n",
    "where \n",
    "\n",
    "\\begin{align*}\n",
    "E_N[y_i\\mid d_i = 1] \\xrightarrow{p} E[Y^1\\mid D = 1] \\neq E[Y^1]\\\\\n",
    "E_N[y_i\\mid d_i = 0] \\xrightarrow{p} E[Y^0\\mid D = 0] \\neq E[Y^0]\n",
    "\\end{align*}"
   ]
  },
  {
   "cell_type": "markdown",
   "metadata": {
    "slideshow": {
     "slide_type": "slide"
    }
   },
   "source": [
    "\\begin{align*}\n",
    "E[\\delta] & = \\{\\pi E[Y^1\\mid D = 1] + (1 - \\pi)E[Y^1\\mid D = 0]\\} \\\\\n",
    "          & - \\{\\pi E[Y^0\\mid D = 1] + (1 - \\pi)E[Y^0\\mid D = 0]\\}\n",
    "\\end{align*}\n",
    "\n",
    "\n",
    "* Which components can be easily computed from data?"
   ]
  },
  {
   "cell_type": "markdown",
   "metadata": {},
   "source": [
    "\\begin{align*}\n",
    "E[Y^1 \\mid D = 1] - E[Y^0 \\mid D = 0] & = E[\\delta] + \\{E[Y^0\\mid D= 1] - E[Y^0\\mid D= 0]\\} \\\\\n",
    "                                      & + (1 - \\pi) \\{E[\\delta \\mid D = 1] -E[\\delta \\mid D = 0]\\}\n",
    "\\end{align*}\n",
    "\n",
    "* baseline bias\n",
    "* differential treatment effect bias"
   ]
  },
  {
   "cell_type": "markdown",
   "metadata": {
    "slideshow": {
     "slide_type": "slide"
    }
   },
   "source": [
    "<img src=\"material/bias_example.png\" height=\"500\" width=500 />"
   ]
  },
  {
   "cell_type": "markdown",
   "metadata": {
    "slideshow": {
     "slide_type": "slide"
    }
   },
   "source": [
    "What assumptions suffice to estimate the ATE with the navie estimator?\n",
    "\n",
    "* assumptions about potential outcomes for subsets of the population defined by treatment status\n",
    "* assumptions about the treatment selection / assignment process "
   ]
  },
  {
   "cell_type": "markdown",
   "metadata": {
    "slideshow": {
     "slide_type": "slide"
    }
   },
   "source": [
    "Consider the following two assumptions:\n",
    "\n",
    "\\begin{align*}\n",
    "E[Y^1\\mid D = 1] = E[Y^1\\mid D = 0] \\\\\n",
    "E[Y^0\\mid D = 1] = E[Y^0\\mid D = 0] \\\\\n",
    "\\end{align*}\n",
    "\n",
    "and recall our naive estimate \n",
    "\n",
    "\n",
    "\\begin{align*}\n",
    "\\hat{\\delta}_{NAIVE} & = E_N[y_i\\mid d_i = 1] - E_N[y_i\\mid d_i = 0] \\\\\n",
    "                     & \\xrightarrow{p} E[Y^1\\mid D = 1] - E[Y^0\\mid D = 0] \n",
    "\\end{align*}\n",
    "\n",
    "* What happeens if the two assumptions or at least one is satisfied?\n"
   ]
  },
  {
   "cell_type": "markdown",
   "metadata": {
    "slideshow": {
     "slide_type": "slide"
    }
   },
   "source": [
    "### Missing data and imputation\n",
    "\n",
    "This is an adopted example from Imbens & Rubin (2015)."
   ]
  },
  {
   "cell_type": "code",
   "execution_count": 7,
   "metadata": {
    "slideshow": {
     "slide_type": "-"
    }
   },
   "outputs": [],
   "source": [
    "# Briefly revisit dataframe"
   ]
  },
  {
   "cell_type": "markdown",
   "metadata": {
    "slideshow": {
     "slide_type": "slide"
    }
   },
   "source": [
    "We can impute the missing values simply by their average counterpart."
   ]
  },
  {
   "cell_type": "code",
   "execution_count": 8,
   "metadata": {
    "slideshow": {
     "slide_type": "-"
    }
   },
   "outputs": [],
   "source": [
    "# Naive imputation of counterfactuals"
   ]
  },
  {
   "cell_type": "markdown",
   "metadata": {
    "slideshow": {
     "slide_type": "slide"
    }
   },
   "source": [
    "However, this does not really account for any uncertainty in our estimate. Can we do better?"
   ]
  },
  {
   "cell_type": "code",
   "execution_count": 9,
   "metadata": {
    "slideshow": {
     "slide_type": "-"
    }
   },
   "outputs": [],
   "source": [
    "# More sophisticated imputation of counterfactuals"
   ]
  },
  {
   "cell_type": "markdown",
   "metadata": {
    "slideshow": {
     "slide_type": "slide"
    }
   },
   "source": [
    "How does the full distribution of estimates look like?"
   ]
  },
  {
   "cell_type": "code",
   "execution_count": 10,
   "metadata": {
    "slideshow": {
     "slide_type": "-"
    }
   },
   "outputs": [],
   "source": [
    "# Look at distribution of estimates"
   ]
  },
  {
   "cell_type": "markdown",
   "metadata": {
    "slideshow": {
     "slide_type": "slide"
    }
   },
   "source": [
    "Still some limitations remains. For example, we do sample from the empirical distribution of the observed outcomes and the actual distribution. Phrased differently, we treat the distribution of potential outcomes as knows and abstract from any uncertainty in our knowledge about it."
   ]
  },
  {
   "cell_type": "markdown",
   "metadata": {
    "slideshow": {
     "slide_type": "slide"
    }
   },
   "source": [
    "## Extensions of the binary potential outcome model\n",
    "\n",
    "* over-time potential outcomes and causal effects\n",
    "    * a single unit over time (time series)\n",
    "    * many units over time (panel data)\n",
    "    \n",
    "* many-valued treatments"
   ]
  },
  {
   "cell_type": "markdown",
   "metadata": {
    "slideshow": {
     "slide_type": "slide"
    }
   },
   "source": [
    "### Over-time potential outcomes\n",
    "\n",
    "We explore the case of a single unit over time.\n",
    "\n",
    "**Ingredients** \n",
    "\n",
    "* discrete time periods, $t\\in\\{1, ..., T\\}$\n",
    "* sequence of observed values, $\\{y_1, y_2, ..., y_T\\}$\n",
    "\n",
    "Setting up the potential outcome model to explore the basic features of before-and-after designs for a single unit of analsysis.\n",
    "\n",
    "* before the treatment is introduced (for $t < t^*$):\n",
    "\n",
    "\\begin{align*}\n",
    "D_t & = 0 \\\\\n",
    "Y_t & = Y^0_t\\\\\n",
    "\\end{align*}\n",
    "\n",
    "* while the treatment is in place (from $t^*$ through $t^* + k$):\n",
    "\n",
    "\\begin{align*}\n",
    "D_t & = 1 \\\\\n",
    "Y_t & = Y^1_t\\\\\n",
    "Y^0_t & \\text{exists but is counterfactual}\n",
    "\\end{align*}\n",
    "\n",
    "* after the treatment ends (for time periods $t > (t^* + k)$):\n",
    "\\begin{align*}\n",
    "D_t & = 0 \\\\\n",
    "Y_t & = Y^1_t\\\\\n",
    "Y^1_t & \\text{exists but is counterfactual}\n",
    "\\end{align*}"
   ]
  },
  {
   "cell_type": "markdown",
   "metadata": {
    "slideshow": {
     "slide_type": "slide"
    }
   },
   "source": [
    "The following is an adapted example from our core textbook. "
   ]
  },
  {
   "cell_type": "code",
   "execution_count": 11,
   "metadata": {
    "slideshow": {
     "slide_type": "-"
    }
   },
   "outputs": [],
   "source": [
    "# Access worldbank database"
   ]
  },
  {
   "cell_type": "markdown",
   "metadata": {
    "slideshow": {
     "slide_type": "slide"
    }
   },
   "source": [
    "Let's get to work."
   ]
  },
  {
   "cell_type": "code",
   "execution_count": 12,
   "metadata": {
    "slideshow": {
     "slide_type": "-"
    }
   },
   "outputs": [],
   "source": [
    "# inspect time series"
   ]
  },
  {
   "cell_type": "code",
   "execution_count": 13,
   "metadata": {
    "slideshow": {
     "slide_type": "slide"
    }
   },
   "outputs": [],
   "source": [
    "# look at subset of data"
   ]
  },
  {
   "cell_type": "code",
   "execution_count": 14,
   "metadata": {
    "slideshow": {
     "slide_type": "slide"
    }
   },
   "outputs": [],
   "source": [
    "# compute a reasonable treatment effect"
   ]
  }
 ],
 "metadata": {
  "kernelspec": {
   "display_name": "Python 3",
   "language": "python",
   "name": "python3"
  },
  "language_info": {
   "codemirror_mode": {
    "name": "ipython",
    "version": 3
   },
   "file_extension": ".py",
   "mimetype": "text/x-python",
   "name": "python",
   "nbconvert_exporter": "python",
   "pygments_lexer": "ipython3",
   "version": "3.7.2"
  },
  "latex_envs": {
   "LaTeX_envs_menu_present": true,
   "autoclose": false,
   "autocomplete": true,
   "bibliofile": "literature.bib",
   "cite_by": "apalike",
   "current_citInitial": 1,
   "eqLabelWithNumbers": true,
   "eqNumInitial": 1,
   "hotkeys": {
    "equation": "Ctrl-E",
    "itemize": "Ctrl-I"
   },
   "labels_anchors": false,
   "latex_user_defs": false,
   "report_style_numbering": false,
   "user_envs_cfg": false
  },
  "toc-autonumbering": false
 },
 "nbformat": 4,
 "nbformat_minor": 2
}
