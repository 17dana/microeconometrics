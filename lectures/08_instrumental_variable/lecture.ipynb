{
 "cells": [
  {
   "cell_type": "code",
   "execution_count": 17,
   "metadata": {},
   "outputs": [],
   "source": [
    "%matplotlib inline\n",
    "\n",
    "import statsmodels.formula.api as smf\n",
    "import pandas as pd\n",
    "import numpy as np\n",
    "\n",
    "from auxiliary import *\n",
    "\n",
    "np.random.seed(123)"
   ]
  },
  {
   "cell_type": "markdown",
   "metadata": {},
   "source": [
    "# Instrumental variable estimators of causal effects\n",
    "\n",
    "**Overview**\n",
    "\n",
    "* Causal effect estimation with a binary IV\n",
    "\n",
    "* Traditional IV estimators\n",
    "\n",
    "* Instrumental variable estimators in the presence of individual-level heterogeneity\n",
    "\n",
    "* Conclusions"
   ]
  },
  {
   "cell_type": "code",
   "execution_count": 25,
   "metadata": {},
   "outputs": [],
   "source": [
    "def get_sample_iv_demonstration():\n",
    "    \n",
    "    num_agents = 10000\n",
    "    columns = ['Y', 'D', 'Z']\n",
    "    index = pd.Index(range(10000), name='Identifier')\n",
    "    df = pd.DataFrame(columns=columns, index=index)\n",
    "\n",
    "    for i in range(10000):\n",
    "        if i < 8000:\n",
    "            y, d, z = np.random.normal(50), 0, 0\n",
    "        elif i < 9000:\n",
    "            y, d, z = np.random.normal(60), 1, 0\n",
    "        elif i < 9800:\n",
    "            y, d, z = np.random.normal(50), 0, 1\n",
    "        else:\n",
    "            y, d, z = np.random.normal(58), 1, 1\n",
    "        \n",
    "        df.loc[i, :] = [y, d, z]\n",
    "    # TODO: shuffle\n",
    "    df = df.sample(frac=1).reset_index(drop=True)\n",
    "    \n",
    "    df = df.astype(np.float)\n",
    "    df = df.astype({'D': np.int, 'Z': np.int})\n",
    "\n",
    "    \n",
    "    return df\n",
    "\n",
    "df = get_sample_iv_demonstration()    "
   ]
  },
  {
   "cell_type": "code",
   "execution_count": 26,
   "metadata": {},
   "outputs": [
    {
     "data": {
      "text/plain": [
       "D  Z\n",
       "0  0    50.005587\n",
       "   1    49.929482\n",
       "1  0    59.961788\n",
       "   1    57.995732\n",
       "Name: Y, dtype: float64"
      ]
     },
     "execution_count": 26,
     "metadata": {},
     "output_type": "execute_result"
    }
   ],
   "source": [
    "df.groupby(['D', 'Z'])['Y'].mean()"
   ]
  },
  {
   "cell_type": "code",
   "execution_count": 23,
   "metadata": {},
   "outputs": [
    {
     "data": {
      "text/html": [
       "<table class=\"simpletable\">\n",
       "<caption>OLS Regression Results</caption>\n",
       "<tr>\n",
       "  <th>Dep. Variable:</th>            <td>Y</td>        <th>  R-squared:         </th> <td>   0.901</td> \n",
       "</tr>\n",
       "<tr>\n",
       "  <th>Model:</th>                   <td>OLS</td>       <th>  Adj. R-squared:    </th> <td>   0.901</td> \n",
       "</tr>\n",
       "<tr>\n",
       "  <th>Method:</th>             <td>Least Squares</td>  <th>  F-statistic:       </th> <td>9.051e+04</td>\n",
       "</tr>\n",
       "<tr>\n",
       "  <th>Date:</th>             <td>Fri, 03 May 2019</td> <th>  Prob (F-statistic):</th>  <td>  0.00</td>  \n",
       "</tr>\n",
       "<tr>\n",
       "  <th>Time:</th>                 <td>16:18:23</td>     <th>  Log-Likelihood:    </th> <td> -14613.</td> \n",
       "</tr>\n",
       "<tr>\n",
       "  <th>No. Observations:</th>      <td> 10000</td>      <th>  AIC:               </th> <td>2.923e+04</td>\n",
       "</tr>\n",
       "<tr>\n",
       "  <th>Df Residuals:</th>          <td>  9998</td>      <th>  BIC:               </th> <td>2.924e+04</td>\n",
       "</tr>\n",
       "<tr>\n",
       "  <th>Df Model:</th>              <td>     1</td>      <th>                     </th>     <td> </td>    \n",
       "</tr>\n",
       "<tr>\n",
       "  <th>Covariance Type:</th>      <td>nonrobust</td>    <th>                     </th>     <td> </td>    \n",
       "</tr>\n",
       "</table>\n",
       "<table class=\"simpletable\">\n",
       "<tr>\n",
       "      <td></td>         <th>coef</th>     <th>std err</th>      <th>t</th>      <th>P>|t|</th>  <th>[0.025</th>    <th>0.975]</th>  \n",
       "</tr>\n",
       "<tr>\n",
       "  <th>Intercept</th> <td>   49.9983</td> <td>    0.011</td> <td> 4495.353</td> <td> 0.000</td> <td>   49.977</td> <td>   50.020</td>\n",
       "</tr>\n",
       "<tr>\n",
       "  <th>D</th>         <td>    9.6591</td> <td>    0.032</td> <td>  300.841</td> <td> 0.000</td> <td>    9.596</td> <td>    9.722</td>\n",
       "</tr>\n",
       "</table>\n",
       "<table class=\"simpletable\">\n",
       "<tr>\n",
       "  <th>Omnibus:</th>       <td>20.736</td> <th>  Durbin-Watson:     </th> <td>   1.986</td>\n",
       "</tr>\n",
       "<tr>\n",
       "  <th>Prob(Omnibus):</th> <td> 0.000</td> <th>  Jarque-Bera (JB):  </th> <td>  22.007</td>\n",
       "</tr>\n",
       "<tr>\n",
       "  <th>Skew:</th>          <td>-0.083</td> <th>  Prob(JB):          </th> <td>1.66e-05</td>\n",
       "</tr>\n",
       "<tr>\n",
       "  <th>Kurtosis:</th>      <td> 3.160</td> <th>  Cond. No.          </th> <td>    3.13</td>\n",
       "</tr>\n",
       "</table><br/><br/>Warnings:<br/>[1] Standard Errors assume that the covariance matrix of the errors is correctly specified."
      ],
      "text/plain": [
       "<class 'statsmodels.iolib.summary.Summary'>\n",
       "\"\"\"\n",
       "                            OLS Regression Results                            \n",
       "==============================================================================\n",
       "Dep. Variable:                      Y   R-squared:                       0.901\n",
       "Model:                            OLS   Adj. R-squared:                  0.901\n",
       "Method:                 Least Squares   F-statistic:                 9.051e+04\n",
       "Date:                Fri, 03 May 2019   Prob (F-statistic):               0.00\n",
       "Time:                        16:18:23   Log-Likelihood:                -14613.\n",
       "No. Observations:               10000   AIC:                         2.923e+04\n",
       "Df Residuals:                    9998   BIC:                         2.924e+04\n",
       "Df Model:                           1                                         \n",
       "Covariance Type:            nonrobust                                         \n",
       "==============================================================================\n",
       "                 coef    std err          t      P>|t|      [0.025      0.975]\n",
       "------------------------------------------------------------------------------\n",
       "Intercept     49.9983      0.011   4495.353      0.000      49.977      50.020\n",
       "D              9.6591      0.032    300.841      0.000       9.596       9.722\n",
       "==============================================================================\n",
       "Omnibus:                       20.736   Durbin-Watson:                   1.986\n",
       "Prob(Omnibus):                  0.000   Jarque-Bera (JB):               22.007\n",
       "Skew:                          -0.083   Prob(JB):                     1.66e-05\n",
       "Kurtosis:                       3.160   Cond. No.                         3.13\n",
       "==============================================================================\n",
       "\n",
       "Warnings:\n",
       "[1] Standard Errors assume that the covariance matrix of the errors is correctly specified.\n",
       "\"\"\""
      ]
     },
     "execution_count": 23,
     "metadata": {},
     "output_type": "execute_result"
    }
   ],
   "source": [
    "rslt = smf.ols(formula='Y ~ D', data=df).fit()\n",
    "rslt.summary()"
   ]
  },
  {
   "cell_type": "code",
   "execution_count": 57,
   "metadata": {},
   "outputs": [
    {
     "data": {
      "text/plain": [
       "4.847632666866422"
      ]
     },
     "execution_count": 57,
     "metadata": {},
     "output_type": "execute_result"
    }
   ],
   "source": [
    "def get_wald_estimate(df):\n",
    "    \n",
    "    average_outcome = df.groupby('Z')['Y'].mean().to_dict()\n",
    "    numerator = average_outcome[1] - average_outcome[0]\n",
    "    \n",
    "    average_treatment = df.groupby('Z')['D'].mean().to_dict()\n",
    "    denominator = average_treatment[1] -  average_treatment[0]\n",
    "    \n",
    "    rslt = numerator / denominator\n",
    "    \n",
    "    return rslt\n",
    "    \n",
    "\n",
    "rslt = get_wald_estimate(df)\n",
    "np.cov(df['Y'], df['Z'])[0, 1] / np.cov(df['D'], df['Z'])[0, 1]\n"
   ]
  },
  {
   "cell_type": "code",
   "execution_count": null,
   "metadata": {},
   "outputs": [],
   "source": []
  }
 ],
 "metadata": {
  "kernelspec": {
   "display_name": "Python 3",
   "language": "python",
   "name": "python3"
  },
  "language_info": {
   "codemirror_mode": {
    "name": "ipython",
    "version": 3
   },
   "file_extension": ".py",
   "mimetype": "text/x-python",
   "name": "python",
   "nbconvert_exporter": "python",
   "pygments_lexer": "ipython3",
   "version": "3.7.1"
  }
 },
 "nbformat": 4,
 "nbformat_minor": 2
}
