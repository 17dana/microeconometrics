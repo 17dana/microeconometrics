{
 "cells": [
  {
   "cell_type": "code",
   "execution_count": 1,
   "metadata": {
    "pycharm": {},
    "slideshow": {
     "slide_type": "skip"
    }
   },
   "outputs": [],
   "source": [
    "%matplotlib inline\n",
    "\n",
    "import statsmodels.formula.api as smf\n",
    "import pandas as pd\n",
    "import numpy as np\n",
    "\n",
    "from auxiliary import *\n",
    "\n",
    "np.random.seed(123)"
   ]
  },
  {
   "cell_type": "markdown",
   "metadata": {
    "pycharm": {},
    "slideshow": {
     "slide_type": "slide"
    }
   },
   "source": [
    "# Instrumental variable estimators of causal effects\n",
    "\n",
    "**Overview**\n",
    "\n",
    "* Causal effect estimation with a binary IV\n",
    "\n",
    "* Traditional IV estimators\n",
    "\n",
    "* Instrumental variable estimators in the presence of individual-level heterogeneity\n",
    "\n",
    "* Conclusions"
   ]
  },
  {
   "cell_type": "markdown",
   "metadata": {
    "pycharm": {},
    "slideshow": {
     "slide_type": "slide"
    }
   },
   "source": [
    "## Causal effect estimation with a binary IV\n",
    "\n",
    "\\begin{align*}\n",
    "Y = \\alpha + \\delta D +\\epsilon,\n",
    "\\end{align*}\n",
    "\n",
    "where $\\delta$ is the true causal effect that (for now) is assumed to be constant. "
   ]
  },
  {
   "cell_type": "markdown",
   "metadata": {
    "pycharm": {},
    "slideshow": {
     "slide_type": "slide"
    }
   },
   "source": [
    "<img src=\"material/figure-9-1.png\" height=500 width=500 />"
   ]
  },
  {
   "cell_type": "markdown",
   "metadata": {
    "pycharm": {},
    "slideshow": {
     "slide_type": "slide"
    }
   },
   "source": [
    "\\begin{align*}\n",
    "E[Y] = E[\\alpha + \\delta D + \\epsilon] = \\alpha + \\delta E[D] + E[\\epsilon]\n",
    "\\end{align*}\n",
    "\n",
    "We can rewrite this as a difference equation in $Z$:\n",
    "\n",
    "\\begin{align*}\n",
    "E[Y \\mid Z = 1] - E[Y \\mid Z = 0] = \\delta (E[D \\mid Z = 1] - E[D \\mid Z = 0]) + (E[\\epsilon \\mid Z = 1] - E[\\epsilon \\mid Z = 0]) \n",
    "\\end{align*}"
   ]
  },
  {
   "cell_type": "markdown",
   "metadata": {
    "pycharm": {},
    "slideshow": {
     "slide_type": "slide"
    }
   },
   "source": [
    "Then we divide both sides by $E[D \\mid Z = 1] - E[D \\mid Z = 0]$.\n",
    "\n",
    "\\begin{align*}\n",
    "\\frac{E[Y \\mid Z = 1] - E[Y \\mid Z = 0]}{E[D \\mid Z = 1] - E[D \\mid Z = 0]} =  \\frac{\\delta (E[D \\mid Z = 1] - E[D \\mid Z = 0]) + (E[\\epsilon \\mid Z = 1] - E[\\epsilon \\mid Z = 0])}{E[D \\mid Z = 1] - E[D \\mid Z = 0]}\n",
    "\\end{align*}"
   ]
  },
  {
   "cell_type": "markdown",
   "metadata": {
    "pycharm": {},
    "slideshow": {
     "slide_type": "slide"
    }
   },
   "source": [
    "If Figure 9.1 (a) is an accurate description of the causal structure, then $E[\\epsilon \\mid Z = 1] = E[\\epsilon \\mid Z = 0] = 0$.\n",
    "\n",
    "\\begin{align*}\n",
    "\\frac{E[Y \\mid Z = 1] - E[Y \\mid Z = 0]}{E[D \\mid Z = 1] - E[D \\mid Z = 0]}  = \\delta\n",
    "\\end{align*}\n",
    "\n",
    "\n",
    "\\begin{align*}\n",
    "\\hat{\\delta}_{IV, WALD} = \\frac{E[Y \\mid Z = 1] - E[Y \\mid Z = 0]}{E[D \\mid Z = 1] - E[D \\mid Z = 0]}\n",
    "\\end{align*}"
   ]
  },
  {
   "cell_type": "markdown",
   "metadata": {
    "pycharm": {},
    "slideshow": {
     "slide_type": "slide"
    }
   },
   "source": [
    "## Demonstration dataset\n",
    "\n",
    "<img src=\"material/table-9-1.png\" height=500 width=500 />"
   ]
  },
  {
   "cell_type": "code",
   "execution_count": 3,
   "metadata": {
    "pycharm": {},
    "slideshow": {
     "slide_type": "slide"
    }
   },
   "outputs": [],
   "source": [
    "def get_sample_iv_demonstration():\n",
    "    \"\"\"Simulates sample.\n",
    "    \n",
    "    Simulates a sample of 10,000 individuals for the IV demonstration\n",
    "    based on the information provided in our textbook.\n",
    "    \n",
    "    Notes:\n",
    "        \n",
    "        The school administration distributed 1,000 vouchers for\n",
    "        private school attendance in order to shift students\n",
    "        from public into private school. The goals is to increase\n",
    "        educational achievement.\n",
    "        \n",
    "    Args:\n",
    "        None\n",
    "        \n",
    "    Returns:\n",
    "        A pandas Dataframe with the observable characteristics (Y, D, Z)\n",
    "        for all individuals.\n",
    "        \n",
    "        Y: standardized test for 9th graders\n",
    "        D: private school attendance\n",
    "        Z: voucher available\n",
    "    \n",
    "    \"\"\"\n",
    "    # We first initialize an empty Dataframe with 10,000 rowns and three\n",
    "    # columns.\n",
    "    columns = ['Y', 'D', 'Z']\n",
    "    index = pd.Index(range(10000), name='Identifier')\n",
    "    df = pd.DataFrame(columns=columns, index=index)\n",
    "\n",
    "    # We sample the exact number of individuals following the description\n",
    "    # in Table 9.2.\n",
    "    for i in range(10000):\n",
    "        if i < 8000:\n",
    "            y, d, z = np.random.normal(50), 0, 0\n",
    "        elif i < 9000:\n",
    "            y, d, z = np.random.normal(60), 1, 0\n",
    "        elif i < 9800:\n",
    "            y, d, z = np.random.normal(50), 0, 1\n",
    "        else:\n",
    "            y, d, z = np.random.normal(58), 1, 1\n",
    "        \n",
    "        df.loc[i, :] = [y, d, z]\n",
    "    \n",
    "    # We shuffle all rows so we do not have the different subsamples\n",
    "    # grouped together.\n",
    "    df = df.sample(frac=1).reset_index(drop=True)\n",
    "    \n",
    "    # We set the types of our columns for prettier formatting later.\n",
    "    df = df.astype(np.float)\n",
    "    df = df.astype({'D': np.int, 'Z': np.int})\n",
    "    \n",
    "    return df"
   ]
  },
  {
   "cell_type": "markdown",
   "metadata": {
    "pycharm": {},
    "slideshow": {
     "slide_type": "slide"
    }
   },
   "source": [
    "Let's have a look at the structure of the data."
   ]
  },
  {
   "cell_type": "code",
   "execution_count": 4,
   "metadata": {
    "pycharm": {},
    "slideshow": {
     "slide_type": "-"
    }
   },
   "outputs": [
    {
     "data": {
      "text/html": [
       "<div>\n",
       "<style scoped>\n",
       "    .dataframe tbody tr th:only-of-type {\n",
       "        vertical-align: middle;\n",
       "    }\n",
       "\n",
       "    .dataframe tbody tr th {\n",
       "        vertical-align: top;\n",
       "    }\n",
       "\n",
       "    .dataframe thead th {\n",
       "        text-align: right;\n",
       "    }\n",
       "</style>\n",
       "<table border=\"1\" class=\"dataframe\">\n",
       "  <thead>\n",
       "    <tr style=\"text-align: right;\">\n",
       "      <th></th>\n",
       "      <th>Y</th>\n",
       "      <th>D</th>\n",
       "      <th>Z</th>\n",
       "    </tr>\n",
       "  </thead>\n",
       "  <tbody>\n",
       "    <tr>\n",
       "      <th>0</th>\n",
       "      <td>48.606920</td>\n",
       "      <td>0</td>\n",
       "      <td>0</td>\n",
       "    </tr>\n",
       "    <tr>\n",
       "      <th>1</th>\n",
       "      <td>50.240003</td>\n",
       "      <td>0</td>\n",
       "      <td>0</td>\n",
       "    </tr>\n",
       "    <tr>\n",
       "      <th>2</th>\n",
       "      <td>49.377337</td>\n",
       "      <td>0</td>\n",
       "      <td>0</td>\n",
       "    </tr>\n",
       "    <tr>\n",
       "      <th>3</th>\n",
       "      <td>60.885880</td>\n",
       "      <td>1</td>\n",
       "      <td>0</td>\n",
       "    </tr>\n",
       "    <tr>\n",
       "      <th>4</th>\n",
       "      <td>50.160785</td>\n",
       "      <td>0</td>\n",
       "      <td>0</td>\n",
       "    </tr>\n",
       "  </tbody>\n",
       "</table>\n",
       "</div>"
      ],
      "text/plain": [
       "           Y  D  Z\n",
       "0  48.606920  0  0\n",
       "1  50.240003  0  0\n",
       "2  49.377337  0  0\n",
       "3  60.885880  1  0\n",
       "4  50.160785  0  0"
      ]
     },
     "execution_count": 4,
     "metadata": {},
     "output_type": "execute_result"
    }
   ],
   "source": [
    "df = get_sample_iv_demonstration()    \n",
    "df.head()"
   ]
  },
  {
   "cell_type": "markdown",
   "metadata": {
    "pycharm": {},
    "slideshow": {
     "slide_type": "slide"
    }
   },
   "source": [
    "How about the conditional distribution of observed outcomes?"
   ]
  },
  {
   "cell_type": "code",
   "execution_count": 4,
   "metadata": {
    "pycharm": {},
    "slideshow": {
     "slide_type": "-"
    }
   },
   "outputs": [
    {
     "data": {
      "text/plain": [
       "D  Z\n",
       "0  0    50.009760\n",
       "   1    49.962199\n",
       "1  0    60.034692\n",
       "   1    58.072959\n",
       "Name: Y, dtype: float64"
      ]
     },
     "execution_count": 4,
     "metadata": {},
     "output_type": "execute_result"
    }
   ],
   "source": [
    "df.groupby(['D', 'Z'])['Y'].mean()"
   ]
  },
  {
   "cell_type": "markdown",
   "metadata": {
    "pycharm": {},
    "slideshow": {
     "slide_type": "slide"
    }
   },
   "source": [
    "We can always run an OLS regression first to get a rough sense of the data."
   ]
  },
  {
   "cell_type": "code",
   "execution_count": 5,
   "metadata": {
    "pycharm": {},
    "slideshow": {
     "slide_type": "-"
    }
   },
   "outputs": [
    {
     "data": {
      "text/html": [
       "<table class=\"simpletable\">\n",
       "<caption>OLS Regression Results</caption>\n",
       "<tr>\n",
       "  <th>Dep. Variable:</th>            <td>Y</td>        <th>  R-squared:         </th> <td>   0.904</td> \n",
       "</tr>\n",
       "<tr>\n",
       "  <th>Model:</th>                   <td>OLS</td>       <th>  Adj. R-squared:    </th> <td>   0.904</td> \n",
       "</tr>\n",
       "<tr>\n",
       "  <th>Method:</th>             <td>Least Squares</td>  <th>  F-statistic:       </th> <td>9.374e+04</td>\n",
       "</tr>\n",
       "<tr>\n",
       "  <th>Date:</th>             <td>Wed, 08 May 2019</td> <th>  Prob (F-statistic):</th>  <td>  0.00</td>  \n",
       "</tr>\n",
       "<tr>\n",
       "  <th>Time:</th>                 <td>08:37:10</td>     <th>  Log-Likelihood:    </th> <td> -14482.</td> \n",
       "</tr>\n",
       "<tr>\n",
       "  <th>No. Observations:</th>      <td> 10000</td>      <th>  AIC:               </th> <td>2.897e+04</td>\n",
       "</tr>\n",
       "<tr>\n",
       "  <th>Df Residuals:</th>          <td>  9998</td>      <th>  BIC:               </th> <td>2.898e+04</td>\n",
       "</tr>\n",
       "<tr>\n",
       "  <th>Df Model:</th>              <td>     1</td>      <th>                     </th>     <td> </td>    \n",
       "</tr>\n",
       "<tr>\n",
       "  <th>Covariance Type:</th>      <td>nonrobust</td>    <th>                     </th>     <td> </td>    \n",
       "</tr>\n",
       "</table>\n",
       "<table class=\"simpletable\">\n",
       "<tr>\n",
       "      <td></td>         <th>coef</th>     <th>std err</th>      <th>t</th>      <th>P>|t|</th>  <th>[0.025</th>    <th>0.975]</th>  \n",
       "</tr>\n",
       "<tr>\n",
       "  <th>Intercept</th> <td>   50.0054</td> <td>    0.011</td> <td> 4555.317</td> <td> 0.000</td> <td>   49.984</td> <td>   50.027</td>\n",
       "</tr>\n",
       "<tr>\n",
       "  <th>D</th>         <td>    9.7023</td> <td>    0.032</td> <td>  306.173</td> <td> 0.000</td> <td>    9.640</td> <td>    9.764</td>\n",
       "</tr>\n",
       "</table>\n",
       "<table class=\"simpletable\">\n",
       "<tr>\n",
       "  <th>Omnibus:</th>       <td>12.957</td> <th>  Durbin-Watson:     </th> <td>   2.022</td>\n",
       "</tr>\n",
       "<tr>\n",
       "  <th>Prob(Omnibus):</th> <td> 0.002</td> <th>  Jarque-Bera (JB):  </th> <td>  13.196</td>\n",
       "</tr>\n",
       "<tr>\n",
       "  <th>Skew:</th>          <td>-0.074</td> <th>  Prob(JB):          </th> <td> 0.00136</td>\n",
       "</tr>\n",
       "<tr>\n",
       "  <th>Kurtosis:</th>      <td> 3.100</td> <th>  Cond. No.          </th> <td>    3.13</td>\n",
       "</tr>\n",
       "</table><br/><br/>Warnings:<br/>[1] Standard Errors assume that the covariance matrix of the errors is correctly specified."
      ],
      "text/plain": [
       "<class 'statsmodels.iolib.summary.Summary'>\n",
       "\"\"\"\n",
       "                            OLS Regression Results                            \n",
       "==============================================================================\n",
       "Dep. Variable:                      Y   R-squared:                       0.904\n",
       "Model:                            OLS   Adj. R-squared:                  0.904\n",
       "Method:                 Least Squares   F-statistic:                 9.374e+04\n",
       "Date:                Wed, 08 May 2019   Prob (F-statistic):               0.00\n",
       "Time:                        08:37:10   Log-Likelihood:                -14482.\n",
       "No. Observations:               10000   AIC:                         2.897e+04\n",
       "Df Residuals:                    9998   BIC:                         2.898e+04\n",
       "Df Model:                           1                                         \n",
       "Covariance Type:            nonrobust                                         \n",
       "==============================================================================\n",
       "                 coef    std err          t      P>|t|      [0.025      0.975]\n",
       "------------------------------------------------------------------------------\n",
       "Intercept     50.0054      0.011   4555.317      0.000      49.984      50.027\n",
       "D              9.7023      0.032    306.173      0.000       9.640       9.764\n",
       "==============================================================================\n",
       "Omnibus:                       12.957   Durbin-Watson:                   2.022\n",
       "Prob(Omnibus):                  0.002   Jarque-Bera (JB):               13.196\n",
       "Skew:                          -0.074   Prob(JB):                      0.00136\n",
       "Kurtosis:                       3.100   Cond. No.                         3.13\n",
       "==============================================================================\n",
       "\n",
       "Warnings:\n",
       "[1] Standard Errors assume that the covariance matrix of the errors is correctly specified.\n",
       "\"\"\""
      ]
     },
     "execution_count": 5,
     "metadata": {},
     "output_type": "execute_result"
    }
   ],
   "source": [
    "rslt = smf.ols(formula='Y ~ D', data=df).fit()\n",
    "rslt.summary()"
   ]
  },
  {
   "cell_type": "markdown",
   "metadata": {
    "pycharm": {},
    "slideshow": {
     "slide_type": "slide"
    }
   },
   "source": [
    "However, to exploiting the structure of the dataset, we rather want to compute the IV estimate."
   ]
  },
  {
   "cell_type": "code",
   "execution_count": 7,
   "metadata": {
    "pycharm": {},
    "slideshow": {
     "slide_type": "-"
    }
   },
   "outputs": [],
   "source": [
    "def get_wald_estimate(df):\n",
    "    \"\"\"Calculate Wald estimate.\n",
    "    \n",
    "    Calculates the Wald estimate for the causal effect of treatment\n",
    "    on an observed outcome using a binary instrument.\n",
    "    \n",
    "    Args:\n",
    "        df: A pandas DataFrame\n",
    "        \n",
    "    Returns:\n",
    "        A float with the estimated causal effect.\n",
    "    \n",
    "    \"\"\"\n",
    "    # We compute the average difference in observed outcomes.\n",
    "    average_outcome = df.groupby('Z')['Y'].mean().to_dict()\n",
    "    numerator = average_outcome[1] - average_outcome[0]\n",
    "    \n",
    "    # We compute the average difference in treatment uptake.\n",
    "    average_treatment = df.groupby('Z')['D'].mean().to_dict()\n",
    "    denominator = average_treatment[1] -  average_treatment[0]\n",
    "    \n",
    "    rslt = numerator / denominator\n",
    "    \n",
    "    return rslt"
   ]
  },
  {
   "cell_type": "markdown",
   "metadata": {
    "pycharm": {},
    "slideshow": {
     "slide_type": "slide"
    }
   },
   "source": [
    "So, let's see."
   ]
  },
  {
   "cell_type": "code",
   "execution_count": 8,
   "metadata": {
    "pycharm": {},
    "slideshow": {
     "slide_type": "-"
    }
   },
   "outputs": [
    {
     "name": "stdout",
     "output_type": "stream",
     "text": [
      " Wald estimate: 5.183\n"
     ]
    }
   ],
   "source": [
    "rslt = get_wald_estimate(df)\n",
    "print(' Wald estimate: {:5.3f}'.format(rslt))"
   ]
  },
  {
   "cell_type": "markdown",
   "metadata": {
    "pycharm": {},
    "slideshow": {
     "slide_type": "slide"
    }
   },
   "source": [
    "## Traditional IV estimators\n",
    "\n",
    "* moving beyond a binary instrument\n",
    "\n",
    "\n",
    "\\begin{align*}\n",
    "\\hat{\\delta}_{IV} \\equiv \\frac{Cov_N(y_i, z_i)}{Cov_N(d_i, z_i)}\n",
    "\\end{align*}\n",
    "\n",
    "Moving towards the population-level relationships:\n",
    "\n",
    "\\begin{align*}\n",
    "\\frac{Cov(Y, Z)}{Cov(D, Z)} & = \\frac{\\delta Cov(D, Z) + Cov[\\epsilon, Z]}{Cov(D, Z)} \\\\\n",
    "                            & = \\delta\n",
    "\\end{align*}\n",
    "\n",
    "\n",
    "So, this suggests that:\n",
    "\n",
    "\\begin{align*}\n",
    "\\frac{Cov(Y, Z)}{Cov(D, Z)}  \\xrightarrow{p} \\delta\n",
    "\\end{align*}"
   ]
  },
  {
   "cell_type": "markdown",
   "metadata": {
    "pycharm": {},
    "slideshow": {
     "slide_type": "slide"
    }
   },
   "source": [
    "<img src=\"material/figure-9-2.png\" height=500 width=500 />"
   ]
  },
  {
   "cell_type": "markdown",
   "metadata": {
    "pycharm": {},
    "slideshow": {
     "slide_type": "slide"
    }
   },
   "source": [
    "## Instrumental variable estimators in the presence of individual-level heterogeneity\n",
    "\n",
    "\\begin{align*}\n",
    "Y & = Y^0 + D (Y^1 - Y^0)\n",
    "  & = Y^0 + \\delta D\n",
    "  & = \\mu^0 + \\delta D + \\nu^0,\n",
    "\\end{align*}\n",
    "\n",
    "where $\\mu^0 \\equiv E[Y^0]$ and $\\nu^0 \\equiv Y^0 - E[Y^0]$. Here, $\\delta$ now has a clear interpretation."
   ]
  },
  {
   "cell_type": "markdown",
   "metadata": {
    "pycharm": {},
    "slideshow": {
     "slide_type": "slide"
    }
   },
   "source": [
    "We need to add a four-category latent variable $C$:\n",
    "\n",
    "\\begin{align*}\n",
    "\\text{Compliers (C = c)} & : D^{Z = 0} = 0 \\,\\text{and}\\, D^{Z = 1} = 1  \\\\\n",
    "\\text{Defiers (C = d)} & : D^{Z = 0} = 1 \\,\\text{and}\\, D^{Z = 1} = 0  \\\\\n",
    "\\text{Always takers (C = a)} & : D^{Z = 0} = 1 \\,\\text{and}\\, D^{Z = 1} = 1  \\\\\n",
    "\\text{Never takers (C = n)} & : D^{Z = 0} = 0 \\,\\text{and}\\, D^{Z = 1} = 0  \\\\\n",
    "\\end{align*}"
   ]
  },
  {
   "cell_type": "markdown",
   "metadata": {
    "pycharm": {},
    "slideshow": {
     "slide_type": "slide"
    }
   },
   "source": [
    "Analogously to the definition of the observed outcome, $Y$, the observed treatment indicator variable $D$ can then be defined as\n",
    "\n",
    "\\begin{align*}\n",
    "D & =  D^{Z = 0} + (D^{Z = 1} - D^{Z = 0}) Z \\\\\n",
    "  & =  D^{Z = 0} + \\kappa Z \n",
    "\\end{align*}\n",
    "\n",
    "What is the value of $\\kappa$ for the different latent groups?"
   ]
  },
  {
   "cell_type": "markdown",
   "metadata": {
    "pycharm": {},
    "slideshow": {
     "slide_type": "slide"
    }
   },
   "source": [
    "**Identifying assumptions for the Local Average Treatment Effect**\n",
    "\n",
    "* Independence, $(Y^1, Y^0, D^{Z = 1}, D^{Z = 0}) \\perp \\!\\!\\! \\perp Z$\n",
    "\n",
    "* Nonzero effect of instrument, $\\kappa \\neq 0$ for all $i$\n",
    "\n",
    "* Monotonicty assumption, either $\\kappa > 0$ for all $i$ or $\\kappa < 0$ for all $i$\n",
    "\n",
    "If these assumptions are valid, then an instrument $Z$ identifies the $LATE$: the average treatment effect for the subset of the population whose treatment selection is induced by the treatment.\n",
    "\n",
    "\\begin{align*}\n",
    "\\hat{\\delta}_{IV,WALD} \\xrightarrow{p} E [\\delta \\mid C = c]\n",
    "\\end{align*}\n"
   ]
  },
  {
   "cell_type": "markdown",
   "metadata": {
    "pycharm": {},
    "slideshow": {
     "slide_type": "slide"
    }
   },
   "source": [
    "<img src=\"material/table-9-2.png\" height=500 width=500 />"
   ]
  },
  {
   "cell_type": "markdown",
   "metadata": {
    "pycharm": {},
    "slideshow": {
     "slide_type": "slide"
    }
   },
   "source": [
    "What can we learn about the different latent groups?\n",
    "\n",
    "* Monotonicity, there are no defiers\n",
    "\n",
    "* Independence, the same distribution of never takes, always takers, and compliers is present among voucher groups\n",
    "\n",
    "\n",
    "\\begin{align*}\n",
    "\\frac{Pr_N [d_i = 1, z_i = 0]}{Pr_N[z_i = 0]} \\xrightarrow{p} Pr[C = a] \\\\\n",
    "\\frac{Pr_N [d_i = 0, z_i = 1]}{Pr_N[z_i = 1]} \\xrightarrow{p} Pr[C = n] \\\\\n",
    "\\end{align*}\n",
    "\n",
    "We also know $Pr[C = d] = 0$ and thus\n",
    "\n",
    "\\begin{align*}\n",
    "1 - \\frac{Pr_N [d_i = 1, z_i = 0]}{Pr_N[z_i = 0]} - \\frac{Pr_N [d_i = 0, z_i = 1]}{Pr_N[z_i = 1]}\\xrightarrow{p} Pr[C = c] \\\\\n",
    "\\end{align*}\n"
   ]
  },
  {
   "cell_type": "markdown",
   "metadata": {
    "pycharm": {},
    "slideshow": {
     "slide_type": "slide"
    }
   },
   "source": [
    "<img src=\"material/table-9-3.png\" height=500 width=500 />"
   ]
  },
  {
   "cell_type": "markdown",
   "metadata": {
    "pycharm": {},
    "slideshow": {
     "slide_type": "slide"
    }
   },
   "source": [
    "How can we learn about the LATE from the information analyzed so far?\n",
    "\n",
    "\\begin{align*}\n",
    "E[\\delta \\mid C = c] = E [Y^1 - Y^0 \\mid C = c]\n",
    "\\end{align*}\n",
    "\n",
    "Let's start with the following:\n",
    "\n",
    "\\begin{align*}\n",
    "E[Y \\mid D = 1, Z = 1] & = \\frac{Pr[C = c]}{Pr[C = c] + Pr [C=a]} E[Y^1 \\mid C = c] \\\\ \n",
    "                     & + \\frac{Pr[C = a]}{Pr[C = c] + Pr [C=a]} E[Y^1 \\mid C = a] \\\\\n",
    "                        & \\\\\n",
    "E[Y \\mid D = 0, Z = 0] & = \\frac{Pr[C = c]}{Pr[C = c] + Pr [C=n]} E[Y^0 \\mid C = c] \\\\\n",
    "                     & + \\frac{Pr[C = n]}{Pr[C = c] + Pr [C=n]} E[Y^0 \\mid C = n]\n",
    "\\end{align*}"
   ]
  },
  {
   "cell_type": "markdown",
   "metadata": {
    "pycharm": {},
    "slideshow": {
     "slide_type": "slide"
    }
   },
   "source": [
    "Now lets tie this back to the Wald estimator:\n",
    "\n",
    "\\begin{align*}\n",
    "\\hat{\\delta}_{IV, WALD} = \\frac{E[Y \\mid Z = 1] - E[Y \\mid Z = 0]}{E[D \\mid Z = 1] - E[D \\mid Z = 0]}\n",
    "\\end{align*}\n"
   ]
  },
  {
   "cell_type": "code",
   "execution_count": 8,
   "metadata": {
    "pycharm": {},
    "slideshow": {
     "slide_type": "slide"
    }
   },
   "outputs": [
    {
     "data": {
      "image/png": "[encoded data removed]",
      "text/plain": [
       "<Figure size 432x288 with 2 Axes>"
      ]
     },
     "metadata": {},
     "output_type": "display_data"
    }
   ],
   "source": [
    "get_shares_latent_groups()"
   ]
  },
  {
   "cell_type": "code",
   "execution_count": 9,
   "metadata": {
    "pycharm": {},
    "slideshow": {
     "slide_type": "slide"
    }
   },
   "outputs": [
    {
     "data": {
      "image/png": "[encoded data removed]",
      "text/plain": [
       "<Figure size 432x288 with 2 Axes>"
      ]
     },
     "metadata": {
      "needs_background": "light"
     },
     "output_type": "display_data"
    }
   ],
   "source": [
    "get_outcome_latent_groups()"
   ]
  },
  {
   "cell_type": "markdown",
   "metadata": {
    "pycharm": {},
    "slideshow": {
     "slide_type": "slide"
    }
   },
   "source": [
    "## Criticism\n",
    "\n",
    "* instrument-dependent parameter\n",
    "\n",
    "* limited policy-relevance"
   ]
  }
 ],
 "metadata": {
  "kernelspec": {
   "display_name": "Python 3",
   "language": "python",
   "name": "python3"
  },
  "language_info": {
   "codemirror_mode": {
    "name": "ipython",
    "version": 3
   },
   "file_extension": ".py",
   "mimetype": "text/x-python",
   "name": "python",
   "nbconvert_exporter": "python",
   "pygments_lexer": "ipython3",
   "version": "3.7.3"
  }
 },
 "nbformat": 4,
 "nbformat_minor": 2
}
