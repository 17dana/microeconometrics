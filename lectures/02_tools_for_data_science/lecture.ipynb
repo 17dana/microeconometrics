{
 "cells": [
  {
   "cell_type": "markdown",
   "metadata": {},
   "source": [
    "# Tools for data science\n",
    "\n",
    "\n",
    "This notebooks is a modification of the introductory tutorial in **Prof. von Gaudecker**'s class on **Effective Programming Practices for Economists**. Thanks [@hmgaudecker](https://github.com/hmgaudecker) and []()"
   ]
  },
  {
   "cell_type": "markdown",
   "metadata": {},
   "source": [
    "## Notebook - Code and Markdown"
   ]
  },
  {
   "cell_type": "code",
   "execution_count": 226,
   "metadata": {
    "collapsed": false
   },
   "outputs": [
    {
     "name": "stdout",
     "output_type": "stream",
     "text": [
      "Life is like a box of chocolate\n"
     ]
    }
   ],
   "source": [
    "print(\"Life is like a box of chocolate\")"
   ]
  },
  {
   "cell_type": "code",
   "execution_count": 227,
   "metadata": {
    "collapsed": false
   },
   "outputs": [
    {
     "data": {
      "text/plain": [
       "2"
      ]
     },
     "execution_count": 227,
     "metadata": {},
     "output_type": "execute_result"
    }
   ],
   "source": [
    "1 + 1"
   ]
  },
  {
   "cell_type": "markdown",
   "metadata": {},
   "source": [
    "- This means we can easily execute only small parts of the code.\n",
    "- If one cell depends on code of another cell, we need to execute the other cell first and store the output (tempoarily or permanently). "
   ]
  },
  {
   "cell_type": "code",
   "execution_count": 228,
   "metadata": {
    "collapsed": true
   },
   "outputs": [],
   "source": [
    "a = 2\n",
    "b = 3"
   ]
  },
  {
   "cell_type": "code",
   "execution_count": 229,
   "metadata": {
    "collapsed": false
   },
   "outputs": [
    {
     "data": {
      "text/plain": [
       "5"
      ]
     },
     "execution_count": 229,
     "metadata": {},
     "output_type": "execute_result"
    }
   ],
   "source": [
    "a + b"
   ]
  },
  {
   "cell_type": "markdown",
   "metadata": {},
   "source": [
    "- We can very nicely describe our code using Markdown syntax. \n",
    "- In a new cell, select Markdown in the drop-down-menu above (or press \"Esc\" $\\rightarrow$ \"m\" $\\rightarrow$ \"Enter\").\n",
    "- Add text or latex code."
   ]
  },
  {
   "cell_type": "markdown",
   "metadata": {},
   "source": [
    "# Add a heading by putting # in front.\n",
    "\n",
    "- Make a list with putting - in front of each bullet point.\n",
    "\n",
    "\n",
    "1. Or number the points by placing a \"number.\" in front. \n",
    " 1. A sublist works as well\n",
    " 2. You see?\n",
    "\n",
    "Add Latex code $a^2 = b^2 + c^2$ by placing $ around the tex code.\n",
    "\n",
    "And much more https://www.dataquest.io/blog/jupyter-notebook-tips-tricks-shortcuts/\n",
    "\n",
    "(Within a code cell, comment on your code by putting a # before the comment)"
   ]
  },
  {
   "cell_type": "markdown",
   "metadata": {},
   "source": [
    "# Datatypes and Operators"
   ]
  },
  {
   "cell_type": "markdown",
   "metadata": {},
   "source": [
    "## Integer"
   ]
  },
  {
   "cell_type": "code",
   "execution_count": 5,
   "metadata": {
    "collapsed": false
   },
   "outputs": [],
   "source": [
    "a = 2\n",
    "b = 3"
   ]
  },
  {
   "cell_type": "code",
   "execution_count": 6,
   "metadata": {
    "collapsed": false
   },
   "outputs": [
    {
     "data": {
      "text/plain": [
       "2"
      ]
     },
     "execution_count": 6,
     "metadata": {},
     "output_type": "execute_result"
    }
   ],
   "source": [
    "a"
   ]
  },
  {
   "cell_type": "code",
   "execution_count": 7,
   "metadata": {
    "collapsed": false
   },
   "outputs": [
    {
     "data": {
      "text/plain": [
       "3"
      ]
     },
     "execution_count": 7,
     "metadata": {},
     "output_type": "execute_result"
    }
   ],
   "source": [
    "b"
   ]
  },
  {
   "cell_type": "code",
   "execution_count": 8,
   "metadata": {
    "collapsed": false
   },
   "outputs": [
    {
     "data": {
      "text/plain": [
       "(2, 3)"
      ]
     },
     "execution_count": 8,
     "metadata": {},
     "output_type": "execute_result"
    }
   ],
   "source": [
    "a, b"
   ]
  },
  {
   "cell_type": "code",
   "execution_count": 9,
   "metadata": {
    "collapsed": false
   },
   "outputs": [
    {
     "data": {
      "text/plain": [
       "(int, int)"
      ]
     },
     "execution_count": 9,
     "metadata": {},
     "output_type": "execute_result"
    }
   ],
   "source": [
    "type(a), type(b)"
   ]
  },
  {
   "cell_type": "code",
   "execution_count": 10,
   "metadata": {
    "collapsed": false
   },
   "outputs": [
    {
     "data": {
      "text/plain": [
       "9"
      ]
     },
     "execution_count": 10,
     "metadata": {},
     "output_type": "execute_result"
    }
   ],
   "source": [
    "(a + 1) * b"
   ]
  },
  {
   "cell_type": "markdown",
   "metadata": {},
   "source": [
    "### Float (decimal number)"
   ]
  },
  {
   "cell_type": "code",
   "execution_count": 11,
   "metadata": {
    "collapsed": true
   },
   "outputs": [],
   "source": [
    "c = 0.2"
   ]
  },
  {
   "cell_type": "code",
   "execution_count": 12,
   "metadata": {
    "collapsed": false
   },
   "outputs": [
    {
     "data": {
      "text/plain": [
       "0.2"
      ]
     },
     "execution_count": 12,
     "metadata": {},
     "output_type": "execute_result"
    }
   ],
   "source": [
    "c"
   ]
  },
  {
   "cell_type": "code",
   "execution_count": 13,
   "metadata": {
    "collapsed": false
   },
   "outputs": [
    {
     "data": {
      "text/plain": [
       "float"
      ]
     },
     "execution_count": 13,
     "metadata": {},
     "output_type": "execute_result"
    }
   ],
   "source": [
    "type(c)"
   ]
  },
  {
   "cell_type": "code",
   "execution_count": 14,
   "metadata": {
    "collapsed": true
   },
   "outputs": [],
   "source": [
    "d = a / b"
   ]
  },
  {
   "cell_type": "code",
   "execution_count": 15,
   "metadata": {
    "collapsed": false
   },
   "outputs": [
    {
     "data": {
      "text/plain": [
       "0.6666666666666666"
      ]
     },
     "execution_count": 15,
     "metadata": {},
     "output_type": "execute_result"
    }
   ],
   "source": [
    "d"
   ]
  },
  {
   "cell_type": "code",
   "execution_count": 16,
   "metadata": {
    "collapsed": false
   },
   "outputs": [
    {
     "data": {
      "text/plain": [
       "2.2"
      ]
     },
     "execution_count": 16,
     "metadata": {},
     "output_type": "execute_result"
    }
   ],
   "source": [
    "c + 2"
   ]
  },
  {
   "cell_type": "code",
   "execution_count": 17,
   "metadata": {
    "collapsed": false
   },
   "outputs": [
    {
     "data": {
      "text/plain": [
       "float"
      ]
     },
     "execution_count": 17,
     "metadata": {},
     "output_type": "execute_result"
    }
   ],
   "source": [
    "type(c + 2)"
   ]
  },
  {
   "cell_type": "markdown",
   "metadata": {},
   "source": [
    "A float and an integer can be added. The result is a float variable."
   ]
  },
  {
   "cell_type": "markdown",
   "metadata": {},
   "source": [
    "### 2.3 Strings"
   ]
  },
  {
   "cell_type": "markdown",
   "metadata": {},
   "source": [
    "Strings are created with \" or '"
   ]
  },
  {
   "cell_type": "code",
   "execution_count": 18,
   "metadata": {
    "collapsed": false
   },
   "outputs": [],
   "source": [
    "s = \"Hello \""
   ]
  },
  {
   "cell_type": "code",
   "execution_count": 19,
   "metadata": {
    "collapsed": false
   },
   "outputs": [
    {
     "data": {
      "text/plain": [
       "'Hello '"
      ]
     },
     "execution_count": 19,
     "metadata": {},
     "output_type": "execute_result"
    }
   ],
   "source": [
    "s"
   ]
  },
  {
   "cell_type": "code",
   "execution_count": 20,
   "metadata": {
    "collapsed": true
   },
   "outputs": [],
   "source": [
    "t = 'World!'"
   ]
  },
  {
   "cell_type": "code",
   "execution_count": 21,
   "metadata": {
    "collapsed": false
   },
   "outputs": [
    {
     "data": {
      "text/plain": [
       "'World!'"
      ]
     },
     "execution_count": 21,
     "metadata": {},
     "output_type": "execute_result"
    }
   ],
   "source": [
    "t"
   ]
  },
  {
   "cell_type": "markdown",
   "metadata": {},
   "source": [
    "Strings can be added, too!\n"
   ]
  },
  {
   "cell_type": "code",
   "execution_count": 22,
   "metadata": {
    "collapsed": false
   },
   "outputs": [
    {
     "data": {
      "text/plain": [
       "'Hello World!'"
      ]
     },
     "execution_count": 22,
     "metadata": {},
     "output_type": "execute_result"
    }
   ],
   "source": [
    "s + t\n",
    "\n",
    "\n"
   ]
  },
  {
   "cell_type": "code",
   "execution_count": 123,
   "metadata": {
    "collapsed": false
   },
   "outputs": [
    {
     "name": "stdout",
     "output_type": "stream",
     "text": [
      "This raises a TypeError\n"
     ]
    }
   ],
   "source": [
    "try:\n",
    "    s + a\n",
    "except TypeError:\n",
    "    print('This raises a TypeError')"
   ]
  },
  {
   "cell_type": "markdown",
   "metadata": {},
   "source": [
    "Python figures out how certain things (in this case the \"+\" sign) have to be interpreted.\n",
    "- If you type 2 + 3, it interprets \"+\" as the usual summation sign.\n",
    "- If you type \"string 1\" + \"string 2\", it attaches two strings to each other. \n",
    "- Not all variable types are compatible -> a string cannot be added to a number"
   ]
  },
  {
   "cell_type": "markdown",
   "metadata": {},
   "source": [
    "## 2.3 True/False statements"
   ]
  },
  {
   "cell_type": "markdown",
   "metadata": {},
   "source": [
    "Boolean Operators"
   ]
  },
  {
   "cell_type": "code",
   "execution_count": 124,
   "metadata": {
    "collapsed": false
   },
   "outputs": [
    {
     "data": {
      "text/plain": [
       "True"
      ]
     },
     "execution_count": 124,
     "metadata": {},
     "output_type": "execute_result"
    }
   ],
   "source": [
    "True"
   ]
  },
  {
   "cell_type": "code",
   "execution_count": 125,
   "metadata": {
    "collapsed": false
   },
   "outputs": [
    {
     "data": {
      "text/plain": [
       "False"
      ]
     },
     "execution_count": 125,
     "metadata": {},
     "output_type": "execute_result"
    }
   ],
   "source": [
    "False"
   ]
  },
  {
   "cell_type": "code",
   "execution_count": 126,
   "metadata": {
    "collapsed": false
   },
   "outputs": [
    {
     "data": {
      "text/plain": [
       "False"
      ]
     },
     "execution_count": 126,
     "metadata": {},
     "output_type": "execute_result"
    }
   ],
   "source": [
    "not True"
   ]
  },
  {
   "cell_type": "code",
   "execution_count": 127,
   "metadata": {
    "collapsed": false
   },
   "outputs": [
    {
     "data": {
      "text/plain": [
       "True"
      ]
     },
     "execution_count": 127,
     "metadata": {},
     "output_type": "execute_result"
    }
   ],
   "source": [
    "not False"
   ]
  },
  {
   "cell_type": "code",
   "execution_count": 128,
   "metadata": {
    "collapsed": false
   },
   "outputs": [
    {
     "data": {
      "text/plain": [
       "1"
      ]
     },
     "execution_count": 128,
     "metadata": {},
     "output_type": "execute_result"
    }
   ],
   "source": [
    "True + False"
   ]
  },
  {
   "cell_type": "code",
   "execution_count": 135,
   "metadata": {
    "collapsed": false
   },
   "outputs": [
    {
     "data": {
      "text/plain": [
       "True"
      ]
     },
     "execution_count": 135,
     "metadata": {},
     "output_type": "execute_result"
    }
   ],
   "source": [
    "1 == 1"
   ]
  },
  {
   "cell_type": "code",
   "execution_count": 136,
   "metadata": {
    "collapsed": false
   },
   "outputs": [
    {
     "data": {
      "text/plain": [
       "False"
      ]
     },
     "execution_count": 136,
     "metadata": {},
     "output_type": "execute_result"
    }
   ],
   "source": [
    "2 == 1"
   ]
  },
  {
   "cell_type": "markdown",
   "metadata": {},
   "source": [
    "Check for truth of a statement - inequality"
   ]
  },
  {
   "cell_type": "code",
   "execution_count": 137,
   "metadata": {
    "collapsed": false
   },
   "outputs": [
    {
     "data": {
      "text/plain": [
       "False"
      ]
     },
     "execution_count": 137,
     "metadata": {},
     "output_type": "execute_result"
    }
   ],
   "source": [
    "1 != 1"
   ]
  },
  {
   "cell_type": "code",
   "execution_count": 138,
   "metadata": {
    "collapsed": false
   },
   "outputs": [
    {
     "data": {
      "text/plain": [
       "True"
      ]
     },
     "execution_count": 138,
     "metadata": {},
     "output_type": "execute_result"
    }
   ],
   "source": [
    "2 != 1"
   ]
  },
  {
   "cell_type": "code",
   "execution_count": 139,
   "metadata": {
    "collapsed": false
   },
   "outputs": [
    {
     "data": {
      "text/plain": [
       "True"
      ]
     },
     "execution_count": 139,
     "metadata": {},
     "output_type": "execute_result"
    }
   ],
   "source": [
    "1 < 10 "
   ]
  },
  {
   "cell_type": "code",
   "execution_count": 140,
   "metadata": {
    "collapsed": false
   },
   "outputs": [
    {
     "data": {
      "text/plain": [
       "False"
      ]
     },
     "execution_count": 140,
     "metadata": {},
     "output_type": "execute_result"
    }
   ],
   "source": [
    "1 >= 10"
   ]
  },
  {
   "cell_type": "code",
   "execution_count": 141,
   "metadata": {
    "collapsed": false
   },
   "outputs": [
    {
     "data": {
      "text/plain": [
       "True"
      ]
     },
     "execution_count": 141,
     "metadata": {},
     "output_type": "execute_result"
    }
   ],
   "source": [
    "1 >= 1"
   ]
  },
  {
   "cell_type": "code",
   "execution_count": 142,
   "metadata": {
    "collapsed": false
   },
   "outputs": [
    {
     "data": {
      "text/plain": [
       "True"
      ]
     },
     "execution_count": 142,
     "metadata": {},
     "output_type": "execute_result"
    }
   ],
   "source": [
    "1 <= 1"
   ]
  },
  {
   "cell_type": "code",
   "execution_count": 143,
   "metadata": {
    "collapsed": false
   },
   "outputs": [
    {
     "data": {
      "text/plain": [
       "False"
      ]
     },
     "execution_count": 143,
     "metadata": {},
     "output_type": "execute_result"
    }
   ],
   "source": [
    "1 < 1"
   ]
  },
  {
   "cell_type": "markdown",
   "metadata": {},
   "source": [
    "## 2.4 If - statements"
   ]
  },
  {
   "cell_type": "markdown",
   "metadata": {},
   "source": [
    "Use if statements to execute code only if a certain condition is fullfilled. "
   ]
  },
  {
   "cell_type": "code",
   "execution_count": 144,
   "metadata": {
    "collapsed": false
   },
   "outputs": [
    {
     "name": "stdout",
     "output_type": "stream",
     "text": [
      "a equals 4\n"
     ]
    }
   ],
   "source": [
    "if True:\n",
    "    print(\"a equals 4\")"
   ]
  },
  {
   "cell_type": "code",
   "execution_count": 145,
   "metadata": {
    "collapsed": false
   },
   "outputs": [
    {
     "name": "stdout",
     "output_type": "stream",
     "text": [
      "a equals 4\n"
     ]
    }
   ],
   "source": [
    "a = 4\n",
    "if a == 4: \n",
    "    print(\"a equals 4\")"
   ]
  },
  {
   "cell_type": "code",
   "execution_count": 146,
   "metadata": {
    "collapsed": false
   },
   "outputs": [
    {
     "name": "stdout",
     "output_type": "stream",
     "text": [
      "a equals 4\n"
     ]
    }
   ],
   "source": [
    "a = 4\n",
    "if a == 4: \n",
    "    print(\"a equals 4\")\n",
    "elif a == 5:\n",
    "    print(\"a equals 5\")\n",
    "else: \n",
    "    print(\"a is neither 4 nor 5\")"
   ]
  },
  {
   "cell_type": "markdown",
   "metadata": {},
   "source": [
    "# 3. Variables and Collections"
   ]
  },
  {
   "cell_type": "markdown",
   "metadata": {},
   "source": [
    "Python interprets your code first and then executes it. So there is no need to declare the type (string, boolean, integer...) of a variable before assigning a value to the variable. \n",
    "The convention is to use lower case letters for variables."
   ]
  },
  {
   "cell_type": "code",
   "execution_count": 147,
   "metadata": {
    "collapsed": true
   },
   "outputs": [],
   "source": [
    "some_var = 5"
   ]
  },
  {
   "cell_type": "code",
   "execution_count": 148,
   "metadata": {
    "collapsed": false
   },
   "outputs": [
    {
     "name": "stdout",
     "output_type": "stream",
     "text": [
      "5\n"
     ]
    }
   ],
   "source": [
    "print(some_var)"
   ]
  },
  {
   "cell_type": "markdown",
   "metadata": {},
   "source": [
    "The type of variable can change over time. Python handles this for us. This makes python slow computationally (but nice for human programmers). "
   ]
  },
  {
   "cell_type": "code",
   "execution_count": 150,
   "metadata": {
    "collapsed": true
   },
   "outputs": [],
   "source": [
    "my_var = 5"
   ]
  },
  {
   "cell_type": "code",
   "execution_count": 151,
   "metadata": {
    "collapsed": false
   },
   "outputs": [
    {
     "data": {
      "text/plain": [
       "5"
      ]
     },
     "execution_count": 151,
     "metadata": {},
     "output_type": "execute_result"
    }
   ],
   "source": [
    "my_var"
   ]
  },
  {
   "cell_type": "code",
   "execution_count": 152,
   "metadata": {
    "collapsed": true
   },
   "outputs": [],
   "source": [
    "my_var = \"can change to string easily\""
   ]
  },
  {
   "cell_type": "code",
   "execution_count": 153,
   "metadata": {
    "collapsed": false
   },
   "outputs": [
    {
     "data": {
      "text/plain": [
       "'can change to string easily'"
      ]
     },
     "execution_count": 153,
     "metadata": {},
     "output_type": "execute_result"
    }
   ],
   "source": [
    "my_var"
   ]
  },
  {
   "cell_type": "markdown",
   "metadata": {},
   "source": [
    "You can store sequences of variables in a list. A list begins with \"[\" and ends with \"]\". Elements are separated with \",\""
   ]
  },
  {
   "cell_type": "code",
   "execution_count": 154,
   "metadata": {
    "collapsed": true
   },
   "outputs": [],
   "source": [
    "my_list = [2, 3, 12312, 'abc']"
   ]
  },
  {
   "cell_type": "code",
   "execution_count": 155,
   "metadata": {
    "collapsed": false
   },
   "outputs": [
    {
     "data": {
      "text/plain": [
       "[2, 3, 12312, 'abc']"
      ]
     },
     "execution_count": 155,
     "metadata": {},
     "output_type": "execute_result"
    }
   ],
   "source": [
    "my_list"
   ]
  },
  {
   "cell_type": "code",
   "execution_count": 156,
   "metadata": {
    "collapsed": true
   },
   "outputs": [],
   "source": [
    "my_list = []"
   ]
  },
  {
   "cell_type": "code",
   "execution_count": 157,
   "metadata": {
    "collapsed": false
   },
   "outputs": [
    {
     "data": {
      "text/plain": [
       "[]"
      ]
     },
     "execution_count": 157,
     "metadata": {},
     "output_type": "execute_result"
    }
   ],
   "source": [
    "my_list"
   ]
  },
  {
   "cell_type": "markdown",
   "metadata": {},
   "source": [
    "Acces elements of a list. The first element is always indexed with 0 not 1!"
   ]
  },
  {
   "cell_type": "code",
   "execution_count": 158,
   "metadata": {
    "collapsed": true
   },
   "outputs": [],
   "source": [
    "my_list = [4, 5, 6, 7]"
   ]
  },
  {
   "cell_type": "code",
   "execution_count": 159,
   "metadata": {
    "collapsed": false
   },
   "outputs": [
    {
     "data": {
      "text/plain": [
       "[4, 5, 6, 7]"
      ]
     },
     "execution_count": 159,
     "metadata": {},
     "output_type": "execute_result"
    }
   ],
   "source": [
    "my_list"
   ]
  },
  {
   "cell_type": "code",
   "execution_count": 160,
   "metadata": {
    "collapsed": false
   },
   "outputs": [
    {
     "data": {
      "text/plain": [
       "4"
      ]
     },
     "execution_count": 160,
     "metadata": {},
     "output_type": "execute_result"
    }
   ],
   "source": [
    "my_list[0]"
   ]
  },
  {
   "cell_type": "code",
   "execution_count": 161,
   "metadata": {
    "collapsed": false
   },
   "outputs": [
    {
     "data": {
      "text/plain": [
       "5"
      ]
     },
     "execution_count": 161,
     "metadata": {},
     "output_type": "execute_result"
    }
   ],
   "source": [
    "my_list[1]"
   ]
  },
  {
   "cell_type": "markdown",
   "metadata": {},
   "source": [
    "Slice the list with \":\""
   ]
  },
  {
   "cell_type": "code",
   "execution_count": 162,
   "metadata": {
    "collapsed": false
   },
   "outputs": [
    {
     "data": {
      "text/plain": [
       "[5, 6, 7]"
      ]
     },
     "execution_count": 162,
     "metadata": {},
     "output_type": "execute_result"
    }
   ],
   "source": [
    "my_list[1:]"
   ]
  },
  {
   "cell_type": "code",
   "execution_count": 163,
   "metadata": {
    "collapsed": false
   },
   "outputs": [
    {
     "data": {
      "text/plain": [
       "[6, 7]"
      ]
     },
     "execution_count": 163,
     "metadata": {},
     "output_type": "execute_result"
    }
   ],
   "source": [
    "my_list[2:4]"
   ]
  },
  {
   "cell_type": "code",
   "execution_count": 164,
   "metadata": {
    "collapsed": false
   },
   "outputs": [
    {
     "data": {
      "text/plain": [
       "7"
      ]
     },
     "execution_count": 164,
     "metadata": {},
     "output_type": "execute_result"
    }
   ],
   "source": [
    "my_list[-1]"
   ]
  },
  {
   "cell_type": "code",
   "execution_count": 168,
   "metadata": {
    "collapsed": false
   },
   "outputs": [
    {
     "name": "stdout",
     "output_type": "stream",
     "text": [
      "This raises an IndexError.\n"
     ]
    }
   ],
   "source": [
    "try:\n",
    "    my_list[5]\n",
    "except IndexError:\n",
    "    print('This raises an IndexError.')"
   ]
  },
  {
   "cell_type": "markdown",
   "metadata": {},
   "source": [
    "Check features of a list with built in functions: https://docs.python.org/3.5/library/functions.html"
   ]
  },
  {
   "cell_type": "code",
   "execution_count": 169,
   "metadata": {
    "collapsed": false
   },
   "outputs": [
    {
     "data": {
      "text/plain": [
       "list"
      ]
     },
     "execution_count": 169,
     "metadata": {},
     "output_type": "execute_result"
    }
   ],
   "source": [
    "type(my_list)"
   ]
  },
  {
   "cell_type": "code",
   "execution_count": 170,
   "metadata": {
    "collapsed": false
   },
   "outputs": [
    {
     "data": {
      "text/plain": [
       "4"
      ]
     },
     "execution_count": 170,
     "metadata": {},
     "output_type": "execute_result"
    }
   ],
   "source": [
    "len(my_list)"
   ]
  },
  {
   "cell_type": "code",
   "execution_count": 171,
   "metadata": {
    "collapsed": false
   },
   "outputs": [
    {
     "data": {
      "text/plain": [
       "True"
      ]
     },
     "execution_count": 171,
     "metadata": {},
     "output_type": "execute_result"
    }
   ],
   "source": [
    "5 in my_list"
   ]
  },
  {
   "cell_type": "code",
   "execution_count": 172,
   "metadata": {
    "collapsed": false
   },
   "outputs": [
    {
     "data": {
      "text/plain": [
       "False"
      ]
     },
     "execution_count": 172,
     "metadata": {},
     "output_type": "execute_result"
    }
   ],
   "source": [
    "8 in my_list"
   ]
  },
  {
   "cell_type": "markdown",
   "metadata": {},
   "source": [
    "# 4. Loops"
   ]
  },
  {
   "cell_type": "markdown",
   "metadata": {},
   "source": [
    "We can loop over values in a list. The code over which we loop, needs to be indented. (Also true for if statements, functions etc.). Python uses identation instead of \";\" like many other languages to structure the code. Convention is to indent with 4 spaces."
   ]
  },
  {
   "cell_type": "code",
   "execution_count": 173,
   "metadata": {
    "collapsed": false
   },
   "outputs": [
    {
     "name": "stdout",
     "output_type": "stream",
     "text": [
      "Arrow was a great economist\n",
      "Marshall was a great economist\n",
      "Keynes was a great economist\n"
     ]
    }
   ],
   "source": [
    "for economist in [\"Arrow\", \"Marshall\", \"Keynes\"]:\n",
    "    print(economist, \"was a great economist\")"
   ]
  },
  {
   "cell_type": "code",
   "execution_count": 175,
   "metadata": {
    "collapsed": false
   },
   "outputs": [
    {
     "data": {
      "text/plain": [
       "[4, 5, 6, 7]"
      ]
     },
     "execution_count": 175,
     "metadata": {},
     "output_type": "execute_result"
    }
   ],
   "source": [
    "my_list = [4, 5, 6, 7]\n",
    "my_list"
   ]
  },
  {
   "cell_type": "code",
   "execution_count": 176,
   "metadata": {
    "collapsed": false
   },
   "outputs": [
    {
     "name": "stdout",
     "output_type": "stream",
     "text": [
      "4\n",
      "5\n",
      "6\n",
      "7\n"
     ]
    }
   ],
   "source": [
    "for i in my_list: \n",
    "    print(i)"
   ]
  },
  {
   "cell_type": "code",
   "execution_count": 177,
   "metadata": {
    "collapsed": false
   },
   "outputs": [
    {
     "name": "stdout",
     "output_type": "stream",
     "text": [
      "4\n",
      "5\n",
      "6\n",
      "7\n"
     ]
    }
   ],
   "source": [
    "for i in range(4, 8):\n",
    "    print(i)"
   ]
  },
  {
   "cell_type": "code",
   "execution_count": 178,
   "metadata": {
    "collapsed": false
   },
   "outputs": [
    {
     "data": {
      "text/plain": [
       "22"
      ]
     },
     "execution_count": 178,
     "metadata": {},
     "output_type": "execute_result"
    }
   ],
   "source": [
    "result = 0\n",
    "for number in my_list:\n",
    "    result = result + number\n",
    "result"
   ]
  },
  {
   "cell_type": "markdown",
   "metadata": {},
   "source": [
    "# 5. Functions"
   ]
  },
  {
   "cell_type": "markdown",
   "metadata": {},
   "source": [
    "You supply a function with some input. Python then applies the function to the input and gives back output. Just as you know it from your math lecture:\n",
    "$f(x) = x^2 \\Rightarrow f(3) = 3^2 = 9$ "
   ]
  },
  {
   "cell_type": "code",
   "execution_count": 179,
   "metadata": {
    "collapsed": true
   },
   "outputs": [],
   "source": [
    "def f(x):\n",
    "    \"\"\"Square x\"\"\"\n",
    "    return x**2"
   ]
  },
  {
   "cell_type": "code",
   "execution_count": 180,
   "metadata": {
    "collapsed": false
   },
   "outputs": [
    {
     "data": {
      "text/plain": [
       "25"
      ]
     },
     "execution_count": 180,
     "metadata": {},
     "output_type": "execute_result"
    }
   ],
   "source": [
    "f(5)"
   ]
  },
  {
   "cell_type": "markdown",
   "metadata": {},
   "source": [
    "Functions are declared with \"def\". You tell python what input a function needs with \"(input)\". \"return\" then tells python what the output is. Describe what the function does with \"\"\". "
   ]
  },
  {
   "cell_type": "code",
   "execution_count": 181,
   "metadata": {
    "collapsed": true
   },
   "outputs": [],
   "source": [
    "def add(x, y):\n",
    "    \"\"\"Calculate x + y\"\"\"\n",
    "    sum = x + y\n",
    "    return sum"
   ]
  },
  {
   "cell_type": "code",
   "execution_count": 182,
   "metadata": {
    "collapsed": false
   },
   "outputs": [
    {
     "data": {
      "text/plain": [
       "9"
      ]
     },
     "execution_count": 182,
     "metadata": {},
     "output_type": "execute_result"
    }
   ],
   "source": [
    "add(4, 5)"
   ]
  },
  {
   "cell_type": "code",
   "execution_count": 183,
   "metadata": {
    "collapsed": false
   },
   "outputs": [
    {
     "name": "stdout",
     "output_type": "stream",
     "text": [
      "1\n",
      "4\n",
      "9\n"
     ]
    }
   ],
   "source": [
    "for i in [1, 2, 3]:\n",
    "    print(f(i))"
   ]
  },
  {
   "cell_type": "markdown",
   "metadata": {},
   "source": [
    "### Task:\n",
    "Define a function that takes a list of integers as input and adds all integers that are greater than 5."
   ]
  },
  {
   "cell_type": "code",
   "execution_count": 184,
   "metadata": {
    "collapsed": false
   },
   "outputs": [
    {
     "data": {
      "text/plain": [
       "Ellipsis"
      ]
     },
     "execution_count": 184,
     "metadata": {},
     "output_type": "execute_result"
    }
   ],
   "source": [
    "..."
   ]
  },
  {
   "cell_type": "markdown",
   "metadata": {},
   "source": [
    "# 6. Modules"
   ]
  },
  {
   "cell_type": "markdown",
   "metadata": {},
   "source": [
    "Python has some built in functions, like type(x) or len(x) which we saw before. Much more of them are contained in other \"modules\". To get access to them, we need to import those. "
   ]
  },
  {
   "cell_type": "code",
   "execution_count": 185,
   "metadata": {
    "collapsed": false
   },
   "outputs": [
    {
     "name": "stdout",
     "output_type": "stream",
     "text": [
      "1.308332819650179\n"
     ]
    }
   ],
   "source": [
    "from math import log\n",
    "print(log(3.7))"
   ]
  },
  {
   "cell_type": "code",
   "execution_count": 186,
   "metadata": {
    "collapsed": false
   },
   "outputs": [
    {
     "name": "stdout",
     "output_type": "stream",
     "text": [
      "4.0\n"
     ]
    }
   ],
   "source": [
    "import math\n",
    "print(math.sqrt(16))"
   ]
  },
  {
   "cell_type": "code",
   "execution_count": 187,
   "metadata": {
    "collapsed": false
   },
   "outputs": [
    {
     "name": "stdout",
     "output_type": "stream",
     "text": [
      "The dice rolled: 1\n"
     ]
    }
   ],
   "source": [
    "import random\n",
    "print('The dice rolled:', random.choice([1, 2, 3, 4, 5, 6]))\n"
   ]
  },
  {
   "cell_type": "code",
   "execution_count": 188,
   "metadata": {
    "collapsed": false
   },
   "outputs": [
    {
     "name": "stdout",
     "output_type": "stream",
     "text": [
      "Xabi is a very good football player :-)\n"
     ]
    }
   ],
   "source": [
    "import numpy\n",
    "player = numpy.random.choice([\"Arjen\", \"Thomas\", \"Jerome\", \"Xabi\", \"Manuel\", \"Carlo\", \"Uli\"], 1)\n",
    "print(\"{} is a very good football player :-)\".format(player[0]))"
   ]
  },
  {
   "cell_type": "markdown",
   "metadata": {},
   "source": [
    "## 7. Help\n",
    "You can use ipython's help function to get help ony any command by typing help(command).\n",
    "\n",
    "Also, the tab completion helps you remember/find commands."
   ]
  },
  {
   "cell_type": "code",
   "execution_count": 189,
   "metadata": {
    "collapsed": false
   },
   "outputs": [
    {
     "name": "stdout",
     "output_type": "stream",
     "text": [
      "Help on built-in function log in module math:\n",
      "\n",
      "log(...)\n",
      "    log(x, [base=math.e])\n",
      "    Return the logarithm of x to the given base.\n",
      "    \n",
      "    If the base not specified, returns the natural logarithm (base e) of x.\n",
      "\n"
     ]
    }
   ],
   "source": [
    "help(log)"
   ]
  },
  {
   "cell_type": "markdown",
   "metadata": {},
   "source": [
    "Tab completion in action: type(length)"
   ]
  },
  {
   "cell_type": "code",
   "execution_count": 190,
   "metadata": {
    "collapsed": false
   },
   "outputs": [
    {
     "data": {
      "text/plain": [
       "'World!'"
      ]
     },
     "execution_count": 190,
     "metadata": {},
     "output_type": "execute_result"
    }
   ],
   "source": [
    "t"
   ]
  },
  {
   "cell_type": "markdown",
   "metadata": {},
   "source": [
    "You can also put \"?\" behind an object to see what it is and what features it has"
   ]
  },
  {
   "cell_type": "code",
   "execution_count": 191,
   "metadata": {
    "collapsed": true
   },
   "outputs": [],
   "source": [
    "my_list = [3, 2]"
   ]
  },
  {
   "cell_type": "code",
   "execution_count": 192,
   "metadata": {
    "collapsed": false
   },
   "outputs": [
    {
     "data": {
      "text/plain": [
       "[3, 2]"
      ]
     },
     "execution_count": 192,
     "metadata": {},
     "output_type": "execute_result"
    }
   ],
   "source": [
    "my_list"
   ]
  },
  {
   "cell_type": "markdown",
   "metadata": {},
   "source": [
    "# 8. numpy\n",
    "I will now introduce you to some modules with which we will work most of the time to analyze our data. \n",
    "The first one is numpy which introduces the concept of arrays that can represent vectors and matrices. "
   ]
  },
  {
   "cell_type": "code",
   "execution_count": 193,
   "metadata": {
    "collapsed": true
   },
   "outputs": [],
   "source": [
    "import numpy as np"
   ]
  },
  {
   "cell_type": "code",
   "execution_count": 194,
   "metadata": {
    "collapsed": false
   },
   "outputs": [
    {
     "data": {
      "text/plain": [
       "array([2, 1, 3])"
      ]
     },
     "execution_count": 194,
     "metadata": {},
     "output_type": "execute_result"
    }
   ],
   "source": [
    "my_vector = np.array([2, 1, 3])\n",
    "my_vector"
   ]
  },
  {
   "cell_type": "code",
   "execution_count": 195,
   "metadata": {
    "collapsed": false
   },
   "outputs": [
    {
     "data": {
      "text/plain": [
       "array([[1. , 0. , 0. ],\n",
       "       [3. , 4. , 6.7],\n",
       "       [5. , 9. , 5. ]])"
      ]
     },
     "execution_count": 195,
     "metadata": {},
     "output_type": "execute_result"
    }
   ],
   "source": [
    "my_matrix = np.array([[1, 0, 0], [3, 4, 6.7], [5, 9.0, 5]])\n",
    "my_matrix"
   ]
  },
  {
   "cell_type": "markdown",
   "metadata": {},
   "source": [
    "We can work with these arrays using the functions and methods programmed by the numpy developers. "
   ]
  },
  {
   "cell_type": "code",
   "execution_count": 196,
   "metadata": {
    "collapsed": false
   },
   "outputs": [
    {
     "data": {
      "text/plain": [
       "array([[1. , 3. , 5. ],\n",
       "       [0. , 4. , 9. ],\n",
       "       [0. , 6.7, 5. ]])"
      ]
     },
     "execution_count": 196,
     "metadata": {},
     "output_type": "execute_result"
    }
   ],
   "source": [
    "my_matrix.transpose()"
   ]
  },
  {
   "cell_type": "markdown",
   "metadata": {},
   "source": [
    "# 9. pandas\n",
    "pandas is a module for data manipulation and analysis. In particular, it offers data structures and operations for manipulating numerical tables and time series. It is the python based alternative to R and Stata."
   ]
  },
  {
   "cell_type": "code",
   "execution_count": 197,
   "metadata": {
    "collapsed": true
   },
   "outputs": [],
   "source": [
    "import pandas as pd\n"
   ]
  },
  {
   "cell_type": "markdown",
   "metadata": {},
   "source": [
    "Read in a dataset, can be csv, xlsx, dta,..."
   ]
  },
  {
   "cell_type": "code",
   "execution_count": 198,
   "metadata": {
    "collapsed": true
   },
   "outputs": [],
   "source": [
    "cars = pd.read_stata('material/auto.dta')"
   ]
  },
  {
   "cell_type": "code",
   "execution_count": 199,
   "metadata": {
    "collapsed": false
   },
   "outputs": [
    {
     "data": {
      "text/plain": [
       "\u001b[0;31mType:\u001b[0m        DataFrame\n",
       "\u001b[0;31mString form:\u001b[0m\n",
       "make  price  mpg  rep78  headroom  trunk  weight  length  \\\n",
       "           0         AMC Concor <...> 97        3.78   Foreign\n",
       "           73    37           163        2.98   Foreign\n",
       "           \n",
       "           [74 rows x 12 columns]\n",
       "\u001b[0;31mLength:\u001b[0m      74\n",
       "\u001b[0;31mFile:\u001b[0m        ~/.local/share/anaconda3/envs/hc_microeconometrics/lib/python3.7/site-packages/pandas/core/frame.py\n",
       "\u001b[0;31mDocstring:\u001b[0m  \n",
       "Two-dimensional size-mutable, potentially heterogeneous tabular data\n",
       "structure with labeled axes (rows and columns). Arithmetic operations\n",
       "align on both row and column labels. Can be thought of as a dict-like\n",
       "container for Series objects. The primary pandas data structure.\n",
       "\n",
       "Parameters\n",
       "----------\n",
       "data : ndarray (structured or homogeneous), Iterable, dict, or DataFrame\n",
       "    Dict can contain Series, arrays, constants, or list-like objects\n",
       "\n",
       "    .. versionchanged :: 0.23.0\n",
       "       If data is a dict, argument order is maintained for Python 3.6\n",
       "       and later.\n",
       "\n",
       "index : Index or array-like\n",
       "    Index to use for resulting frame. Will default to RangeIndex if\n",
       "    no indexing information part of input data and no index provided\n",
       "columns : Index or array-like\n",
       "    Column labels to use for resulting frame. Will default to\n",
       "    RangeIndex (0, 1, 2, ..., n) if no column labels are provided\n",
       "dtype : dtype, default None\n",
       "    Data type to force. Only a single dtype is allowed. If None, infer\n",
       "copy : boolean, default False\n",
       "    Copy data from inputs. Only affects DataFrame / 2d ndarray input\n",
       "\n",
       "See Also\n",
       "--------\n",
       "DataFrame.from_records : Constructor from tuples, also record arrays.\n",
       "DataFrame.from_dict : From dicts of Series, arrays, or dicts.\n",
       "DataFrame.from_items : From sequence of (key, value) pairs\n",
       "    pandas.read_csv, pandas.read_table, pandas.read_clipboard.\n",
       "\n",
       "Examples\n",
       "--------\n",
       "Constructing DataFrame from a dictionary.\n",
       "\n",
       ">>> d = {'col1': [1, 2], 'col2': [3, 4]}\n",
       ">>> df = pd.DataFrame(data=d)\n",
       ">>> df\n",
       "   col1  col2\n",
       "0     1     3\n",
       "1     2     4\n",
       "\n",
       "Notice that the inferred dtype is int64.\n",
       "\n",
       ">>> df.dtypes\n",
       "col1    int64\n",
       "col2    int64\n",
       "dtype: object\n",
       "\n",
       "To enforce a single dtype:\n",
       "\n",
       ">>> df = pd.DataFrame(data=d, dtype=np.int8)\n",
       ">>> df.dtypes\n",
       "col1    int8\n",
       "col2    int8\n",
       "dtype: object\n",
       "\n",
       "Constructing DataFrame from numpy ndarray:\n",
       "\n",
       ">>> df2 = pd.DataFrame(np.array([[1, 2, 3], [4, 5, 6], [7, 8, 9]]),\n",
       "...                    columns=['a', 'b', 'c'])\n",
       ">>> df2\n",
       "   a  b  c\n",
       "0  1  2  3\n",
       "1  4  5  6\n",
       "2  7  8  9\n"
      ]
     },
     "metadata": {},
     "output_type": "display_data"
    }
   ],
   "source": [
    "cars?"
   ]
  },
  {
   "cell_type": "code",
   "execution_count": 200,
   "metadata": {
    "collapsed": false
   },
   "outputs": [
    {
     "data": {
      "text/html": [
       "<div>\n",
       "<style scoped>\n",
       "    .dataframe tbody tr th:only-of-type {\n",
       "        vertical-align: middle;\n",
       "    }\n",
       "\n",
       "    .dataframe tbody tr th {\n",
       "        vertical-align: top;\n",
       "    }\n",
       "\n",
       "    .dataframe thead th {\n",
       "        text-align: right;\n",
       "    }\n",
       "</style>\n",
       "<table border=\"1\" class=\"dataframe\">\n",
       "  <thead>\n",
       "    <tr style=\"text-align: right;\">\n",
       "      <th></th>\n",
       "      <th>make</th>\n",
       "      <th>price</th>\n",
       "      <th>mpg</th>\n",
       "      <th>rep78</th>\n",
       "      <th>headroom</th>\n",
       "      <th>trunk</th>\n",
       "      <th>weight</th>\n",
       "      <th>length</th>\n",
       "      <th>turn</th>\n",
       "      <th>displacement</th>\n",
       "      <th>gear_ratio</th>\n",
       "      <th>foreign</th>\n",
       "    </tr>\n",
       "  </thead>\n",
       "  <tbody>\n",
       "    <tr>\n",
       "      <th>0</th>\n",
       "      <td>AMC Concord</td>\n",
       "      <td>4099</td>\n",
       "      <td>22</td>\n",
       "      <td>3.0</td>\n",
       "      <td>2.5</td>\n",
       "      <td>11</td>\n",
       "      <td>2930</td>\n",
       "      <td>186</td>\n",
       "      <td>40</td>\n",
       "      <td>121</td>\n",
       "      <td>3.58</td>\n",
       "      <td>Domestic</td>\n",
       "    </tr>\n",
       "    <tr>\n",
       "      <th>1</th>\n",
       "      <td>AMC Pacer</td>\n",
       "      <td>4749</td>\n",
       "      <td>17</td>\n",
       "      <td>3.0</td>\n",
       "      <td>3.0</td>\n",
       "      <td>11</td>\n",
       "      <td>3350</td>\n",
       "      <td>173</td>\n",
       "      <td>40</td>\n",
       "      <td>258</td>\n",
       "      <td>2.53</td>\n",
       "      <td>Domestic</td>\n",
       "    </tr>\n",
       "    <tr>\n",
       "      <th>2</th>\n",
       "      <td>AMC Spirit</td>\n",
       "      <td>3799</td>\n",
       "      <td>22</td>\n",
       "      <td>NaN</td>\n",
       "      <td>3.0</td>\n",
       "      <td>12</td>\n",
       "      <td>2640</td>\n",
       "      <td>168</td>\n",
       "      <td>35</td>\n",
       "      <td>121</td>\n",
       "      <td>3.08</td>\n",
       "      <td>Domestic</td>\n",
       "    </tr>\n",
       "    <tr>\n",
       "      <th>3</th>\n",
       "      <td>Buick Century</td>\n",
       "      <td>4816</td>\n",
       "      <td>20</td>\n",
       "      <td>3.0</td>\n",
       "      <td>4.5</td>\n",
       "      <td>16</td>\n",
       "      <td>3250</td>\n",
       "      <td>196</td>\n",
       "      <td>40</td>\n",
       "      <td>196</td>\n",
       "      <td>2.93</td>\n",
       "      <td>Domestic</td>\n",
       "    </tr>\n",
       "    <tr>\n",
       "      <th>4</th>\n",
       "      <td>Buick Electra</td>\n",
       "      <td>7827</td>\n",
       "      <td>15</td>\n",
       "      <td>4.0</td>\n",
       "      <td>4.0</td>\n",
       "      <td>20</td>\n",
       "      <td>4080</td>\n",
       "      <td>222</td>\n",
       "      <td>43</td>\n",
       "      <td>350</td>\n",
       "      <td>2.41</td>\n",
       "      <td>Domestic</td>\n",
       "    </tr>\n",
       "    <tr>\n",
       "      <th>5</th>\n",
       "      <td>Buick LeSabre</td>\n",
       "      <td>5788</td>\n",
       "      <td>18</td>\n",
       "      <td>3.0</td>\n",
       "      <td>4.0</td>\n",
       "      <td>21</td>\n",
       "      <td>3670</td>\n",
       "      <td>218</td>\n",
       "      <td>43</td>\n",
       "      <td>231</td>\n",
       "      <td>2.73</td>\n",
       "      <td>Domestic</td>\n",
       "    </tr>\n",
       "    <tr>\n",
       "      <th>6</th>\n",
       "      <td>Buick Opel</td>\n",
       "      <td>4453</td>\n",
       "      <td>26</td>\n",
       "      <td>NaN</td>\n",
       "      <td>3.0</td>\n",
       "      <td>10</td>\n",
       "      <td>2230</td>\n",
       "      <td>170</td>\n",
       "      <td>34</td>\n",
       "      <td>304</td>\n",
       "      <td>2.87</td>\n",
       "      <td>Domestic</td>\n",
       "    </tr>\n",
       "    <tr>\n",
       "      <th>7</th>\n",
       "      <td>Buick Regal</td>\n",
       "      <td>5189</td>\n",
       "      <td>20</td>\n",
       "      <td>3.0</td>\n",
       "      <td>2.0</td>\n",
       "      <td>16</td>\n",
       "      <td>3280</td>\n",
       "      <td>200</td>\n",
       "      <td>42</td>\n",
       "      <td>196</td>\n",
       "      <td>2.93</td>\n",
       "      <td>Domestic</td>\n",
       "    </tr>\n",
       "    <tr>\n",
       "      <th>8</th>\n",
       "      <td>Buick Riviera</td>\n",
       "      <td>10372</td>\n",
       "      <td>16</td>\n",
       "      <td>3.0</td>\n",
       "      <td>3.5</td>\n",
       "      <td>17</td>\n",
       "      <td>3880</td>\n",
       "      <td>207</td>\n",
       "      <td>43</td>\n",
       "      <td>231</td>\n",
       "      <td>2.93</td>\n",
       "      <td>Domestic</td>\n",
       "    </tr>\n",
       "    <tr>\n",
       "      <th>9</th>\n",
       "      <td>Buick Skylark</td>\n",
       "      <td>4082</td>\n",
       "      <td>19</td>\n",
       "      <td>3.0</td>\n",
       "      <td>3.5</td>\n",
       "      <td>13</td>\n",
       "      <td>3400</td>\n",
       "      <td>200</td>\n",
       "      <td>42</td>\n",
       "      <td>231</td>\n",
       "      <td>3.08</td>\n",
       "      <td>Domestic</td>\n",
       "    </tr>\n",
       "    <tr>\n",
       "      <th>10</th>\n",
       "      <td>Cad. Deville</td>\n",
       "      <td>11385</td>\n",
       "      <td>14</td>\n",
       "      <td>3.0</td>\n",
       "      <td>4.0</td>\n",
       "      <td>20</td>\n",
       "      <td>4330</td>\n",
       "      <td>221</td>\n",
       "      <td>44</td>\n",
       "      <td>425</td>\n",
       "      <td>2.28</td>\n",
       "      <td>Domestic</td>\n",
       "    </tr>\n",
       "    <tr>\n",
       "      <th>11</th>\n",
       "      <td>Cad. Eldorado</td>\n",
       "      <td>14500</td>\n",
       "      <td>14</td>\n",
       "      <td>2.0</td>\n",
       "      <td>3.5</td>\n",
       "      <td>16</td>\n",
       "      <td>3900</td>\n",
       "      <td>204</td>\n",
       "      <td>43</td>\n",
       "      <td>350</td>\n",
       "      <td>2.19</td>\n",
       "      <td>Domestic</td>\n",
       "    </tr>\n",
       "    <tr>\n",
       "      <th>12</th>\n",
       "      <td>Cad. Seville</td>\n",
       "      <td>15906</td>\n",
       "      <td>21</td>\n",
       "      <td>3.0</td>\n",
       "      <td>3.0</td>\n",
       "      <td>13</td>\n",
       "      <td>4290</td>\n",
       "      <td>204</td>\n",
       "      <td>45</td>\n",
       "      <td>350</td>\n",
       "      <td>2.24</td>\n",
       "      <td>Domestic</td>\n",
       "    </tr>\n",
       "    <tr>\n",
       "      <th>13</th>\n",
       "      <td>Chev. Chevette</td>\n",
       "      <td>3299</td>\n",
       "      <td>29</td>\n",
       "      <td>3.0</td>\n",
       "      <td>2.5</td>\n",
       "      <td>9</td>\n",
       "      <td>2110</td>\n",
       "      <td>163</td>\n",
       "      <td>34</td>\n",
       "      <td>231</td>\n",
       "      <td>2.93</td>\n",
       "      <td>Domestic</td>\n",
       "    </tr>\n",
       "    <tr>\n",
       "      <th>14</th>\n",
       "      <td>Chev. Impala</td>\n",
       "      <td>5705</td>\n",
       "      <td>16</td>\n",
       "      <td>4.0</td>\n",
       "      <td>4.0</td>\n",
       "      <td>20</td>\n",
       "      <td>3690</td>\n",
       "      <td>212</td>\n",
       "      <td>43</td>\n",
       "      <td>250</td>\n",
       "      <td>2.56</td>\n",
       "      <td>Domestic</td>\n",
       "    </tr>\n",
       "    <tr>\n",
       "      <th>15</th>\n",
       "      <td>Chev. Malibu</td>\n",
       "      <td>4504</td>\n",
       "      <td>22</td>\n",
       "      <td>3.0</td>\n",
       "      <td>3.5</td>\n",
       "      <td>17</td>\n",
       "      <td>3180</td>\n",
       "      <td>193</td>\n",
       "      <td>31</td>\n",
       "      <td>200</td>\n",
       "      <td>2.73</td>\n",
       "      <td>Domestic</td>\n",
       "    </tr>\n",
       "    <tr>\n",
       "      <th>16</th>\n",
       "      <td>Chev. Monte Carlo</td>\n",
       "      <td>5104</td>\n",
       "      <td>22</td>\n",
       "      <td>2.0</td>\n",
       "      <td>2.0</td>\n",
       "      <td>16</td>\n",
       "      <td>3220</td>\n",
       "      <td>200</td>\n",
       "      <td>41</td>\n",
       "      <td>200</td>\n",
       "      <td>2.73</td>\n",
       "      <td>Domestic</td>\n",
       "    </tr>\n",
       "    <tr>\n",
       "      <th>17</th>\n",
       "      <td>Chev. Monza</td>\n",
       "      <td>3667</td>\n",
       "      <td>24</td>\n",
       "      <td>2.0</td>\n",
       "      <td>2.0</td>\n",
       "      <td>7</td>\n",
       "      <td>2750</td>\n",
       "      <td>179</td>\n",
       "      <td>40</td>\n",
       "      <td>151</td>\n",
       "      <td>2.73</td>\n",
       "      <td>Domestic</td>\n",
       "    </tr>\n",
       "    <tr>\n",
       "      <th>18</th>\n",
       "      <td>Chev. Nova</td>\n",
       "      <td>3955</td>\n",
       "      <td>19</td>\n",
       "      <td>3.0</td>\n",
       "      <td>3.5</td>\n",
       "      <td>13</td>\n",
       "      <td>3430</td>\n",
       "      <td>197</td>\n",
       "      <td>43</td>\n",
       "      <td>250</td>\n",
       "      <td>2.56</td>\n",
       "      <td>Domestic</td>\n",
       "    </tr>\n",
       "    <tr>\n",
       "      <th>19</th>\n",
       "      <td>Dodge Colt</td>\n",
       "      <td>3984</td>\n",
       "      <td>30</td>\n",
       "      <td>5.0</td>\n",
       "      <td>2.0</td>\n",
       "      <td>8</td>\n",
       "      <td>2120</td>\n",
       "      <td>163</td>\n",
       "      <td>35</td>\n",
       "      <td>98</td>\n",
       "      <td>3.54</td>\n",
       "      <td>Domestic</td>\n",
       "    </tr>\n",
       "    <tr>\n",
       "      <th>20</th>\n",
       "      <td>Dodge Diplomat</td>\n",
       "      <td>4010</td>\n",
       "      <td>18</td>\n",
       "      <td>2.0</td>\n",
       "      <td>4.0</td>\n",
       "      <td>17</td>\n",
       "      <td>3600</td>\n",
       "      <td>206</td>\n",
       "      <td>46</td>\n",
       "      <td>318</td>\n",
       "      <td>2.47</td>\n",
       "      <td>Domestic</td>\n",
       "    </tr>\n",
       "    <tr>\n",
       "      <th>21</th>\n",
       "      <td>Dodge Magnum</td>\n",
       "      <td>5886</td>\n",
       "      <td>16</td>\n",
       "      <td>2.0</td>\n",
       "      <td>4.0</td>\n",
       "      <td>17</td>\n",
       "      <td>3600</td>\n",
       "      <td>206</td>\n",
       "      <td>46</td>\n",
       "      <td>318</td>\n",
       "      <td>2.47</td>\n",
       "      <td>Domestic</td>\n",
       "    </tr>\n",
       "    <tr>\n",
       "      <th>22</th>\n",
       "      <td>Dodge St. Regis</td>\n",
       "      <td>6342</td>\n",
       "      <td>17</td>\n",
       "      <td>2.0</td>\n",
       "      <td>4.5</td>\n",
       "      <td>21</td>\n",
       "      <td>3740</td>\n",
       "      <td>220</td>\n",
       "      <td>46</td>\n",
       "      <td>225</td>\n",
       "      <td>2.94</td>\n",
       "      <td>Domestic</td>\n",
       "    </tr>\n",
       "    <tr>\n",
       "      <th>23</th>\n",
       "      <td>Ford Fiesta</td>\n",
       "      <td>4389</td>\n",
       "      <td>28</td>\n",
       "      <td>4.0</td>\n",
       "      <td>1.5</td>\n",
       "      <td>9</td>\n",
       "      <td>1800</td>\n",
       "      <td>147</td>\n",
       "      <td>33</td>\n",
       "      <td>98</td>\n",
       "      <td>3.15</td>\n",
       "      <td>Domestic</td>\n",
       "    </tr>\n",
       "    <tr>\n",
       "      <th>24</th>\n",
       "      <td>Ford Mustang</td>\n",
       "      <td>4187</td>\n",
       "      <td>21</td>\n",
       "      <td>3.0</td>\n",
       "      <td>2.0</td>\n",
       "      <td>10</td>\n",
       "      <td>2650</td>\n",
       "      <td>179</td>\n",
       "      <td>43</td>\n",
       "      <td>140</td>\n",
       "      <td>3.08</td>\n",
       "      <td>Domestic</td>\n",
       "    </tr>\n",
       "    <tr>\n",
       "      <th>25</th>\n",
       "      <td>Linc. Continental</td>\n",
       "      <td>11497</td>\n",
       "      <td>12</td>\n",
       "      <td>3.0</td>\n",
       "      <td>3.5</td>\n",
       "      <td>22</td>\n",
       "      <td>4840</td>\n",
       "      <td>233</td>\n",
       "      <td>51</td>\n",
       "      <td>400</td>\n",
       "      <td>2.47</td>\n",
       "      <td>Domestic</td>\n",
       "    </tr>\n",
       "    <tr>\n",
       "      <th>26</th>\n",
       "      <td>Linc. Mark V</td>\n",
       "      <td>13594</td>\n",
       "      <td>12</td>\n",
       "      <td>3.0</td>\n",
       "      <td>2.5</td>\n",
       "      <td>18</td>\n",
       "      <td>4720</td>\n",
       "      <td>230</td>\n",
       "      <td>48</td>\n",
       "      <td>400</td>\n",
       "      <td>2.47</td>\n",
       "      <td>Domestic</td>\n",
       "    </tr>\n",
       "    <tr>\n",
       "      <th>27</th>\n",
       "      <td>Linc. Versailles</td>\n",
       "      <td>13466</td>\n",
       "      <td>14</td>\n",
       "      <td>3.0</td>\n",
       "      <td>3.5</td>\n",
       "      <td>15</td>\n",
       "      <td>3830</td>\n",
       "      <td>201</td>\n",
       "      <td>41</td>\n",
       "      <td>302</td>\n",
       "      <td>2.47</td>\n",
       "      <td>Domestic</td>\n",
       "    </tr>\n",
       "    <tr>\n",
       "      <th>28</th>\n",
       "      <td>Merc. Bobcat</td>\n",
       "      <td>3829</td>\n",
       "      <td>22</td>\n",
       "      <td>4.0</td>\n",
       "      <td>3.0</td>\n",
       "      <td>9</td>\n",
       "      <td>2580</td>\n",
       "      <td>169</td>\n",
       "      <td>39</td>\n",
       "      <td>140</td>\n",
       "      <td>2.73</td>\n",
       "      <td>Domestic</td>\n",
       "    </tr>\n",
       "    <tr>\n",
       "      <th>29</th>\n",
       "      <td>Merc. Cougar</td>\n",
       "      <td>5379</td>\n",
       "      <td>14</td>\n",
       "      <td>4.0</td>\n",
       "      <td>3.5</td>\n",
       "      <td>16</td>\n",
       "      <td>4060</td>\n",
       "      <td>221</td>\n",
       "      <td>48</td>\n",
       "      <td>302</td>\n",
       "      <td>2.75</td>\n",
       "      <td>Domestic</td>\n",
       "    </tr>\n",
       "    <tr>\n",
       "      <th>...</th>\n",
       "      <td>...</td>\n",
       "      <td>...</td>\n",
       "      <td>...</td>\n",
       "      <td>...</td>\n",
       "      <td>...</td>\n",
       "      <td>...</td>\n",
       "      <td>...</td>\n",
       "      <td>...</td>\n",
       "      <td>...</td>\n",
       "      <td>...</td>\n",
       "      <td>...</td>\n",
       "      <td>...</td>\n",
       "    </tr>\n",
       "    <tr>\n",
       "      <th>44</th>\n",
       "      <td>Plym. Sapporo</td>\n",
       "      <td>6486</td>\n",
       "      <td>26</td>\n",
       "      <td>NaN</td>\n",
       "      <td>1.5</td>\n",
       "      <td>8</td>\n",
       "      <td>2520</td>\n",
       "      <td>182</td>\n",
       "      <td>38</td>\n",
       "      <td>119</td>\n",
       "      <td>3.54</td>\n",
       "      <td>Domestic</td>\n",
       "    </tr>\n",
       "    <tr>\n",
       "      <th>45</th>\n",
       "      <td>Plym. Volare</td>\n",
       "      <td>4060</td>\n",
       "      <td>18</td>\n",
       "      <td>2.0</td>\n",
       "      <td>5.0</td>\n",
       "      <td>16</td>\n",
       "      <td>3330</td>\n",
       "      <td>201</td>\n",
       "      <td>44</td>\n",
       "      <td>225</td>\n",
       "      <td>3.23</td>\n",
       "      <td>Domestic</td>\n",
       "    </tr>\n",
       "    <tr>\n",
       "      <th>46</th>\n",
       "      <td>Pont. Catalina</td>\n",
       "      <td>5798</td>\n",
       "      <td>18</td>\n",
       "      <td>4.0</td>\n",
       "      <td>4.0</td>\n",
       "      <td>20</td>\n",
       "      <td>3700</td>\n",
       "      <td>214</td>\n",
       "      <td>42</td>\n",
       "      <td>231</td>\n",
       "      <td>2.73</td>\n",
       "      <td>Domestic</td>\n",
       "    </tr>\n",
       "    <tr>\n",
       "      <th>47</th>\n",
       "      <td>Pont. Firebird</td>\n",
       "      <td>4934</td>\n",
       "      <td>18</td>\n",
       "      <td>1.0</td>\n",
       "      <td>1.5</td>\n",
       "      <td>7</td>\n",
       "      <td>3470</td>\n",
       "      <td>198</td>\n",
       "      <td>42</td>\n",
       "      <td>231</td>\n",
       "      <td>3.08</td>\n",
       "      <td>Domestic</td>\n",
       "    </tr>\n",
       "    <tr>\n",
       "      <th>48</th>\n",
       "      <td>Pont. Grand Prix</td>\n",
       "      <td>5222</td>\n",
       "      <td>19</td>\n",
       "      <td>3.0</td>\n",
       "      <td>2.0</td>\n",
       "      <td>16</td>\n",
       "      <td>3210</td>\n",
       "      <td>201</td>\n",
       "      <td>45</td>\n",
       "      <td>231</td>\n",
       "      <td>2.93</td>\n",
       "      <td>Domestic</td>\n",
       "    </tr>\n",
       "    <tr>\n",
       "      <th>49</th>\n",
       "      <td>Pont. Le Mans</td>\n",
       "      <td>4723</td>\n",
       "      <td>19</td>\n",
       "      <td>3.0</td>\n",
       "      <td>3.5</td>\n",
       "      <td>17</td>\n",
       "      <td>3200</td>\n",
       "      <td>199</td>\n",
       "      <td>40</td>\n",
       "      <td>231</td>\n",
       "      <td>2.93</td>\n",
       "      <td>Domestic</td>\n",
       "    </tr>\n",
       "    <tr>\n",
       "      <th>50</th>\n",
       "      <td>Pont. Phoenix</td>\n",
       "      <td>4424</td>\n",
       "      <td>19</td>\n",
       "      <td>NaN</td>\n",
       "      <td>3.5</td>\n",
       "      <td>13</td>\n",
       "      <td>3420</td>\n",
       "      <td>203</td>\n",
       "      <td>43</td>\n",
       "      <td>231</td>\n",
       "      <td>3.08</td>\n",
       "      <td>Domestic</td>\n",
       "    </tr>\n",
       "    <tr>\n",
       "      <th>51</th>\n",
       "      <td>Pont. Sunbird</td>\n",
       "      <td>4172</td>\n",
       "      <td>24</td>\n",
       "      <td>2.0</td>\n",
       "      <td>2.0</td>\n",
       "      <td>7</td>\n",
       "      <td>2690</td>\n",
       "      <td>179</td>\n",
       "      <td>41</td>\n",
       "      <td>151</td>\n",
       "      <td>2.73</td>\n",
       "      <td>Domestic</td>\n",
       "    </tr>\n",
       "    <tr>\n",
       "      <th>52</th>\n",
       "      <td>Audi 5000</td>\n",
       "      <td>9690</td>\n",
       "      <td>17</td>\n",
       "      <td>5.0</td>\n",
       "      <td>3.0</td>\n",
       "      <td>15</td>\n",
       "      <td>2830</td>\n",
       "      <td>189</td>\n",
       "      <td>37</td>\n",
       "      <td>131</td>\n",
       "      <td>3.20</td>\n",
       "      <td>Foreign</td>\n",
       "    </tr>\n",
       "    <tr>\n",
       "      <th>53</th>\n",
       "      <td>Audi Fox</td>\n",
       "      <td>6295</td>\n",
       "      <td>23</td>\n",
       "      <td>3.0</td>\n",
       "      <td>2.5</td>\n",
       "      <td>11</td>\n",
       "      <td>2070</td>\n",
       "      <td>174</td>\n",
       "      <td>36</td>\n",
       "      <td>97</td>\n",
       "      <td>3.70</td>\n",
       "      <td>Foreign</td>\n",
       "    </tr>\n",
       "    <tr>\n",
       "      <th>54</th>\n",
       "      <td>BMW 320i</td>\n",
       "      <td>9735</td>\n",
       "      <td>25</td>\n",
       "      <td>4.0</td>\n",
       "      <td>2.5</td>\n",
       "      <td>12</td>\n",
       "      <td>2650</td>\n",
       "      <td>177</td>\n",
       "      <td>34</td>\n",
       "      <td>121</td>\n",
       "      <td>3.64</td>\n",
       "      <td>Foreign</td>\n",
       "    </tr>\n",
       "    <tr>\n",
       "      <th>55</th>\n",
       "      <td>Datsun 200</td>\n",
       "      <td>6229</td>\n",
       "      <td>23</td>\n",
       "      <td>4.0</td>\n",
       "      <td>1.5</td>\n",
       "      <td>6</td>\n",
       "      <td>2370</td>\n",
       "      <td>170</td>\n",
       "      <td>35</td>\n",
       "      <td>119</td>\n",
       "      <td>3.89</td>\n",
       "      <td>Foreign</td>\n",
       "    </tr>\n",
       "    <tr>\n",
       "      <th>56</th>\n",
       "      <td>Datsun 210</td>\n",
       "      <td>4589</td>\n",
       "      <td>35</td>\n",
       "      <td>5.0</td>\n",
       "      <td>2.0</td>\n",
       "      <td>8</td>\n",
       "      <td>2020</td>\n",
       "      <td>165</td>\n",
       "      <td>32</td>\n",
       "      <td>85</td>\n",
       "      <td>3.70</td>\n",
       "      <td>Foreign</td>\n",
       "    </tr>\n",
       "    <tr>\n",
       "      <th>57</th>\n",
       "      <td>Datsun 510</td>\n",
       "      <td>5079</td>\n",
       "      <td>24</td>\n",
       "      <td>4.0</td>\n",
       "      <td>2.5</td>\n",
       "      <td>8</td>\n",
       "      <td>2280</td>\n",
       "      <td>170</td>\n",
       "      <td>34</td>\n",
       "      <td>119</td>\n",
       "      <td>3.54</td>\n",
       "      <td>Foreign</td>\n",
       "    </tr>\n",
       "    <tr>\n",
       "      <th>58</th>\n",
       "      <td>Datsun 810</td>\n",
       "      <td>8129</td>\n",
       "      <td>21</td>\n",
       "      <td>4.0</td>\n",
       "      <td>2.5</td>\n",
       "      <td>8</td>\n",
       "      <td>2750</td>\n",
       "      <td>184</td>\n",
       "      <td>38</td>\n",
       "      <td>146</td>\n",
       "      <td>3.55</td>\n",
       "      <td>Foreign</td>\n",
       "    </tr>\n",
       "    <tr>\n",
       "      <th>59</th>\n",
       "      <td>Fiat Strada</td>\n",
       "      <td>4296</td>\n",
       "      <td>21</td>\n",
       "      <td>3.0</td>\n",
       "      <td>2.5</td>\n",
       "      <td>16</td>\n",
       "      <td>2130</td>\n",
       "      <td>161</td>\n",
       "      <td>36</td>\n",
       "      <td>105</td>\n",
       "      <td>3.37</td>\n",
       "      <td>Foreign</td>\n",
       "    </tr>\n",
       "    <tr>\n",
       "      <th>60</th>\n",
       "      <td>Honda Accord</td>\n",
       "      <td>5799</td>\n",
       "      <td>25</td>\n",
       "      <td>5.0</td>\n",
       "      <td>3.0</td>\n",
       "      <td>10</td>\n",
       "      <td>2240</td>\n",
       "      <td>172</td>\n",
       "      <td>36</td>\n",
       "      <td>107</td>\n",
       "      <td>3.05</td>\n",
       "      <td>Foreign</td>\n",
       "    </tr>\n",
       "    <tr>\n",
       "      <th>61</th>\n",
       "      <td>Honda Civic</td>\n",
       "      <td>4499</td>\n",
       "      <td>28</td>\n",
       "      <td>4.0</td>\n",
       "      <td>2.5</td>\n",
       "      <td>5</td>\n",
       "      <td>1760</td>\n",
       "      <td>149</td>\n",
       "      <td>34</td>\n",
       "      <td>91</td>\n",
       "      <td>3.30</td>\n",
       "      <td>Foreign</td>\n",
       "    </tr>\n",
       "    <tr>\n",
       "      <th>62</th>\n",
       "      <td>Mazda GLC</td>\n",
       "      <td>3995</td>\n",
       "      <td>30</td>\n",
       "      <td>4.0</td>\n",
       "      <td>3.5</td>\n",
       "      <td>11</td>\n",
       "      <td>1980</td>\n",
       "      <td>154</td>\n",
       "      <td>33</td>\n",
       "      <td>86</td>\n",
       "      <td>3.73</td>\n",
       "      <td>Foreign</td>\n",
       "    </tr>\n",
       "    <tr>\n",
       "      <th>63</th>\n",
       "      <td>Peugeot 604</td>\n",
       "      <td>12990</td>\n",
       "      <td>14</td>\n",
       "      <td>NaN</td>\n",
       "      <td>3.5</td>\n",
       "      <td>14</td>\n",
       "      <td>3420</td>\n",
       "      <td>192</td>\n",
       "      <td>38</td>\n",
       "      <td>163</td>\n",
       "      <td>3.58</td>\n",
       "      <td>Foreign</td>\n",
       "    </tr>\n",
       "    <tr>\n",
       "      <th>64</th>\n",
       "      <td>Renault Le Car</td>\n",
       "      <td>3895</td>\n",
       "      <td>26</td>\n",
       "      <td>3.0</td>\n",
       "      <td>3.0</td>\n",
       "      <td>10</td>\n",
       "      <td>1830</td>\n",
       "      <td>142</td>\n",
       "      <td>34</td>\n",
       "      <td>79</td>\n",
       "      <td>3.72</td>\n",
       "      <td>Foreign</td>\n",
       "    </tr>\n",
       "    <tr>\n",
       "      <th>65</th>\n",
       "      <td>Subaru</td>\n",
       "      <td>3798</td>\n",
       "      <td>35</td>\n",
       "      <td>5.0</td>\n",
       "      <td>2.5</td>\n",
       "      <td>11</td>\n",
       "      <td>2050</td>\n",
       "      <td>164</td>\n",
       "      <td>36</td>\n",
       "      <td>97</td>\n",
       "      <td>3.81</td>\n",
       "      <td>Foreign</td>\n",
       "    </tr>\n",
       "    <tr>\n",
       "      <th>66</th>\n",
       "      <td>Toyota Celica</td>\n",
       "      <td>5899</td>\n",
       "      <td>18</td>\n",
       "      <td>5.0</td>\n",
       "      <td>2.5</td>\n",
       "      <td>14</td>\n",
       "      <td>2410</td>\n",
       "      <td>174</td>\n",
       "      <td>36</td>\n",
       "      <td>134</td>\n",
       "      <td>3.06</td>\n",
       "      <td>Foreign</td>\n",
       "    </tr>\n",
       "    <tr>\n",
       "      <th>67</th>\n",
       "      <td>Toyota Corolla</td>\n",
       "      <td>3748</td>\n",
       "      <td>31</td>\n",
       "      <td>5.0</td>\n",
       "      <td>3.0</td>\n",
       "      <td>9</td>\n",
       "      <td>2200</td>\n",
       "      <td>165</td>\n",
       "      <td>35</td>\n",
       "      <td>97</td>\n",
       "      <td>3.21</td>\n",
       "      <td>Foreign</td>\n",
       "    </tr>\n",
       "    <tr>\n",
       "      <th>68</th>\n",
       "      <td>Toyota Corona</td>\n",
       "      <td>5719</td>\n",
       "      <td>18</td>\n",
       "      <td>5.0</td>\n",
       "      <td>2.0</td>\n",
       "      <td>11</td>\n",
       "      <td>2670</td>\n",
       "      <td>175</td>\n",
       "      <td>36</td>\n",
       "      <td>134</td>\n",
       "      <td>3.05</td>\n",
       "      <td>Foreign</td>\n",
       "    </tr>\n",
       "    <tr>\n",
       "      <th>69</th>\n",
       "      <td>VW Dasher</td>\n",
       "      <td>7140</td>\n",
       "      <td>23</td>\n",
       "      <td>4.0</td>\n",
       "      <td>2.5</td>\n",
       "      <td>12</td>\n",
       "      <td>2160</td>\n",
       "      <td>172</td>\n",
       "      <td>36</td>\n",
       "      <td>97</td>\n",
       "      <td>3.74</td>\n",
       "      <td>Foreign</td>\n",
       "    </tr>\n",
       "    <tr>\n",
       "      <th>70</th>\n",
       "      <td>VW Diesel</td>\n",
       "      <td>5397</td>\n",
       "      <td>41</td>\n",
       "      <td>5.0</td>\n",
       "      <td>3.0</td>\n",
       "      <td>15</td>\n",
       "      <td>2040</td>\n",
       "      <td>155</td>\n",
       "      <td>35</td>\n",
       "      <td>90</td>\n",
       "      <td>3.78</td>\n",
       "      <td>Foreign</td>\n",
       "    </tr>\n",
       "    <tr>\n",
       "      <th>71</th>\n",
       "      <td>VW Rabbit</td>\n",
       "      <td>4697</td>\n",
       "      <td>25</td>\n",
       "      <td>4.0</td>\n",
       "      <td>3.0</td>\n",
       "      <td>15</td>\n",
       "      <td>1930</td>\n",
       "      <td>155</td>\n",
       "      <td>35</td>\n",
       "      <td>89</td>\n",
       "      <td>3.78</td>\n",
       "      <td>Foreign</td>\n",
       "    </tr>\n",
       "    <tr>\n",
       "      <th>72</th>\n",
       "      <td>VW Scirocco</td>\n",
       "      <td>6850</td>\n",
       "      <td>25</td>\n",
       "      <td>4.0</td>\n",
       "      <td>2.0</td>\n",
       "      <td>16</td>\n",
       "      <td>1990</td>\n",
       "      <td>156</td>\n",
       "      <td>36</td>\n",
       "      <td>97</td>\n",
       "      <td>3.78</td>\n",
       "      <td>Foreign</td>\n",
       "    </tr>\n",
       "    <tr>\n",
       "      <th>73</th>\n",
       "      <td>Volvo 260</td>\n",
       "      <td>11995</td>\n",
       "      <td>17</td>\n",
       "      <td>5.0</td>\n",
       "      <td>2.5</td>\n",
       "      <td>14</td>\n",
       "      <td>3170</td>\n",
       "      <td>193</td>\n",
       "      <td>37</td>\n",
       "      <td>163</td>\n",
       "      <td>2.98</td>\n",
       "      <td>Foreign</td>\n",
       "    </tr>\n",
       "  </tbody>\n",
       "</table>\n",
       "<p>74 rows × 12 columns</p>\n",
       "</div>"
      ],
      "text/plain": [
       "                 make  price  mpg  rep78  headroom  trunk  weight  length  \\\n",
       "0         AMC Concord   4099   22    3.0       2.5     11    2930     186   \n",
       "1           AMC Pacer   4749   17    3.0       3.0     11    3350     173   \n",
       "2          AMC Spirit   3799   22    NaN       3.0     12    2640     168   \n",
       "3       Buick Century   4816   20    3.0       4.5     16    3250     196   \n",
       "4       Buick Electra   7827   15    4.0       4.0     20    4080     222   \n",
       "5       Buick LeSabre   5788   18    3.0       4.0     21    3670     218   \n",
       "6          Buick Opel   4453   26    NaN       3.0     10    2230     170   \n",
       "7         Buick Regal   5189   20    3.0       2.0     16    3280     200   \n",
       "8       Buick Riviera  10372   16    3.0       3.5     17    3880     207   \n",
       "9       Buick Skylark   4082   19    3.0       3.5     13    3400     200   \n",
       "10       Cad. Deville  11385   14    3.0       4.0     20    4330     221   \n",
       "11      Cad. Eldorado  14500   14    2.0       3.5     16    3900     204   \n",
       "12       Cad. Seville  15906   21    3.0       3.0     13    4290     204   \n",
       "13     Chev. Chevette   3299   29    3.0       2.5      9    2110     163   \n",
       "14       Chev. Impala   5705   16    4.0       4.0     20    3690     212   \n",
       "15       Chev. Malibu   4504   22    3.0       3.5     17    3180     193   \n",
       "16  Chev. Monte Carlo   5104   22    2.0       2.0     16    3220     200   \n",
       "17        Chev. Monza   3667   24    2.0       2.0      7    2750     179   \n",
       "18         Chev. Nova   3955   19    3.0       3.5     13    3430     197   \n",
       "19         Dodge Colt   3984   30    5.0       2.0      8    2120     163   \n",
       "20     Dodge Diplomat   4010   18    2.0       4.0     17    3600     206   \n",
       "21       Dodge Magnum   5886   16    2.0       4.0     17    3600     206   \n",
       "22    Dodge St. Regis   6342   17    2.0       4.5     21    3740     220   \n",
       "23        Ford Fiesta   4389   28    4.0       1.5      9    1800     147   \n",
       "24       Ford Mustang   4187   21    3.0       2.0     10    2650     179   \n",
       "25  Linc. Continental  11497   12    3.0       3.5     22    4840     233   \n",
       "26       Linc. Mark V  13594   12    3.0       2.5     18    4720     230   \n",
       "27   Linc. Versailles  13466   14    3.0       3.5     15    3830     201   \n",
       "28       Merc. Bobcat   3829   22    4.0       3.0      9    2580     169   \n",
       "29       Merc. Cougar   5379   14    4.0       3.5     16    4060     221   \n",
       "..                ...    ...  ...    ...       ...    ...     ...     ...   \n",
       "44      Plym. Sapporo   6486   26    NaN       1.5      8    2520     182   \n",
       "45       Plym. Volare   4060   18    2.0       5.0     16    3330     201   \n",
       "46     Pont. Catalina   5798   18    4.0       4.0     20    3700     214   \n",
       "47     Pont. Firebird   4934   18    1.0       1.5      7    3470     198   \n",
       "48   Pont. Grand Prix   5222   19    3.0       2.0     16    3210     201   \n",
       "49      Pont. Le Mans   4723   19    3.0       3.5     17    3200     199   \n",
       "50      Pont. Phoenix   4424   19    NaN       3.5     13    3420     203   \n",
       "51      Pont. Sunbird   4172   24    2.0       2.0      7    2690     179   \n",
       "52          Audi 5000   9690   17    5.0       3.0     15    2830     189   \n",
       "53           Audi Fox   6295   23    3.0       2.5     11    2070     174   \n",
       "54           BMW 320i   9735   25    4.0       2.5     12    2650     177   \n",
       "55         Datsun 200   6229   23    4.0       1.5      6    2370     170   \n",
       "56         Datsun 210   4589   35    5.0       2.0      8    2020     165   \n",
       "57         Datsun 510   5079   24    4.0       2.5      8    2280     170   \n",
       "58         Datsun 810   8129   21    4.0       2.5      8    2750     184   \n",
       "59        Fiat Strada   4296   21    3.0       2.5     16    2130     161   \n",
       "60       Honda Accord   5799   25    5.0       3.0     10    2240     172   \n",
       "61        Honda Civic   4499   28    4.0       2.5      5    1760     149   \n",
       "62          Mazda GLC   3995   30    4.0       3.5     11    1980     154   \n",
       "63        Peugeot 604  12990   14    NaN       3.5     14    3420     192   \n",
       "64     Renault Le Car   3895   26    3.0       3.0     10    1830     142   \n",
       "65             Subaru   3798   35    5.0       2.5     11    2050     164   \n",
       "66      Toyota Celica   5899   18    5.0       2.5     14    2410     174   \n",
       "67     Toyota Corolla   3748   31    5.0       3.0      9    2200     165   \n",
       "68      Toyota Corona   5719   18    5.0       2.0     11    2670     175   \n",
       "69          VW Dasher   7140   23    4.0       2.5     12    2160     172   \n",
       "70          VW Diesel   5397   41    5.0       3.0     15    2040     155   \n",
       "71          VW Rabbit   4697   25    4.0       3.0     15    1930     155   \n",
       "72        VW Scirocco   6850   25    4.0       2.0     16    1990     156   \n",
       "73          Volvo 260  11995   17    5.0       2.5     14    3170     193   \n",
       "\n",
       "    turn  displacement  gear_ratio   foreign  \n",
       "0     40           121        3.58  Domestic  \n",
       "1     40           258        2.53  Domestic  \n",
       "2     35           121        3.08  Domestic  \n",
       "3     40           196        2.93  Domestic  \n",
       "4     43           350        2.41  Domestic  \n",
       "5     43           231        2.73  Domestic  \n",
       "6     34           304        2.87  Domestic  \n",
       "7     42           196        2.93  Domestic  \n",
       "8     43           231        2.93  Domestic  \n",
       "9     42           231        3.08  Domestic  \n",
       "10    44           425        2.28  Domestic  \n",
       "11    43           350        2.19  Domestic  \n",
       "12    45           350        2.24  Domestic  \n",
       "13    34           231        2.93  Domestic  \n",
       "14    43           250        2.56  Domestic  \n",
       "15    31           200        2.73  Domestic  \n",
       "16    41           200        2.73  Domestic  \n",
       "17    40           151        2.73  Domestic  \n",
       "18    43           250        2.56  Domestic  \n",
       "19    35            98        3.54  Domestic  \n",
       "20    46           318        2.47  Domestic  \n",
       "21    46           318        2.47  Domestic  \n",
       "22    46           225        2.94  Domestic  \n",
       "23    33            98        3.15  Domestic  \n",
       "24    43           140        3.08  Domestic  \n",
       "25    51           400        2.47  Domestic  \n",
       "26    48           400        2.47  Domestic  \n",
       "27    41           302        2.47  Domestic  \n",
       "28    39           140        2.73  Domestic  \n",
       "29    48           302        2.75  Domestic  \n",
       "..   ...           ...         ...       ...  \n",
       "44    38           119        3.54  Domestic  \n",
       "45    44           225        3.23  Domestic  \n",
       "46    42           231        2.73  Domestic  \n",
       "47    42           231        3.08  Domestic  \n",
       "48    45           231        2.93  Domestic  \n",
       "49    40           231        2.93  Domestic  \n",
       "50    43           231        3.08  Domestic  \n",
       "51    41           151        2.73  Domestic  \n",
       "52    37           131        3.20   Foreign  \n",
       "53    36            97        3.70   Foreign  \n",
       "54    34           121        3.64   Foreign  \n",
       "55    35           119        3.89   Foreign  \n",
       "56    32            85        3.70   Foreign  \n",
       "57    34           119        3.54   Foreign  \n",
       "58    38           146        3.55   Foreign  \n",
       "59    36           105        3.37   Foreign  \n",
       "60    36           107        3.05   Foreign  \n",
       "61    34            91        3.30   Foreign  \n",
       "62    33            86        3.73   Foreign  \n",
       "63    38           163        3.58   Foreign  \n",
       "64    34            79        3.72   Foreign  \n",
       "65    36            97        3.81   Foreign  \n",
       "66    36           134        3.06   Foreign  \n",
       "67    35            97        3.21   Foreign  \n",
       "68    36           134        3.05   Foreign  \n",
       "69    36            97        3.74   Foreign  \n",
       "70    35            90        3.78   Foreign  \n",
       "71    35            89        3.78   Foreign  \n",
       "72    36            97        3.78   Foreign  \n",
       "73    37           163        2.98   Foreign  \n",
       "\n",
       "[74 rows x 12 columns]"
      ]
     },
     "execution_count": 200,
     "metadata": {},
     "output_type": "execute_result"
    }
   ],
   "source": [
    "cars"
   ]
  },
  {
   "cell_type": "code",
   "execution_count": 201,
   "metadata": {
    "collapsed": false
   },
   "outputs": [
    {
     "data": {
      "text/html": [
       "<div>\n",
       "<style scoped>\n",
       "    .dataframe tbody tr th:only-of-type {\n",
       "        vertical-align: middle;\n",
       "    }\n",
       "\n",
       "    .dataframe tbody tr th {\n",
       "        vertical-align: top;\n",
       "    }\n",
       "\n",
       "    .dataframe thead th {\n",
       "        text-align: right;\n",
       "    }\n",
       "</style>\n",
       "<table border=\"1\" class=\"dataframe\">\n",
       "  <thead>\n",
       "    <tr style=\"text-align: right;\">\n",
       "      <th></th>\n",
       "      <th>make</th>\n",
       "      <th>price</th>\n",
       "      <th>mpg</th>\n",
       "      <th>rep78</th>\n",
       "      <th>headroom</th>\n",
       "      <th>trunk</th>\n",
       "      <th>weight</th>\n",
       "      <th>length</th>\n",
       "      <th>turn</th>\n",
       "      <th>displacement</th>\n",
       "      <th>gear_ratio</th>\n",
       "      <th>foreign</th>\n",
       "    </tr>\n",
       "  </thead>\n",
       "  <tbody>\n",
       "    <tr>\n",
       "      <th>0</th>\n",
       "      <td>AMC Concord</td>\n",
       "      <td>4099</td>\n",
       "      <td>22</td>\n",
       "      <td>3.0</td>\n",
       "      <td>2.5</td>\n",
       "      <td>11</td>\n",
       "      <td>2930</td>\n",
       "      <td>186</td>\n",
       "      <td>40</td>\n",
       "      <td>121</td>\n",
       "      <td>3.58</td>\n",
       "      <td>Domestic</td>\n",
       "    </tr>\n",
       "    <tr>\n",
       "      <th>1</th>\n",
       "      <td>AMC Pacer</td>\n",
       "      <td>4749</td>\n",
       "      <td>17</td>\n",
       "      <td>3.0</td>\n",
       "      <td>3.0</td>\n",
       "      <td>11</td>\n",
       "      <td>3350</td>\n",
       "      <td>173</td>\n",
       "      <td>40</td>\n",
       "      <td>258</td>\n",
       "      <td>2.53</td>\n",
       "      <td>Domestic</td>\n",
       "    </tr>\n",
       "    <tr>\n",
       "      <th>2</th>\n",
       "      <td>AMC Spirit</td>\n",
       "      <td>3799</td>\n",
       "      <td>22</td>\n",
       "      <td>NaN</td>\n",
       "      <td>3.0</td>\n",
       "      <td>12</td>\n",
       "      <td>2640</td>\n",
       "      <td>168</td>\n",
       "      <td>35</td>\n",
       "      <td>121</td>\n",
       "      <td>3.08</td>\n",
       "      <td>Domestic</td>\n",
       "    </tr>\n",
       "    <tr>\n",
       "      <th>3</th>\n",
       "      <td>Buick Century</td>\n",
       "      <td>4816</td>\n",
       "      <td>20</td>\n",
       "      <td>3.0</td>\n",
       "      <td>4.5</td>\n",
       "      <td>16</td>\n",
       "      <td>3250</td>\n",
       "      <td>196</td>\n",
       "      <td>40</td>\n",
       "      <td>196</td>\n",
       "      <td>2.93</td>\n",
       "      <td>Domestic</td>\n",
       "    </tr>\n",
       "    <tr>\n",
       "      <th>4</th>\n",
       "      <td>Buick Electra</td>\n",
       "      <td>7827</td>\n",
       "      <td>15</td>\n",
       "      <td>4.0</td>\n",
       "      <td>4.0</td>\n",
       "      <td>20</td>\n",
       "      <td>4080</td>\n",
       "      <td>222</td>\n",
       "      <td>43</td>\n",
       "      <td>350</td>\n",
       "      <td>2.41</td>\n",
       "      <td>Domestic</td>\n",
       "    </tr>\n",
       "  </tbody>\n",
       "</table>\n",
       "</div>"
      ],
      "text/plain": [
       "            make  price  mpg  rep78  headroom  trunk  weight  length  turn  \\\n",
       "0    AMC Concord   4099   22    3.0       2.5     11    2930     186    40   \n",
       "1      AMC Pacer   4749   17    3.0       3.0     11    3350     173    40   \n",
       "2     AMC Spirit   3799   22    NaN       3.0     12    2640     168    35   \n",
       "3  Buick Century   4816   20    3.0       4.5     16    3250     196    40   \n",
       "4  Buick Electra   7827   15    4.0       4.0     20    4080     222    43   \n",
       "\n",
       "   displacement  gear_ratio   foreign  \n",
       "0           121        3.58  Domestic  \n",
       "1           258        2.53  Domestic  \n",
       "2           121        3.08  Domestic  \n",
       "3           196        2.93  Domestic  \n",
       "4           350        2.41  Domestic  "
      ]
     },
     "execution_count": 201,
     "metadata": {},
     "output_type": "execute_result"
    }
   ],
   "source": [
    "cars.head()"
   ]
  },
  {
   "cell_type": "markdown",
   "metadata": {},
   "source": [
    "Only view values of certain variables."
   ]
  },
  {
   "cell_type": "code",
   "execution_count": 202,
   "metadata": {
    "collapsed": false
   },
   "outputs": [
    {
     "data": {
      "text/plain": [
       "0      AMC Concord\n",
       "1        AMC Pacer\n",
       "2       AMC Spirit\n",
       "3    Buick Century\n",
       "4    Buick Electra\n",
       "Name: make, dtype: object"
      ]
     },
     "execution_count": 202,
     "metadata": {},
     "output_type": "execute_result"
    }
   ],
   "source": [
    "cars[\"make\"].head()"
   ]
  },
  {
   "cell_type": "code",
   "execution_count": 203,
   "metadata": {
    "collapsed": false
   },
   "outputs": [
    {
     "data": {
      "text/plain": [
       "pandas.core.series.Series"
      ]
     },
     "execution_count": 203,
     "metadata": {},
     "output_type": "execute_result"
    }
   ],
   "source": [
    "type(cars[\"make\"])"
   ]
  },
  {
   "cell_type": "code",
   "execution_count": 204,
   "metadata": {
    "collapsed": false
   },
   "outputs": [
    {
     "data": {
      "text/html": [
       "<div>\n",
       "<style scoped>\n",
       "    .dataframe tbody tr th:only-of-type {\n",
       "        vertical-align: middle;\n",
       "    }\n",
       "\n",
       "    .dataframe tbody tr th {\n",
       "        vertical-align: top;\n",
       "    }\n",
       "\n",
       "    .dataframe thead th {\n",
       "        text-align: right;\n",
       "    }\n",
       "</style>\n",
       "<table border=\"1\" class=\"dataframe\">\n",
       "  <thead>\n",
       "    <tr style=\"text-align: right;\">\n",
       "      <th></th>\n",
       "      <th>make</th>\n",
       "      <th>price</th>\n",
       "    </tr>\n",
       "  </thead>\n",
       "  <tbody>\n",
       "    <tr>\n",
       "      <th>0</th>\n",
       "      <td>AMC Concord</td>\n",
       "      <td>4099</td>\n",
       "    </tr>\n",
       "    <tr>\n",
       "      <th>1</th>\n",
       "      <td>AMC Pacer</td>\n",
       "      <td>4749</td>\n",
       "    </tr>\n",
       "    <tr>\n",
       "      <th>2</th>\n",
       "      <td>AMC Spirit</td>\n",
       "      <td>3799</td>\n",
       "    </tr>\n",
       "    <tr>\n",
       "      <th>3</th>\n",
       "      <td>Buick Century</td>\n",
       "      <td>4816</td>\n",
       "    </tr>\n",
       "    <tr>\n",
       "      <th>4</th>\n",
       "      <td>Buick Electra</td>\n",
       "      <td>7827</td>\n",
       "    </tr>\n",
       "  </tbody>\n",
       "</table>\n",
       "</div>"
      ],
      "text/plain": [
       "            make  price\n",
       "0    AMC Concord   4099\n",
       "1      AMC Pacer   4749\n",
       "2     AMC Spirit   3799\n",
       "3  Buick Century   4816\n",
       "4  Buick Electra   7827"
      ]
     },
     "execution_count": 204,
     "metadata": {},
     "output_type": "execute_result"
    }
   ],
   "source": [
    "cars[[\"make\", \"price\"]].head()"
   ]
  },
  {
   "cell_type": "code",
   "execution_count": 205,
   "metadata": {
    "collapsed": false
   },
   "outputs": [
    {
     "data": {
      "text/plain": [
       "pandas.core.frame.DataFrame"
      ]
     },
     "execution_count": 205,
     "metadata": {},
     "output_type": "execute_result"
    }
   ],
   "source": [
    "type(cars[[\"make\", \"price\"]])"
   ]
  },
  {
   "cell_type": "code",
   "execution_count": 206,
   "metadata": {
    "collapsed": false
   },
   "outputs": [
    {
     "data": {
      "text/html": [
       "<div>\n",
       "<style scoped>\n",
       "    .dataframe tbody tr th:only-of-type {\n",
       "        vertical-align: middle;\n",
       "    }\n",
       "\n",
       "    .dataframe tbody tr th {\n",
       "        vertical-align: top;\n",
       "    }\n",
       "\n",
       "    .dataframe thead th {\n",
       "        text-align: right;\n",
       "    }\n",
       "</style>\n",
       "<table border=\"1\" class=\"dataframe\">\n",
       "  <thead>\n",
       "    <tr style=\"text-align: right;\">\n",
       "      <th></th>\n",
       "      <th>price</th>\n",
       "      <th>mpg</th>\n",
       "      <th>rep78</th>\n",
       "      <th>headroom</th>\n",
       "      <th>trunk</th>\n",
       "      <th>weight</th>\n",
       "      <th>length</th>\n",
       "      <th>turn</th>\n",
       "      <th>displacement</th>\n",
       "      <th>gear_ratio</th>\n",
       "    </tr>\n",
       "  </thead>\n",
       "  <tbody>\n",
       "    <tr>\n",
       "      <th>count</th>\n",
       "      <td>74.000000</td>\n",
       "      <td>74.000000</td>\n",
       "      <td>69.000000</td>\n",
       "      <td>74.000000</td>\n",
       "      <td>74.000000</td>\n",
       "      <td>74.000000</td>\n",
       "      <td>74.000000</td>\n",
       "      <td>74.000000</td>\n",
       "      <td>74.000000</td>\n",
       "      <td>74.000000</td>\n",
       "    </tr>\n",
       "    <tr>\n",
       "      <th>mean</th>\n",
       "      <td>6165.256757</td>\n",
       "      <td>21.297297</td>\n",
       "      <td>3.405797</td>\n",
       "      <td>2.993243</td>\n",
       "      <td>13.756757</td>\n",
       "      <td>3019.459459</td>\n",
       "      <td>187.932432</td>\n",
       "      <td>39.648649</td>\n",
       "      <td>197.297297</td>\n",
       "      <td>3.014865</td>\n",
       "    </tr>\n",
       "    <tr>\n",
       "      <th>std</th>\n",
       "      <td>2949.495885</td>\n",
       "      <td>5.785503</td>\n",
       "      <td>0.989932</td>\n",
       "      <td>0.845995</td>\n",
       "      <td>4.277404</td>\n",
       "      <td>777.193567</td>\n",
       "      <td>22.266340</td>\n",
       "      <td>4.399354</td>\n",
       "      <td>91.837219</td>\n",
       "      <td>0.456287</td>\n",
       "    </tr>\n",
       "    <tr>\n",
       "      <th>min</th>\n",
       "      <td>3291.000000</td>\n",
       "      <td>12.000000</td>\n",
       "      <td>1.000000</td>\n",
       "      <td>1.500000</td>\n",
       "      <td>5.000000</td>\n",
       "      <td>1760.000000</td>\n",
       "      <td>142.000000</td>\n",
       "      <td>31.000000</td>\n",
       "      <td>79.000000</td>\n",
       "      <td>2.190000</td>\n",
       "    </tr>\n",
       "    <tr>\n",
       "      <th>25%</th>\n",
       "      <td>4220.250000</td>\n",
       "      <td>18.000000</td>\n",
       "      <td>3.000000</td>\n",
       "      <td>2.500000</td>\n",
       "      <td>10.250000</td>\n",
       "      <td>2250.000000</td>\n",
       "      <td>170.000000</td>\n",
       "      <td>36.000000</td>\n",
       "      <td>119.000000</td>\n",
       "      <td>2.730000</td>\n",
       "    </tr>\n",
       "    <tr>\n",
       "      <th>50%</th>\n",
       "      <td>5006.500000</td>\n",
       "      <td>20.000000</td>\n",
       "      <td>3.000000</td>\n",
       "      <td>3.000000</td>\n",
       "      <td>14.000000</td>\n",
       "      <td>3190.000000</td>\n",
       "      <td>192.500000</td>\n",
       "      <td>40.000000</td>\n",
       "      <td>196.000000</td>\n",
       "      <td>2.955000</td>\n",
       "    </tr>\n",
       "    <tr>\n",
       "      <th>75%</th>\n",
       "      <td>6332.250000</td>\n",
       "      <td>24.750000</td>\n",
       "      <td>4.000000</td>\n",
       "      <td>3.500000</td>\n",
       "      <td>16.750000</td>\n",
       "      <td>3600.000000</td>\n",
       "      <td>203.750000</td>\n",
       "      <td>43.000000</td>\n",
       "      <td>245.250000</td>\n",
       "      <td>3.352500</td>\n",
       "    </tr>\n",
       "    <tr>\n",
       "      <th>max</th>\n",
       "      <td>15906.000000</td>\n",
       "      <td>41.000000</td>\n",
       "      <td>5.000000</td>\n",
       "      <td>5.000000</td>\n",
       "      <td>23.000000</td>\n",
       "      <td>4840.000000</td>\n",
       "      <td>233.000000</td>\n",
       "      <td>51.000000</td>\n",
       "      <td>425.000000</td>\n",
       "      <td>3.890000</td>\n",
       "    </tr>\n",
       "  </tbody>\n",
       "</table>\n",
       "</div>"
      ],
      "text/plain": [
       "              price        mpg      rep78   headroom      trunk       weight  \\\n",
       "count     74.000000  74.000000  69.000000  74.000000  74.000000    74.000000   \n",
       "mean    6165.256757  21.297297   3.405797   2.993243  13.756757  3019.459459   \n",
       "std     2949.495885   5.785503   0.989932   0.845995   4.277404   777.193567   \n",
       "min     3291.000000  12.000000   1.000000   1.500000   5.000000  1760.000000   \n",
       "25%     4220.250000  18.000000   3.000000   2.500000  10.250000  2250.000000   \n",
       "50%     5006.500000  20.000000   3.000000   3.000000  14.000000  3190.000000   \n",
       "75%     6332.250000  24.750000   4.000000   3.500000  16.750000  3600.000000   \n",
       "max    15906.000000  41.000000   5.000000   5.000000  23.000000  4840.000000   \n",
       "\n",
       "           length       turn  displacement  gear_ratio  \n",
       "count   74.000000  74.000000     74.000000   74.000000  \n",
       "mean   187.932432  39.648649    197.297297    3.014865  \n",
       "std     22.266340   4.399354     91.837219    0.456287  \n",
       "min    142.000000  31.000000     79.000000    2.190000  \n",
       "25%    170.000000  36.000000    119.000000    2.730000  \n",
       "50%    192.500000  40.000000    196.000000    2.955000  \n",
       "75%    203.750000  43.000000    245.250000    3.352500  \n",
       "max    233.000000  51.000000    425.000000    3.890000  "
      ]
     },
     "execution_count": 206,
     "metadata": {},
     "output_type": "execute_result"
    }
   ],
   "source": [
    "cars.describe()"
   ]
  },
  {
   "cell_type": "markdown",
   "metadata": {},
   "source": [
    "Condition the dataframe on cars of type \"Ford Mustang\" by using \"loc\", i.e. condition on row values. "
   ]
  },
  {
   "cell_type": "code",
   "execution_count": 207,
   "metadata": {
    "collapsed": false
   },
   "outputs": [
    {
     "data": {
      "text/html": [
       "<div>\n",
       "<style scoped>\n",
       "    .dataframe tbody tr th:only-of-type {\n",
       "        vertical-align: middle;\n",
       "    }\n",
       "\n",
       "    .dataframe tbody tr th {\n",
       "        vertical-align: top;\n",
       "    }\n",
       "\n",
       "    .dataframe thead th {\n",
       "        text-align: right;\n",
       "    }\n",
       "</style>\n",
       "<table border=\"1\" class=\"dataframe\">\n",
       "  <thead>\n",
       "    <tr style=\"text-align: right;\">\n",
       "      <th></th>\n",
       "      <th>make</th>\n",
       "      <th>price</th>\n",
       "      <th>mpg</th>\n",
       "      <th>rep78</th>\n",
       "      <th>headroom</th>\n",
       "      <th>trunk</th>\n",
       "      <th>weight</th>\n",
       "      <th>length</th>\n",
       "      <th>turn</th>\n",
       "      <th>displacement</th>\n",
       "      <th>gear_ratio</th>\n",
       "      <th>foreign</th>\n",
       "    </tr>\n",
       "  </thead>\n",
       "  <tbody>\n",
       "    <tr>\n",
       "      <th>24</th>\n",
       "      <td>Ford Mustang</td>\n",
       "      <td>4187</td>\n",
       "      <td>21</td>\n",
       "      <td>3.0</td>\n",
       "      <td>2.0</td>\n",
       "      <td>10</td>\n",
       "      <td>2650</td>\n",
       "      <td>179</td>\n",
       "      <td>43</td>\n",
       "      <td>140</td>\n",
       "      <td>3.08</td>\n",
       "      <td>Domestic</td>\n",
       "    </tr>\n",
       "  </tbody>\n",
       "</table>\n",
       "</div>"
      ],
      "text/plain": [
       "            make  price  mpg  rep78  headroom  trunk  weight  length  turn  \\\n",
       "24  Ford Mustang   4187   21    3.0       2.0     10    2650     179    43   \n",
       "\n",
       "    displacement  gear_ratio   foreign  \n",
       "24           140        3.08  Domestic  "
      ]
     },
     "execution_count": 207,
     "metadata": {},
     "output_type": "execute_result"
    }
   ],
   "source": [
    "cars.loc[cars[\"make\"] == \"Ford Mustang\"]"
   ]
  },
  {
   "cell_type": "code",
   "execution_count": 208,
   "metadata": {
    "collapsed": false
   },
   "outputs": [
    {
     "data": {
      "text/html": [
       "<div>\n",
       "<style scoped>\n",
       "    .dataframe tbody tr th:only-of-type {\n",
       "        vertical-align: middle;\n",
       "    }\n",
       "\n",
       "    .dataframe tbody tr th {\n",
       "        vertical-align: top;\n",
       "    }\n",
       "\n",
       "    .dataframe thead th {\n",
       "        text-align: right;\n",
       "    }\n",
       "</style>\n",
       "<table border=\"1\" class=\"dataframe\">\n",
       "  <thead>\n",
       "    <tr style=\"text-align: right;\">\n",
       "      <th></th>\n",
       "      <th>make</th>\n",
       "      <th>price</th>\n",
       "      <th>mpg</th>\n",
       "      <th>rep78</th>\n",
       "      <th>headroom</th>\n",
       "      <th>trunk</th>\n",
       "      <th>weight</th>\n",
       "      <th>length</th>\n",
       "      <th>turn</th>\n",
       "      <th>displacement</th>\n",
       "      <th>gear_ratio</th>\n",
       "      <th>foreign</th>\n",
       "    </tr>\n",
       "  </thead>\n",
       "  <tbody>\n",
       "    <tr>\n",
       "      <th>52</th>\n",
       "      <td>Audi 5000</td>\n",
       "      <td>9690</td>\n",
       "      <td>17</td>\n",
       "      <td>5.0</td>\n",
       "      <td>3.0</td>\n",
       "      <td>15</td>\n",
       "      <td>2830</td>\n",
       "      <td>189</td>\n",
       "      <td>37</td>\n",
       "      <td>131</td>\n",
       "      <td>3.20</td>\n",
       "      <td>Foreign</td>\n",
       "    </tr>\n",
       "    <tr>\n",
       "      <th>53</th>\n",
       "      <td>Audi Fox</td>\n",
       "      <td>6295</td>\n",
       "      <td>23</td>\n",
       "      <td>3.0</td>\n",
       "      <td>2.5</td>\n",
       "      <td>11</td>\n",
       "      <td>2070</td>\n",
       "      <td>174</td>\n",
       "      <td>36</td>\n",
       "      <td>97</td>\n",
       "      <td>3.70</td>\n",
       "      <td>Foreign</td>\n",
       "    </tr>\n",
       "    <tr>\n",
       "      <th>54</th>\n",
       "      <td>BMW 320i</td>\n",
       "      <td>9735</td>\n",
       "      <td>25</td>\n",
       "      <td>4.0</td>\n",
       "      <td>2.5</td>\n",
       "      <td>12</td>\n",
       "      <td>2650</td>\n",
       "      <td>177</td>\n",
       "      <td>34</td>\n",
       "      <td>121</td>\n",
       "      <td>3.64</td>\n",
       "      <td>Foreign</td>\n",
       "    </tr>\n",
       "    <tr>\n",
       "      <th>55</th>\n",
       "      <td>Datsun 200</td>\n",
       "      <td>6229</td>\n",
       "      <td>23</td>\n",
       "      <td>4.0</td>\n",
       "      <td>1.5</td>\n",
       "      <td>6</td>\n",
       "      <td>2370</td>\n",
       "      <td>170</td>\n",
       "      <td>35</td>\n",
       "      <td>119</td>\n",
       "      <td>3.89</td>\n",
       "      <td>Foreign</td>\n",
       "    </tr>\n",
       "    <tr>\n",
       "      <th>56</th>\n",
       "      <td>Datsun 210</td>\n",
       "      <td>4589</td>\n",
       "      <td>35</td>\n",
       "      <td>5.0</td>\n",
       "      <td>2.0</td>\n",
       "      <td>8</td>\n",
       "      <td>2020</td>\n",
       "      <td>165</td>\n",
       "      <td>32</td>\n",
       "      <td>85</td>\n",
       "      <td>3.70</td>\n",
       "      <td>Foreign</td>\n",
       "    </tr>\n",
       "    <tr>\n",
       "      <th>57</th>\n",
       "      <td>Datsun 510</td>\n",
       "      <td>5079</td>\n",
       "      <td>24</td>\n",
       "      <td>4.0</td>\n",
       "      <td>2.5</td>\n",
       "      <td>8</td>\n",
       "      <td>2280</td>\n",
       "      <td>170</td>\n",
       "      <td>34</td>\n",
       "      <td>119</td>\n",
       "      <td>3.54</td>\n",
       "      <td>Foreign</td>\n",
       "    </tr>\n",
       "    <tr>\n",
       "      <th>58</th>\n",
       "      <td>Datsun 810</td>\n",
       "      <td>8129</td>\n",
       "      <td>21</td>\n",
       "      <td>4.0</td>\n",
       "      <td>2.5</td>\n",
       "      <td>8</td>\n",
       "      <td>2750</td>\n",
       "      <td>184</td>\n",
       "      <td>38</td>\n",
       "      <td>146</td>\n",
       "      <td>3.55</td>\n",
       "      <td>Foreign</td>\n",
       "    </tr>\n",
       "    <tr>\n",
       "      <th>59</th>\n",
       "      <td>Fiat Strada</td>\n",
       "      <td>4296</td>\n",
       "      <td>21</td>\n",
       "      <td>3.0</td>\n",
       "      <td>2.5</td>\n",
       "      <td>16</td>\n",
       "      <td>2130</td>\n",
       "      <td>161</td>\n",
       "      <td>36</td>\n",
       "      <td>105</td>\n",
       "      <td>3.37</td>\n",
       "      <td>Foreign</td>\n",
       "    </tr>\n",
       "    <tr>\n",
       "      <th>60</th>\n",
       "      <td>Honda Accord</td>\n",
       "      <td>5799</td>\n",
       "      <td>25</td>\n",
       "      <td>5.0</td>\n",
       "      <td>3.0</td>\n",
       "      <td>10</td>\n",
       "      <td>2240</td>\n",
       "      <td>172</td>\n",
       "      <td>36</td>\n",
       "      <td>107</td>\n",
       "      <td>3.05</td>\n",
       "      <td>Foreign</td>\n",
       "    </tr>\n",
       "    <tr>\n",
       "      <th>61</th>\n",
       "      <td>Honda Civic</td>\n",
       "      <td>4499</td>\n",
       "      <td>28</td>\n",
       "      <td>4.0</td>\n",
       "      <td>2.5</td>\n",
       "      <td>5</td>\n",
       "      <td>1760</td>\n",
       "      <td>149</td>\n",
       "      <td>34</td>\n",
       "      <td>91</td>\n",
       "      <td>3.30</td>\n",
       "      <td>Foreign</td>\n",
       "    </tr>\n",
       "    <tr>\n",
       "      <th>62</th>\n",
       "      <td>Mazda GLC</td>\n",
       "      <td>3995</td>\n",
       "      <td>30</td>\n",
       "      <td>4.0</td>\n",
       "      <td>3.5</td>\n",
       "      <td>11</td>\n",
       "      <td>1980</td>\n",
       "      <td>154</td>\n",
       "      <td>33</td>\n",
       "      <td>86</td>\n",
       "      <td>3.73</td>\n",
       "      <td>Foreign</td>\n",
       "    </tr>\n",
       "    <tr>\n",
       "      <th>63</th>\n",
       "      <td>Peugeot 604</td>\n",
       "      <td>12990</td>\n",
       "      <td>14</td>\n",
       "      <td>NaN</td>\n",
       "      <td>3.5</td>\n",
       "      <td>14</td>\n",
       "      <td>3420</td>\n",
       "      <td>192</td>\n",
       "      <td>38</td>\n",
       "      <td>163</td>\n",
       "      <td>3.58</td>\n",
       "      <td>Foreign</td>\n",
       "    </tr>\n",
       "    <tr>\n",
       "      <th>64</th>\n",
       "      <td>Renault Le Car</td>\n",
       "      <td>3895</td>\n",
       "      <td>26</td>\n",
       "      <td>3.0</td>\n",
       "      <td>3.0</td>\n",
       "      <td>10</td>\n",
       "      <td>1830</td>\n",
       "      <td>142</td>\n",
       "      <td>34</td>\n",
       "      <td>79</td>\n",
       "      <td>3.72</td>\n",
       "      <td>Foreign</td>\n",
       "    </tr>\n",
       "    <tr>\n",
       "      <th>65</th>\n",
       "      <td>Subaru</td>\n",
       "      <td>3798</td>\n",
       "      <td>35</td>\n",
       "      <td>5.0</td>\n",
       "      <td>2.5</td>\n",
       "      <td>11</td>\n",
       "      <td>2050</td>\n",
       "      <td>164</td>\n",
       "      <td>36</td>\n",
       "      <td>97</td>\n",
       "      <td>3.81</td>\n",
       "      <td>Foreign</td>\n",
       "    </tr>\n",
       "    <tr>\n",
       "      <th>66</th>\n",
       "      <td>Toyota Celica</td>\n",
       "      <td>5899</td>\n",
       "      <td>18</td>\n",
       "      <td>5.0</td>\n",
       "      <td>2.5</td>\n",
       "      <td>14</td>\n",
       "      <td>2410</td>\n",
       "      <td>174</td>\n",
       "      <td>36</td>\n",
       "      <td>134</td>\n",
       "      <td>3.06</td>\n",
       "      <td>Foreign</td>\n",
       "    </tr>\n",
       "    <tr>\n",
       "      <th>67</th>\n",
       "      <td>Toyota Corolla</td>\n",
       "      <td>3748</td>\n",
       "      <td>31</td>\n",
       "      <td>5.0</td>\n",
       "      <td>3.0</td>\n",
       "      <td>9</td>\n",
       "      <td>2200</td>\n",
       "      <td>165</td>\n",
       "      <td>35</td>\n",
       "      <td>97</td>\n",
       "      <td>3.21</td>\n",
       "      <td>Foreign</td>\n",
       "    </tr>\n",
       "    <tr>\n",
       "      <th>68</th>\n",
       "      <td>Toyota Corona</td>\n",
       "      <td>5719</td>\n",
       "      <td>18</td>\n",
       "      <td>5.0</td>\n",
       "      <td>2.0</td>\n",
       "      <td>11</td>\n",
       "      <td>2670</td>\n",
       "      <td>175</td>\n",
       "      <td>36</td>\n",
       "      <td>134</td>\n",
       "      <td>3.05</td>\n",
       "      <td>Foreign</td>\n",
       "    </tr>\n",
       "    <tr>\n",
       "      <th>69</th>\n",
       "      <td>VW Dasher</td>\n",
       "      <td>7140</td>\n",
       "      <td>23</td>\n",
       "      <td>4.0</td>\n",
       "      <td>2.5</td>\n",
       "      <td>12</td>\n",
       "      <td>2160</td>\n",
       "      <td>172</td>\n",
       "      <td>36</td>\n",
       "      <td>97</td>\n",
       "      <td>3.74</td>\n",
       "      <td>Foreign</td>\n",
       "    </tr>\n",
       "    <tr>\n",
       "      <th>70</th>\n",
       "      <td>VW Diesel</td>\n",
       "      <td>5397</td>\n",
       "      <td>41</td>\n",
       "      <td>5.0</td>\n",
       "      <td>3.0</td>\n",
       "      <td>15</td>\n",
       "      <td>2040</td>\n",
       "      <td>155</td>\n",
       "      <td>35</td>\n",
       "      <td>90</td>\n",
       "      <td>3.78</td>\n",
       "      <td>Foreign</td>\n",
       "    </tr>\n",
       "    <tr>\n",
       "      <th>71</th>\n",
       "      <td>VW Rabbit</td>\n",
       "      <td>4697</td>\n",
       "      <td>25</td>\n",
       "      <td>4.0</td>\n",
       "      <td>3.0</td>\n",
       "      <td>15</td>\n",
       "      <td>1930</td>\n",
       "      <td>155</td>\n",
       "      <td>35</td>\n",
       "      <td>89</td>\n",
       "      <td>3.78</td>\n",
       "      <td>Foreign</td>\n",
       "    </tr>\n",
       "    <tr>\n",
       "      <th>72</th>\n",
       "      <td>VW Scirocco</td>\n",
       "      <td>6850</td>\n",
       "      <td>25</td>\n",
       "      <td>4.0</td>\n",
       "      <td>2.0</td>\n",
       "      <td>16</td>\n",
       "      <td>1990</td>\n",
       "      <td>156</td>\n",
       "      <td>36</td>\n",
       "      <td>97</td>\n",
       "      <td>3.78</td>\n",
       "      <td>Foreign</td>\n",
       "    </tr>\n",
       "    <tr>\n",
       "      <th>73</th>\n",
       "      <td>Volvo 260</td>\n",
       "      <td>11995</td>\n",
       "      <td>17</td>\n",
       "      <td>5.0</td>\n",
       "      <td>2.5</td>\n",
       "      <td>14</td>\n",
       "      <td>3170</td>\n",
       "      <td>193</td>\n",
       "      <td>37</td>\n",
       "      <td>163</td>\n",
       "      <td>2.98</td>\n",
       "      <td>Foreign</td>\n",
       "    </tr>\n",
       "  </tbody>\n",
       "</table>\n",
       "</div>"
      ],
      "text/plain": [
       "              make  price  mpg  rep78  headroom  trunk  weight  length  turn  \\\n",
       "52       Audi 5000   9690   17    5.0       3.0     15    2830     189    37   \n",
       "53        Audi Fox   6295   23    3.0       2.5     11    2070     174    36   \n",
       "54        BMW 320i   9735   25    4.0       2.5     12    2650     177    34   \n",
       "55      Datsun 200   6229   23    4.0       1.5      6    2370     170    35   \n",
       "56      Datsun 210   4589   35    5.0       2.0      8    2020     165    32   \n",
       "57      Datsun 510   5079   24    4.0       2.5      8    2280     170    34   \n",
       "58      Datsun 810   8129   21    4.0       2.5      8    2750     184    38   \n",
       "59     Fiat Strada   4296   21    3.0       2.5     16    2130     161    36   \n",
       "60    Honda Accord   5799   25    5.0       3.0     10    2240     172    36   \n",
       "61     Honda Civic   4499   28    4.0       2.5      5    1760     149    34   \n",
       "62       Mazda GLC   3995   30    4.0       3.5     11    1980     154    33   \n",
       "63     Peugeot 604  12990   14    NaN       3.5     14    3420     192    38   \n",
       "64  Renault Le Car   3895   26    3.0       3.0     10    1830     142    34   \n",
       "65          Subaru   3798   35    5.0       2.5     11    2050     164    36   \n",
       "66   Toyota Celica   5899   18    5.0       2.5     14    2410     174    36   \n",
       "67  Toyota Corolla   3748   31    5.0       3.0      9    2200     165    35   \n",
       "68   Toyota Corona   5719   18    5.0       2.0     11    2670     175    36   \n",
       "69       VW Dasher   7140   23    4.0       2.5     12    2160     172    36   \n",
       "70       VW Diesel   5397   41    5.0       3.0     15    2040     155    35   \n",
       "71       VW Rabbit   4697   25    4.0       3.0     15    1930     155    35   \n",
       "72     VW Scirocco   6850   25    4.0       2.0     16    1990     156    36   \n",
       "73       Volvo 260  11995   17    5.0       2.5     14    3170     193    37   \n",
       "\n",
       "    displacement  gear_ratio  foreign  \n",
       "52           131        3.20  Foreign  \n",
       "53            97        3.70  Foreign  \n",
       "54           121        3.64  Foreign  \n",
       "55           119        3.89  Foreign  \n",
       "56            85        3.70  Foreign  \n",
       "57           119        3.54  Foreign  \n",
       "58           146        3.55  Foreign  \n",
       "59           105        3.37  Foreign  \n",
       "60           107        3.05  Foreign  \n",
       "61            91        3.30  Foreign  \n",
       "62            86        3.73  Foreign  \n",
       "63           163        3.58  Foreign  \n",
       "64            79        3.72  Foreign  \n",
       "65            97        3.81  Foreign  \n",
       "66           134        3.06  Foreign  \n",
       "67            97        3.21  Foreign  \n",
       "68           134        3.05  Foreign  \n",
       "69            97        3.74  Foreign  \n",
       "70            90        3.78  Foreign  \n",
       "71            89        3.78  Foreign  \n",
       "72            97        3.78  Foreign  \n",
       "73           163        2.98  Foreign  "
      ]
     },
     "execution_count": 208,
     "metadata": {},
     "output_type": "execute_result"
    }
   ],
   "source": [
    "cars.loc[cars[\"foreign\"] == \"Foreign\"]"
   ]
  },
  {
   "cell_type": "markdown",
   "metadata": {},
   "source": [
    "Create a new variable."
   ]
  },
  {
   "cell_type": "code",
   "execution_count": 209,
   "metadata": {
    "collapsed": false
   },
   "outputs": [],
   "source": [
    "cars[\"headroom_squared\"] = np.power(cars[\"headroom\"], 2)"
   ]
  },
  {
   "cell_type": "code",
   "execution_count": 210,
   "metadata": {
    "collapsed": true
   },
   "outputs": [],
   "source": [
    "cars[\"expensive\"] = 0"
   ]
  },
  {
   "cell_type": "code",
   "execution_count": 211,
   "metadata": {
    "collapsed": false
   },
   "outputs": [],
   "source": [
    "cars.loc[cars[\"price\"] > 10000, \"expensive\"] = 1"
   ]
  },
  {
   "cell_type": "code",
   "execution_count": 212,
   "metadata": {
    "collapsed": false
   },
   "outputs": [
    {
     "data": {
      "text/html": [
       "<div>\n",
       "<style scoped>\n",
       "    .dataframe tbody tr th:only-of-type {\n",
       "        vertical-align: middle;\n",
       "    }\n",
       "\n",
       "    .dataframe tbody tr th {\n",
       "        vertical-align: top;\n",
       "    }\n",
       "\n",
       "    .dataframe thead th {\n",
       "        text-align: right;\n",
       "    }\n",
       "</style>\n",
       "<table border=\"1\" class=\"dataframe\">\n",
       "  <thead>\n",
       "    <tr style=\"text-align: right;\">\n",
       "      <th></th>\n",
       "      <th>make</th>\n",
       "      <th>price</th>\n",
       "      <th>mpg</th>\n",
       "      <th>rep78</th>\n",
       "      <th>headroom</th>\n",
       "      <th>trunk</th>\n",
       "      <th>weight</th>\n",
       "      <th>length</th>\n",
       "      <th>turn</th>\n",
       "      <th>displacement</th>\n",
       "      <th>gear_ratio</th>\n",
       "      <th>foreign</th>\n",
       "      <th>headroom_squared</th>\n",
       "      <th>expensive</th>\n",
       "    </tr>\n",
       "  </thead>\n",
       "  <tbody>\n",
       "    <tr>\n",
       "      <th>0</th>\n",
       "      <td>AMC Concord</td>\n",
       "      <td>4099</td>\n",
       "      <td>22</td>\n",
       "      <td>3.0</td>\n",
       "      <td>2.5</td>\n",
       "      <td>11</td>\n",
       "      <td>2930</td>\n",
       "      <td>186</td>\n",
       "      <td>40</td>\n",
       "      <td>121</td>\n",
       "      <td>3.58</td>\n",
       "      <td>Domestic</td>\n",
       "      <td>6.25</td>\n",
       "      <td>0</td>\n",
       "    </tr>\n",
       "    <tr>\n",
       "      <th>1</th>\n",
       "      <td>AMC Pacer</td>\n",
       "      <td>4749</td>\n",
       "      <td>17</td>\n",
       "      <td>3.0</td>\n",
       "      <td>3.0</td>\n",
       "      <td>11</td>\n",
       "      <td>3350</td>\n",
       "      <td>173</td>\n",
       "      <td>40</td>\n",
       "      <td>258</td>\n",
       "      <td>2.53</td>\n",
       "      <td>Domestic</td>\n",
       "      <td>9.00</td>\n",
       "      <td>0</td>\n",
       "    </tr>\n",
       "    <tr>\n",
       "      <th>2</th>\n",
       "      <td>AMC Spirit</td>\n",
       "      <td>3799</td>\n",
       "      <td>22</td>\n",
       "      <td>NaN</td>\n",
       "      <td>3.0</td>\n",
       "      <td>12</td>\n",
       "      <td>2640</td>\n",
       "      <td>168</td>\n",
       "      <td>35</td>\n",
       "      <td>121</td>\n",
       "      <td>3.08</td>\n",
       "      <td>Domestic</td>\n",
       "      <td>9.00</td>\n",
       "      <td>0</td>\n",
       "    </tr>\n",
       "    <tr>\n",
       "      <th>3</th>\n",
       "      <td>Buick Century</td>\n",
       "      <td>4816</td>\n",
       "      <td>20</td>\n",
       "      <td>3.0</td>\n",
       "      <td>4.5</td>\n",
       "      <td>16</td>\n",
       "      <td>3250</td>\n",
       "      <td>196</td>\n",
       "      <td>40</td>\n",
       "      <td>196</td>\n",
       "      <td>2.93</td>\n",
       "      <td>Domestic</td>\n",
       "      <td>20.25</td>\n",
       "      <td>0</td>\n",
       "    </tr>\n",
       "    <tr>\n",
       "      <th>4</th>\n",
       "      <td>Buick Electra</td>\n",
       "      <td>7827</td>\n",
       "      <td>15</td>\n",
       "      <td>4.0</td>\n",
       "      <td>4.0</td>\n",
       "      <td>20</td>\n",
       "      <td>4080</td>\n",
       "      <td>222</td>\n",
       "      <td>43</td>\n",
       "      <td>350</td>\n",
       "      <td>2.41</td>\n",
       "      <td>Domestic</td>\n",
       "      <td>16.00</td>\n",
       "      <td>0</td>\n",
       "    </tr>\n",
       "    <tr>\n",
       "      <th>5</th>\n",
       "      <td>Buick LeSabre</td>\n",
       "      <td>5788</td>\n",
       "      <td>18</td>\n",
       "      <td>3.0</td>\n",
       "      <td>4.0</td>\n",
       "      <td>21</td>\n",
       "      <td>3670</td>\n",
       "      <td>218</td>\n",
       "      <td>43</td>\n",
       "      <td>231</td>\n",
       "      <td>2.73</td>\n",
       "      <td>Domestic</td>\n",
       "      <td>16.00</td>\n",
       "      <td>0</td>\n",
       "    </tr>\n",
       "    <tr>\n",
       "      <th>6</th>\n",
       "      <td>Buick Opel</td>\n",
       "      <td>4453</td>\n",
       "      <td>26</td>\n",
       "      <td>NaN</td>\n",
       "      <td>3.0</td>\n",
       "      <td>10</td>\n",
       "      <td>2230</td>\n",
       "      <td>170</td>\n",
       "      <td>34</td>\n",
       "      <td>304</td>\n",
       "      <td>2.87</td>\n",
       "      <td>Domestic</td>\n",
       "      <td>9.00</td>\n",
       "      <td>0</td>\n",
       "    </tr>\n",
       "    <tr>\n",
       "      <th>7</th>\n",
       "      <td>Buick Regal</td>\n",
       "      <td>5189</td>\n",
       "      <td>20</td>\n",
       "      <td>3.0</td>\n",
       "      <td>2.0</td>\n",
       "      <td>16</td>\n",
       "      <td>3280</td>\n",
       "      <td>200</td>\n",
       "      <td>42</td>\n",
       "      <td>196</td>\n",
       "      <td>2.93</td>\n",
       "      <td>Domestic</td>\n",
       "      <td>4.00</td>\n",
       "      <td>0</td>\n",
       "    </tr>\n",
       "    <tr>\n",
       "      <th>8</th>\n",
       "      <td>Buick Riviera</td>\n",
       "      <td>10372</td>\n",
       "      <td>16</td>\n",
       "      <td>3.0</td>\n",
       "      <td>3.5</td>\n",
       "      <td>17</td>\n",
       "      <td>3880</td>\n",
       "      <td>207</td>\n",
       "      <td>43</td>\n",
       "      <td>231</td>\n",
       "      <td>2.93</td>\n",
       "      <td>Domestic</td>\n",
       "      <td>12.25</td>\n",
       "      <td>1</td>\n",
       "    </tr>\n",
       "    <tr>\n",
       "      <th>9</th>\n",
       "      <td>Buick Skylark</td>\n",
       "      <td>4082</td>\n",
       "      <td>19</td>\n",
       "      <td>3.0</td>\n",
       "      <td>3.5</td>\n",
       "      <td>13</td>\n",
       "      <td>3400</td>\n",
       "      <td>200</td>\n",
       "      <td>42</td>\n",
       "      <td>231</td>\n",
       "      <td>3.08</td>\n",
       "      <td>Domestic</td>\n",
       "      <td>12.25</td>\n",
       "      <td>0</td>\n",
       "    </tr>\n",
       "    <tr>\n",
       "      <th>10</th>\n",
       "      <td>Cad. Deville</td>\n",
       "      <td>11385</td>\n",
       "      <td>14</td>\n",
       "      <td>3.0</td>\n",
       "      <td>4.0</td>\n",
       "      <td>20</td>\n",
       "      <td>4330</td>\n",
       "      <td>221</td>\n",
       "      <td>44</td>\n",
       "      <td>425</td>\n",
       "      <td>2.28</td>\n",
       "      <td>Domestic</td>\n",
       "      <td>16.00</td>\n",
       "      <td>1</td>\n",
       "    </tr>\n",
       "    <tr>\n",
       "      <th>11</th>\n",
       "      <td>Cad. Eldorado</td>\n",
       "      <td>14500</td>\n",
       "      <td>14</td>\n",
       "      <td>2.0</td>\n",
       "      <td>3.5</td>\n",
       "      <td>16</td>\n",
       "      <td>3900</td>\n",
       "      <td>204</td>\n",
       "      <td>43</td>\n",
       "      <td>350</td>\n",
       "      <td>2.19</td>\n",
       "      <td>Domestic</td>\n",
       "      <td>12.25</td>\n",
       "      <td>1</td>\n",
       "    </tr>\n",
       "    <tr>\n",
       "      <th>12</th>\n",
       "      <td>Cad. Seville</td>\n",
       "      <td>15906</td>\n",
       "      <td>21</td>\n",
       "      <td>3.0</td>\n",
       "      <td>3.0</td>\n",
       "      <td>13</td>\n",
       "      <td>4290</td>\n",
       "      <td>204</td>\n",
       "      <td>45</td>\n",
       "      <td>350</td>\n",
       "      <td>2.24</td>\n",
       "      <td>Domestic</td>\n",
       "      <td>9.00</td>\n",
       "      <td>1</td>\n",
       "    </tr>\n",
       "    <tr>\n",
       "      <th>13</th>\n",
       "      <td>Chev. Chevette</td>\n",
       "      <td>3299</td>\n",
       "      <td>29</td>\n",
       "      <td>3.0</td>\n",
       "      <td>2.5</td>\n",
       "      <td>9</td>\n",
       "      <td>2110</td>\n",
       "      <td>163</td>\n",
       "      <td>34</td>\n",
       "      <td>231</td>\n",
       "      <td>2.93</td>\n",
       "      <td>Domestic</td>\n",
       "      <td>6.25</td>\n",
       "      <td>0</td>\n",
       "    </tr>\n",
       "    <tr>\n",
       "      <th>14</th>\n",
       "      <td>Chev. Impala</td>\n",
       "      <td>5705</td>\n",
       "      <td>16</td>\n",
       "      <td>4.0</td>\n",
       "      <td>4.0</td>\n",
       "      <td>20</td>\n",
       "      <td>3690</td>\n",
       "      <td>212</td>\n",
       "      <td>43</td>\n",
       "      <td>250</td>\n",
       "      <td>2.56</td>\n",
       "      <td>Domestic</td>\n",
       "      <td>16.00</td>\n",
       "      <td>0</td>\n",
       "    </tr>\n",
       "    <tr>\n",
       "      <th>15</th>\n",
       "      <td>Chev. Malibu</td>\n",
       "      <td>4504</td>\n",
       "      <td>22</td>\n",
       "      <td>3.0</td>\n",
       "      <td>3.5</td>\n",
       "      <td>17</td>\n",
       "      <td>3180</td>\n",
       "      <td>193</td>\n",
       "      <td>31</td>\n",
       "      <td>200</td>\n",
       "      <td>2.73</td>\n",
       "      <td>Domestic</td>\n",
       "      <td>12.25</td>\n",
       "      <td>0</td>\n",
       "    </tr>\n",
       "    <tr>\n",
       "      <th>16</th>\n",
       "      <td>Chev. Monte Carlo</td>\n",
       "      <td>5104</td>\n",
       "      <td>22</td>\n",
       "      <td>2.0</td>\n",
       "      <td>2.0</td>\n",
       "      <td>16</td>\n",
       "      <td>3220</td>\n",
       "      <td>200</td>\n",
       "      <td>41</td>\n",
       "      <td>200</td>\n",
       "      <td>2.73</td>\n",
       "      <td>Domestic</td>\n",
       "      <td>4.00</td>\n",
       "      <td>0</td>\n",
       "    </tr>\n",
       "    <tr>\n",
       "      <th>17</th>\n",
       "      <td>Chev. Monza</td>\n",
       "      <td>3667</td>\n",
       "      <td>24</td>\n",
       "      <td>2.0</td>\n",
       "      <td>2.0</td>\n",
       "      <td>7</td>\n",
       "      <td>2750</td>\n",
       "      <td>179</td>\n",
       "      <td>40</td>\n",
       "      <td>151</td>\n",
       "      <td>2.73</td>\n",
       "      <td>Domestic</td>\n",
       "      <td>4.00</td>\n",
       "      <td>0</td>\n",
       "    </tr>\n",
       "    <tr>\n",
       "      <th>18</th>\n",
       "      <td>Chev. Nova</td>\n",
       "      <td>3955</td>\n",
       "      <td>19</td>\n",
       "      <td>3.0</td>\n",
       "      <td>3.5</td>\n",
       "      <td>13</td>\n",
       "      <td>3430</td>\n",
       "      <td>197</td>\n",
       "      <td>43</td>\n",
       "      <td>250</td>\n",
       "      <td>2.56</td>\n",
       "      <td>Domestic</td>\n",
       "      <td>12.25</td>\n",
       "      <td>0</td>\n",
       "    </tr>\n",
       "    <tr>\n",
       "      <th>19</th>\n",
       "      <td>Dodge Colt</td>\n",
       "      <td>3984</td>\n",
       "      <td>30</td>\n",
       "      <td>5.0</td>\n",
       "      <td>2.0</td>\n",
       "      <td>8</td>\n",
       "      <td>2120</td>\n",
       "      <td>163</td>\n",
       "      <td>35</td>\n",
       "      <td>98</td>\n",
       "      <td>3.54</td>\n",
       "      <td>Domestic</td>\n",
       "      <td>4.00</td>\n",
       "      <td>0</td>\n",
       "    </tr>\n",
       "    <tr>\n",
       "      <th>20</th>\n",
       "      <td>Dodge Diplomat</td>\n",
       "      <td>4010</td>\n",
       "      <td>18</td>\n",
       "      <td>2.0</td>\n",
       "      <td>4.0</td>\n",
       "      <td>17</td>\n",
       "      <td>3600</td>\n",
       "      <td>206</td>\n",
       "      <td>46</td>\n",
       "      <td>318</td>\n",
       "      <td>2.47</td>\n",
       "      <td>Domestic</td>\n",
       "      <td>16.00</td>\n",
       "      <td>0</td>\n",
       "    </tr>\n",
       "    <tr>\n",
       "      <th>21</th>\n",
       "      <td>Dodge Magnum</td>\n",
       "      <td>5886</td>\n",
       "      <td>16</td>\n",
       "      <td>2.0</td>\n",
       "      <td>4.0</td>\n",
       "      <td>17</td>\n",
       "      <td>3600</td>\n",
       "      <td>206</td>\n",
       "      <td>46</td>\n",
       "      <td>318</td>\n",
       "      <td>2.47</td>\n",
       "      <td>Domestic</td>\n",
       "      <td>16.00</td>\n",
       "      <td>0</td>\n",
       "    </tr>\n",
       "    <tr>\n",
       "      <th>22</th>\n",
       "      <td>Dodge St. Regis</td>\n",
       "      <td>6342</td>\n",
       "      <td>17</td>\n",
       "      <td>2.0</td>\n",
       "      <td>4.5</td>\n",
       "      <td>21</td>\n",
       "      <td>3740</td>\n",
       "      <td>220</td>\n",
       "      <td>46</td>\n",
       "      <td>225</td>\n",
       "      <td>2.94</td>\n",
       "      <td>Domestic</td>\n",
       "      <td>20.25</td>\n",
       "      <td>0</td>\n",
       "    </tr>\n",
       "    <tr>\n",
       "      <th>23</th>\n",
       "      <td>Ford Fiesta</td>\n",
       "      <td>4389</td>\n",
       "      <td>28</td>\n",
       "      <td>4.0</td>\n",
       "      <td>1.5</td>\n",
       "      <td>9</td>\n",
       "      <td>1800</td>\n",
       "      <td>147</td>\n",
       "      <td>33</td>\n",
       "      <td>98</td>\n",
       "      <td>3.15</td>\n",
       "      <td>Domestic</td>\n",
       "      <td>2.25</td>\n",
       "      <td>0</td>\n",
       "    </tr>\n",
       "    <tr>\n",
       "      <th>24</th>\n",
       "      <td>Ford Mustang</td>\n",
       "      <td>4187</td>\n",
       "      <td>21</td>\n",
       "      <td>3.0</td>\n",
       "      <td>2.0</td>\n",
       "      <td>10</td>\n",
       "      <td>2650</td>\n",
       "      <td>179</td>\n",
       "      <td>43</td>\n",
       "      <td>140</td>\n",
       "      <td>3.08</td>\n",
       "      <td>Domestic</td>\n",
       "      <td>4.00</td>\n",
       "      <td>0</td>\n",
       "    </tr>\n",
       "    <tr>\n",
       "      <th>25</th>\n",
       "      <td>Linc. Continental</td>\n",
       "      <td>11497</td>\n",
       "      <td>12</td>\n",
       "      <td>3.0</td>\n",
       "      <td>3.5</td>\n",
       "      <td>22</td>\n",
       "      <td>4840</td>\n",
       "      <td>233</td>\n",
       "      <td>51</td>\n",
       "      <td>400</td>\n",
       "      <td>2.47</td>\n",
       "      <td>Domestic</td>\n",
       "      <td>12.25</td>\n",
       "      <td>1</td>\n",
       "    </tr>\n",
       "    <tr>\n",
       "      <th>26</th>\n",
       "      <td>Linc. Mark V</td>\n",
       "      <td>13594</td>\n",
       "      <td>12</td>\n",
       "      <td>3.0</td>\n",
       "      <td>2.5</td>\n",
       "      <td>18</td>\n",
       "      <td>4720</td>\n",
       "      <td>230</td>\n",
       "      <td>48</td>\n",
       "      <td>400</td>\n",
       "      <td>2.47</td>\n",
       "      <td>Domestic</td>\n",
       "      <td>6.25</td>\n",
       "      <td>1</td>\n",
       "    </tr>\n",
       "    <tr>\n",
       "      <th>27</th>\n",
       "      <td>Linc. Versailles</td>\n",
       "      <td>13466</td>\n",
       "      <td>14</td>\n",
       "      <td>3.0</td>\n",
       "      <td>3.5</td>\n",
       "      <td>15</td>\n",
       "      <td>3830</td>\n",
       "      <td>201</td>\n",
       "      <td>41</td>\n",
       "      <td>302</td>\n",
       "      <td>2.47</td>\n",
       "      <td>Domestic</td>\n",
       "      <td>12.25</td>\n",
       "      <td>1</td>\n",
       "    </tr>\n",
       "    <tr>\n",
       "      <th>28</th>\n",
       "      <td>Merc. Bobcat</td>\n",
       "      <td>3829</td>\n",
       "      <td>22</td>\n",
       "      <td>4.0</td>\n",
       "      <td>3.0</td>\n",
       "      <td>9</td>\n",
       "      <td>2580</td>\n",
       "      <td>169</td>\n",
       "      <td>39</td>\n",
       "      <td>140</td>\n",
       "      <td>2.73</td>\n",
       "      <td>Domestic</td>\n",
       "      <td>9.00</td>\n",
       "      <td>0</td>\n",
       "    </tr>\n",
       "    <tr>\n",
       "      <th>29</th>\n",
       "      <td>Merc. Cougar</td>\n",
       "      <td>5379</td>\n",
       "      <td>14</td>\n",
       "      <td>4.0</td>\n",
       "      <td>3.5</td>\n",
       "      <td>16</td>\n",
       "      <td>4060</td>\n",
       "      <td>221</td>\n",
       "      <td>48</td>\n",
       "      <td>302</td>\n",
       "      <td>2.75</td>\n",
       "      <td>Domestic</td>\n",
       "      <td>12.25</td>\n",
       "      <td>0</td>\n",
       "    </tr>\n",
       "    <tr>\n",
       "      <th>...</th>\n",
       "      <td>...</td>\n",
       "      <td>...</td>\n",
       "      <td>...</td>\n",
       "      <td>...</td>\n",
       "      <td>...</td>\n",
       "      <td>...</td>\n",
       "      <td>...</td>\n",
       "      <td>...</td>\n",
       "      <td>...</td>\n",
       "      <td>...</td>\n",
       "      <td>...</td>\n",
       "      <td>...</td>\n",
       "      <td>...</td>\n",
       "      <td>...</td>\n",
       "    </tr>\n",
       "    <tr>\n",
       "      <th>44</th>\n",
       "      <td>Plym. Sapporo</td>\n",
       "      <td>6486</td>\n",
       "      <td>26</td>\n",
       "      <td>NaN</td>\n",
       "      <td>1.5</td>\n",
       "      <td>8</td>\n",
       "      <td>2520</td>\n",
       "      <td>182</td>\n",
       "      <td>38</td>\n",
       "      <td>119</td>\n",
       "      <td>3.54</td>\n",
       "      <td>Domestic</td>\n",
       "      <td>2.25</td>\n",
       "      <td>0</td>\n",
       "    </tr>\n",
       "    <tr>\n",
       "      <th>45</th>\n",
       "      <td>Plym. Volare</td>\n",
       "      <td>4060</td>\n",
       "      <td>18</td>\n",
       "      <td>2.0</td>\n",
       "      <td>5.0</td>\n",
       "      <td>16</td>\n",
       "      <td>3330</td>\n",
       "      <td>201</td>\n",
       "      <td>44</td>\n",
       "      <td>225</td>\n",
       "      <td>3.23</td>\n",
       "      <td>Domestic</td>\n",
       "      <td>25.00</td>\n",
       "      <td>0</td>\n",
       "    </tr>\n",
       "    <tr>\n",
       "      <th>46</th>\n",
       "      <td>Pont. Catalina</td>\n",
       "      <td>5798</td>\n",
       "      <td>18</td>\n",
       "      <td>4.0</td>\n",
       "      <td>4.0</td>\n",
       "      <td>20</td>\n",
       "      <td>3700</td>\n",
       "      <td>214</td>\n",
       "      <td>42</td>\n",
       "      <td>231</td>\n",
       "      <td>2.73</td>\n",
       "      <td>Domestic</td>\n",
       "      <td>16.00</td>\n",
       "      <td>0</td>\n",
       "    </tr>\n",
       "    <tr>\n",
       "      <th>47</th>\n",
       "      <td>Pont. Firebird</td>\n",
       "      <td>4934</td>\n",
       "      <td>18</td>\n",
       "      <td>1.0</td>\n",
       "      <td>1.5</td>\n",
       "      <td>7</td>\n",
       "      <td>3470</td>\n",
       "      <td>198</td>\n",
       "      <td>42</td>\n",
       "      <td>231</td>\n",
       "      <td>3.08</td>\n",
       "      <td>Domestic</td>\n",
       "      <td>2.25</td>\n",
       "      <td>0</td>\n",
       "    </tr>\n",
       "    <tr>\n",
       "      <th>48</th>\n",
       "      <td>Pont. Grand Prix</td>\n",
       "      <td>5222</td>\n",
       "      <td>19</td>\n",
       "      <td>3.0</td>\n",
       "      <td>2.0</td>\n",
       "      <td>16</td>\n",
       "      <td>3210</td>\n",
       "      <td>201</td>\n",
       "      <td>45</td>\n",
       "      <td>231</td>\n",
       "      <td>2.93</td>\n",
       "      <td>Domestic</td>\n",
       "      <td>4.00</td>\n",
       "      <td>0</td>\n",
       "    </tr>\n",
       "    <tr>\n",
       "      <th>49</th>\n",
       "      <td>Pont. Le Mans</td>\n",
       "      <td>4723</td>\n",
       "      <td>19</td>\n",
       "      <td>3.0</td>\n",
       "      <td>3.5</td>\n",
       "      <td>17</td>\n",
       "      <td>3200</td>\n",
       "      <td>199</td>\n",
       "      <td>40</td>\n",
       "      <td>231</td>\n",
       "      <td>2.93</td>\n",
       "      <td>Domestic</td>\n",
       "      <td>12.25</td>\n",
       "      <td>0</td>\n",
       "    </tr>\n",
       "    <tr>\n",
       "      <th>50</th>\n",
       "      <td>Pont. Phoenix</td>\n",
       "      <td>4424</td>\n",
       "      <td>19</td>\n",
       "      <td>NaN</td>\n",
       "      <td>3.5</td>\n",
       "      <td>13</td>\n",
       "      <td>3420</td>\n",
       "      <td>203</td>\n",
       "      <td>43</td>\n",
       "      <td>231</td>\n",
       "      <td>3.08</td>\n",
       "      <td>Domestic</td>\n",
       "      <td>12.25</td>\n",
       "      <td>0</td>\n",
       "    </tr>\n",
       "    <tr>\n",
       "      <th>51</th>\n",
       "      <td>Pont. Sunbird</td>\n",
       "      <td>4172</td>\n",
       "      <td>24</td>\n",
       "      <td>2.0</td>\n",
       "      <td>2.0</td>\n",
       "      <td>7</td>\n",
       "      <td>2690</td>\n",
       "      <td>179</td>\n",
       "      <td>41</td>\n",
       "      <td>151</td>\n",
       "      <td>2.73</td>\n",
       "      <td>Domestic</td>\n",
       "      <td>4.00</td>\n",
       "      <td>0</td>\n",
       "    </tr>\n",
       "    <tr>\n",
       "      <th>52</th>\n",
       "      <td>Audi 5000</td>\n",
       "      <td>9690</td>\n",
       "      <td>17</td>\n",
       "      <td>5.0</td>\n",
       "      <td>3.0</td>\n",
       "      <td>15</td>\n",
       "      <td>2830</td>\n",
       "      <td>189</td>\n",
       "      <td>37</td>\n",
       "      <td>131</td>\n",
       "      <td>3.20</td>\n",
       "      <td>Foreign</td>\n",
       "      <td>9.00</td>\n",
       "      <td>0</td>\n",
       "    </tr>\n",
       "    <tr>\n",
       "      <th>53</th>\n",
       "      <td>Audi Fox</td>\n",
       "      <td>6295</td>\n",
       "      <td>23</td>\n",
       "      <td>3.0</td>\n",
       "      <td>2.5</td>\n",
       "      <td>11</td>\n",
       "      <td>2070</td>\n",
       "      <td>174</td>\n",
       "      <td>36</td>\n",
       "      <td>97</td>\n",
       "      <td>3.70</td>\n",
       "      <td>Foreign</td>\n",
       "      <td>6.25</td>\n",
       "      <td>0</td>\n",
       "    </tr>\n",
       "    <tr>\n",
       "      <th>54</th>\n",
       "      <td>BMW 320i</td>\n",
       "      <td>9735</td>\n",
       "      <td>25</td>\n",
       "      <td>4.0</td>\n",
       "      <td>2.5</td>\n",
       "      <td>12</td>\n",
       "      <td>2650</td>\n",
       "      <td>177</td>\n",
       "      <td>34</td>\n",
       "      <td>121</td>\n",
       "      <td>3.64</td>\n",
       "      <td>Foreign</td>\n",
       "      <td>6.25</td>\n",
       "      <td>0</td>\n",
       "    </tr>\n",
       "    <tr>\n",
       "      <th>55</th>\n",
       "      <td>Datsun 200</td>\n",
       "      <td>6229</td>\n",
       "      <td>23</td>\n",
       "      <td>4.0</td>\n",
       "      <td>1.5</td>\n",
       "      <td>6</td>\n",
       "      <td>2370</td>\n",
       "      <td>170</td>\n",
       "      <td>35</td>\n",
       "      <td>119</td>\n",
       "      <td>3.89</td>\n",
       "      <td>Foreign</td>\n",
       "      <td>2.25</td>\n",
       "      <td>0</td>\n",
       "    </tr>\n",
       "    <tr>\n",
       "      <th>56</th>\n",
       "      <td>Datsun 210</td>\n",
       "      <td>4589</td>\n",
       "      <td>35</td>\n",
       "      <td>5.0</td>\n",
       "      <td>2.0</td>\n",
       "      <td>8</td>\n",
       "      <td>2020</td>\n",
       "      <td>165</td>\n",
       "      <td>32</td>\n",
       "      <td>85</td>\n",
       "      <td>3.70</td>\n",
       "      <td>Foreign</td>\n",
       "      <td>4.00</td>\n",
       "      <td>0</td>\n",
       "    </tr>\n",
       "    <tr>\n",
       "      <th>57</th>\n",
       "      <td>Datsun 510</td>\n",
       "      <td>5079</td>\n",
       "      <td>24</td>\n",
       "      <td>4.0</td>\n",
       "      <td>2.5</td>\n",
       "      <td>8</td>\n",
       "      <td>2280</td>\n",
       "      <td>170</td>\n",
       "      <td>34</td>\n",
       "      <td>119</td>\n",
       "      <td>3.54</td>\n",
       "      <td>Foreign</td>\n",
       "      <td>6.25</td>\n",
       "      <td>0</td>\n",
       "    </tr>\n",
       "    <tr>\n",
       "      <th>58</th>\n",
       "      <td>Datsun 810</td>\n",
       "      <td>8129</td>\n",
       "      <td>21</td>\n",
       "      <td>4.0</td>\n",
       "      <td>2.5</td>\n",
       "      <td>8</td>\n",
       "      <td>2750</td>\n",
       "      <td>184</td>\n",
       "      <td>38</td>\n",
       "      <td>146</td>\n",
       "      <td>3.55</td>\n",
       "      <td>Foreign</td>\n",
       "      <td>6.25</td>\n",
       "      <td>0</td>\n",
       "    </tr>\n",
       "    <tr>\n",
       "      <th>59</th>\n",
       "      <td>Fiat Strada</td>\n",
       "      <td>4296</td>\n",
       "      <td>21</td>\n",
       "      <td>3.0</td>\n",
       "      <td>2.5</td>\n",
       "      <td>16</td>\n",
       "      <td>2130</td>\n",
       "      <td>161</td>\n",
       "      <td>36</td>\n",
       "      <td>105</td>\n",
       "      <td>3.37</td>\n",
       "      <td>Foreign</td>\n",
       "      <td>6.25</td>\n",
       "      <td>0</td>\n",
       "    </tr>\n",
       "    <tr>\n",
       "      <th>60</th>\n",
       "      <td>Honda Accord</td>\n",
       "      <td>5799</td>\n",
       "      <td>25</td>\n",
       "      <td>5.0</td>\n",
       "      <td>3.0</td>\n",
       "      <td>10</td>\n",
       "      <td>2240</td>\n",
       "      <td>172</td>\n",
       "      <td>36</td>\n",
       "      <td>107</td>\n",
       "      <td>3.05</td>\n",
       "      <td>Foreign</td>\n",
       "      <td>9.00</td>\n",
       "      <td>0</td>\n",
       "    </tr>\n",
       "    <tr>\n",
       "      <th>61</th>\n",
       "      <td>Honda Civic</td>\n",
       "      <td>4499</td>\n",
       "      <td>28</td>\n",
       "      <td>4.0</td>\n",
       "      <td>2.5</td>\n",
       "      <td>5</td>\n",
       "      <td>1760</td>\n",
       "      <td>149</td>\n",
       "      <td>34</td>\n",
       "      <td>91</td>\n",
       "      <td>3.30</td>\n",
       "      <td>Foreign</td>\n",
       "      <td>6.25</td>\n",
       "      <td>0</td>\n",
       "    </tr>\n",
       "    <tr>\n",
       "      <th>62</th>\n",
       "      <td>Mazda GLC</td>\n",
       "      <td>3995</td>\n",
       "      <td>30</td>\n",
       "      <td>4.0</td>\n",
       "      <td>3.5</td>\n",
       "      <td>11</td>\n",
       "      <td>1980</td>\n",
       "      <td>154</td>\n",
       "      <td>33</td>\n",
       "      <td>86</td>\n",
       "      <td>3.73</td>\n",
       "      <td>Foreign</td>\n",
       "      <td>12.25</td>\n",
       "      <td>0</td>\n",
       "    </tr>\n",
       "    <tr>\n",
       "      <th>63</th>\n",
       "      <td>Peugeot 604</td>\n",
       "      <td>12990</td>\n",
       "      <td>14</td>\n",
       "      <td>NaN</td>\n",
       "      <td>3.5</td>\n",
       "      <td>14</td>\n",
       "      <td>3420</td>\n",
       "      <td>192</td>\n",
       "      <td>38</td>\n",
       "      <td>163</td>\n",
       "      <td>3.58</td>\n",
       "      <td>Foreign</td>\n",
       "      <td>12.25</td>\n",
       "      <td>1</td>\n",
       "    </tr>\n",
       "    <tr>\n",
       "      <th>64</th>\n",
       "      <td>Renault Le Car</td>\n",
       "      <td>3895</td>\n",
       "      <td>26</td>\n",
       "      <td>3.0</td>\n",
       "      <td>3.0</td>\n",
       "      <td>10</td>\n",
       "      <td>1830</td>\n",
       "      <td>142</td>\n",
       "      <td>34</td>\n",
       "      <td>79</td>\n",
       "      <td>3.72</td>\n",
       "      <td>Foreign</td>\n",
       "      <td>9.00</td>\n",
       "      <td>0</td>\n",
       "    </tr>\n",
       "    <tr>\n",
       "      <th>65</th>\n",
       "      <td>Subaru</td>\n",
       "      <td>3798</td>\n",
       "      <td>35</td>\n",
       "      <td>5.0</td>\n",
       "      <td>2.5</td>\n",
       "      <td>11</td>\n",
       "      <td>2050</td>\n",
       "      <td>164</td>\n",
       "      <td>36</td>\n",
       "      <td>97</td>\n",
       "      <td>3.81</td>\n",
       "      <td>Foreign</td>\n",
       "      <td>6.25</td>\n",
       "      <td>0</td>\n",
       "    </tr>\n",
       "    <tr>\n",
       "      <th>66</th>\n",
       "      <td>Toyota Celica</td>\n",
       "      <td>5899</td>\n",
       "      <td>18</td>\n",
       "      <td>5.0</td>\n",
       "      <td>2.5</td>\n",
       "      <td>14</td>\n",
       "      <td>2410</td>\n",
       "      <td>174</td>\n",
       "      <td>36</td>\n",
       "      <td>134</td>\n",
       "      <td>3.06</td>\n",
       "      <td>Foreign</td>\n",
       "      <td>6.25</td>\n",
       "      <td>0</td>\n",
       "    </tr>\n",
       "    <tr>\n",
       "      <th>67</th>\n",
       "      <td>Toyota Corolla</td>\n",
       "      <td>3748</td>\n",
       "      <td>31</td>\n",
       "      <td>5.0</td>\n",
       "      <td>3.0</td>\n",
       "      <td>9</td>\n",
       "      <td>2200</td>\n",
       "      <td>165</td>\n",
       "      <td>35</td>\n",
       "      <td>97</td>\n",
       "      <td>3.21</td>\n",
       "      <td>Foreign</td>\n",
       "      <td>9.00</td>\n",
       "      <td>0</td>\n",
       "    </tr>\n",
       "    <tr>\n",
       "      <th>68</th>\n",
       "      <td>Toyota Corona</td>\n",
       "      <td>5719</td>\n",
       "      <td>18</td>\n",
       "      <td>5.0</td>\n",
       "      <td>2.0</td>\n",
       "      <td>11</td>\n",
       "      <td>2670</td>\n",
       "      <td>175</td>\n",
       "      <td>36</td>\n",
       "      <td>134</td>\n",
       "      <td>3.05</td>\n",
       "      <td>Foreign</td>\n",
       "      <td>4.00</td>\n",
       "      <td>0</td>\n",
       "    </tr>\n",
       "    <tr>\n",
       "      <th>69</th>\n",
       "      <td>VW Dasher</td>\n",
       "      <td>7140</td>\n",
       "      <td>23</td>\n",
       "      <td>4.0</td>\n",
       "      <td>2.5</td>\n",
       "      <td>12</td>\n",
       "      <td>2160</td>\n",
       "      <td>172</td>\n",
       "      <td>36</td>\n",
       "      <td>97</td>\n",
       "      <td>3.74</td>\n",
       "      <td>Foreign</td>\n",
       "      <td>6.25</td>\n",
       "      <td>0</td>\n",
       "    </tr>\n",
       "    <tr>\n",
       "      <th>70</th>\n",
       "      <td>VW Diesel</td>\n",
       "      <td>5397</td>\n",
       "      <td>41</td>\n",
       "      <td>5.0</td>\n",
       "      <td>3.0</td>\n",
       "      <td>15</td>\n",
       "      <td>2040</td>\n",
       "      <td>155</td>\n",
       "      <td>35</td>\n",
       "      <td>90</td>\n",
       "      <td>3.78</td>\n",
       "      <td>Foreign</td>\n",
       "      <td>9.00</td>\n",
       "      <td>0</td>\n",
       "    </tr>\n",
       "    <tr>\n",
       "      <th>71</th>\n",
       "      <td>VW Rabbit</td>\n",
       "      <td>4697</td>\n",
       "      <td>25</td>\n",
       "      <td>4.0</td>\n",
       "      <td>3.0</td>\n",
       "      <td>15</td>\n",
       "      <td>1930</td>\n",
       "      <td>155</td>\n",
       "      <td>35</td>\n",
       "      <td>89</td>\n",
       "      <td>3.78</td>\n",
       "      <td>Foreign</td>\n",
       "      <td>9.00</td>\n",
       "      <td>0</td>\n",
       "    </tr>\n",
       "    <tr>\n",
       "      <th>72</th>\n",
       "      <td>VW Scirocco</td>\n",
       "      <td>6850</td>\n",
       "      <td>25</td>\n",
       "      <td>4.0</td>\n",
       "      <td>2.0</td>\n",
       "      <td>16</td>\n",
       "      <td>1990</td>\n",
       "      <td>156</td>\n",
       "      <td>36</td>\n",
       "      <td>97</td>\n",
       "      <td>3.78</td>\n",
       "      <td>Foreign</td>\n",
       "      <td>4.00</td>\n",
       "      <td>0</td>\n",
       "    </tr>\n",
       "    <tr>\n",
       "      <th>73</th>\n",
       "      <td>Volvo 260</td>\n",
       "      <td>11995</td>\n",
       "      <td>17</td>\n",
       "      <td>5.0</td>\n",
       "      <td>2.5</td>\n",
       "      <td>14</td>\n",
       "      <td>3170</td>\n",
       "      <td>193</td>\n",
       "      <td>37</td>\n",
       "      <td>163</td>\n",
       "      <td>2.98</td>\n",
       "      <td>Foreign</td>\n",
       "      <td>6.25</td>\n",
       "      <td>1</td>\n",
       "    </tr>\n",
       "  </tbody>\n",
       "</table>\n",
       "<p>74 rows × 14 columns</p>\n",
       "</div>"
      ],
      "text/plain": [
       "                 make  price  mpg  rep78  headroom  trunk  weight  length  \\\n",
       "0         AMC Concord   4099   22    3.0       2.5     11    2930     186   \n",
       "1           AMC Pacer   4749   17    3.0       3.0     11    3350     173   \n",
       "2          AMC Spirit   3799   22    NaN       3.0     12    2640     168   \n",
       "3       Buick Century   4816   20    3.0       4.5     16    3250     196   \n",
       "4       Buick Electra   7827   15    4.0       4.0     20    4080     222   \n",
       "5       Buick LeSabre   5788   18    3.0       4.0     21    3670     218   \n",
       "6          Buick Opel   4453   26    NaN       3.0     10    2230     170   \n",
       "7         Buick Regal   5189   20    3.0       2.0     16    3280     200   \n",
       "8       Buick Riviera  10372   16    3.0       3.5     17    3880     207   \n",
       "9       Buick Skylark   4082   19    3.0       3.5     13    3400     200   \n",
       "10       Cad. Deville  11385   14    3.0       4.0     20    4330     221   \n",
       "11      Cad. Eldorado  14500   14    2.0       3.5     16    3900     204   \n",
       "12       Cad. Seville  15906   21    3.0       3.0     13    4290     204   \n",
       "13     Chev. Chevette   3299   29    3.0       2.5      9    2110     163   \n",
       "14       Chev. Impala   5705   16    4.0       4.0     20    3690     212   \n",
       "15       Chev. Malibu   4504   22    3.0       3.5     17    3180     193   \n",
       "16  Chev. Monte Carlo   5104   22    2.0       2.0     16    3220     200   \n",
       "17        Chev. Monza   3667   24    2.0       2.0      7    2750     179   \n",
       "18         Chev. Nova   3955   19    3.0       3.5     13    3430     197   \n",
       "19         Dodge Colt   3984   30    5.0       2.0      8    2120     163   \n",
       "20     Dodge Diplomat   4010   18    2.0       4.0     17    3600     206   \n",
       "21       Dodge Magnum   5886   16    2.0       4.0     17    3600     206   \n",
       "22    Dodge St. Regis   6342   17    2.0       4.5     21    3740     220   \n",
       "23        Ford Fiesta   4389   28    4.0       1.5      9    1800     147   \n",
       "24       Ford Mustang   4187   21    3.0       2.0     10    2650     179   \n",
       "25  Linc. Continental  11497   12    3.0       3.5     22    4840     233   \n",
       "26       Linc. Mark V  13594   12    3.0       2.5     18    4720     230   \n",
       "27   Linc. Versailles  13466   14    3.0       3.5     15    3830     201   \n",
       "28       Merc. Bobcat   3829   22    4.0       3.0      9    2580     169   \n",
       "29       Merc. Cougar   5379   14    4.0       3.5     16    4060     221   \n",
       "..                ...    ...  ...    ...       ...    ...     ...     ...   \n",
       "44      Plym. Sapporo   6486   26    NaN       1.5      8    2520     182   \n",
       "45       Plym. Volare   4060   18    2.0       5.0     16    3330     201   \n",
       "46     Pont. Catalina   5798   18    4.0       4.0     20    3700     214   \n",
       "47     Pont. Firebird   4934   18    1.0       1.5      7    3470     198   \n",
       "48   Pont. Grand Prix   5222   19    3.0       2.0     16    3210     201   \n",
       "49      Pont. Le Mans   4723   19    3.0       3.5     17    3200     199   \n",
       "50      Pont. Phoenix   4424   19    NaN       3.5     13    3420     203   \n",
       "51      Pont. Sunbird   4172   24    2.0       2.0      7    2690     179   \n",
       "52          Audi 5000   9690   17    5.0       3.0     15    2830     189   \n",
       "53           Audi Fox   6295   23    3.0       2.5     11    2070     174   \n",
       "54           BMW 320i   9735   25    4.0       2.5     12    2650     177   \n",
       "55         Datsun 200   6229   23    4.0       1.5      6    2370     170   \n",
       "56         Datsun 210   4589   35    5.0       2.0      8    2020     165   \n",
       "57         Datsun 510   5079   24    4.0       2.5      8    2280     170   \n",
       "58         Datsun 810   8129   21    4.0       2.5      8    2750     184   \n",
       "59        Fiat Strada   4296   21    3.0       2.5     16    2130     161   \n",
       "60       Honda Accord   5799   25    5.0       3.0     10    2240     172   \n",
       "61        Honda Civic   4499   28    4.0       2.5      5    1760     149   \n",
       "62          Mazda GLC   3995   30    4.0       3.5     11    1980     154   \n",
       "63        Peugeot 604  12990   14    NaN       3.5     14    3420     192   \n",
       "64     Renault Le Car   3895   26    3.0       3.0     10    1830     142   \n",
       "65             Subaru   3798   35    5.0       2.5     11    2050     164   \n",
       "66      Toyota Celica   5899   18    5.0       2.5     14    2410     174   \n",
       "67     Toyota Corolla   3748   31    5.0       3.0      9    2200     165   \n",
       "68      Toyota Corona   5719   18    5.0       2.0     11    2670     175   \n",
       "69          VW Dasher   7140   23    4.0       2.5     12    2160     172   \n",
       "70          VW Diesel   5397   41    5.0       3.0     15    2040     155   \n",
       "71          VW Rabbit   4697   25    4.0       3.0     15    1930     155   \n",
       "72        VW Scirocco   6850   25    4.0       2.0     16    1990     156   \n",
       "73          Volvo 260  11995   17    5.0       2.5     14    3170     193   \n",
       "\n",
       "    turn  displacement  gear_ratio   foreign  headroom_squared  expensive  \n",
       "0     40           121        3.58  Domestic              6.25          0  \n",
       "1     40           258        2.53  Domestic              9.00          0  \n",
       "2     35           121        3.08  Domestic              9.00          0  \n",
       "3     40           196        2.93  Domestic             20.25          0  \n",
       "4     43           350        2.41  Domestic             16.00          0  \n",
       "5     43           231        2.73  Domestic             16.00          0  \n",
       "6     34           304        2.87  Domestic              9.00          0  \n",
       "7     42           196        2.93  Domestic              4.00          0  \n",
       "8     43           231        2.93  Domestic             12.25          1  \n",
       "9     42           231        3.08  Domestic             12.25          0  \n",
       "10    44           425        2.28  Domestic             16.00          1  \n",
       "11    43           350        2.19  Domestic             12.25          1  \n",
       "12    45           350        2.24  Domestic              9.00          1  \n",
       "13    34           231        2.93  Domestic              6.25          0  \n",
       "14    43           250        2.56  Domestic             16.00          0  \n",
       "15    31           200        2.73  Domestic             12.25          0  \n",
       "16    41           200        2.73  Domestic              4.00          0  \n",
       "17    40           151        2.73  Domestic              4.00          0  \n",
       "18    43           250        2.56  Domestic             12.25          0  \n",
       "19    35            98        3.54  Domestic              4.00          0  \n",
       "20    46           318        2.47  Domestic             16.00          0  \n",
       "21    46           318        2.47  Domestic             16.00          0  \n",
       "22    46           225        2.94  Domestic             20.25          0  \n",
       "23    33            98        3.15  Domestic              2.25          0  \n",
       "24    43           140        3.08  Domestic              4.00          0  \n",
       "25    51           400        2.47  Domestic             12.25          1  \n",
       "26    48           400        2.47  Domestic              6.25          1  \n",
       "27    41           302        2.47  Domestic             12.25          1  \n",
       "28    39           140        2.73  Domestic              9.00          0  \n",
       "29    48           302        2.75  Domestic             12.25          0  \n",
       "..   ...           ...         ...       ...               ...        ...  \n",
       "44    38           119        3.54  Domestic              2.25          0  \n",
       "45    44           225        3.23  Domestic             25.00          0  \n",
       "46    42           231        2.73  Domestic             16.00          0  \n",
       "47    42           231        3.08  Domestic              2.25          0  \n",
       "48    45           231        2.93  Domestic              4.00          0  \n",
       "49    40           231        2.93  Domestic             12.25          0  \n",
       "50    43           231        3.08  Domestic             12.25          0  \n",
       "51    41           151        2.73  Domestic              4.00          0  \n",
       "52    37           131        3.20   Foreign              9.00          0  \n",
       "53    36            97        3.70   Foreign              6.25          0  \n",
       "54    34           121        3.64   Foreign              6.25          0  \n",
       "55    35           119        3.89   Foreign              2.25          0  \n",
       "56    32            85        3.70   Foreign              4.00          0  \n",
       "57    34           119        3.54   Foreign              6.25          0  \n",
       "58    38           146        3.55   Foreign              6.25          0  \n",
       "59    36           105        3.37   Foreign              6.25          0  \n",
       "60    36           107        3.05   Foreign              9.00          0  \n",
       "61    34            91        3.30   Foreign              6.25          0  \n",
       "62    33            86        3.73   Foreign             12.25          0  \n",
       "63    38           163        3.58   Foreign             12.25          1  \n",
       "64    34            79        3.72   Foreign              9.00          0  \n",
       "65    36            97        3.81   Foreign              6.25          0  \n",
       "66    36           134        3.06   Foreign              6.25          0  \n",
       "67    35            97        3.21   Foreign              9.00          0  \n",
       "68    36           134        3.05   Foreign              4.00          0  \n",
       "69    36            97        3.74   Foreign              6.25          0  \n",
       "70    35            90        3.78   Foreign              9.00          0  \n",
       "71    35            89        3.78   Foreign              9.00          0  \n",
       "72    36            97        3.78   Foreign              4.00          0  \n",
       "73    37           163        2.98   Foreign              6.25          1  \n",
       "\n",
       "[74 rows x 14 columns]"
      ]
     },
     "execution_count": 212,
     "metadata": {},
     "output_type": "execute_result"
    }
   ],
   "source": [
    "cars"
   ]
  },
  {
   "cell_type": "code",
   "execution_count": 213,
   "metadata": {
    "collapsed": false
   },
   "outputs": [
    {
     "name": "stdout",
     "output_type": "stream",
     "text": [
      "6072.423076923077\n",
      "6384.681818181818\n"
     ]
    }
   ],
   "source": [
    "print(cars.loc[cars[\"foreign\"] == \"Domestic\", \"price\"].mean())\n",
    "print(cars.loc[cars[\"foreign\"] == \"Foreign\", \"price\"].mean())"
   ]
  },
  {
   "cell_type": "markdown",
   "metadata": {},
   "source": [
    "# 10. matplotlib\n",
    "matplotlib allows you to plot your data. %matplotlib inline is a \"magic command\" which allows you to display the plot within the notebook."
   ]
  },
  {
   "cell_type": "code",
   "execution_count": 214,
   "metadata": {
    "collapsed": true
   },
   "outputs": [],
   "source": [
    "%matplotlib inline\n",
    "import matplotlib.pyplot as plt\n"
   ]
  },
  {
   "cell_type": "code",
   "execution_count": 215,
   "metadata": {
    "collapsed": false
   },
   "outputs": [
    {
     "data": {
      "text/plain": [
       "(array([28., 21.,  9.,  3.,  1.,  4.,  3.,  1.,  3.,  1.]),\n",
       " array([ 3291. ,  4552.5,  5814. ,  7075.5,  8337. ,  9598.5, 10860. ,\n",
       "        12121.5, 13383. , 14644.5, 15906. ]),\n",
       " <a list of 10 Patch objects>)"
      ]
     },
     "execution_count": 215,
     "metadata": {},
     "output_type": "execute_result"
    },
    {
     "data": {
      "image/png": "[encoded data removed]",
      "text/plain": [
       "<Figure size 432x288 with 1 Axes>"
      ]
     },
     "metadata": {
      "needs_background": "light"
     },
     "output_type": "display_data"
    }
   ],
   "source": [
    "plt.hist(cars.price)"
   ]
  },
  {
   "cell_type": "code",
   "execution_count": 216,
   "metadata": {
    "collapsed": false
   },
   "outputs": [
    {
     "data": {
      "text/plain": [
       "Text(0, 0.5, 'price')"
      ]
     },
     "execution_count": 216,
     "metadata": {},
     "output_type": "execute_result"
    },
    {
     "data": {
      "image/png": "[encoded data removed]",
      "text/plain": [
       "<Figure size 432x288 with 1 Axes>"
      ]
     },
     "metadata": {
      "needs_background": "light"
     },
     "output_type": "display_data"
    }
   ],
   "source": [
    "plt.scatter(cars.length, cars.price)\n",
    "plt.xlabel('length')\n",
    "plt.ylabel('price')"
   ]
  },
  {
   "cell_type": "markdown",
   "metadata": {},
   "source": [
    "# 11. statsmodels and patsy\n",
    "statsmodels contains a lot of code for statistical models, for example code which fits an equation with ols. patsy helps you to describe the model you have in mind. "
   ]
  },
  {
   "cell_type": "code",
   "execution_count": 217,
   "metadata": {
    "collapsed": true
   },
   "outputs": [],
   "source": [
    "import statsmodels.api as sm\n",
    "from patsy import dmatrices"
   ]
  },
  {
   "cell_type": "code",
   "execution_count": 218,
   "metadata": {
    "collapsed": false
   },
   "outputs": [
    {
     "name": "stdout",
     "output_type": "stream",
     "text": [
      "Help on function dmatrices in module patsy.highlevel:\n",
      "\n",
      "dmatrices(formula_like, data={}, eval_env=0, NA_action='drop', return_type='matrix')\n",
      "    Construct two design matrices given a formula_like and data.\n",
      "    \n",
      "    This function is identical to :func:`dmatrix`, except that it requires\n",
      "    (and returns) two matrices instead of one. By convention, the first matrix\n",
      "    is the \"outcome\" or \"y\" data, and the second is the \"predictor\" or \"x\"\n",
      "    data.\n",
      "    \n",
      "    See :func:`dmatrix` for details.\n",
      "\n"
     ]
    }
   ],
   "source": [
    "help(dmatrices)"
   ]
  },
  {
   "cell_type": "markdown",
   "metadata": {},
   "source": [
    "https://patsy.readthedocs.io/en/v0.1.0/formulas.html"
   ]
  },
  {
   "cell_type": "code",
   "execution_count": 220,
   "metadata": {
    "collapsed": false
   },
   "outputs": [],
   "source": [
    "y, x = dmatrices('price ~ length ', data = cars)"
   ]
  },
  {
   "cell_type": "code",
   "execution_count": 221,
   "metadata": {
    "collapsed": false
   },
   "outputs": [],
   "source": [
    "model_fit = sm.OLS(y, x)\n",
    "results = model_fit.fit()"
   ]
  },
  {
   "cell_type": "code",
   "execution_count": 222,
   "metadata": {
    "collapsed": false
   },
   "outputs": [
    {
     "name": "stdout",
     "output_type": "stream",
     "text": [
      "                            OLS Regression Results                            \n",
      "==============================================================================\n",
      "Dep. Variable:                  price   R-squared:                       0.186\n",
      "Model:                            OLS   Adj. R-squared:                  0.175\n",
      "Method:                 Least Squares   F-statistic:                     16.50\n",
      "Date:                Tue, 02 Apr 2019   Prob (F-statistic):           0.000122\n",
      "Time:                        16:22:50   Log-Likelihood:                -688.08\n",
      "No. Observations:                  74   AIC:                             1380.\n",
      "Df Residuals:                      72   BIC:                             1385.\n",
      "Df Model:                           1                                         \n",
      "Covariance Type:            nonrobust                                         \n",
      "==============================================================================\n",
      "                 coef    std err          t      P>|t|      [0.025      0.975]\n",
      "------------------------------------------------------------------------------\n",
      "Intercept  -4584.8990   2664.437     -1.721      0.090   -9896.357     726.559\n",
      "length        57.2022     14.080      4.063      0.000      29.133      85.271\n",
      "==============================================================================\n",
      "Omnibus:                       22.617   Durbin-Watson:                   1.165\n",
      "Prob(Omnibus):                  0.000   Jarque-Bera (JB):               30.201\n",
      "Skew:                           1.378   Prob(JB):                     2.77e-07\n",
      "Kurtosis:                       4.484   Cond. No.                     1.62e+03\n",
      "==============================================================================\n",
      "\n",
      "Warnings:\n",
      "[1] Standard Errors assume that the covariance matrix of the errors is correctly specified.\n",
      "[2] The condition number is large, 1.62e+03. This might indicate that there are\n",
      "strong multicollinearity or other numerical problems.\n"
     ]
    }
   ],
   "source": [
    "print(results.summary())"
   ]
  },
  {
   "cell_type": "code",
   "execution_count": 223,
   "metadata": {
    "collapsed": true
   },
   "outputs": [],
   "source": [
    "y, x = dmatrices('price ~ length + headroom ', data = cars)"
   ]
  },
  {
   "cell_type": "code",
   "execution_count": 224,
   "metadata": {
    "collapsed": true
   },
   "outputs": [],
   "source": [
    "model_fit = sm.OLS(y, x)\n",
    "results = model_fit.fit()"
   ]
  },
  {
   "cell_type": "code",
   "execution_count": 225,
   "metadata": {
    "collapsed": false
   },
   "outputs": [
    {
     "name": "stdout",
     "output_type": "stream",
     "text": [
      "                            OLS Regression Results                            \n",
      "==============================================================================\n",
      "Dep. Variable:                  price   R-squared:                       0.203\n",
      "Model:                            OLS   Adj. R-squared:                  0.180\n",
      "Method:                 Least Squares   F-statistic:                     9.015\n",
      "Date:                Tue, 02 Apr 2019   Prob (F-statistic):           0.000324\n",
      "Time:                        16:22:51   Log-Likelihood:                -687.34\n",
      "No. Observations:                  74   AIC:                             1381.\n",
      "Df Residuals:                      71   BIC:                             1388.\n",
      "Df Model:                           2                                         \n",
      "Covariance Type:            nonrobust                                         \n",
      "==============================================================================\n",
      "                 coef    std err          t      P>|t|      [0.025      0.975]\n",
      "------------------------------------------------------------------------------\n",
      "Intercept  -4942.2972   2673.347     -1.849      0.069   -1.03e+04     388.206\n",
      "length        67.3146     16.393      4.106      0.000      34.629     100.001\n",
      "headroom    -515.5057    431.450     -1.195      0.236   -1375.793     344.782\n",
      "==============================================================================\n",
      "Omnibus:                       23.095   Durbin-Watson:                   1.181\n",
      "Prob(Omnibus):                  0.000   Jarque-Bera (JB):               31.250\n",
      "Skew:                           1.391   Prob(JB):                     1.64e-07\n",
      "Kurtosis:                       4.548   Cond. No.                     1.63e+03\n",
      "==============================================================================\n",
      "\n",
      "Warnings:\n",
      "[1] Standard Errors assume that the covariance matrix of the errors is correctly specified.\n",
      "[2] The condition number is large, 1.63e+03. This might indicate that there are\n",
      "strong multicollinearity or other numerical problems.\n"
     ]
    }
   ],
   "source": [
    "print(results.summary())"
   ]
  }
 ],
 "metadata": {
  "kernelspec": {
   "display_name": "Python 3",
   "language": "python",
   "name": "python3"
  },
  "language_info": {
   "codemirror_mode": {
    "name": "ipython",
    "version": 3
   },
   "file_extension": ".py",
   "mimetype": "text/x-python",
   "name": "python",
   "nbconvert_exporter": "python",
   "pygments_lexer": "ipython3",
   "version": "3.7.2"
  }
 },
 "nbformat": 4,
 "nbformat_minor": 2
}
