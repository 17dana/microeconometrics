{
 "cells": [
  {
   "cell_type": "code",
   "execution_count": 1,
   "metadata": {
    "slideshow": {
     "slide_type": "skip"
    }
   },
   "outputs": [],
   "source": [
    "%load_ext autoreload\n",
    "%autoreload 2\n",
    "\n",
    "%matplotlib inline\n",
    "\n",
    "import numpy as np\n",
    "import scipy.stats as stats\n",
    "import seaborn as sns\n"
   ]
  },
  {
   "cell_type": "markdown",
   "metadata": {
    "slideshow": {
     "slide_type": "slide"
    }
   },
   "source": [
    "# Causal graphs, identification, and models of causal exposure\n",
    "\n",
    "\n",
    "Graph notation less general than potential outcome framework, but \n",
    "\n",
    "* thinking about causal systems\n",
    "* uncover identification strategies\n",
    "\n",
    "> It is useful to separate the inferential problem into statistical and identification components. Studies of identification seek to characterize the conclusions sthat could be drawsn if one could use the sampling process to obtain an unlimited number of observations. (Manski, 1995)\n",
    "\n",
    "The two most crucial ingredients for an identification analysis are:\n",
    "\n",
    "* The set of assumptions about causal relationships that the analysis is willing to assert based on theory and past research, including assumptions about relationships between variables that have not been observed but that are related both to the cause and outcome of interest.\n",
    "\n",
    "* The pattern of informatin one can assume would be contained in the joint distribution of the variables in the observed dataset if all memebers of the population had been included in the sample that generated the dataset.\n",
    "\n",
    "$\\rightarrow$ causal graphs offer an effective and efficient representation for both"
   ]
  },
  {
   "cell_type": "markdown",
   "metadata": {
    "slideshow": {
     "slide_type": "slide"
    }
   },
   "source": [
    "## Basic elements of causal graphs\n",
    "\n",
    "* nodes\n",
    "* edges\n",
    "* paths\n",
    "    * parent and child\n",
    "    * decendent"
   ]
  },
  {
   "cell_type": "markdown",
   "metadata": {
    "slideshow": {
     "slide_type": "slide"
    }
   },
   "source": [
    "<img src=\"material/graph_with_cycle.png\" height=\"200\" width=200 />"
   ]
  },
  {
   "cell_type": "markdown",
   "metadata": {},
   "source": [
    "<img src=\"material/graph_shorthand_unobserved_common_cause.png\" height=\"500\" width=500 />"
   ]
  },
  {
   "cell_type": "markdown",
   "metadata": {
    "slideshow": {
     "slide_type": "notes"
    }
   },
   "source": [
    "unconditional dependence fork and inverted fork"
   ]
  },
  {
   "cell_type": "markdown",
   "metadata": {
    "slideshow": {
     "slide_type": "slide"
    }
   },
   "source": [
    "<img src=\"material/basic_causal_relationships.png\" height=\"200\" width=200 />"
   ]
  },
  {
   "cell_type": "markdown",
   "metadata": {
    "slideshow": {
     "slide_type": "slide"
    }
   },
   "source": [
    "### Conditioning and confounding\n",
    "\n",
    "<img src=\"material/confounding_variable.png\" height=\"250\" width=250 />\n",
    "\n",
    "* $C$ is a confounding variable that affects both the dependent and independent variable.\n",
    "\n",
    "* Conditioning is a modelig strategy that allows to determine causal effects in the presence of observed confounders.\n",
    "\n",
    "$\\rightarrow$ What happens if $C$ is unobserved?"
   ]
  },
  {
   "cell_type": "markdown",
   "metadata": {
    "slideshow": {
     "slide_type": "slide"
    }
   },
   "source": [
    "How about an example from educational choice where we have observed and unobserved confounders?"
   ]
  },
  {
   "cell_type": "markdown",
   "metadata": {},
   "source": [
    "<img src=\"material/fig-confounders-education.png\" height=500 width=500 />"
   ]
  },
  {
   "cell_type": "markdown",
   "metadata": {
    "slideshow": {
     "slide_type": "slide"
    }
   },
   "source": [
    "## Graphs and structural equations\n",
    "\n",
    "Let's look at another example and assume we are interested in the effect of parental background (P), charter schools (D), and neighborhoods (N) on test scores (Y).\n",
    "\n",
    "We could set up the following **linear** regression equations:\n",
    "\n",
    "\\begin{align*}\n",
    "D & = \\alpha_D + b_P P + \\epsilon_D \\\\\n",
    "Y & = \\alpha_Y + b_D D + b_P P + + b_N N + \\epsilon_Y\n",
    "\\end{align*}"
   ]
  },
  {
   "cell_type": "markdown",
   "metadata": {
    "slideshow": {
     "slide_type": "slide"
    }
   },
   "source": [
    "<img src=\"material/fig-equivalent-representations-standard.png\" height=500 width=500 />"
   ]
  },
  {
   "cell_type": "markdown",
   "metadata": {
    "slideshow": {
     "slide_type": "slide"
    }
   },
   "source": [
    "<img src=\"material/fig-equivalent-representations-magnified.png\" height=500 width=500 />"
   ]
  },
  {
   "cell_type": "markdown",
   "metadata": {},
   "source": [
    "We can set up the same *nonparametric* structural equations for both representations:\n",
    "\n",
    "\\begin{align*}\n",
    "P & = f_P(\\epsilon_1)    \\\\\n",
    "D & = f_D(P, \\epsilon_2) \\\\\n",
    "N & = f_N(\\epsilon_3) \\\\\n",
    "Y & = f_Y(P, D, N, \\epsilon_4)\n",
    "\\end{align*}"
   ]
  },
  {
   "cell_type": "markdown",
   "metadata": {
    "slideshow": {
     "slide_type": "slide"
    }
   },
   "source": [
    "## Illustration of collider variables"
   ]
  },
  {
   "cell_type": "code",
   "execution_count": 2,
   "metadata": {
    "slideshow": {
     "slide_type": "subslide"
    }
   },
   "outputs": [
    {
     "data": {
      "text/html": [
       "<div>\n",
       "<style scoped>\n",
       "    .dataframe tbody tr th:only-of-type {\n",
       "        vertical-align: middle;\n",
       "    }\n",
       "\n",
       "    .dataframe tbody tr th {\n",
       "        vertical-align: top;\n",
       "    }\n",
       "\n",
       "    .dataframe thead th {\n",
       "        text-align: right;\n",
       "    }\n",
       "</style>\n",
       "<table border=\"1\" class=\"dataframe\">\n",
       "  <thead>\n",
       "    <tr style=\"text-align: right;\">\n",
       "      <th></th>\n",
       "      <th>SAT</th>\n",
       "      <th>motivation</th>\n",
       "      <th>admission</th>\n",
       "    </tr>\n",
       "  </thead>\n",
       "  <tbody>\n",
       "    <tr>\n",
       "      <th>0</th>\n",
       "      <td>-0.230564</td>\n",
       "      <td>1.762968</td>\n",
       "      <td>0.0</td>\n",
       "    </tr>\n",
       "    <tr>\n",
       "      <th>1</th>\n",
       "      <td>1.440951</td>\n",
       "      <td>2.028374</td>\n",
       "      <td>1.0</td>\n",
       "    </tr>\n",
       "    <tr>\n",
       "      <th>2</th>\n",
       "      <td>2.222265</td>\n",
       "      <td>0.362688</td>\n",
       "      <td>0.0</td>\n",
       "    </tr>\n",
       "    <tr>\n",
       "      <th>3</th>\n",
       "      <td>1.408924</td>\n",
       "      <td>2.091473</td>\n",
       "      <td>1.0</td>\n",
       "    </tr>\n",
       "    <tr>\n",
       "      <th>4</th>\n",
       "      <td>-0.272631</td>\n",
       "      <td>0.959449</td>\n",
       "      <td>0.0</td>\n",
       "    </tr>\n",
       "  </tbody>\n",
       "</table>\n",
       "</div>"
      ],
      "text/plain": [
       "        SAT  motivation  admission\n",
       "0 -0.230564    1.762968        0.0\n",
       "1  1.440951    2.028374        1.0\n",
       "2  2.222265    0.362688        0.0\n",
       "3  1.408924    2.091473        1.0\n",
       "4 -0.272631    0.959449        0.0"
      ]
     },
     "execution_count": 2,
     "metadata": {},
     "output_type": "execute_result"
    }
   ],
   "source": [
    "# SAT scores and individual motivation are uncorrelated in the population\n",
    "SAT = np.random.normal(loc=1, scale=1, size=250)\n",
    "motivation = np.random.normal(loc=1, scale=1, size=250)\n",
    "\n",
    "# Both toghether determine college admission\n",
    "score = SAT + motivation\n",
    "cutoff = np.percentile(score, 85)\n",
    "is_admitted = score > cutoff\n",
    "\n",
    "# For further processing we create a data frame.\n",
    "data = np.array([SAT, motivation, is_admitted]).T\n",
    "columns = ['SAT', 'motivation', 'admission']\n",
    "df = pd.DataFrame(data=data, columns=columns)\n",
    "df.head()"
   ]
  },
  {
   "cell_type": "code",
   "execution_count": 3,
   "metadata": {
    "slideshow": {
     "slide_type": "slide"
    }
   },
   "outputs": [
    {
     "name": "stdout",
     "output_type": "stream",
     "text": [
      "The Pearson correlation coefficient is   0.044\n"
     ]
    },
    {
     "data": {
      "image/png": "[encoded data removed]",
      "text/plain": [
       "<Figure size 432x432 with 3 Axes>"
      ]
     },
     "metadata": {
      "needs_background": "light"
     },
     "output_type": "display_data"
    }
   ],
   "source": [
    "sns.jointplot('SAT', 'motivation', df);\n",
    "print('The Pearson correlation coefficient is {:7.3f}'.format(stats.pearsonr(df['SAT'], df['motivation'])[0]))"
   ]
  },
  {
   "cell_type": "markdown",
   "metadata": {
    "slideshow": {
     "slide_type": "slide"
    }
   },
   "source": [
    "What happens if we conidition on college admittance $C$, i.e. on a collider variable?"
   ]
  },
  {
   "cell_type": "code",
   "execution_count": 4,
   "metadata": {
    "slideshow": {
     "slide_type": "subslide"
    }
   },
   "outputs": [
    {
     "name": "stdout",
     "output_type": "stream",
     "text": [
      "The Pearson correlation coefficient is  -0.719\n"
     ]
    },
    {
     "data": {
      "image/png": "[encoded data removed]",
      "text/plain": [
       "<Figure size 432x432 with 3 Axes>"
      ]
     },
     "metadata": {
      "needs_background": "light"
     },
     "output_type": "display_data"
    }
   ],
   "source": [
    "df_admitted = df[is_admitted]\n",
    "sns.jointplot('SAT', 'motivation', df_admitted);\n",
    "print('The Pearson correlation coefficient is {:7.3f}'.format(stats.pearsonr(df_admitted['SAT'], df_admitted['motivation'])[0]))"
   ]
  },
  {
   "cell_type": "markdown",
   "metadata": {
    "slideshow": {
     "slide_type": "skip"
    }
   },
   "source": [
    "<img src=\"material/collider_2.png\" height=\"200\" width=200 />\n",
    "<img src=\"material/collider.png\" height=\"200\" width=200 />\n",
    "<img src=\"material/graph_shorthand_unobserved_common_cause.png\" height=\"200\" width=200 />\n",
    "<img src=\"material/nonignorability.png\" height=\"200\" width=200 />\n",
    "<img src=\"material/selection_on_unobservables.png\" height=\"200\" width=200 />\n",
    "<img src=\"material/sufficient_conditioning.png\" height=\"200\" width=200 />\n"
   ]
  },
  {
   "cell_type": "code",
   "execution_count": null,
   "metadata": {},
   "outputs": [],
   "source": []
  }
 ],
 "metadata": {
  "kernelspec": {
   "display_name": "Python 3",
   "language": "python",
   "name": "python3"
  },
  "language_info": {
   "codemirror_mode": {
    "name": "ipython",
    "version": 3
   },
   "file_extension": ".py",
   "mimetype": "text/x-python",
   "name": "python",
   "nbconvert_exporter": "python",
   "pygments_lexer": "ipython3",
   "version": "3.7.2"
  }
 },
 "nbformat": 4,
 "nbformat_minor": 2
}
