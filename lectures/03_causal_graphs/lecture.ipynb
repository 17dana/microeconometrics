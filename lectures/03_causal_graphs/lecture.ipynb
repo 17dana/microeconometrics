{
 "cells": [
  {
   "cell_type": "code",
   "execution_count": 1,
   "metadata": {
    "slideshow": {
     "slide_type": "skip"
    }
   },
   "outputs": [],
   "source": [
    "%load_ext autoreload\n",
    "%autoreload 2\n",
    "\n",
    "%matplotlib inline\n",
    "\n",
    "import numpy as np\n",
    "import pandas as pd\n",
    "import scipy.stats as stats\n",
    "import seaborn as sns"
   ]
  },
  {
   "cell_type": "markdown",
   "metadata": {
    "slideshow": {
     "slide_type": "slide"
    }
   },
   "source": [
    "# Lecture 3: Causal graphs\n",
    "\n",
    "**Agenda**\n",
    "\n",
    "* Basic elements of causal graphs\n",
    "* Causal graphs and structural equation\n",
    "* Causal graphs and the potential outcome model"
   ]
  },
  {
   "cell_type": "markdown",
   "metadata": {
    "slideshow": {
     "slide_type": "slide"
    }
   },
   "source": [
    "Graph notation less general than potential outcome framework, but \n",
    "\n",
    "* thinking about causal systems\n",
    "* uncover identification strategies\n",
    "\n",
    "> It is useful to separate the inferential problem into statistical and identification components. Studies of identification seek to characterize the conclusions sthat could be drawsn if one could use the sampling process to obtain an unlimited number of observations. (Manski, 1995)"
   ]
  },
  {
   "cell_type": "markdown",
   "metadata": {
    "slideshow": {
     "slide_type": "slide"
    }
   },
   "source": [
    "The two most crucial ingredients for an identification analysis are:\n",
    "\n",
    "* The set of assumptions about causal relationships that the analysis is willing to assert based on theory and past research, including assumptions about relationships between variables that have not been observed but that are related both to the cause and outcome of interest.\n",
    "\n",
    "* The pattern of informatin one can assume would be contained in the joint distribution of the variables in the observed dataset if all memebers of the population had been included in the sample that generated the dataset.\n",
    "\n",
    "$\\rightarrow$ causal graphs offer an effective and efficient representation for both"
   ]
  },
  {
   "cell_type": "markdown",
   "metadata": {
    "slideshow": {
     "slide_type": "slide"
    }
   },
   "source": [
    "## Basic elements of causal graphs\n",
    "\n",
    "* nodes\n",
    "* edges\n",
    "* directed paths\n",
    "    * parent and child\n",
    "    * decendent"
   ]
  },
  {
   "cell_type": "markdown",
   "metadata": {
    "slideshow": {
     "slide_type": "slide"
    }
   },
   "source": [
    "<img src=\"material/graph_with_cycle.png\" height=\"200\" width=200 />"
   ]
  },
  {
   "cell_type": "markdown",
   "metadata": {},
   "source": [
    "Two representations of the joint depdendence of $A$ and $B$ on an unobserved common cause.\n",
    "\n",
    "<img src=\"material/graph_shorthand_unobserved_common_cause.png\" height=\"500\" width=500 />"
   ]
  },
  {
   "cell_type": "markdown",
   "metadata": {
    "slideshow": {
     "slide_type": "slide"
    }
   },
   "source": [
    "Let's look at some basic patterns that will turn out to appear frequently.\n",
    "\n",
    "* chain of mediation\n",
    "* fork of mutual causation\n",
    "\n",
    "$\\rightarrow$ unconditional association\n",
    "\n",
    "* fork of mutual dependence, **collider variable**\n",
    "\n",
    "$\\rightarrow$ no unconditional association, but conditional on **collider variable**\n"
   ]
  },
  {
   "cell_type": "markdown",
   "metadata": {},
   "source": [
    "<img src=\"material/basic_causal_relationships.png\" height=\"200\" width=200 />"
   ]
  },
  {
   "cell_type": "markdown",
   "metadata": {
    "slideshow": {
     "slide_type": "slide"
    }
   },
   "source": [
    "### Conditioning and confounding\n",
    "\n",
    "<img src=\"material/confounding_variable.png\" height=\"500\" width=500 />\n",
    "\n",
    "* $C$ is a **confounding variable** that affects both the dependent and independent variable.\n",
    "\n",
    "* Conditioning is a modelig strategy that allows to determine causal effects in the presence of observed confounders.\n",
    "\n",
    "$\\rightarrow$ What happens if $C$ is unobserved?"
   ]
  },
  {
   "cell_type": "markdown",
   "metadata": {
    "slideshow": {
     "slide_type": "slide"
    }
   },
   "source": [
    "How about an example from educational choice where we have observed and unobserved confounders?"
   ]
  },
  {
   "cell_type": "markdown",
   "metadata": {},
   "source": [
    "<img src=\"material/fig-confounders-education.png\" height=500 width=500 />"
   ]
  },
  {
   "cell_type": "markdown",
   "metadata": {
    "slideshow": {
     "slide_type": "slide"
    }
   },
   "source": [
    "## Graphs and structural equations\n",
    "\n",
    "Let's look at another example and assume we are interested in the effect of parental background (P), charter schools (D), and neighborhoods (N) on test scores (Y).\n",
    "\n",
    "We could set up the following **linear** regression equations:\n",
    "\n",
    "\\begin{align*}\n",
    "D & = \\alpha_D + b_P P + \\epsilon_D \\\\\n",
    "Y & = \\alpha_Y + b_D D + b_P P + + b_N N + \\epsilon_Y\n",
    "\\end{align*}"
   ]
  },
  {
   "cell_type": "markdown",
   "metadata": {
    "slideshow": {
     "slide_type": "slide"
    }
   },
   "source": [
    "<img src=\"material/fig-equivalent-representations-standard.png\" height=500 width=500 />"
   ]
  },
  {
   "cell_type": "markdown",
   "metadata": {
    "slideshow": {
     "slide_type": "slide"
    }
   },
   "source": [
    "<img src=\"material/fig-equivalent-representations-magnified.png\" height=500 width=500 />"
   ]
  },
  {
   "cell_type": "markdown",
   "metadata": {},
   "source": [
    "We can set up the same *nonparametric* structural equations for both representations:\n",
    "\n",
    "\\begin{align*}\n",
    "P & = f_P(\\epsilon_1)    \\\\\n",
    "N & = f_N(\\epsilon_3) \\\\\n",
    "D & = f_D(P, \\epsilon_2) \\\\\n",
    "Y & = f_Y(P, D, N, \\epsilon_4)\n",
    "\\end{align*}"
   ]
  },
  {
   "cell_type": "markdown",
   "metadata": {},
   "source": [
    "How to simulate a sample from a set of structural equations?"
   ]
  },
  {
   "cell_type": "code",
   "execution_count": 2,
   "metadata": {},
   "outputs": [
    {
     "data": {
      "text/html": [
       "<div>\n",
       "<style scoped>\n",
       "    .dataframe tbody tr th:only-of-type {\n",
       "        vertical-align: middle;\n",
       "    }\n",
       "\n",
       "    .dataframe tbody tr th {\n",
       "        vertical-align: top;\n",
       "    }\n",
       "\n",
       "    .dataframe thead th {\n",
       "        text-align: right;\n",
       "    }\n",
       "</style>\n",
       "<table border=\"1\" class=\"dataframe\">\n",
       "  <thead>\n",
       "    <tr style=\"text-align: right;\">\n",
       "      <th></th>\n",
       "      <th>Y</th>\n",
       "      <th>D</th>\n",
       "      <th>P</th>\n",
       "      <th>N</th>\n",
       "    </tr>\n",
       "  </thead>\n",
       "  <tbody>\n",
       "    <tr>\n",
       "      <th>0</th>\n",
       "      <td>0.488616</td>\n",
       "      <td>1.278992</td>\n",
       "      <td>0.975012</td>\n",
       "      <td>0.125693</td>\n",
       "    </tr>\n",
       "    <tr>\n",
       "      <th>1</th>\n",
       "      <td>0.835259</td>\n",
       "      <td>0.721261</td>\n",
       "      <td>0.578558</td>\n",
       "      <td>0.922804</td>\n",
       "    </tr>\n",
       "    <tr>\n",
       "      <th>2</th>\n",
       "      <td>1.504275</td>\n",
       "      <td>1.859942</td>\n",
       "      <td>0.956905</td>\n",
       "      <td>0.389188</td>\n",
       "    </tr>\n",
       "    <tr>\n",
       "      <th>3</th>\n",
       "      <td>2.484835</td>\n",
       "      <td>2.299125</td>\n",
       "      <td>0.848746</td>\n",
       "      <td>0.330196</td>\n",
       "    </tr>\n",
       "    <tr>\n",
       "      <th>4</th>\n",
       "      <td>1.440078</td>\n",
       "      <td>0.815324</td>\n",
       "      <td>0.442577</td>\n",
       "      <td>0.246548</td>\n",
       "    </tr>\n",
       "  </tbody>\n",
       "</table>\n",
       "</div>"
      ],
      "text/plain": [
       "          Y         D         P         N\n",
       "0  0.488616  1.278992  0.975012  0.125693\n",
       "1  0.835259  0.721261  0.578558  0.922804\n",
       "2  1.504275  1.859942  0.956905  0.389188\n",
       "3  2.484835  2.299125  0.848746  0.330196\n",
       "4  1.440078  0.815324  0.442577  0.246548"
      ]
     },
     "execution_count": 2,
     "metadata": {},
     "output_type": "execute_result"
    }
   ],
   "source": [
    "# parametrization of linear equations\n",
    "alpha_D = 1\n",
    "alpha_Y = 1\n",
    "\n",
    "beta_P = 0.8\n",
    "beta_N = 0.7\n",
    "beta_D = -0.3\n",
    "\n",
    "# distributional assumptions\n",
    "get_unobservable = np.random.normal\n",
    "get_observable = np.random.uniform\n",
    "\n",
    "num_agents = 10000\n",
    "data = np.tile(np.nan, (num_agents, 4))\n",
    "for i in range(num_agents):\n",
    "    P = get_observable()\n",
    "    N = get_observable()\n",
    "    D = alpha_D + beta_P * P + get_unobservable()\n",
    "    Y = alpha_Y + beta_D * D + beta_P * P + beta_N * N + get_unobservable()\n",
    "    data[i, :] = [Y, D, P, N]\n",
    "\n",
    "df = pd.DataFrame(data, columns=['Y', 'D', 'P', 'N'])\n",
    "df.head()"
   ]
  },
  {
   "cell_type": "markdown",
   "metadata": {},
   "source": [
    "Now let\"s see if we can uncover the structural parameters by a simple ordinary-least-squares regression and thus go full circle from a parametric structural equation model to a causal graph."
   ]
  },
  {
   "cell_type": "code",
   "execution_count": 3,
   "metadata": {},
   "outputs": [
    {
     "data": {
      "text/html": [
       "<table class=\"simpletable\">\n",
       "<caption>OLS Regression Results</caption>\n",
       "<tr>\n",
       "  <th>Dep. Variable:</th>            <td>Y</td>        <th>  R-squared:         </th> <td>   0.126</td> \n",
       "</tr>\n",
       "<tr>\n",
       "  <th>Model:</th>                   <td>OLS</td>       <th>  Adj. R-squared:    </th> <td>   0.126</td> \n",
       "</tr>\n",
       "<tr>\n",
       "  <th>Method:</th>             <td>Least Squares</td>  <th>  F-statistic:       </th> <td>   479.9</td> \n",
       "</tr>\n",
       "<tr>\n",
       "  <th>Date:</th>             <td>Mon, 15 Apr 2019</td> <th>  Prob (F-statistic):</th> <td>2.30e-291</td>\n",
       "</tr>\n",
       "<tr>\n",
       "  <th>Time:</th>                 <td>14:19:09</td>     <th>  Log-Likelihood:    </th> <td> -14213.</td> \n",
       "</tr>\n",
       "<tr>\n",
       "  <th>No. Observations:</th>      <td> 10000</td>      <th>  AIC:               </th> <td>2.843e+04</td>\n",
       "</tr>\n",
       "<tr>\n",
       "  <th>Df Residuals:</th>          <td>  9996</td>      <th>  BIC:               </th> <td>2.846e+04</td>\n",
       "</tr>\n",
       "<tr>\n",
       "  <th>Df Model:</th>              <td>     3</td>      <th>                     </th>     <td> </td>    \n",
       "</tr>\n",
       "<tr>\n",
       "  <th>Covariance Type:</th>      <td>nonrobust</td>    <th>                     </th>     <td> </td>    \n",
       "</tr>\n",
       "</table>\n",
       "<table class=\"simpletable\">\n",
       "<tr>\n",
       "      <td></td>         <th>coef</th>     <th>std err</th>      <th>t</th>      <th>P>|t|</th>  <th>[0.025</th>    <th>0.975]</th>  \n",
       "</tr>\n",
       "<tr>\n",
       "  <th>Intercept</th> <td>    1.0254</td> <td>    0.028</td> <td>   36.189</td> <td> 0.000</td> <td>    0.970</td> <td>    1.081</td>\n",
       "</tr>\n",
       "<tr>\n",
       "  <th>D</th>         <td>   -0.2950</td> <td>    0.010</td> <td>  -29.404</td> <td> 0.000</td> <td>   -0.315</td> <td>   -0.275</td>\n",
       "</tr>\n",
       "<tr>\n",
       "  <th>P</th>         <td>    0.6752</td> <td>    0.036</td> <td>   18.960</td> <td> 0.000</td> <td>    0.605</td> <td>    0.745</td>\n",
       "</tr>\n",
       "<tr>\n",
       "  <th>N</th>         <td>    0.7322</td> <td>    0.035</td> <td>   20.971</td> <td> 0.000</td> <td>    0.664</td> <td>    0.801</td>\n",
       "</tr>\n",
       "</table>\n",
       "<table class=\"simpletable\">\n",
       "<tr>\n",
       "  <th>Omnibus:</th>       <td> 5.086</td> <th>  Durbin-Watson:     </th> <td>   1.986</td>\n",
       "</tr>\n",
       "<tr>\n",
       "  <th>Prob(Omnibus):</th> <td> 0.079</td> <th>  Jarque-Bera (JB):  </th> <td>   5.118</td>\n",
       "</tr>\n",
       "<tr>\n",
       "  <th>Skew:</th>          <td> 0.053</td> <th>  Prob(JB):          </th> <td>  0.0774</td>\n",
       "</tr>\n",
       "<tr>\n",
       "  <th>Kurtosis:</th>      <td> 2.968</td> <th>  Cond. No.          </th> <td>    8.81</td>\n",
       "</tr>\n",
       "</table><br/><br/>Warnings:<br/>[1] Standard Errors assume that the covariance matrix of the errors is correctly specified."
      ],
      "text/plain": [
       "<class 'statsmodels.iolib.summary.Summary'>\n",
       "\"\"\"\n",
       "                            OLS Regression Results                            \n",
       "==============================================================================\n",
       "Dep. Variable:                      Y   R-squared:                       0.126\n",
       "Model:                            OLS   Adj. R-squared:                  0.126\n",
       "Method:                 Least Squares   F-statistic:                     479.9\n",
       "Date:                Mon, 15 Apr 2019   Prob (F-statistic):          2.30e-291\n",
       "Time:                        14:19:09   Log-Likelihood:                -14213.\n",
       "No. Observations:               10000   AIC:                         2.843e+04\n",
       "Df Residuals:                    9996   BIC:                         2.846e+04\n",
       "Df Model:                           3                                         \n",
       "Covariance Type:            nonrobust                                         \n",
       "==============================================================================\n",
       "                 coef    std err          t      P>|t|      [0.025      0.975]\n",
       "------------------------------------------------------------------------------\n",
       "Intercept      1.0254      0.028     36.189      0.000       0.970       1.081\n",
       "D             -0.2950      0.010    -29.404      0.000      -0.315      -0.275\n",
       "P              0.6752      0.036     18.960      0.000       0.605       0.745\n",
       "N              0.7322      0.035     20.971      0.000       0.664       0.801\n",
       "==============================================================================\n",
       "Omnibus:                        5.086   Durbin-Watson:                   1.986\n",
       "Prob(Omnibus):                  0.079   Jarque-Bera (JB):                5.118\n",
       "Skew:                           0.053   Prob(JB):                       0.0774\n",
       "Kurtosis:                       2.968   Cond. No.                         8.81\n",
       "==============================================================================\n",
       "\n",
       "Warnings:\n",
       "[1] Standard Errors assume that the covariance matrix of the errors is correctly specified.\n",
       "\"\"\""
      ]
     },
     "execution_count": 3,
     "metadata": {},
     "output_type": "execute_result"
    }
   ],
   "source": [
    "import statsmodels.api as sm\n",
    "from patsy import dmatrices\n",
    "\n",
    "y, x = dmatrices('Y ~ D + P + N', data = df)\n",
    "model_spec = sm.OLS(y, x)\n",
    "model_spec.fit().summary()"
   ]
  },
  {
   "cell_type": "markdown",
   "metadata": {},
   "source": [
    "## Graphs and the potential outcome model"
   ]
  },
  {
   "cell_type": "markdown",
   "metadata": {
    "slideshow": {
     "slide_type": "slide"
    }
   },
   "source": [
    "Advantages of the potential outcome model\n",
    "\n",
    "* definition of causal states\n",
    "* individual effects as first principle\n",
    "* decomposition of sources of inconsistency\n",
    "* ...\n",
    "\n",
    "However, it is hard to manage the notion for larger causal systems with many confounding variables and treatments."
   ]
  },
  {
   "cell_type": "markdown",
   "metadata": {},
   "source": [
    "<img src=\"material/fig-observed-confounding-variable.png\" height=500 width=500 />\n",
    "\n",
    "Based on our previous discussion, unfortunately, $E[Y_1 - Y_0] \\neq E[Y\\mid D = 1] - E[Y\\mid D = 1]$. "
   ]
  },
  {
   "cell_type": "markdown",
   "metadata": {
    "slideshow": {
     "slide_type": "slide"
    }
   },
   "source": [
    "How can we define the treatment effects from the potential outcome model in here?\n",
    "\n",
    "> Interventions and counterfactuals are defined through a mathematical operator called $do(\\cdot)$, which simulates physical interventions by deleting certain functions from the model, replacing them with a constant. (Pearl, 2012)\n",
    "\n",
    "\\begin{align*}\n",
    "E[Y_1 - Y_0 ]\\quad\\text{corresponds to}\\quad E[Y \\mid do(D=1)] - E[Y \\mid do(D=0)]\n",
    "\\end{align*}"
   ]
  },
  {
   "cell_type": "markdown",
   "metadata": {
    "slideshow": {
     "slide_type": "slide"
    }
   },
   "source": [
    "Graphical presentation of $do(\\cdot)$ operator\n",
    "\n",
    "<img src=\"material/fig-mutilated-graph.png\" height=500 width=500 />"
   ]
  },
  {
   "cell_type": "code",
   "execution_count": 2,
   "metadata": {},
   "outputs": [
    {
     "data": {
      "text/html": [
       "<link href='http://fonts.googleapis.com/css?family=Alegreya+Sans:100,300,400,500,700,800,900,100italic,300italic,400italic,500italic,700italic,800italic,900italic' rel='stylesheet' type='text/css'>\n",
       "<link href='http://fonts.googleapis.com/css?family=Arvo:400,700,400italic' rel='stylesheet' type='text/css'>\n",
       "<link href='http://fonts.googleapis.com/css?family=PT+Mono' rel='stylesheet' type='text/css'>\n",
       "<link href='http://fonts.googleapis.com/css?family=Shadows+Into+Light' rel='stylesheet' type='text/css'>\n",
       "<link href='http://fonts.googleapis.com/css?family=Philosopher:400,700,400italic,700italic' rel='stylesheet' type='text/css'>\n",
       "\n",
       "<style>\n",
       "\n",
       "@font-face {\n",
       "    font-family: \"Computer Modern\";\n",
       "    src: url('http://mirrors.ctan.org/fonts/cm-unicode/fonts/otf/cmunss.otf');\n",
       "}\n",
       "\n",
       "#notebook_panel { /* main background */\n",
       "    background: #888;\n",
       "    color: #f6f6f6;\n",
       "}\n",
       "\n",
       "\n",
       "div.cell { /* set cell width to about 80 chars */\n",
       "    width: 1000px;\n",
       "}\n",
       "\n",
       "\n",
       "div.text_cell_render {\n",
       "/*font-family: \"Helvetica Neue\", Arial, Helvetica, Geneva, sans-serif;*/\n",
       "font-family: \"Charis SIL\", serif; /* Make non-code text serif. */\n",
       "line-height: 145%; /* added for some line spacing of text. */\n",
       "width: 105ex; /* instead of 'inherit' for shorter lines */\n",
       "}\n",
       "\n",
       "div #notebook { /* centre the content */\n",
       "    background: #fff; /* white background for content */\n",
       "    width: 1200px;\n",
       "    margin: auto;\n",
       "    padding-left: 1em;\n",
       "}\n",
       "\n",
       "#notebook li { /* More space between bullet points */\n",
       "margin-top:0.8em;\n",
       "}\n",
       "\n",
       "/* draw border around running cells */\n",
       "div.cell.border-box-sizing.code_cell.running {\n",
       "    border: 3px solid #111;\n",
       "}\n",
       "\n",
       "/* Put a solid color box around each cell and its output, visually linking them together */\n",
       "div.cell.code_cell {\n",
       "    background-color: rgba(171,165,131,0.3); \n",
       "    border-radius: 10px; /* rounded borders */\n",
       "    padding: 1em;\n",
       "    margin-top: 1em;\n",
       "}\n",
       "\n",
       "div.text_cell_render{\n",
       "    font-family: 'Arvo' sans-serif;\n",
       "    line-height: 130%;\n",
       "    font-size: 150%;\n",
       "    width:900px;\n",
       "    margin-left:auto;\n",
       "    margin-right:auto;\n",
       "}\n",
       "\n",
       "/* Formatting for header cells */\n",
       ".text_cell_render h1 {\n",
       "    font-family: 'Philosopher', sans-serif;\n",
       "    font-weight: 400;\n",
       "    font-size: 32pt;\n",
       "    line-height: 100%;\n",
       "    color: rgb(12,85,97);\n",
       "    margin-bottom: 0.1em;\n",
       "    margin-top: 0.1em;\n",
       "    display: block;\n",
       "}\n",
       "\n",
       ".text_cell_render h2 {\n",
       "    font-family: 'Philosopher', serif;\n",
       "    font-weight: 700;\n",
       "    font-size: 24pt;\n",
       "    line-height: 100%;\n",
       "    color: rgb(171,165,131);\n",
       "    margin-bottom: 0.1em;\n",
       "    margin-top: 0.1em;\n",
       "    display: block;\n",
       "}    \n",
       "\n",
       ".text_cell_render h3 {\n",
       "    font-family: 'Philosopher', serif;\n",
       "    margin-top:12px;\n",
       "    margin-bottom: 3px;\n",
       "    font-style: italic;\n",
       "    color: rgb(95,92,72);\n",
       "}\n",
       "\n",
       ".text_cell_render h4 {\n",
       "    font-family: 'Philosopher', serif;\n",
       "}\n",
       "\n",
       ".text_cell_render h5 {\n",
       "    font-family: 'Alegreya Sans', sans-serif;\n",
       "    font-weight: 300;\n",
       "    font-size: 16pt;\n",
       "    color: grey;\n",
       "    font-style: italic;\n",
       "    margin-bottom: .1em;\n",
       "    margin-top: 0.1em;\n",
       "    display: block;\n",
       "}\n",
       "\n",
       ".text_cell_render h6 {\n",
       "    font-family: 'PT Mono', sans-serif;\n",
       "    font-weight: 300;\n",
       "    font-size: 10pt;\n",
       "    color: grey;\n",
       "    margin-bottom: 1px;\n",
       "    margin-top: 1px;\n",
       "}\n",
       "\n",
       ".CodeMirror{\n",
       "        font-family: \"PT Mono\";\n",
       "        font-size: 120%;\n",
       "}\n",
       "\n",
       "</style>\n",
       "\n"
      ],
      "text/plain": [
       "<IPython.core.display.HTML object>"
      ]
     },
     "execution_count": 2,
     "metadata": {},
     "output_type": "execute_result"
    }
   ],
   "source": [
    "from IPython.display import HTML\n",
    "from urllib.request import urlopen\n",
    "html = urlopen('http://bit.ly/2DeuEQx')\n",
    "HTML(html.read().decode('utf-8'))"
   ]
  }
 ],
 "metadata": {
  "kernelspec": {
   "display_name": "Python 3",
   "language": "python",
   "name": "python3"
  },
  "language_info": {
   "codemirror_mode": {
    "name": "ipython",
    "version": 3
   },
   "file_extension": ".py",
   "mimetype": "text/x-python",
   "name": "python",
   "nbconvert_exporter": "python",
   "pygments_lexer": "ipython3",
   "version": "3.7.2"
  },
  "varInspector": {
   "cols": {
    "lenName": 16,
    "lenType": 16,
    "lenVar": 40
   },
   "kernels_config": {
    "python": {
     "delete_cmd_postfix": "",
     "delete_cmd_prefix": "del ",
     "library": "var_list.py",
     "varRefreshCmd": "print(var_dic_list())"
    },
    "r": {
     "delete_cmd_postfix": ") ",
     "delete_cmd_prefix": "rm(",
     "library": "var_list.r",
     "varRefreshCmd": "cat(var_dic_list()) "
    }
   },
   "types_to_exclude": [
    "module",
    "function",
    "builtin_function_or_method",
    "instance",
    "_Feature"
   ],
   "window_display": false
  }
 },
 "nbformat": 4,
 "nbformat_minor": 2
}
