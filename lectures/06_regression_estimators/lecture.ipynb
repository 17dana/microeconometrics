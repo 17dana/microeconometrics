{
  "cells": [
    {
      "cell_type": "code",
      "execution_count": 1,
      "metadata": {
        "pycharm": {},
        "slideshow": {
          "slide_type": "skip"
        }
      },
      "outputs": [],
      "source": [
        "%matplotlib inline\n",
        "\n",
        "import statsmodels.formula.api as smf\n",
        "import pandas as pd\n",
        "import numpy as np\n",
        "\n",
        "from auxiliary import *\n",
        "\n",
        "np.random.seed(123)"
      ]
    },
    {
      "cell_type": "markdown",
      "metadata": {
        "pycharm": {},
        "slideshow": {
          "slide_type": "slide"
        }
      },
      "source": [
        "# Regression estimators of causal effects"
      ]
    },
    {
      "cell_type": "markdown",
      "metadata": {
        "pycharm": {},
        "slideshow": {
          "slide_type": "slide"
        }
      },
      "source": [
        "**Overview**\n",
        "\n",
        "* Regression as a descriptive tool\n",
        "\n",
        "* Regression adjustment as a strategy to to estimate causal effects\n",
        "\n",
        "* Regression as conditional-variance-weighted matching\n",
        "\n",
        "* Regression as an implementation of a perfect stratification\n",
        "\n",
        "* Regression as supplemental adjustment when matching\n",
        "\n",
        "* Extensions and other perspectives\n",
        "\n",
        "* Conclusion\n",
        "    "
      ]
    },
    {
      "cell_type": "markdown",
      "metadata": {
        "pycharm": {},
        "slideshow": {
          "slide_type": "slide"
        }
      },
      "source": [
        "We start with different ways of using regression\n",
        "\n",
        "* descriptive tools\n",
        "    * Anscombe quartet\n",
        "    \n",
        "* estimating causal effects\n",
        "\n",
        "* Freedman\u0027s paradox"
      ]
    },
    {
      "cell_type": "markdown",
      "metadata": {
        "pycharm": {},
        "slideshow": {
          "slide_type": "slide"
        }
      },
      "source": [
        "## Regression as a descriptive tool\n",
        "\n",
        "Goldberger (1991) motivates least squares regression as a technique to estimate a best-fitting \n",
        "linear approximation to a conditional expectation function that may be nonlinear in the population."
      ]
    },
    {
      "cell_type": "markdown",
      "metadata": {
        "pycharm": {},
        "slideshow": {
          "slide_type": "slide"
        }
      },
      "source": [
        "\u003cimg src\u003d\"material/regression_demonstration_one.png\" height\u003d300 width\u003d300 /\u003e"
      ]
    },
    {
      "cell_type": "code",
      "execution_count": 2,
      "metadata": {
        "pycharm": {},
        "slideshow": {
          "slide_type": "slide"
        }
      },
      "outputs": [
        {
          "data": {
            "text/html": [
              "\u003cdiv\u003e\n",
              "\u003cstyle scoped\u003e\n",
              "    .dataframe tbody tr th:only-of-type {\n",
              "        vertical-align: middle;\n",
              "    }\n",
              "\n",
              "    .dataframe tbody tr th {\n",
              "        vertical-align: top;\n",
              "    }\n",
              "\n",
              "    .dataframe thead th {\n",
              "        text-align: right;\n",
              "    }\n",
              "\u003c/style\u003e\n",
              "\u003ctable border\u003d\"1\" class\u003d\"dataframe\"\u003e\n",
              "  \u003cthead\u003e\n",
              "    \u003ctr style\u003d\"text-align: right;\"\u003e\n",
              "      \u003cth\u003e\u003c/th\u003e\n",
              "      \u003cth\u003eY\u003c/th\u003e\n",
              "      \u003cth\u003eD\u003c/th\u003e\n",
              "      \u003cth\u003eS\u003c/th\u003e\n",
              "      \u003cth\u003eY_1\u003c/th\u003e\n",
              "      \u003cth\u003eY_0\u003c/th\u003e\n",
              "    \u003c/tr\u003e\n",
              "  \u003c/thead\u003e\n",
              "  \u003ctbody\u003e\n",
              "    \u003ctr\u003e\n",
              "      \u003cth\u003e0\u003c/th\u003e\n",
              "      \u003ctd\u003e7.047903\u003c/td\u003e\n",
              "      \u003ctd\u003e1\u003c/td\u003e\n",
              "      \u003ctd\u003e2\u003c/td\u003e\n",
              "      \u003ctd\u003e7.047903\u003c/td\u003e\n",
              "      \u003ctd\u003e5.254559\u003c/td\u003e\n",
              "    \u003c/tr\u003e\n",
              "    \u003ctr\u003e\n",
              "      \u003cth\u003e1\u003c/th\u003e\n",
              "      \u003ctd\u003e11.651437\u003c/td\u003e\n",
              "      \u003ctd\u003e0\u003c/td\u003e\n",
              "      \u003ctd\u003e3\u003c/td\u003e\n",
              "      \u003ctd\u003e13.421400\u003c/td\u003e\n",
              "      \u003ctd\u003e11.651437\u003c/td\u003e\n",
              "    \u003c/tr\u003e\n",
              "    \u003ctr\u003e\n",
              "      \u003cth\u003e2\u003c/th\u003e\n",
              "      \u003ctd\u003e13.795799\u003c/td\u003e\n",
              "      \u003ctd\u003e1\u003c/td\u003e\n",
              "      \u003ctd\u003e3\u003c/td\u003e\n",
              "      \u003ctd\u003e13.795799\u003c/td\u003e\n",
              "      \u003ctd\u003e11.979348\u003c/td\u003e\n",
              "    \u003c/tr\u003e\n",
              "    \u003ctr\u003e\n",
              "      \u003cth\u003e3\u003c/th\u003e\n",
              "      \u003ctd\u003e5.133260\u003c/td\u003e\n",
              "      \u003ctd\u003e0\u003c/td\u003e\n",
              "      \u003ctd\u003e2\u003c/td\u003e\n",
              "      \u003ctd\u003e9.265936\u003c/td\u003e\n",
              "      \u003ctd\u003e5.133260\u003c/td\u003e\n",
              "    \u003c/tr\u003e\n",
              "    \u003ctr\u003e\n",
              "      \u003cth\u003e4\u003c/th\u003e\n",
              "      \u003ctd\u003e5.380809\u003c/td\u003e\n",
              "      \u003ctd\u003e0\u003c/td\u003e\n",
              "      \u003ctd\u003e2\u003c/td\u003e\n",
              "      \u003ctd\u003e7.856628\u003c/td\u003e\n",
              "      \u003ctd\u003e5.380809\u003c/td\u003e\n",
              "    \u003c/tr\u003e\n",
              "  \u003c/tbody\u003e\n",
              "\u003c/table\u003e\n",
              "\u003c/div\u003e"
            ],
            "text/plain": [
              "           Y  D  S        Y_1        Y_0\n",
              "0   7.047903  1  2   7.047903   5.254559\n",
              "1  11.651437  0  3  13.421400  11.651437\n",
              "2  13.795799  1  3  13.795799  11.979348\n",
              "3   5.133260  0  2   9.265936   5.133260\n",
              "4   5.380809  0  2   7.856628   5.380809"
            ]
          },
          "execution_count": 2,
          "metadata": {},
          "output_type": "execute_result"
        }
      ],
      "source": [
        "df \u003d get_sample_demonstration_1(num_agents\u003d10000)\n",
        "df.head()"
      ]
    },
    {
      "cell_type": "code",
      "execution_count": 3,
      "metadata": {
        "pycharm": {},
        "slideshow": {
          "slide_type": "slide"
        }
      },
      "outputs": [
        {
          "data": {
            "text/plain": [
              "D  S\n",
              "0  1     2.019014\n",
              "   2     6.017456\n",
              "   3     9.977920\n",
              "1  1     4.026830\n",
              "   2     8.001276\n",
              "   3    13.980587\n",
              "Name: Y, dtype: float64"
            ]
          },
          "execution_count": 3,
          "metadata": {},
          "output_type": "execute_result"
        }
      ],
      "source": [
        "df.groupby([\u0027D\u0027, \u0027S\u0027])[\u0027Y\u0027].mean()"
      ]
    },
    {
      "cell_type": "markdown",
      "metadata": {
        "pycharm": {},
        "slideshow": {
          "slide_type": "slide"
        }
      },
      "source": [
        "How does the functional form of the conditional expectation look like?"
      ]
    },
    {
      "cell_type": "code",
      "execution_count": 4,
      "metadata": {
        "pycharm": {},
        "slideshow": {
          "slide_type": "slide"
        }
      },
      "outputs": [
        {
          "data": {
            "image/png": "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\u003d\u003d\n",
            "text/plain": [
              "\u003cFigure size 432x288 with 1 Axes\u003e"
            ]
          },
          "metadata": {
            "needs_background": "light"
          },
          "output_type": "display_data"
        }
      ],
      "source": [
        "plot_conditional_expectation_demonstration_1(df)"
      ]
    },
    {
      "cell_type": "markdown",
      "metadata": {
        "pycharm": {},
        "slideshow": {
          "slide_type": "-"
        }
      },
      "source": [
        "What does the difference between the two lines tell us about treatment effect heterogeneity?"
      ]
    },
    {
      "cell_type": "markdown",
      "metadata": {
        "pycharm": {},
        "slideshow": {
          "slide_type": "slide"
        }
      },
      "source": [
        "We will fit four different prediction models using ordinary least squares.\n",
        "\n",
        "\\begin{align*}\n",
        "\u0026\\hat{Y} \u003d \\beta_0 + \\beta_1 D + \\beta_2 S \\\\\n",
        "\u0026\\hat{Y} \u003d \\beta_0 + \\beta_1 D + \\beta_2 S_1 + \\beta_3 S_2 \\\\\n",
        "\u0026\\hat{Y} \u003d \\beta_0 + \\beta_1 D + \\beta_2 S_1 + \\beta_3 S_2 + \\beta_4 S_1 * D + \\beta_5 S_2 * D  \n",
        "\\end{align*}\n"
      ]
    },
    {
      "cell_type": "code",
      "execution_count": 5,
      "metadata": {
        "pycharm": {},
        "slideshow": {
          "slide_type": "slide"
        }
      },
      "outputs": [
        {
          "data": {
            "text/html": [
              "\u003ctable class\u003d\"simpletable\"\u003e\n",
              "\u003ccaption\u003eOLS Regression Results\u003c/caption\u003e\n",
              "\u003ctr\u003e\n",
              "  \u003cth\u003eDep. Variable:\u003c/th\u003e            \u003ctd\u003eY\u003c/td\u003e        \u003cth\u003e  R-squared:         \u003c/th\u003e \u003ctd\u003e   0.942\u003c/td\u003e \n",
              "\u003c/tr\u003e\n",
              "\u003ctr\u003e\n",
              "  \u003cth\u003eModel:\u003c/th\u003e                   \u003ctd\u003eOLS\u003c/td\u003e       \u003cth\u003e  Adj. R-squared:    \u003c/th\u003e \u003ctd\u003e   0.942\u003c/td\u003e \n",
              "\u003c/tr\u003e\n",
              "\u003ctr\u003e\n",
              "  \u003cth\u003eMethod:\u003c/th\u003e             \u003ctd\u003eLeast Squares\u003c/td\u003e  \u003cth\u003e  F-statistic:       \u003c/th\u003e \u003ctd\u003e8.162e+04\u003c/td\u003e\n",
              "\u003c/tr\u003e\n",
              "\u003ctr\u003e\n",
              "  \u003cth\u003eDate:\u003c/th\u003e             \u003ctd\u003eTue, 30 Apr 2019\u003c/td\u003e \u003cth\u003e  Prob (F-statistic):\u003c/th\u003e  \u003ctd\u003e  0.00\u003c/td\u003e  \n",
              "\u003c/tr\u003e\n",
              "\u003ctr\u003e\n",
              "  \u003cth\u003eTime:\u003c/th\u003e                 \u003ctd\u003e10:10:46\u003c/td\u003e     \u003cth\u003e  Log-Likelihood:    \u003c/th\u003e \u003ctd\u003e -15331.\u003c/td\u003e \n",
              "\u003c/tr\u003e\n",
              "\u003ctr\u003e\n",
              "  \u003cth\u003eNo. Observations:\u003c/th\u003e      \u003ctd\u003e 10000\u003c/td\u003e      \u003cth\u003e  AIC:               \u003c/th\u003e \u003ctd\u003e3.067e+04\u003c/td\u003e\n",
              "\u003c/tr\u003e\n",
              "\u003ctr\u003e\n",
              "  \u003cth\u003eDf Residuals:\u003c/th\u003e          \u003ctd\u003e  9997\u003c/td\u003e      \u003cth\u003e  BIC:               \u003c/th\u003e \u003ctd\u003e3.069e+04\u003c/td\u003e\n",
              "\u003c/tr\u003e\n",
              "\u003ctr\u003e\n",
              "  \u003cth\u003eDf Model:\u003c/th\u003e              \u003ctd\u003e     2\u003c/td\u003e      \u003cth\u003e                     \u003c/th\u003e     \u003ctd\u003e \u003c/td\u003e    \n",
              "\u003c/tr\u003e\n",
              "\u003ctr\u003e\n",
              "  \u003cth\u003eCovariance Type:\u003c/th\u003e      \u003ctd\u003enonrobust\u003c/td\u003e    \u003cth\u003e                     \u003c/th\u003e     \u003ctd\u003e \u003c/td\u003e    \n",
              "\u003c/tr\u003e\n",
              "\u003c/table\u003e\n",
              "\u003ctable class\u003d\"simpletable\"\u003e\n",
              "\u003ctr\u003e\n",
              "      \u003ctd\u003e\u003c/td\u003e         \u003cth\u003ecoef\u003c/th\u003e     \u003cth\u003estd err\u003c/th\u003e      \u003cth\u003et\u003c/th\u003e      \u003cth\u003eP\u003e|t|\u003c/th\u003e  \u003cth\u003e[0.025\u003c/th\u003e    \u003cth\u003e0.975]\u003c/th\u003e  \n",
              "\u003c/tr\u003e\n",
              "\u003ctr\u003e\n",
              "  \u003cth\u003eIntercept\u003c/th\u003e \u003ctd\u003e   -2.6768\u003c/td\u003e \u003ctd\u003e    0.027\u003c/td\u003e \u003ctd\u003e -100.048\u003c/td\u003e \u003ctd\u003e 0.000\u003c/td\u003e \u003ctd\u003e   -2.729\u003c/td\u003e \u003ctd\u003e   -2.624\u003c/td\u003e\n",
              "\u003c/tr\u003e\n",
              "\u003ctr\u003e\n",
              "  \u003cth\u003eD\u003c/th\u003e         \u003ctd\u003e    2.6950\u003c/td\u003e \u003ctd\u003e    0.025\u003c/td\u003e \u003ctd\u003e  107.753\u003c/td\u003e \u003ctd\u003e 0.000\u003c/td\u003e \u003ctd\u003e    2.646\u003c/td\u003e \u003ctd\u003e    2.744\u003c/td\u003e\n",
              "\u003c/tr\u003e\n",
              "\u003ctr\u003e\n",
              "  \u003cth\u003eS\u003c/th\u003e         \u003ctd\u003e    4.4325\u003c/td\u003e \u003ctd\u003e    0.014\u003c/td\u003e \u003ctd\u003e  313.055\u003c/td\u003e \u003ctd\u003e 0.000\u003c/td\u003e \u003ctd\u003e    4.405\u003c/td\u003e \u003ctd\u003e    4.460\u003c/td\u003e\n",
              "\u003c/tr\u003e\n",
              "\u003c/table\u003e\n",
              "\u003ctable class\u003d\"simpletable\"\u003e\n",
              "\u003ctr\u003e\n",
              "  \u003cth\u003eOmnibus:\u003c/th\u003e       \u003ctd\u003e 5.215\u003c/td\u003e \u003cth\u003e  Durbin-Watson:     \u003c/th\u003e \u003ctd\u003e   2.018\u003c/td\u003e\n",
              "\u003c/tr\u003e\n",
              "\u003ctr\u003e\n",
              "  \u003cth\u003eProb(Omnibus):\u003c/th\u003e \u003ctd\u003e 0.074\u003c/td\u003e \u003cth\u003e  Jarque-Bera (JB):  \u003c/th\u003e \u003ctd\u003e   5.016\u003c/td\u003e\n",
              "\u003c/tr\u003e\n",
              "\u003ctr\u003e\n",
              "  \u003cth\u003eSkew:\u003c/th\u003e          \u003ctd\u003e-0.031\u003c/td\u003e \u003cth\u003e  Prob(JB):          \u003c/th\u003e \u003ctd\u003e  0.0814\u003c/td\u003e\n",
              "\u003c/tr\u003e\n",
              "\u003ctr\u003e\n",
              "  \u003cth\u003eKurtosis:\u003c/th\u003e      \u003ctd\u003e 2.910\u003c/td\u003e \u003cth\u003e  Cond. No.          \u003c/th\u003e \u003ctd\u003e    6.14\u003c/td\u003e\n",
              "\u003c/tr\u003e\n",
              "\u003c/table\u003e\u003cbr/\u003e\u003cbr/\u003eWarnings:\u003cbr/\u003e[1] Standard Errors assume that the covariance matrix of the errors is correctly specified."
            ],
            "text/plain": [
              "\u003cclass \u0027statsmodels.iolib.summary.Summary\u0027\u003e\n",
              "\"\"\"\n",
              "                            OLS Regression Results                            \n",
              "\u003d\u003d\u003d\u003d\u003d\u003d\u003d\u003d\u003d\u003d\u003d\u003d\u003d\u003d\u003d\u003d\u003d\u003d\u003d\u003d\u003d\u003d\u003d\u003d\u003d\u003d\u003d\u003d\u003d\u003d\u003d\u003d\u003d\u003d\u003d\u003d\u003d\u003d\u003d\u003d\u003d\u003d\u003d\u003d\u003d\u003d\u003d\u003d\u003d\u003d\u003d\u003d\u003d\u003d\u003d\u003d\u003d\u003d\u003d\u003d\u003d\u003d\u003d\u003d\u003d\u003d\u003d\u003d\u003d\u003d\u003d\u003d\u003d\u003d\u003d\u003d\u003d\u003d\n",
              "Dep. Variable:                      Y   R-squared:                       0.942\n",
              "Model:                            OLS   Adj. R-squared:                  0.942\n",
              "Method:                 Least Squares   F-statistic:                 8.162e+04\n",
              "Date:                Tue, 30 Apr 2019   Prob (F-statistic):               0.00\n",
              "Time:                        10:10:46   Log-Likelihood:                -15331.\n",
              "No. Observations:               10000   AIC:                         3.067e+04\n",
              "Df Residuals:                    9997   BIC:                         3.069e+04\n",
              "Df Model:                           2                                         \n",
              "Covariance Type:            nonrobust                                         \n",
              "\u003d\u003d\u003d\u003d\u003d\u003d\u003d\u003d\u003d\u003d\u003d\u003d\u003d\u003d\u003d\u003d\u003d\u003d\u003d\u003d\u003d\u003d\u003d\u003d\u003d\u003d\u003d\u003d\u003d\u003d\u003d\u003d\u003d\u003d\u003d\u003d\u003d\u003d\u003d\u003d\u003d\u003d\u003d\u003d\u003d\u003d\u003d\u003d\u003d\u003d\u003d\u003d\u003d\u003d\u003d\u003d\u003d\u003d\u003d\u003d\u003d\u003d\u003d\u003d\u003d\u003d\u003d\u003d\u003d\u003d\u003d\u003d\u003d\u003d\u003d\u003d\u003d\u003d\n",
              "                 coef    std err          t      P\u003e|t|      [0.025      0.975]\n",
              "------------------------------------------------------------------------------\n",
              "Intercept     -2.6768      0.027   -100.048      0.000      -2.729      -2.624\n",
              "D              2.6950      0.025    107.753      0.000       2.646       2.744\n",
              "S              4.4325      0.014    313.055      0.000       4.405       4.460\n",
              "\u003d\u003d\u003d\u003d\u003d\u003d\u003d\u003d\u003d\u003d\u003d\u003d\u003d\u003d\u003d\u003d\u003d\u003d\u003d\u003d\u003d\u003d\u003d\u003d\u003d\u003d\u003d\u003d\u003d\u003d\u003d\u003d\u003d\u003d\u003d\u003d\u003d\u003d\u003d\u003d\u003d\u003d\u003d\u003d\u003d\u003d\u003d\u003d\u003d\u003d\u003d\u003d\u003d\u003d\u003d\u003d\u003d\u003d\u003d\u003d\u003d\u003d\u003d\u003d\u003d\u003d\u003d\u003d\u003d\u003d\u003d\u003d\u003d\u003d\u003d\u003d\u003d\u003d\n",
              "Omnibus:                        5.215   Durbin-Watson:                   2.018\n",
              "Prob(Omnibus):                  0.074   Jarque-Bera (JB):                5.016\n",
              "Skew:                          -0.031   Prob(JB):                       0.0814\n",
              "Kurtosis:                       2.910   Cond. No.                         6.14\n",
              "\u003d\u003d\u003d\u003d\u003d\u003d\u003d\u003d\u003d\u003d\u003d\u003d\u003d\u003d\u003d\u003d\u003d\u003d\u003d\u003d\u003d\u003d\u003d\u003d\u003d\u003d\u003d\u003d\u003d\u003d\u003d\u003d\u003d\u003d\u003d\u003d\u003d\u003d\u003d\u003d\u003d\u003d\u003d\u003d\u003d\u003d\u003d\u003d\u003d\u003d\u003d\u003d\u003d\u003d\u003d\u003d\u003d\u003d\u003d\u003d\u003d\u003d\u003d\u003d\u003d\u003d\u003d\u003d\u003d\u003d\u003d\u003d\u003d\u003d\u003d\u003d\u003d\u003d\n",
              "\n",
              "Warnings:\n",
              "[1] Standard Errors assume that the covariance matrix of the errors is correctly specified.\n",
              "\"\"\""
            ]
          },
          "execution_count": 5,
          "metadata": {},
          "output_type": "execute_result"
        }
      ],
      "source": [
        "rslt \u003d smf.ols(formula\u003d\u0027Y ~ D + S\u0027, data\u003ddf).fit()\n",
        "rslt.summary()"
      ]
    },
    {
      "cell_type": "code",
      "execution_count": 6,
      "metadata": {
        "pycharm": {},
        "slideshow": {
          "slide_type": "slide"
        }
      },
      "outputs": [
        {
          "data": {
            "text/html": [
              "\u003cdiv\u003e\n",
              "\u003cstyle scoped\u003e\n",
              "    .dataframe tbody tr th:only-of-type {\n",
              "        vertical-align: middle;\n",
              "    }\n",
              "\n",
              "    .dataframe tbody tr th {\n",
              "        vertical-align: top;\n",
              "    }\n",
              "\n",
              "    .dataframe thead th {\n",
              "        text-align: right;\n",
              "    }\n",
              "\u003c/style\u003e\n",
              "\u003ctable border\u003d\"1\" class\u003d\"dataframe\"\u003e\n",
              "  \u003cthead\u003e\n",
              "    \u003ctr style\u003d\"text-align: right;\"\u003e\n",
              "      \u003cth\u003e\u003c/th\u003e\n",
              "      \u003cth\u003e\u003c/th\u003e\n",
              "      \u003cth\u003eY\u003c/th\u003e\n",
              "      \u003cth\u003epredict\u003c/th\u003e\n",
              "    \u003c/tr\u003e\n",
              "    \u003ctr\u003e\n",
              "      \u003cth\u003eD\u003c/th\u003e\n",
              "      \u003cth\u003eS\u003c/th\u003e\n",
              "      \u003cth\u003e\u003c/th\u003e\n",
              "      \u003cth\u003e\u003c/th\u003e\n",
              "    \u003c/tr\u003e\n",
              "  \u003c/thead\u003e\n",
              "  \u003ctbody\u003e\n",
              "    \u003ctr\u003e\n",
              "      \u003cth rowspan\u003d\"3\" valign\u003d\"top\"\u003e0\u003c/th\u003e\n",
              "      \u003cth\u003e1\u003c/th\u003e\n",
              "      \u003ctd\u003e2.019014\u003c/td\u003e\n",
              "      \u003ctd\u003e1.755647\u003c/td\u003e\n",
              "    \u003c/tr\u003e\n",
              "    \u003ctr\u003e\n",
              "      \u003cth\u003e2\u003c/th\u003e\n",
              "      \u003ctd\u003e6.017456\u003c/td\u003e\n",
              "      \u003ctd\u003e6.188111\u003c/td\u003e\n",
              "    \u003c/tr\u003e\n",
              "    \u003ctr\u003e\n",
              "      \u003cth\u003e3\u003c/th\u003e\n",
              "      \u003ctd\u003e9.977920\u003c/td\u003e\n",
              "      \u003ctd\u003e10.620575\u003c/td\u003e\n",
              "    \u003c/tr\u003e\n",
              "    \u003ctr\u003e\n",
              "      \u003cth rowspan\u003d\"3\" valign\u003d\"top\"\u003e1\u003c/th\u003e\n",
              "      \u003cth\u003e1\u003c/th\u003e\n",
              "      \u003ctd\u003e4.026830\u003c/td\u003e\n",
              "      \u003ctd\u003e4.450685\u003c/td\u003e\n",
              "    \u003c/tr\u003e\n",
              "    \u003ctr\u003e\n",
              "      \u003cth\u003e2\u003c/th\u003e\n",
              "      \u003ctd\u003e8.001276\u003c/td\u003e\n",
              "      \u003ctd\u003e8.883149\u003c/td\u003e\n",
              "    \u003c/tr\u003e\n",
              "    \u003ctr\u003e\n",
              "      \u003cth\u003e3\u003c/th\u003e\n",
              "      \u003ctd\u003e13.980587\u003c/td\u003e\n",
              "      \u003ctd\u003e13.315613\u003c/td\u003e\n",
              "    \u003c/tr\u003e\n",
              "  \u003c/tbody\u003e\n",
              "\u003c/table\u003e\n",
              "\u003c/div\u003e"
            ],
            "text/plain": [
              "             Y    predict\n",
              "D S                      \n",
              "0 1   2.019014   1.755647\n",
              "  2   6.017456   6.188111\n",
              "  3   9.977920  10.620575\n",
              "1 1   4.026830   4.450685\n",
              "  2   8.001276   8.883149\n",
              "  3  13.980587  13.315613"
            ]
          },
          "execution_count": 6,
          "metadata": {},
          "output_type": "execute_result"
        }
      ],
      "source": [
        "df[\u0027predict\u0027] \u003d rslt.predict()\n",
        "df.groupby([\u0027D\u0027, \u0027S\u0027])[\u0027Y\u0027, \u0027predict\u0027].mean()"
      ]
    },
    {
      "cell_type": "code",
      "execution_count": 7,
      "metadata": {
        "pycharm": {},
        "slideshow": {
          "slide_type": "slide"
        }
      },
      "outputs": [
        {
          "data": {
            "image/png": "[encoded data removed]",
            "text/plain": [
              "\u003cFigure size 432x288 with 2 Axes\u003e"
            ]
          },
          "metadata": {
            "needs_background": "light"
          },
          "output_type": "display_data"
        }
      ],
      "source": [
        "plot_predictions_demonstration_1(df)"
      ]
    },
    {
      "cell_type": "markdown",
      "metadata": {
        "pycharm": {},
        "slideshow": {
          "slide_type": "slide"
        }
      },
      "source": [
        "### Anscombe quartet\n"
      ]
    },
    {
      "cell_type": "code",
      "execution_count": 8,
      "metadata": {
        "pycharm": {},
        "slideshow": {
          "slide_type": "-"
        }
      },
      "outputs": [
        {
          "name": "stdout",
          "output_type": "stream",
          "text": [
            "\n",
            " Dataset 1\n",
            " Intercept: 3.002 x: 0.500\n",
            "\n",
            " Dataset 2\n",
            " Intercept: 3.002 x: 0.500\n",
            "\n",
            " Dataset 3\n",
            " Intercept: 3.002 x: 0.500\n",
            "\n",
            " Dataset 4\n",
            " Intercept: 3.002 x: 0.500\n"
          ]
        }
      ],
      "source": [
        "df1, df2, df3, df4 \u003d get_anscombe_datasets()\n",
        "for i, df in enumerate([df1, df2, df3, df4]):\n",
        "    rslt \u003d smf.ols(formula\u003d\u0027y ~ x\u0027, data\u003ddf3).fit()\n",
        "    print(\u0027\\n Dataset {:}\u0027.format(i + 1))\n",
        "    print(\u0027 Intercept: {:5.3f} x: {:5.3f}\u0027. format(*rslt.params))"
      ]
    },
    {
      "cell_type": "markdown",
      "metadata": {
        "pycharm": {},
        "slideshow": {
          "slide_type": "slide"
        }
      },
      "source": [
        "So what does the data behind these regressions look like?"
      ]
    },
    {
      "cell_type": "code",
      "execution_count": 9,
      "metadata": {
        "pycharm": {},
        "slideshow": {
          "slide_type": "-"
        }
      },
      "outputs": [
        {
          "data": {
            "image/png": "[encoded data removed]",
            "text/plain": [
              "\u003cFigure size 576x576 with 4 Axes\u003e"
            ]
          },
          "metadata": {
            "needs_background": "light"
          },
          "output_type": "display_data"
        }
      ],
      "source": [
        "plot_anscombe_dataset()"
      ]
    },
    {
      "cell_type": "markdown",
      "metadata": {
        "pycharm": {},
        "slideshow": {
          "slide_type": "slide"
        }
      },
      "source": "## Regression adjustment as a strategy to estimate causal effects\n\n### Regression models and omitted-variable bias\n\n\\begin{align*}\nY \u003d \\alpha + \\delta D + \\epsilon\n\\end{align*}\n\n* $\\delta$ is interpreted as an invariant, structural causal effect that applies to all members \nof the population.\n\n* $\\epsilon$ is a summary random variable that represents all other causes of $Y$."
    },
    {
      "cell_type": "markdown",
      "metadata": {
        "pycharm": {},
        "slideshow": {
          "slide_type": "slide"
        }
      },
      "source": "\\begin{align*}\n\\hat{\\delta}_{OLS, \\text{bivariate}} \u003d \\frac{Cov_N(y_i, d_i)}{Var_N(d_i)}\n\\end{align*}\n\nIt now depends on the correlation between $\\epsilon$ and $D$ whether $\\hat{\\delta}$ provides an \nunbiased and consistent estimate of the true causal effect\n\n\u003cimg src\u003d\"material/omitted-variable-bias.png\" height\u003d300 width\u003d300 /\u003e\n\nWe now move to the potential outcomes model to clarify the connection between  *omitted-variable \nbias** and **self-selection bias**. "
    },
    {
      "cell_type": "markdown",
      "metadata": {
        "pycharm": {},
        "slideshow": {
          "slide_type": "slide"
        }
      },
      "source": "### Potential outcomes and omitted-variable bias\n\n\\begin{align*}\nY \u003d \\underbrace{\\mu^0}_{\\alpha} + \\underbrace{(\\mu^1 - \\mu^0)}_{\\delta} D + \\underbrace{\\{\\nu^0 +\n D(\\nu^1 - \\nu^0 )\\}}_{\\epsilon}, \n\\end{align*}\n\nwhere $\\mu^0\\equiv E[Y^0]$, $\\mu^1\\equiv E[Y^1]$, $\\nu^0\\equiv Y^0 - E[Y^0]$, and $\\nu^1\\equiv \nY^1 - E[Y^1]$."
    },
    {
      "cell_type": "markdown",
      "metadata": {
        "pycharm": {},
        "slideshow": {
          "slide_type": "slide"
        }
      },
      "source": [
        "What induces a correlation between $D$ an $\\{\\nu^0 + D(\\nu^1 - \\nu^0 )\\}$?\n",
        "\n",
        "* **baseline bias**, there is a net baseline difference in the hypothetical no-treatment state that\n",
        " is correlated with treatment uptake\n",
        "$\\rightarrow$ $D$ is correlated with $\\nu_0$\n",
        "\n",
        "* **differential treatment bias**, there is a net treatment effect difference that is correlated \n",
        "with treatment uptake\n",
        "$\\rightarrow$ $D$ is correlated with $D(\\nu^1 - \\nu^0 )$"
      ]
    },
    {
      "cell_type": "markdown",
      "metadata": {
        "pycharm": {},
        "slideshow": {
          "slide_type": "slide"
        }
      },
      "source": [
        "\u003cimg src\u003d\"material/regression_demonstration_two.png\" height\u003d300 width\u003d300 /\u003e"
      ]
    },
    {
      "cell_type": "markdown",
      "metadata": {
        "slideshow": {
          "slide_type": "slide"
        },
        "pycharm": {}
      },
      "source": "**Errata** \n\nPlease note that there is a relevant correction on the author\u0027s [website](http://socweb.soc.jhu\n.edu/faculty/morgan/papers/Errata_2nd_Edition.pdf):\n\n* page 198, Table 6.2, first panel: In order to restrict the bias to differential baseline \nbias only, as required by the label on the first panel of the table, replace 20 with 10 in the \nfirst cell of the second row.Then, carry the changes across columns so that (a) the values for \n$\\nu^1_i$ are 5 for the individual in the treatment group and 5 for the individual in the control \ngroup and (b) the value for ${\\nu^0_i + D(\\nu^1_i − \\nu^0_i)}$ is 5 for the individual in the \ntreatment group\n"
    },
    {
      "cell_type": "markdown",
      "metadata": {
        "pycharm": {},
        "slideshow": {
          "slide_type": "slide"
        }
      },
      "source": [
        "### Regression as adjustment for otherwise omitted variables\n",
        "\n",
        "\u003cimg src\u003d\"material/observable-regression-adjustment.png\" height\u003d300 width\u003d300 /\u003e"
      ]
    },
    {
      "cell_type": "markdown",
      "metadata": {
        "pycharm": {},
        "slideshow": {
          "slide_type": "slide"
        }
      },
      "source": [
        "\u003cimg src\u003d\"material/regression_demonstration_three.png\" height\u003d300 width\u003d300/\u003e"
      ]
    },
    {
      "cell_type": "markdown",
      "metadata": {
        "pycharm": {},
        "slideshow": {
          "slide_type": "slide"
        }
      },
      "source": "We will now look at two datasets that are observationally equivalent but regression adjustment \nfor observable $X$ does only work in one of them.\n\n\u003cimg src\u003d\"material/regression_demonstration_four.png\" height\u003d300 width\u003d300 /\u003e"
    },
    {
      "cell_type": "code",
      "execution_count": 10,
      "metadata": {
        "pycharm": {},
        "slideshow": {
          "slide_type": "slide"
        }
      },
      "outputs": [
        {
          "name": "stdout",
          "output_type": "stream",
          "text": [
            "Sample 0\n",
            "\n",
            "True effect:    10.0000\n",
            "Naive estimate: 11.6540\n",
            "                            OLS Regression Results                            \n",
            "\u003d\u003d\u003d\u003d\u003d\u003d\u003d\u003d\u003d\u003d\u003d\u003d\u003d\u003d\u003d\u003d\u003d\u003d\u003d\u003d\u003d\u003d\u003d\u003d\u003d\u003d\u003d\u003d\u003d\u003d\u003d\u003d\u003d\u003d\u003d\u003d\u003d\u003d\u003d\u003d\u003d\u003d\u003d\u003d\u003d\u003d\u003d\u003d\u003d\u003d\u003d\u003d\u003d\u003d\u003d\u003d\u003d\u003d\u003d\u003d\u003d\u003d\u003d\u003d\u003d\u003d\u003d\u003d\u003d\u003d\u003d\u003d\u003d\u003d\u003d\u003d\u003d\u003d\n",
            "Dep. Variable:                      Y   R-squared:                       0.860\n",
            "Model:                            OLS   Adj. R-squared:                  0.860\n",
            "Method:                 Least Squares   F-statistic:                     6113.\n",
            "Date:                Tue, 30 Apr 2019   Prob (F-statistic):               0.00\n",
            "Time:                        10:10:48   Log-Likelihood:                -2275.1\n",
            "No. Observations:                1000   AIC:                             4554.\n",
            "Df Residuals:                     998   BIC:                             4564.\n",
            "Df Model:                           1                                         \n",
            "Covariance Type:            nonrobust                                         \n",
            "\u003d\u003d\u003d\u003d\u003d\u003d\u003d\u003d\u003d\u003d\u003d\u003d\u003d\u003d\u003d\u003d\u003d\u003d\u003d\u003d\u003d\u003d\u003d\u003d\u003d\u003d\u003d\u003d\u003d\u003d\u003d\u003d\u003d\u003d\u003d\u003d\u003d\u003d\u003d\u003d\u003d\u003d\u003d\u003d\u003d\u003d\u003d\u003d\u003d\u003d\u003d\u003d\u003d\u003d\u003d\u003d\u003d\u003d\u003d\u003d\u003d\u003d\u003d\u003d\u003d\u003d\u003d\u003d\u003d\u003d\u003d\u003d\u003d\u003d\u003d\u003d\u003d\u003d\n",
            "                 coef    std err          t      P\u003e|t|      [0.025      0.975]\n",
            "------------------------------------------------------------------------------\n",
            "Intercept      6.8379      0.105     65.272      0.000       6.632       7.044\n",
            "D             11.6540      0.149     78.187      0.000      11.361      11.946\n",
            "\u003d\u003d\u003d\u003d\u003d\u003d\u003d\u003d\u003d\u003d\u003d\u003d\u003d\u003d\u003d\u003d\u003d\u003d\u003d\u003d\u003d\u003d\u003d\u003d\u003d\u003d\u003d\u003d\u003d\u003d\u003d\u003d\u003d\u003d\u003d\u003d\u003d\u003d\u003d\u003d\u003d\u003d\u003d\u003d\u003d\u003d\u003d\u003d\u003d\u003d\u003d\u003d\u003d\u003d\u003d\u003d\u003d\u003d\u003d\u003d\u003d\u003d\u003d\u003d\u003d\u003d\u003d\u003d\u003d\u003d\u003d\u003d\u003d\u003d\u003d\u003d\u003d\u003d\n",
            "Omnibus:                     7278.240   Durbin-Watson:                   1.966\n",
            "Prob(Omnibus):                  0.000   Jarque-Bera (JB):               94.873\n",
            "Skew:                          -0.097   Prob(JB):                     2.50e-21\n",
            "Kurtosis:                       1.504   Cond. No.                         2.60\n",
            "\u003d\u003d\u003d\u003d\u003d\u003d\u003d\u003d\u003d\u003d\u003d\u003d\u003d\u003d\u003d\u003d\u003d\u003d\u003d\u003d\u003d\u003d\u003d\u003d\u003d\u003d\u003d\u003d\u003d\u003d\u003d\u003d\u003d\u003d\u003d\u003d\u003d\u003d\u003d\u003d\u003d\u003d\u003d\u003d\u003d\u003d\u003d\u003d\u003d\u003d\u003d\u003d\u003d\u003d\u003d\u003d\u003d\u003d\u003d\u003d\u003d\u003d\u003d\u003d\u003d\u003d\u003d\u003d\u003d\u003d\u003d\u003d\u003d\u003d\u003d\u003d\u003d\u003d\n",
            "\n",
            "Warnings:\n",
            "[1] Standard Errors assume that the covariance matrix of the errors is correctly specified.\n",
            "Sample 1\n",
            "\n",
            "True effect:    9.6280\n",
            "Naive estimate: 11.6540\n",
            "                            OLS Regression Results                            \n",
            "\u003d\u003d\u003d\u003d\u003d\u003d\u003d\u003d\u003d\u003d\u003d\u003d\u003d\u003d\u003d\u003d\u003d\u003d\u003d\u003d\u003d\u003d\u003d\u003d\u003d\u003d\u003d\u003d\u003d\u003d\u003d\u003d\u003d\u003d\u003d\u003d\u003d\u003d\u003d\u003d\u003d\u003d\u003d\u003d\u003d\u003d\u003d\u003d\u003d\u003d\u003d\u003d\u003d\u003d\u003d\u003d\u003d\u003d\u003d\u003d\u003d\u003d\u003d\u003d\u003d\u003d\u003d\u003d\u003d\u003d\u003d\u003d\u003d\u003d\u003d\u003d\u003d\u003d\n",
            "Dep. Variable:                      Y   R-squared:                       0.860\n",
            "Model:                            OLS   Adj. R-squared:                  0.860\n",
            "Method:                 Least Squares   F-statistic:                     6113.\n",
            "Date:                Tue, 30 Apr 2019   Prob (F-statistic):               0.00\n",
            "Time:                        10:10:50   Log-Likelihood:                -2275.1\n",
            "No. Observations:                1000   AIC:                             4554.\n",
            "Df Residuals:                     998   BIC:                             4564.\n",
            "Df Model:                           1                                         \n",
            "Covariance Type:            nonrobust                                         \n",
            "\u003d\u003d\u003d\u003d\u003d\u003d\u003d\u003d\u003d\u003d\u003d\u003d\u003d\u003d\u003d\u003d\u003d\u003d\u003d\u003d\u003d\u003d\u003d\u003d\u003d\u003d\u003d\u003d\u003d\u003d\u003d\u003d\u003d\u003d\u003d\u003d\u003d\u003d\u003d\u003d\u003d\u003d\u003d\u003d\u003d\u003d\u003d\u003d\u003d\u003d\u003d\u003d\u003d\u003d\u003d\u003d\u003d\u003d\u003d\u003d\u003d\u003d\u003d\u003d\u003d\u003d\u003d\u003d\u003d\u003d\u003d\u003d\u003d\u003d\u003d\u003d\u003d\u003d\n",
            "                 coef    std err          t      P\u003e|t|      [0.025      0.975]\n",
            "------------------------------------------------------------------------------\n",
            "Intercept      6.8379      0.105     65.272      0.000       6.632       7.044\n",
            "D             11.6540      0.149     78.187      0.000      11.361      11.946\n",
            "\u003d\u003d\u003d\u003d\u003d\u003d\u003d\u003d\u003d\u003d\u003d\u003d\u003d\u003d\u003d\u003d\u003d\u003d\u003d\u003d\u003d\u003d\u003d\u003d\u003d\u003d\u003d\u003d\u003d\u003d\u003d\u003d\u003d\u003d\u003d\u003d\u003d\u003d\u003d\u003d\u003d\u003d\u003d\u003d\u003d\u003d\u003d\u003d\u003d\u003d\u003d\u003d\u003d\u003d\u003d\u003d\u003d\u003d\u003d\u003d\u003d\u003d\u003d\u003d\u003d\u003d\u003d\u003d\u003d\u003d\u003d\u003d\u003d\u003d\u003d\u003d\u003d\u003d\n",
            "Omnibus:                     7278.240   Durbin-Watson:                   1.966\n",
            "Prob(Omnibus):                  0.000   Jarque-Bera (JB):               94.873\n",
            "Skew:                          -0.097   Prob(JB):                     2.50e-21\n",
            "Kurtosis:                       1.504   Cond. No.                         2.60\n",
            "\u003d\u003d\u003d\u003d\u003d\u003d\u003d\u003d\u003d\u003d\u003d\u003d\u003d\u003d\u003d\u003d\u003d\u003d\u003d\u003d\u003d\u003d\u003d\u003d\u003d\u003d\u003d\u003d\u003d\u003d\u003d\u003d\u003d\u003d\u003d\u003d\u003d\u003d\u003d\u003d\u003d\u003d\u003d\u003d\u003d\u003d\u003d\u003d\u003d\u003d\u003d\u003d\u003d\u003d\u003d\u003d\u003d\u003d\u003d\u003d\u003d\u003d\u003d\u003d\u003d\u003d\u003d\u003d\u003d\u003d\u003d\u003d\u003d\u003d\u003d\u003d\u003d\u003d\n",
            "\n",
            "Warnings:\n",
            "[1] Standard Errors assume that the covariance matrix of the errors is correctly specified.\n"
          ]
        }
      ],
      "source": [
        "for sample in range(2):\n",
        "    \n",
        "    df \u003d get_sample_regression_adjustment(sample)\n",
        "    print(\u0027Sample {:}\\n\u0027.format(sample))\n",
        "    \n",
        "    stat \u003d (df[\u0027Y_1\u0027] - df[\u0027Y_0\u0027]).mean()\n",
        "    print(\u0027True effect:    {:5.4f}\u0027.format(stat))\n",
        "\n",
        "    stat \u003d df[\u0027Y\u0027][df[\u0027D\u0027] \u003d\u003d 1].mean() - df[\u0027Y\u0027][df[\u0027D\u0027] \u003d\u003d0].mean()\n",
        "    print(\u0027Naive estimate: {:5.4f}\u0027.format(stat))\n",
        "    \n",
        "    rslt \u003d smf.ols(formula\u003d\u0027Y ~ D\u0027, data\u003ddf).fit()\n",
        "    print(rslt.summary())"
      ]
    },
    {
      "cell_type": "markdown",
      "metadata": {
        "pycharm": {},
        "slideshow": {
          "slide_type": "slide"
        }
      },
      "source": "Now we condition on $X$ to see where conditioning might help in obtaining an unbiased estimate of\n the true effect.\n\n\u003cimg src\u003d\"material/regression_demonstration_five.png\" height\u003d300 width\u003d300 /\u003e"
    },
    {
      "cell_type": "code",
      "execution_count": 11,
      "metadata": {
        "pycharm": {},
        "slideshow": {
          "slide_type": "slide"
        }
      },
      "outputs": [
        {
          "name": "stdout",
          "output_type": "stream",
          "text": [
            "Sample 0\n",
            "\n",
            "True effect:                 10.0000\n",
            "Naive estimate:              11.6540\n",
            "Conditional estimate:        10.0000\n",
            "\n",
            "Sample 1\n",
            "\n",
            "True effect:                  9.6280\n",
            "Naive estimate:              11.6540\n",
            "Conditional estimate:        10.0000\n",
            "\n"
          ]
        }
      ],
      "source": [
        "for sample in range(2):\n",
        "    \n",
        "    df \u003d get_sample_regression_adjustment(sample)\n",
        "    print(\u0027Sample {:}\\n\u0027.format(sample))\n",
        "    \n",
        "    stat \u003d (df[\u0027Y_1\u0027] - df[\u0027Y_0\u0027]).mean()\n",
        "    print(\u0027True effect:{:24.4f}\u0027.format(stat))\n",
        "\n",
        "    stat \u003d df[\u0027Y\u0027][df[\u0027D\u0027] \u003d\u003d 1].mean() - df[\u0027Y\u0027][df[\u0027D\u0027] \u003d\u003d0].mean()\n",
        "    print(\u0027Naive estimate:{:21.4f}\u0027.format(stat))\n",
        "    \n",
        "    rslt \u003d smf.ols(formula\u003d\u0027Y ~ D + X\u0027, data\u003ddf).fit()\n",
        "    print(\u0027Conditional estimate:{:15.4f}\\n\u0027.format(rslt.params[1]))"
      ]
    },
    {
      "cell_type": "markdown",
      "metadata": {
        "pycharm": {},
        "slideshow": {
          "slide_type": "slide"
        }
      },
      "source": [
        "To summarize: Regression adjustment by $X$ will yield a consistent and unbiased estimate of the ATE when:\n",
        "\n",
        "* $D$ is mean independent of (and therefore uncorrelated with) $v^0 + D(v^1 - v^0)$ for each \n",
        "subset of respondent identified by distinct values on the variables in $X$\n",
        "\n",
        "* the causal effect of $D$ does not vary with $X$ \n",
        "\n",
        "* a fully flexible parameterization of $X$ is used"
      ]
    },
    {
      "cell_type": "markdown",
      "metadata": {
        "pycharm": {},
        "slideshow": {
          "slide_type": "slide"
        }
      },
      "source": "## Freedman\u0027s paradox\n\n\u003e In statistical analysis, Freedman\u0027s paradox, named after David Freedman, is a problem in model \nselection whereby predictor variables with no relationship to the dependent variable can pass tests of significance – both individually via a t-test, and jointly via an F-test for the significance of the regression. (Wikipedia)"
    },
    {
      "cell_type": "markdown",
      "metadata": {
        "pycharm": {},
        "slideshow": {
          "slide_type": "slide"
        }
      },
      "source": "We fill a dataframe with random numbers. Thus there is no causal relationship between the \ndependent and independent  variables."
    },
    {
      "cell_type": "code",
      "execution_count": 12,
      "metadata": {
        "pycharm": {},
        "slideshow": {
          "slide_type": "-"
        }
      },
      "outputs": [],
      "source": [
        "columns \u003d [\u0027Y\u0027]\n",
        "for i in range(50):\n",
        "    columns.append(\u0027X{:}\u0027.format(i))\n",
        "df \u003d pd.DataFrame(np.random.normal(size\u003d(100, 51)), columns\u003dcolumns)"
      ]
    },
    {
      "cell_type": "markdown",
      "metadata": {
        "pycharm": {},
        "slideshow": {
          "slide_type": "slide"
        }
      },
      "source": [
        "Now we run a simple regression of the random independent variables on the dependent variable."
      ]
    },
    {
      "cell_type": "code",
      "execution_count": 13,
      "metadata": {
        "pycharm": {},
        "slideshow": {
          "slide_type": "slide"
        }
      },
      "outputs": [
        {
          "data": {
            "text/html": [
              "\u003ctable class\u003d\"simpletable\"\u003e\n",
              "\u003ccaption\u003eOLS Regression Results\u003c/caption\u003e\n",
              "\u003ctr\u003e\n",
              "  \u003cth\u003eDep. Variable:\u003c/th\u003e            \u003ctd\u003eY\u003c/td\u003e        \u003cth\u003e  R-squared:         \u003c/th\u003e \u003ctd\u003e   0.545\u003c/td\u003e\n",
              "\u003c/tr\u003e\n",
              "\u003ctr\u003e\n",
              "  \u003cth\u003eModel:\u003c/th\u003e                   \u003ctd\u003eOLS\u003c/td\u003e       \u003cth\u003e  Adj. R-squared:    \u003c/th\u003e \u003ctd\u003e   0.081\u003c/td\u003e\n",
              "\u003c/tr\u003e\n",
              "\u003ctr\u003e\n",
              "  \u003cth\u003eMethod:\u003c/th\u003e             \u003ctd\u003eLeast Squares\u003c/td\u003e  \u003cth\u003e  F-statistic:       \u003c/th\u003e \u003ctd\u003e   1.176\u003c/td\u003e\n",
              "\u003c/tr\u003e\n",
              "\u003ctr\u003e\n",
              "  \u003cth\u003eDate:\u003c/th\u003e             \u003ctd\u003eTue, 30 Apr 2019\u003c/td\u003e \u003cth\u003e  Prob (F-statistic):\u003c/th\u003e  \u003ctd\u003e 0.286\u003c/td\u003e \n",
              "\u003c/tr\u003e\n",
              "\u003ctr\u003e\n",
              "  \u003cth\u003eTime:\u003c/th\u003e                 \u003ctd\u003e10:10:52\u003c/td\u003e     \u003cth\u003e  Log-Likelihood:    \u003c/th\u003e \u003ctd\u003e -108.43\u003c/td\u003e\n",
              "\u003c/tr\u003e\n",
              "\u003ctr\u003e\n",
              "  \u003cth\u003eNo. Observations:\u003c/th\u003e      \u003ctd\u003e   100\u003c/td\u003e      \u003cth\u003e  AIC:               \u003c/th\u003e \u003ctd\u003e   318.9\u003c/td\u003e\n",
              "\u003c/tr\u003e\n",
              "\u003ctr\u003e\n",
              "  \u003cth\u003eDf Residuals:\u003c/th\u003e          \u003ctd\u003e    49\u003c/td\u003e      \u003cth\u003e  BIC:               \u003c/th\u003e \u003ctd\u003e   451.7\u003c/td\u003e\n",
              "\u003c/tr\u003e\n",
              "\u003ctr\u003e\n",
              "  \u003cth\u003eDf Model:\u003c/th\u003e              \u003ctd\u003e    50\u003c/td\u003e      \u003cth\u003e                     \u003c/th\u003e     \u003ctd\u003e \u003c/td\u003e   \n",
              "\u003c/tr\u003e\n",
              "\u003ctr\u003e\n",
              "  \u003cth\u003eCovariance Type:\u003c/th\u003e      \u003ctd\u003enonrobust\u003c/td\u003e    \u003cth\u003e                     \u003c/th\u003e     \u003ctd\u003e \u003c/td\u003e   \n",
              "\u003c/tr\u003e\n",
              "\u003c/table\u003e\n",
              "\u003ctable class\u003d\"simpletable\"\u003e\n",
              "\u003ctr\u003e\n",
              "      \u003ctd\u003e\u003c/td\u003e         \u003cth\u003ecoef\u003c/th\u003e     \u003cth\u003estd err\u003c/th\u003e      \u003cth\u003et\u003c/th\u003e      \u003cth\u003eP\u003e|t|\u003c/th\u003e  \u003cth\u003e[0.025\u003c/th\u003e    \u003cth\u003e0.975]\u003c/th\u003e  \n",
              "\u003c/tr\u003e\n",
              "\u003ctr\u003e\n",
              "  \u003cth\u003eIntercept\u003c/th\u003e \u003ctd\u003e    0.1106\u003c/td\u003e \u003ctd\u003e    0.136\u003c/td\u003e \u003ctd\u003e    0.811\u003c/td\u003e \u003ctd\u003e 0.421\u003c/td\u003e \u003ctd\u003e   -0.163\u003c/td\u003e \u003ctd\u003e    0.384\u003c/td\u003e\n",
              "\u003c/tr\u003e\n",
              "\u003ctr\u003e\n",
              "  \u003cth\u003eX0\u003c/th\u003e        \u003ctd\u003e   -0.0922\u003c/td\u003e \u003ctd\u003e    0.222\u003c/td\u003e \u003ctd\u003e   -0.416\u003c/td\u003e \u003ctd\u003e 0.679\u003c/td\u003e \u003ctd\u003e   -0.538\u003c/td\u003e \u003ctd\u003e    0.353\u003c/td\u003e\n",
              "\u003c/tr\u003e\n",
              "\u003ctr\u003e\n",
              "  \u003cth\u003eX1\u003c/th\u003e        \u003ctd\u003e   -0.1713\u003c/td\u003e \u003ctd\u003e    0.141\u003c/td\u003e \u003ctd\u003e   -1.217\u003c/td\u003e \u003ctd\u003e 0.229\u003c/td\u003e \u003ctd\u003e   -0.454\u003c/td\u003e \u003ctd\u003e    0.111\u003c/td\u003e\n",
              "\u003c/tr\u003e\n",
              "\u003ctr\u003e\n",
              "  \u003cth\u003eX2\u003c/th\u003e        \u003ctd\u003e   -0.0741\u003c/td\u003e \u003ctd\u003e    0.155\u003c/td\u003e \u003ctd\u003e   -0.478\u003c/td\u003e \u003ctd\u003e 0.635\u003c/td\u003e \u003ctd\u003e   -0.386\u003c/td\u003e \u003ctd\u003e    0.237\u003c/td\u003e\n",
              "\u003c/tr\u003e\n",
              "\u003ctr\u003e\n",
              "  \u003cth\u003eX3\u003c/th\u003e        \u003ctd\u003e    0.1575\u003c/td\u003e \u003ctd\u003e    0.134\u003c/td\u003e \u003ctd\u003e    1.178\u003c/td\u003e \u003ctd\u003e 0.244\u003c/td\u003e \u003ctd\u003e   -0.111\u003c/td\u003e \u003ctd\u003e    0.426\u003c/td\u003e\n",
              "\u003c/tr\u003e\n",
              "\u003ctr\u003e\n",
              "  \u003cth\u003eX4\u003c/th\u003e        \u003ctd\u003e    0.2736\u003c/td\u003e \u003ctd\u003e    0.172\u003c/td\u003e \u003ctd\u003e    1.595\u003c/td\u003e \u003ctd\u003e 0.117\u003c/td\u003e \u003ctd\u003e   -0.071\u003c/td\u003e \u003ctd\u003e    0.618\u003c/td\u003e\n",
              "\u003c/tr\u003e\n",
              "\u003ctr\u003e\n",
              "  \u003cth\u003eX5\u003c/th\u003e        \u003ctd\u003e   -0.0649\u003c/td\u003e \u003ctd\u003e    0.172\u003c/td\u003e \u003ctd\u003e   -0.378\u003c/td\u003e \u003ctd\u003e 0.707\u003c/td\u003e \u003ctd\u003e   -0.410\u003c/td\u003e \u003ctd\u003e    0.280\u003c/td\u003e\n",
              "\u003c/tr\u003e\n",
              "\u003ctr\u003e\n",
              "  \u003cth\u003eX6\u003c/th\u003e        \u003ctd\u003e    0.0063\u003c/td\u003e \u003ctd\u003e    0.141\u003c/td\u003e \u003ctd\u003e    0.045\u003c/td\u003e \u003ctd\u003e 0.964\u003c/td\u003e \u003ctd\u003e   -0.276\u003c/td\u003e \u003ctd\u003e    0.289\u003c/td\u003e\n",
              "\u003c/tr\u003e\n",
              "\u003ctr\u003e\n",
              "  \u003cth\u003eX7\u003c/th\u003e        \u003ctd\u003e    0.1089\u003c/td\u003e \u003ctd\u003e    0.141\u003c/td\u003e \u003ctd\u003e    0.774\u003c/td\u003e \u003ctd\u003e 0.443\u003c/td\u003e \u003ctd\u003e   -0.174\u003c/td\u003e \u003ctd\u003e    0.392\u003c/td\u003e\n",
              "\u003c/tr\u003e\n",
              "\u003ctr\u003e\n",
              "  \u003cth\u003eX8\u003c/th\u003e        \u003ctd\u003e    0.0694\u003c/td\u003e \u003ctd\u003e    0.139\u003c/td\u003e \u003ctd\u003e    0.500\u003c/td\u003e \u003ctd\u003e 0.619\u003c/td\u003e \u003ctd\u003e   -0.210\u003c/td\u003e \u003ctd\u003e    0.348\u003c/td\u003e\n",
              "\u003c/tr\u003e\n",
              "\u003ctr\u003e\n",
              "  \u003cth\u003eX9\u003c/th\u003e        \u003ctd\u003e    0.3075\u003c/td\u003e \u003ctd\u003e    0.149\u003c/td\u003e \u003ctd\u003e    2.059\u003c/td\u003e \u003ctd\u003e 0.045\u003c/td\u003e \u003ctd\u003e    0.007\u003c/td\u003e \u003ctd\u003e    0.608\u003c/td\u003e\n",
              "\u003c/tr\u003e\n",
              "\u003ctr\u003e\n",
              "  \u003cth\u003eX10\u003c/th\u003e       \u003ctd\u003e    0.0189\u003c/td\u003e \u003ctd\u003e    0.168\u003c/td\u003e \u003ctd\u003e    0.113\u003c/td\u003e \u003ctd\u003e 0.911\u003c/td\u003e \u003ctd\u003e   -0.318\u003c/td\u003e \u003ctd\u003e    0.356\u003c/td\u003e\n",
              "\u003c/tr\u003e\n",
              "\u003ctr\u003e\n",
              "  \u003cth\u003eX11\u003c/th\u003e       \u003ctd\u003e   -0.2898\u003c/td\u003e \u003ctd\u003e    0.178\u003c/td\u003e \u003ctd\u003e   -1.626\u003c/td\u003e \u003ctd\u003e 0.110\u003c/td\u003e \u003ctd\u003e   -0.648\u003c/td\u003e \u003ctd\u003e    0.068\u003c/td\u003e\n",
              "\u003c/tr\u003e\n",
              "\u003ctr\u003e\n",
              "  \u003cth\u003eX12\u003c/th\u003e       \u003ctd\u003e    0.0207\u003c/td\u003e \u003ctd\u003e    0.129\u003c/td\u003e \u003ctd\u003e    0.160\u003c/td\u003e \u003ctd\u003e 0.873\u003c/td\u003e \u003ctd\u003e   -0.239\u003c/td\u003e \u003ctd\u003e    0.280\u003c/td\u003e\n",
              "\u003c/tr\u003e\n",
              "\u003ctr\u003e\n",
              "  \u003cth\u003eX13\u003c/th\u003e       \u003ctd\u003e    0.0901\u003c/td\u003e \u003ctd\u003e    0.119\u003c/td\u003e \u003ctd\u003e    0.757\u003c/td\u003e \u003ctd\u003e 0.453\u003c/td\u003e \u003ctd\u003e   -0.149\u003c/td\u003e \u003ctd\u003e    0.329\u003c/td\u003e\n",
              "\u003c/tr\u003e\n",
              "\u003ctr\u003e\n",
              "  \u003cth\u003eX14\u003c/th\u003e       \u003ctd\u003e   -0.1296\u003c/td\u003e \u003ctd\u003e    0.154\u003c/td\u003e \u003ctd\u003e   -0.843\u003c/td\u003e \u003ctd\u003e 0.403\u003c/td\u003e \u003ctd\u003e   -0.439\u003c/td\u003e \u003ctd\u003e    0.179\u003c/td\u003e\n",
              "\u003c/tr\u003e\n",
              "\u003ctr\u003e\n",
              "  \u003cth\u003eX15\u003c/th\u003e       \u003ctd\u003e    0.0618\u003c/td\u003e \u003ctd\u003e    0.153\u003c/td\u003e \u003ctd\u003e    0.405\u003c/td\u003e \u003ctd\u003e 0.687\u003c/td\u003e \u003ctd\u003e   -0.245\u003c/td\u003e \u003ctd\u003e    0.368\u003c/td\u003e\n",
              "\u003c/tr\u003e\n",
              "\u003ctr\u003e\n",
              "  \u003cth\u003eX16\u003c/th\u003e       \u003ctd\u003e   -0.1151\u003c/td\u003e \u003ctd\u003e    0.122\u003c/td\u003e \u003ctd\u003e   -0.944\u003c/td\u003e \u003ctd\u003e 0.350\u003c/td\u003e \u003ctd\u003e   -0.360\u003c/td\u003e \u003ctd\u003e    0.130\u003c/td\u003e\n",
              "\u003c/tr\u003e\n",
              "\u003ctr\u003e\n",
              "  \u003cth\u003eX17\u003c/th\u003e       \u003ctd\u003e    0.1265\u003c/td\u003e \u003ctd\u003e    0.170\u003c/td\u003e \u003ctd\u003e    0.744\u003c/td\u003e \u003ctd\u003e 0.460\u003c/td\u003e \u003ctd\u003e   -0.215\u003c/td\u003e \u003ctd\u003e    0.468\u003c/td\u003e\n",
              "\u003c/tr\u003e\n",
              "\u003ctr\u003e\n",
              "  \u003cth\u003eX18\u003c/th\u003e       \u003ctd\u003e    0.1578\u003c/td\u003e \u003ctd\u003e    0.140\u003c/td\u003e \u003ctd\u003e    1.129\u003c/td\u003e \u003ctd\u003e 0.264\u003c/td\u003e \u003ctd\u003e   -0.123\u003c/td\u003e \u003ctd\u003e    0.439\u003c/td\u003e\n",
              "\u003c/tr\u003e\n",
              "\u003ctr\u003e\n",
              "  \u003cth\u003eX19\u003c/th\u003e       \u003ctd\u003e   -0.0752\u003c/td\u003e \u003ctd\u003e    0.157\u003c/td\u003e \u003ctd\u003e   -0.477\u003c/td\u003e \u003ctd\u003e 0.635\u003c/td\u003e \u003ctd\u003e   -0.392\u003c/td\u003e \u003ctd\u003e    0.241\u003c/td\u003e\n",
              "\u003c/tr\u003e\n",
              "\u003ctr\u003e\n",
              "  \u003cth\u003eX20\u003c/th\u003e       \u003ctd\u003e   -0.1454\u003c/td\u003e \u003ctd\u003e    0.133\u003c/td\u003e \u003ctd\u003e   -1.097\u003c/td\u003e \u003ctd\u003e 0.278\u003c/td\u003e \u003ctd\u003e   -0.412\u003c/td\u003e \u003ctd\u003e    0.121\u003c/td\u003e\n",
              "\u003c/tr\u003e\n",
              "\u003ctr\u003e\n",
              "  \u003cth\u003eX21\u003c/th\u003e       \u003ctd\u003e    0.1507\u003c/td\u003e \u003ctd\u003e    0.150\u003c/td\u003e \u003ctd\u003e    1.005\u003c/td\u003e \u003ctd\u003e 0.320\u003c/td\u003e \u003ctd\u003e   -0.151\u003c/td\u003e \u003ctd\u003e    0.452\u003c/td\u003e\n",
              "\u003c/tr\u003e\n",
              "\u003ctr\u003e\n",
              "  \u003cth\u003eX22\u003c/th\u003e       \u003ctd\u003e    0.4160\u003c/td\u003e \u003ctd\u003e    0.133\u003c/td\u003e \u003ctd\u003e    3.123\u003c/td\u003e \u003ctd\u003e 0.003\u003c/td\u003e \u003ctd\u003e    0.148\u003c/td\u003e \u003ctd\u003e    0.684\u003c/td\u003e\n",
              "\u003c/tr\u003e\n",
              "\u003ctr\u003e\n",
              "  \u003cth\u003eX23\u003c/th\u003e       \u003ctd\u003e   -0.1169\u003c/td\u003e \u003ctd\u003e    0.156\u003c/td\u003e \u003ctd\u003e   -0.750\u003c/td\u003e \u003ctd\u003e 0.457\u003c/td\u003e \u003ctd\u003e   -0.430\u003c/td\u003e \u003ctd\u003e    0.196\u003c/td\u003e\n",
              "\u003c/tr\u003e\n",
              "\u003ctr\u003e\n",
              "  \u003cth\u003eX24\u003c/th\u003e       \u003ctd\u003e   -0.2271\u003c/td\u003e \u003ctd\u003e    0.165\u003c/td\u003e \u003ctd\u003e   -1.376\u003c/td\u003e \u003ctd\u003e 0.175\u003c/td\u003e \u003ctd\u003e   -0.559\u003c/td\u003e \u003ctd\u003e    0.104\u003c/td\u003e\n",
              "\u003c/tr\u003e\n",
              "\u003ctr\u003e\n",
              "  \u003cth\u003eX25\u003c/th\u003e       \u003ctd\u003e    0.1651\u003c/td\u003e \u003ctd\u003e    0.172\u003c/td\u003e \u003ctd\u003e    0.962\u003c/td\u003e \u003ctd\u003e 0.341\u003c/td\u003e \u003ctd\u003e   -0.180\u003c/td\u003e \u003ctd\u003e    0.510\u003c/td\u003e\n",
              "\u003c/tr\u003e\n",
              "\u003ctr\u003e\n",
              "  \u003cth\u003eX26\u003c/th\u003e       \u003ctd\u003e    0.1461\u003c/td\u003e \u003ctd\u003e    0.123\u003c/td\u003e \u003ctd\u003e    1.192\u003c/td\u003e \u003ctd\u003e 0.239\u003c/td\u003e \u003ctd\u003e   -0.100\u003c/td\u003e \u003ctd\u003e    0.392\u003c/td\u003e\n",
              "\u003c/tr\u003e\n",
              "\u003ctr\u003e\n",
              "  \u003cth\u003eX27\u003c/th\u003e       \u003ctd\u003e   -0.2343\u003c/td\u003e \u003ctd\u003e    0.139\u003c/td\u003e \u003ctd\u003e   -1.685\u003c/td\u003e \u003ctd\u003e 0.098\u003c/td\u003e \u003ctd\u003e   -0.514\u003c/td\u003e \u003ctd\u003e    0.045\u003c/td\u003e\n",
              "\u003c/tr\u003e\n",
              "\u003ctr\u003e\n",
              "  \u003cth\u003eX28\u003c/th\u003e       \u003ctd\u003e    0.0508\u003c/td\u003e \u003ctd\u003e    0.138\u003c/td\u003e \u003ctd\u003e    0.368\u003c/td\u003e \u003ctd\u003e 0.715\u003c/td\u003e \u003ctd\u003e   -0.227\u003c/td\u003e \u003ctd\u003e    0.329\u003c/td\u003e\n",
              "\u003c/tr\u003e\n",
              "\u003ctr\u003e\n",
              "  \u003cth\u003eX29\u003c/th\u003e       \u003ctd\u003e   -0.0187\u003c/td\u003e \u003ctd\u003e    0.191\u003c/td\u003e \u003ctd\u003e   -0.098\u003c/td\u003e \u003ctd\u003e 0.922\u003c/td\u003e \u003ctd\u003e   -0.403\u003c/td\u003e \u003ctd\u003e    0.365\u003c/td\u003e\n",
              "\u003c/tr\u003e\n",
              "\u003ctr\u003e\n",
              "  \u003cth\u003eX30\u003c/th\u003e       \u003ctd\u003e    0.2245\u003c/td\u003e \u003ctd\u003e    0.149\u003c/td\u003e \u003ctd\u003e    1.511\u003c/td\u003e \u003ctd\u003e 0.137\u003c/td\u003e \u003ctd\u003e   -0.074\u003c/td\u003e \u003ctd\u003e    0.523\u003c/td\u003e\n",
              "\u003c/tr\u003e\n",
              "\u003ctr\u003e\n",
              "  \u003cth\u003eX31\u003c/th\u003e       \u003ctd\u003e    0.0353\u003c/td\u003e \u003ctd\u003e    0.146\u003c/td\u003e \u003ctd\u003e    0.242\u003c/td\u003e \u003ctd\u003e 0.810\u003c/td\u003e \u003ctd\u003e   -0.258\u003c/td\u003e \u003ctd\u003e    0.329\u003c/td\u003e\n",
              "\u003c/tr\u003e\n",
              "\u003ctr\u003e\n",
              "  \u003cth\u003eX32\u003c/th\u003e       \u003ctd\u003e    0.0666\u003c/td\u003e \u003ctd\u003e    0.152\u003c/td\u003e \u003ctd\u003e    0.438\u003c/td\u003e \u003ctd\u003e 0.663\u003c/td\u003e \u003ctd\u003e   -0.239\u003c/td\u003e \u003ctd\u003e    0.372\u003c/td\u003e\n",
              "\u003c/tr\u003e\n",
              "\u003ctr\u003e\n",
              "  \u003cth\u003eX33\u003c/th\u003e       \u003ctd\u003e   -0.0281\u003c/td\u003e \u003ctd\u003e    0.151\u003c/td\u003e \u003ctd\u003e   -0.186\u003c/td\u003e \u003ctd\u003e 0.853\u003c/td\u003e \u003ctd\u003e   -0.331\u003c/td\u003e \u003ctd\u003e    0.275\u003c/td\u003e\n",
              "\u003c/tr\u003e\n",
              "\u003ctr\u003e\n",
              "  \u003cth\u003eX34\u003c/th\u003e       \u003ctd\u003e    0.0204\u003c/td\u003e \u003ctd\u003e    0.141\u003c/td\u003e \u003ctd\u003e    0.144\u003c/td\u003e \u003ctd\u003e 0.886\u003c/td\u003e \u003ctd\u003e   -0.263\u003c/td\u003e \u003ctd\u003e    0.304\u003c/td\u003e\n",
              "\u003c/tr\u003e\n",
              "\u003ctr\u003e\n",
              "  \u003cth\u003eX35\u003c/th\u003e       \u003ctd\u003e   -0.1940\u003c/td\u003e \u003ctd\u003e    0.138\u003c/td\u003e \u003ctd\u003e   -1.409\u003c/td\u003e \u003ctd\u003e 0.165\u003c/td\u003e \u003ctd\u003e   -0.471\u003c/td\u003e \u003ctd\u003e    0.083\u003c/td\u003e\n",
              "\u003c/tr\u003e\n",
              "\u003ctr\u003e\n",
              "  \u003cth\u003eX36\u003c/th\u003e       \u003ctd\u003e    0.1215\u003c/td\u003e \u003ctd\u003e    0.144\u003c/td\u003e \u003ctd\u003e    0.843\u003c/td\u003e \u003ctd\u003e 0.403\u003c/td\u003e \u003ctd\u003e   -0.168\u003c/td\u003e \u003ctd\u003e    0.411\u003c/td\u003e\n",
              "\u003c/tr\u003e\n",
              "\u003ctr\u003e\n",
              "  \u003cth\u003eX37\u003c/th\u003e       \u003ctd\u003e    0.3450\u003c/td\u003e \u003ctd\u003e    0.171\u003c/td\u003e \u003ctd\u003e    2.023\u003c/td\u003e \u003ctd\u003e 0.049\u003c/td\u003e \u003ctd\u003e    0.002\u003c/td\u003e \u003ctd\u003e    0.688\u003c/td\u003e\n",
              "\u003c/tr\u003e\n",
              "\u003ctr\u003e\n",
              "  \u003cth\u003eX38\u003c/th\u003e       \u003ctd\u003e    0.2652\u003c/td\u003e \u003ctd\u003e    0.148\u003c/td\u003e \u003ctd\u003e    1.787\u003c/td\u003e \u003ctd\u003e 0.080\u003c/td\u003e \u003ctd\u003e   -0.033\u003c/td\u003e \u003ctd\u003e    0.563\u003c/td\u003e\n",
              "\u003c/tr\u003e\n",
              "\u003ctr\u003e\n",
              "  \u003cth\u003eX39\u003c/th\u003e       \u003ctd\u003e    0.0370\u003c/td\u003e \u003ctd\u003e    0.167\u003c/td\u003e \u003ctd\u003e    0.221\u003c/td\u003e \u003ctd\u003e 0.826\u003c/td\u003e \u003ctd\u003e   -0.299\u003c/td\u003e \u003ctd\u003e    0.373\u003c/td\u003e\n",
              "\u003c/tr\u003e\n",
              "\u003ctr\u003e\n",
              "  \u003cth\u003eX40\u003c/th\u003e       \u003ctd\u003e   -0.0072\u003c/td\u003e \u003ctd\u003e    0.147\u003c/td\u003e \u003ctd\u003e   -0.049\u003c/td\u003e \u003ctd\u003e 0.961\u003c/td\u003e \u003ctd\u003e   -0.302\u003c/td\u003e \u003ctd\u003e    0.288\u003c/td\u003e\n",
              "\u003c/tr\u003e\n",
              "\u003ctr\u003e\n",
              "  \u003cth\u003eX41\u003c/th\u003e       \u003ctd\u003e    0.2258\u003c/td\u003e \u003ctd\u003e    0.154\u003c/td\u003e \u003ctd\u003e    1.469\u003c/td\u003e \u003ctd\u003e 0.148\u003c/td\u003e \u003ctd\u003e   -0.083\u003c/td\u003e \u003ctd\u003e    0.535\u003c/td\u003e\n",
              "\u003c/tr\u003e\n",
              "\u003ctr\u003e\n",
              "  \u003cth\u003eX42\u003c/th\u003e       \u003ctd\u003e   -0.1910\u003c/td\u003e \u003ctd\u003e    0.154\u003c/td\u003e \u003ctd\u003e   -1.242\u003c/td\u003e \u003ctd\u003e 0.220\u003c/td\u003e \u003ctd\u003e   -0.500\u003c/td\u003e \u003ctd\u003e    0.118\u003c/td\u003e\n",
              "\u003c/tr\u003e\n",
              "\u003ctr\u003e\n",
              "  \u003cth\u003eX43\u003c/th\u003e       \u003ctd\u003e    0.1973\u003c/td\u003e \u003ctd\u003e    0.139\u003c/td\u003e \u003ctd\u003e    1.423\u003c/td\u003e \u003ctd\u003e 0.161\u003c/td\u003e \u003ctd\u003e   -0.081\u003c/td\u003e \u003ctd\u003e    0.476\u003c/td\u003e\n",
              "\u003c/tr\u003e\n",
              "\u003ctr\u003e\n",
              "  \u003cth\u003eX44\u003c/th\u003e       \u003ctd\u003e   -0.1017\u003c/td\u003e \u003ctd\u003e    0.136\u003c/td\u003e \u003ctd\u003e   -0.750\u003c/td\u003e \u003ctd\u003e 0.457\u003c/td\u003e \u003ctd\u003e   -0.374\u003c/td\u003e \u003ctd\u003e    0.171\u003c/td\u003e\n",
              "\u003c/tr\u003e\n",
              "\u003ctr\u003e\n",
              "  \u003cth\u003eX45\u003c/th\u003e       \u003ctd\u003e   -0.1656\u003c/td\u003e \u003ctd\u003e    0.137\u003c/td\u003e \u003ctd\u003e   -1.210\u003c/td\u003e \u003ctd\u003e 0.232\u003c/td\u003e \u003ctd\u003e   -0.441\u003c/td\u003e \u003ctd\u003e    0.109\u003c/td\u003e\n",
              "\u003c/tr\u003e\n",
              "\u003ctr\u003e\n",
              "  \u003cth\u003eX46\u003c/th\u003e       \u003ctd\u003e   -0.0255\u003c/td\u003e \u003ctd\u003e    0.152\u003c/td\u003e \u003ctd\u003e   -0.168\u003c/td\u003e \u003ctd\u003e 0.867\u003c/td\u003e \u003ctd\u003e   -0.330\u003c/td\u003e \u003ctd\u003e    0.279\u003c/td\u003e\n",
              "\u003c/tr\u003e\n",
              "\u003ctr\u003e\n",
              "  \u003cth\u003eX47\u003c/th\u003e       \u003ctd\u003e    0.1621\u003c/td\u003e \u003ctd\u003e    0.148\u003c/td\u003e \u003ctd\u003e    1.094\u003c/td\u003e \u003ctd\u003e 0.279\u003c/td\u003e \u003ctd\u003e   -0.136\u003c/td\u003e \u003ctd\u003e    0.460\u003c/td\u003e\n",
              "\u003c/tr\u003e\n",
              "\u003ctr\u003e\n",
              "  \u003cth\u003eX48\u003c/th\u003e       \u003ctd\u003e    0.1768\u003c/td\u003e \u003ctd\u003e    0.144\u003c/td\u003e \u003ctd\u003e    1.228\u003c/td\u003e \u003ctd\u003e 0.225\u003c/td\u003e \u003ctd\u003e   -0.113\u003c/td\u003e \u003ctd\u003e    0.466\u003c/td\u003e\n",
              "\u003c/tr\u003e\n",
              "\u003ctr\u003e\n",
              "  \u003cth\u003eX49\u003c/th\u003e       \u003ctd\u003e    0.1961\u003c/td\u003e \u003ctd\u003e    0.146\u003c/td\u003e \u003ctd\u003e    1.345\u003c/td\u003e \u003ctd\u003e 0.185\u003c/td\u003e \u003ctd\u003e   -0.097\u003c/td\u003e \u003ctd\u003e    0.489\u003c/td\u003e\n",
              "\u003c/tr\u003e\n",
              "\u003c/table\u003e\n",
              "\u003ctable class\u003d\"simpletable\"\u003e\n",
              "\u003ctr\u003e\n",
              "  \u003cth\u003eOmnibus:\u003c/th\u003e       \u003ctd\u003e 0.122\u003c/td\u003e \u003cth\u003e  Durbin-Watson:     \u003c/th\u003e \u003ctd\u003e   2.167\u003c/td\u003e\n",
              "\u003c/tr\u003e\n",
              "\u003ctr\u003e\n",
              "  \u003cth\u003eProb(Omnibus):\u003c/th\u003e \u003ctd\u003e 0.941\u003c/td\u003e \u003cth\u003e  Jarque-Bera (JB):  \u003c/th\u003e \u003ctd\u003e   0.302\u003c/td\u003e\n",
              "\u003c/tr\u003e\n",
              "\u003ctr\u003e\n",
              "  \u003cth\u003eSkew:\u003c/th\u003e          \u003ctd\u003e-0.007\u003c/td\u003e \u003cth\u003e  Prob(JB):          \u003c/th\u003e \u003ctd\u003e   0.860\u003c/td\u003e\n",
              "\u003c/tr\u003e\n",
              "\u003ctr\u003e\n",
              "  \u003cth\u003eKurtosis:\u003c/th\u003e      \u003ctd\u003e 2.731\u003c/td\u003e \u003cth\u003e  Cond. No.          \u003c/th\u003e \u003ctd\u003e    6.59\u003c/td\u003e\n",
              "\u003c/tr\u003e\n",
              "\u003c/table\u003e\u003cbr/\u003e\u003cbr/\u003eWarnings:\u003cbr/\u003e[1] Standard Errors assume that the covariance matrix of the errors is correctly specified."
            ],
            "text/plain": [
              "\u003cclass \u0027statsmodels.iolib.summary.Summary\u0027\u003e\n",
              "\"\"\"\n",
              "                            OLS Regression Results                            \n",
              "\u003d\u003d\u003d\u003d\u003d\u003d\u003d\u003d\u003d\u003d\u003d\u003d\u003d\u003d\u003d\u003d\u003d\u003d\u003d\u003d\u003d\u003d\u003d\u003d\u003d\u003d\u003d\u003d\u003d\u003d\u003d\u003d\u003d\u003d\u003d\u003d\u003d\u003d\u003d\u003d\u003d\u003d\u003d\u003d\u003d\u003d\u003d\u003d\u003d\u003d\u003d\u003d\u003d\u003d\u003d\u003d\u003d\u003d\u003d\u003d\u003d\u003d\u003d\u003d\u003d\u003d\u003d\u003d\u003d\u003d\u003d\u003d\u003d\u003d\u003d\u003d\u003d\u003d\n",
              "Dep. Variable:                      Y   R-squared:                       0.545\n",
              "Model:                            OLS   Adj. R-squared:                  0.081\n",
              "Method:                 Least Squares   F-statistic:                     1.176\n",
              "Date:                Tue, 30 Apr 2019   Prob (F-statistic):              0.286\n",
              "Time:                        10:10:52   Log-Likelihood:                -108.43\n",
              "No. Observations:                 100   AIC:                             318.9\n",
              "Df Residuals:                      49   BIC:                             451.7\n",
              "Df Model:                          50                                         \n",
              "Covariance Type:            nonrobust                                         \n",
              "\u003d\u003d\u003d\u003d\u003d\u003d\u003d\u003d\u003d\u003d\u003d\u003d\u003d\u003d\u003d\u003d\u003d\u003d\u003d\u003d\u003d\u003d\u003d\u003d\u003d\u003d\u003d\u003d\u003d\u003d\u003d\u003d\u003d\u003d\u003d\u003d\u003d\u003d\u003d\u003d\u003d\u003d\u003d\u003d\u003d\u003d\u003d\u003d\u003d\u003d\u003d\u003d\u003d\u003d\u003d\u003d\u003d\u003d\u003d\u003d\u003d\u003d\u003d\u003d\u003d\u003d\u003d\u003d\u003d\u003d\u003d\u003d\u003d\u003d\u003d\u003d\u003d\u003d\n",
              "                 coef    std err          t      P\u003e|t|      [0.025      0.975]\n",
              "------------------------------------------------------------------------------\n",
              "Intercept      0.1106      0.136      0.811      0.421      -0.163       0.384\n",
              "X0            -0.0922      0.222     -0.416      0.679      -0.538       0.353\n",
              "X1            -0.1713      0.141     -1.217      0.229      -0.454       0.111\n",
              "X2            -0.0741      0.155     -0.478      0.635      -0.386       0.237\n",
              "X3             0.1575      0.134      1.178      0.244      -0.111       0.426\n",
              "X4             0.2736      0.172      1.595      0.117      -0.071       0.618\n",
              "X5            -0.0649      0.172     -0.378      0.707      -0.410       0.280\n",
              "X6             0.0063      0.141      0.045      0.964      -0.276       0.289\n",
              "X7             0.1089      0.141      0.774      0.443      -0.174       0.392\n",
              "X8             0.0694      0.139      0.500      0.619      -0.210       0.348\n",
              "X9             0.3075      0.149      2.059      0.045       0.007       0.608\n",
              "X10            0.0189      0.168      0.113      0.911      -0.318       0.356\n",
              "X11           -0.2898      0.178     -1.626      0.110      -0.648       0.068\n",
              "X12            0.0207      0.129      0.160      0.873      -0.239       0.280\n",
              "X13            0.0901      0.119      0.757      0.453      -0.149       0.329\n",
              "X14           -0.1296      0.154     -0.843      0.403      -0.439       0.179\n",
              "X15            0.0618      0.153      0.405      0.687      -0.245       0.368\n",
              "X16           -0.1151      0.122     -0.944      0.350      -0.360       0.130\n",
              "X17            0.1265      0.170      0.744      0.460      -0.215       0.468\n",
              "X18            0.1578      0.140      1.129      0.264      -0.123       0.439\n",
              "X19           -0.0752      0.157     -0.477      0.635      -0.392       0.241\n",
              "X20           -0.1454      0.133     -1.097      0.278      -0.412       0.121\n",
              "X21            0.1507      0.150      1.005      0.320      -0.151       0.452\n",
              "X22            0.4160      0.133      3.123      0.003       0.148       0.684\n",
              "X23           -0.1169      0.156     -0.750      0.457      -0.430       0.196\n",
              "X24           -0.2271      0.165     -1.376      0.175      -0.559       0.104\n",
              "X25            0.1651      0.172      0.962      0.341      -0.180       0.510\n",
              "X26            0.1461      0.123      1.192      0.239      -0.100       0.392\n",
              "X27           -0.2343      0.139     -1.685      0.098      -0.514       0.045\n",
              "X28            0.0508      0.138      0.368      0.715      -0.227       0.329\n",
              "X29           -0.0187      0.191     -0.098      0.922      -0.403       0.365\n",
              "X30            0.2245      0.149      1.511      0.137      -0.074       0.523\n",
              "X31            0.0353      0.146      0.242      0.810      -0.258       0.329\n",
              "X32            0.0666      0.152      0.438      0.663      -0.239       0.372\n",
              "X33           -0.0281      0.151     -0.186      0.853      -0.331       0.275\n",
              "X34            0.0204      0.141      0.144      0.886      -0.263       0.304\n",
              "X35           -0.1940      0.138     -1.409      0.165      -0.471       0.083\n",
              "X36            0.1215      0.144      0.843      0.403      -0.168       0.411\n",
              "X37            0.3450      0.171      2.023      0.049       0.002       0.688\n",
              "X38            0.2652      0.148      1.787      0.080      -0.033       0.563\n",
              "X39            0.0370      0.167      0.221      0.826      -0.299       0.373\n",
              "X40           -0.0072      0.147     -0.049      0.961      -0.302       0.288\n",
              "X41            0.2258      0.154      1.469      0.148      -0.083       0.535\n",
              "X42           -0.1910      0.154     -1.242      0.220      -0.500       0.118\n",
              "X43            0.1973      0.139      1.423      0.161      -0.081       0.476\n",
              "X44           -0.1017      0.136     -0.750      0.457      -0.374       0.171\n",
              "X45           -0.1656      0.137     -1.210      0.232      -0.441       0.109\n",
              "X46           -0.0255      0.152     -0.168      0.867      -0.330       0.279\n",
              "X47            0.1621      0.148      1.094      0.279      -0.136       0.460\n",
              "X48            0.1768      0.144      1.228      0.225      -0.113       0.466\n",
              "X49            0.1961      0.146      1.345      0.185      -0.097       0.489\n",
              "\u003d\u003d\u003d\u003d\u003d\u003d\u003d\u003d\u003d\u003d\u003d\u003d\u003d\u003d\u003d\u003d\u003d\u003d\u003d\u003d\u003d\u003d\u003d\u003d\u003d\u003d\u003d\u003d\u003d\u003d\u003d\u003d\u003d\u003d\u003d\u003d\u003d\u003d\u003d\u003d\u003d\u003d\u003d\u003d\u003d\u003d\u003d\u003d\u003d\u003d\u003d\u003d\u003d\u003d\u003d\u003d\u003d\u003d\u003d\u003d\u003d\u003d\u003d\u003d\u003d\u003d\u003d\u003d\u003d\u003d\u003d\u003d\u003d\u003d\u003d\u003d\u003d\u003d\n",
              "Omnibus:                        0.122   Durbin-Watson:                   2.167\n",
              "Prob(Omnibus):                  0.941   Jarque-Bera (JB):                0.302\n",
              "Skew:                          -0.007   Prob(JB):                        0.860\n",
              "Kurtosis:                       2.731   Cond. No.                         6.59\n",
              "\u003d\u003d\u003d\u003d\u003d\u003d\u003d\u003d\u003d\u003d\u003d\u003d\u003d\u003d\u003d\u003d\u003d\u003d\u003d\u003d\u003d\u003d\u003d\u003d\u003d\u003d\u003d\u003d\u003d\u003d\u003d\u003d\u003d\u003d\u003d\u003d\u003d\u003d\u003d\u003d\u003d\u003d\u003d\u003d\u003d\u003d\u003d\u003d\u003d\u003d\u003d\u003d\u003d\u003d\u003d\u003d\u003d\u003d\u003d\u003d\u003d\u003d\u003d\u003d\u003d\u003d\u003d\u003d\u003d\u003d\u003d\u003d\u003d\u003d\u003d\u003d\u003d\u003d\n",
              "\n",
              "Warnings:\n",
              "[1] Standard Errors assume that the covariance matrix of the errors is correctly specified.\n",
              "\"\"\""
            ]
          },
          "execution_count": 13,
          "metadata": {},
          "output_type": "execute_result"
        }
      ],
      "source": [
        "formula \u003d \u0027Y ~ \u0027 + \u0027 + \u0027.join(columns[1:])\n",
        "rslt \u003d smf.ols(formula\u003dformula, data\u003ddf).fit()\n",
        "rslt.summary()"
      ]
    },
    {
      "cell_type": "markdown",
      "metadata": {
        "pycharm": {},
        "slideshow": {
          "slide_type": "slide"
        }
      },
      "source": "We use this to inform a second regression where we only keep the variables that were significant \nat the 25% level."
    },
    {
      "cell_type": "code",
      "execution_count": 14,
      "metadata": {
        "pycharm": {},
        "slideshow": {
          "slide_type": "-"
        }
      },
      "outputs": [
        {
          "data": {
            "text/html": [
              "\u003ctable class\u003d\"simpletable\"\u003e\n",
              "\u003ccaption\u003eOLS Regression Results\u003c/caption\u003e\n",
              "\u003ctr\u003e\n",
              "  \u003cth\u003eDep. Variable:\u003c/th\u003e            \u003ctd\u003eY\u003c/td\u003e        \u003cth\u003e  R-squared:         \u003c/th\u003e \u003ctd\u003e   0.402\u003c/td\u003e\n",
              "\u003c/tr\u003e\n",
              "\u003ctr\u003e\n",
              "  \u003cth\u003eModel:\u003c/th\u003e                   \u003ctd\u003eOLS\u003c/td\u003e       \u003cth\u003e  Adj. R-squared:    \u003c/th\u003e \u003ctd\u003e   0.260\u003c/td\u003e\n",
              "\u003c/tr\u003e\n",
              "\u003ctr\u003e\n",
              "  \u003cth\u003eMethod:\u003c/th\u003e             \u003ctd\u003eLeast Squares\u003c/td\u003e  \u003cth\u003e  F-statistic:       \u003c/th\u003e \u003ctd\u003e   2.834\u003c/td\u003e\n",
              "\u003c/tr\u003e\n",
              "\u003ctr\u003e\n",
              "  \u003cth\u003eDate:\u003c/th\u003e             \u003ctd\u003eTue, 30 Apr 2019\u003c/td\u003e \u003cth\u003e  Prob (F-statistic):\u003c/th\u003e \u003ctd\u003e0.000627\u003c/td\u003e\n",
              "\u003c/tr\u003e\n",
              "\u003ctr\u003e\n",
              "  \u003cth\u003eTime:\u003c/th\u003e                 \u003ctd\u003e10:10:52\u003c/td\u003e     \u003cth\u003e  Log-Likelihood:    \u003c/th\u003e \u003ctd\u003e -122.11\u003c/td\u003e\n",
              "\u003c/tr\u003e\n",
              "\u003ctr\u003e\n",
              "  \u003cth\u003eNo. Observations:\u003c/th\u003e      \u003ctd\u003e   100\u003c/td\u003e      \u003cth\u003e  AIC:               \u003c/th\u003e \u003ctd\u003e   284.2\u003c/td\u003e\n",
              "\u003c/tr\u003e\n",
              "\u003ctr\u003e\n",
              "  \u003cth\u003eDf Residuals:\u003c/th\u003e          \u003ctd\u003e    80\u003c/td\u003e      \u003cth\u003e  BIC:               \u003c/th\u003e \u003ctd\u003e   336.3\u003c/td\u003e\n",
              "\u003c/tr\u003e\n",
              "\u003ctr\u003e\n",
              "  \u003cth\u003eDf Model:\u003c/th\u003e              \u003ctd\u003e    19\u003c/td\u003e      \u003cth\u003e                     \u003c/th\u003e     \u003ctd\u003e \u003c/td\u003e   \n",
              "\u003c/tr\u003e\n",
              "\u003ctr\u003e\n",
              "  \u003cth\u003eCovariance Type:\u003c/th\u003e      \u003ctd\u003enonrobust\u003c/td\u003e    \u003cth\u003e                     \u003c/th\u003e     \u003ctd\u003e \u003c/td\u003e   \n",
              "\u003c/tr\u003e\n",
              "\u003c/table\u003e\n",
              "\u003ctable class\u003d\"simpletable\"\u003e\n",
              "\u003ctr\u003e\n",
              "      \u003ctd\u003e\u003c/td\u003e         \u003cth\u003ecoef\u003c/th\u003e     \u003cth\u003estd err\u003c/th\u003e      \u003cth\u003et\u003c/th\u003e      \u003cth\u003eP\u003e|t|\u003c/th\u003e  \u003cth\u003e[0.025\u003c/th\u003e    \u003cth\u003e0.975]\u003c/th\u003e  \n",
              "\u003c/tr\u003e\n",
              "\u003ctr\u003e\n",
              "  \u003cth\u003eIntercept\u003c/th\u003e \u003ctd\u003e    0.0853\u003c/td\u003e \u003ctd\u003e    0.103\u003c/td\u003e \u003ctd\u003e    0.832\u003c/td\u003e \u003ctd\u003e 0.408\u003c/td\u003e \u003ctd\u003e   -0.119\u003c/td\u003e \u003ctd\u003e    0.289\u003c/td\u003e\n",
              "\u003c/tr\u003e\n",
              "\u003ctr\u003e\n",
              "  \u003cth\u003eX1\u003c/th\u003e        \u003ctd\u003e   -0.0874\u003c/td\u003e \u003ctd\u003e    0.099\u003c/td\u003e \u003ctd\u003e   -0.879\u003c/td\u003e \u003ctd\u003e 0.382\u003c/td\u003e \u003ctd\u003e   -0.285\u003c/td\u003e \u003ctd\u003e    0.111\u003c/td\u003e\n",
              "\u003c/tr\u003e\n",
              "\u003ctr\u003e\n",
              "  \u003cth\u003eX3\u003c/th\u003e        \u003ctd\u003e    0.1712\u003c/td\u003e \u003ctd\u003e    0.101\u003c/td\u003e \u003ctd\u003e    1.698\u003c/td\u003e \u003ctd\u003e 0.093\u003c/td\u003e \u003ctd\u003e   -0.029\u003c/td\u003e \u003ctd\u003e    0.372\u003c/td\u003e\n",
              "\u003c/tr\u003e\n",
              "\u003ctr\u003e\n",
              "  \u003cth\u003eX4\u003c/th\u003e        \u003ctd\u003e    0.1905\u003c/td\u003e \u003ctd\u003e    0.111\u003c/td\u003e \u003ctd\u003e    1.710\u003c/td\u003e \u003ctd\u003e 0.091\u003c/td\u003e \u003ctd\u003e   -0.031\u003c/td\u003e \u003ctd\u003e    0.412\u003c/td\u003e\n",
              "\u003c/tr\u003e\n",
              "\u003ctr\u003e\n",
              "  \u003cth\u003eX9\u003c/th\u003e        \u003ctd\u003e    0.2888\u003c/td\u003e \u003ctd\u003e    0.104\u003c/td\u003e \u003ctd\u003e    2.768\u003c/td\u003e \u003ctd\u003e 0.007\u003c/td\u003e \u003ctd\u003e    0.081\u003c/td\u003e \u003ctd\u003e    0.496\u003c/td\u003e\n",
              "\u003c/tr\u003e\n",
              "\u003ctr\u003e\n",
              "  \u003cth\u003eX11\u003c/th\u003e       \u003ctd\u003e   -0.2161\u003c/td\u003e \u003ctd\u003e    0.119\u003c/td\u003e \u003ctd\u003e   -1.812\u003c/td\u003e \u003ctd\u003e 0.074\u003c/td\u003e \u003ctd\u003e   -0.453\u003c/td\u003e \u003ctd\u003e    0.021\u003c/td\u003e\n",
              "\u003c/tr\u003e\n",
              "\u003ctr\u003e\n",
              "  \u003cth\u003eX22\u003c/th\u003e       \u003ctd\u003e    0.3742\u003c/td\u003e \u003ctd\u003e    0.100\u003c/td\u003e \u003ctd\u003e    3.735\u003c/td\u003e \u003ctd\u003e 0.000\u003c/td\u003e \u003ctd\u003e    0.175\u003c/td\u003e \u003ctd\u003e    0.574\u003c/td\u003e\n",
              "\u003c/tr\u003e\n",
              "\u003ctr\u003e\n",
              "  \u003cth\u003eX24\u003c/th\u003e       \u003ctd\u003e   -0.2796\u003c/td\u003e \u003ctd\u003e    0.103\u003c/td\u003e \u003ctd\u003e   -2.716\u003c/td\u003e \u003ctd\u003e 0.008\u003c/td\u003e \u003ctd\u003e   -0.484\u003c/td\u003e \u003ctd\u003e   -0.075\u003c/td\u003e\n",
              "\u003c/tr\u003e\n",
              "\u003ctr\u003e\n",
              "  \u003cth\u003eX26\u003c/th\u003e       \u003ctd\u003e    0.1391\u003c/td\u003e \u003ctd\u003e    0.094\u003c/td\u003e \u003ctd\u003e    1.484\u003c/td\u003e \u003ctd\u003e 0.142\u003c/td\u003e \u003ctd\u003e   -0.047\u003c/td\u003e \u003ctd\u003e    0.326\u003c/td\u003e\n",
              "\u003c/tr\u003e\n",
              "\u003ctr\u003e\n",
              "  \u003cth\u003eX27\u003c/th\u003e       \u003ctd\u003e   -0.2348\u003c/td\u003e \u003ctd\u003e    0.103\u003c/td\u003e \u003ctd\u003e   -2.283\u003c/td\u003e \u003ctd\u003e 0.025\u003c/td\u003e \u003ctd\u003e   -0.439\u003c/td\u003e \u003ctd\u003e   -0.030\u003c/td\u003e\n",
              "\u003c/tr\u003e\n",
              "\u003ctr\u003e\n",
              "  \u003cth\u003eX30\u003c/th\u003e       \u003ctd\u003e    0.1220\u003c/td\u003e \u003ctd\u003e    0.110\u003c/td\u003e \u003ctd\u003e    1.109\u003c/td\u003e \u003ctd\u003e 0.271\u003c/td\u003e \u003ctd\u003e   -0.097\u003c/td\u003e \u003ctd\u003e    0.341\u003c/td\u003e\n",
              "\u003c/tr\u003e\n",
              "\u003ctr\u003e\n",
              "  \u003cth\u003eX35\u003c/th\u003e       \u003ctd\u003e   -0.1628\u003c/td\u003e \u003ctd\u003e    0.093\u003c/td\u003e \u003ctd\u003e   -1.742\u003c/td\u003e \u003ctd\u003e 0.085\u003c/td\u003e \u003ctd\u003e   -0.349\u003c/td\u003e \u003ctd\u003e    0.023\u003c/td\u003e\n",
              "\u003c/tr\u003e\n",
              "\u003ctr\u003e\n",
              "  \u003cth\u003eX37\u003c/th\u003e       \u003ctd\u003e    0.2214\u003c/td\u003e \u003ctd\u003e    0.100\u003c/td\u003e \u003ctd\u003e    2.206\u003c/td\u003e \u003ctd\u003e 0.030\u003c/td\u003e \u003ctd\u003e    0.022\u003c/td\u003e \u003ctd\u003e    0.421\u003c/td\u003e\n",
              "\u003c/tr\u003e\n",
              "\u003ctr\u003e\n",
              "  \u003cth\u003eX38\u003c/th\u003e       \u003ctd\u003e    0.2400\u003c/td\u003e \u003ctd\u003e    0.106\u003c/td\u003e \u003ctd\u003e    2.267\u003c/td\u003e \u003ctd\u003e 0.026\u003c/td\u003e \u003ctd\u003e    0.029\u003c/td\u003e \u003ctd\u003e    0.451\u003c/td\u003e\n",
              "\u003c/tr\u003e\n",
              "\u003ctr\u003e\n",
              "  \u003cth\u003eX41\u003c/th\u003e       \u003ctd\u003e    0.0482\u003c/td\u003e \u003ctd\u003e    0.102\u003c/td\u003e \u003ctd\u003e    0.471\u003c/td\u003e \u003ctd\u003e 0.639\u003c/td\u003e \u003ctd\u003e   -0.155\u003c/td\u003e \u003ctd\u003e    0.252\u003c/td\u003e\n",
              "\u003c/tr\u003e\n",
              "\u003ctr\u003e\n",
              "  \u003cth\u003eX42\u003c/th\u003e       \u003ctd\u003e   -0.1669\u003c/td\u003e \u003ctd\u003e    0.113\u003c/td\u003e \u003ctd\u003e   -1.478\u003c/td\u003e \u003ctd\u003e 0.143\u003c/td\u003e \u003ctd\u003e   -0.392\u003c/td\u003e \u003ctd\u003e    0.058\u003c/td\u003e\n",
              "\u003c/tr\u003e\n",
              "\u003ctr\u003e\n",
              "  \u003cth\u003eX43\u003c/th\u003e       \u003ctd\u003e    0.1723\u003c/td\u003e \u003ctd\u003e    0.096\u003c/td\u003e \u003ctd\u003e    1.786\u003c/td\u003e \u003ctd\u003e 0.078\u003c/td\u003e \u003ctd\u003e   -0.020\u003c/td\u003e \u003ctd\u003e    0.364\u003c/td\u003e\n",
              "\u003c/tr\u003e\n",
              "\u003ctr\u003e\n",
              "  \u003cth\u003eX45\u003c/th\u003e       \u003ctd\u003e   -0.1853\u003c/td\u003e \u003ctd\u003e    0.101\u003c/td\u003e \u003ctd\u003e   -1.838\u003c/td\u003e \u003ctd\u003e 0.070\u003c/td\u003e \u003ctd\u003e   -0.386\u003c/td\u003e \u003ctd\u003e    0.015\u003c/td\u003e\n",
              "\u003c/tr\u003e\n",
              "\u003ctr\u003e\n",
              "  \u003cth\u003eX48\u003c/th\u003e       \u003ctd\u003e    0.1667\u003c/td\u003e \u003ctd\u003e    0.092\u003c/td\u003e \u003ctd\u003e    1.811\u003c/td\u003e \u003ctd\u003e 0.074\u003c/td\u003e \u003ctd\u003e   -0.016\u003c/td\u003e \u003ctd\u003e    0.350\u003c/td\u003e\n",
              "\u003c/tr\u003e\n",
              "\u003ctr\u003e\n",
              "  \u003cth\u003eX49\u003c/th\u003e       \u003ctd\u003e    0.1491\u003c/td\u003e \u003ctd\u003e    0.100\u003c/td\u003e \u003ctd\u003e    1.492\u003c/td\u003e \u003ctd\u003e 0.140\u003c/td\u003e \u003ctd\u003e   -0.050\u003c/td\u003e \u003ctd\u003e    0.348\u003c/td\u003e\n",
              "\u003c/tr\u003e\n",
              "\u003c/table\u003e\n",
              "\u003ctable class\u003d\"simpletable\"\u003e\n",
              "\u003ctr\u003e\n",
              "  \u003cth\u003eOmnibus:\u003c/th\u003e       \u003ctd\u003e 2.282\u003c/td\u003e \u003cth\u003e  Durbin-Watson:     \u003c/th\u003e \u003ctd\u003e   2.259\u003c/td\u003e\n",
              "\u003c/tr\u003e\n",
              "\u003ctr\u003e\n",
              "  \u003cth\u003eProb(Omnibus):\u003c/th\u003e \u003ctd\u003e 0.319\u003c/td\u003e \u003cth\u003e  Jarque-Bera (JB):  \u003c/th\u003e \u003ctd\u003e   1.718\u003c/td\u003e\n",
              "\u003c/tr\u003e\n",
              "\u003ctr\u003e\n",
              "  \u003cth\u003eSkew:\u003c/th\u003e          \u003ctd\u003e 0.137\u003c/td\u003e \u003cth\u003e  Prob(JB):          \u003c/th\u003e \u003ctd\u003e   0.424\u003c/td\u003e\n",
              "\u003c/tr\u003e\n",
              "\u003ctr\u003e\n",
              "  \u003cth\u003eKurtosis:\u003c/th\u003e      \u003ctd\u003e 2.420\u003c/td\u003e \u003cth\u003e  Cond. No.          \u003c/th\u003e \u003ctd\u003e    2.43\u003c/td\u003e\n",
              "\u003c/tr\u003e\n",
              "\u003c/table\u003e\u003cbr/\u003e\u003cbr/\u003eWarnings:\u003cbr/\u003e[1] Standard Errors assume that the covariance matrix of the errors is correctly specified."
            ],
            "text/plain": [
              "\u003cclass \u0027statsmodels.iolib.summary.Summary\u0027\u003e\n",
              "\"\"\"\n",
              "                            OLS Regression Results                            \n",
              "\u003d\u003d\u003d\u003d\u003d\u003d\u003d\u003d\u003d\u003d\u003d\u003d\u003d\u003d\u003d\u003d\u003d\u003d\u003d\u003d\u003d\u003d\u003d\u003d\u003d\u003d\u003d\u003d\u003d\u003d\u003d\u003d\u003d\u003d\u003d\u003d\u003d\u003d\u003d\u003d\u003d\u003d\u003d\u003d\u003d\u003d\u003d\u003d\u003d\u003d\u003d\u003d\u003d\u003d\u003d\u003d\u003d\u003d\u003d\u003d\u003d\u003d\u003d\u003d\u003d\u003d\u003d\u003d\u003d\u003d\u003d\u003d\u003d\u003d\u003d\u003d\u003d\u003d\n",
              "Dep. Variable:                      Y   R-squared:                       0.402\n",
              "Model:                            OLS   Adj. R-squared:                  0.260\n",
              "Method:                 Least Squares   F-statistic:                     2.834\n",
              "Date:                Tue, 30 Apr 2019   Prob (F-statistic):           0.000627\n",
              "Time:                        10:10:52   Log-Likelihood:                -122.11\n",
              "No. Observations:                 100   AIC:                             284.2\n",
              "Df Residuals:                      80   BIC:                             336.3\n",
              "Df Model:                          19                                         \n",
              "Covariance Type:            nonrobust                                         \n",
              "\u003d\u003d\u003d\u003d\u003d\u003d\u003d\u003d\u003d\u003d\u003d\u003d\u003d\u003d\u003d\u003d\u003d\u003d\u003d\u003d\u003d\u003d\u003d\u003d\u003d\u003d\u003d\u003d\u003d\u003d\u003d\u003d\u003d\u003d\u003d\u003d\u003d\u003d\u003d\u003d\u003d\u003d\u003d\u003d\u003d\u003d\u003d\u003d\u003d\u003d\u003d\u003d\u003d\u003d\u003d\u003d\u003d\u003d\u003d\u003d\u003d\u003d\u003d\u003d\u003d\u003d\u003d\u003d\u003d\u003d\u003d\u003d\u003d\u003d\u003d\u003d\u003d\u003d\n",
              "                 coef    std err          t      P\u003e|t|      [0.025      0.975]\n",
              "------------------------------------------------------------------------------\n",
              "Intercept      0.0853      0.103      0.832      0.408      -0.119       0.289\n",
              "X1            -0.0874      0.099     -0.879      0.382      -0.285       0.111\n",
              "X3             0.1712      0.101      1.698      0.093      -0.029       0.372\n",
              "X4             0.1905      0.111      1.710      0.091      -0.031       0.412\n",
              "X9             0.2888      0.104      2.768      0.007       0.081       0.496\n",
              "X11           -0.2161      0.119     -1.812      0.074      -0.453       0.021\n",
              "X22            0.3742      0.100      3.735      0.000       0.175       0.574\n",
              "X24           -0.2796      0.103     -2.716      0.008      -0.484      -0.075\n",
              "X26            0.1391      0.094      1.484      0.142      -0.047       0.326\n",
              "X27           -0.2348      0.103     -2.283      0.025      -0.439      -0.030\n",
              "X30            0.1220      0.110      1.109      0.271      -0.097       0.341\n",
              "X35           -0.1628      0.093     -1.742      0.085      -0.349       0.023\n",
              "X37            0.2214      0.100      2.206      0.030       0.022       0.421\n",
              "X38            0.2400      0.106      2.267      0.026       0.029       0.451\n",
              "X41            0.0482      0.102      0.471      0.639      -0.155       0.252\n",
              "X42           -0.1669      0.113     -1.478      0.143      -0.392       0.058\n",
              "X43            0.1723      0.096      1.786      0.078      -0.020       0.364\n",
              "X45           -0.1853      0.101     -1.838      0.070      -0.386       0.015\n",
              "X48            0.1667      0.092      1.811      0.074      -0.016       0.350\n",
              "X49            0.1491      0.100      1.492      0.140      -0.050       0.348\n",
              "\u003d\u003d\u003d\u003d\u003d\u003d\u003d\u003d\u003d\u003d\u003d\u003d\u003d\u003d\u003d\u003d\u003d\u003d\u003d\u003d\u003d\u003d\u003d\u003d\u003d\u003d\u003d\u003d\u003d\u003d\u003d\u003d\u003d\u003d\u003d\u003d\u003d\u003d\u003d\u003d\u003d\u003d\u003d\u003d\u003d\u003d\u003d\u003d\u003d\u003d\u003d\u003d\u003d\u003d\u003d\u003d\u003d\u003d\u003d\u003d\u003d\u003d\u003d\u003d\u003d\u003d\u003d\u003d\u003d\u003d\u003d\u003d\u003d\u003d\u003d\u003d\u003d\u003d\n",
              "Omnibus:                        2.282   Durbin-Watson:                   2.259\n",
              "Prob(Omnibus):                  0.319   Jarque-Bera (JB):                1.718\n",
              "Skew:                           0.137   Prob(JB):                        0.424\n",
              "Kurtosis:                       2.420   Cond. No.                         2.43\n",
              "\u003d\u003d\u003d\u003d\u003d\u003d\u003d\u003d\u003d\u003d\u003d\u003d\u003d\u003d\u003d\u003d\u003d\u003d\u003d\u003d\u003d\u003d\u003d\u003d\u003d\u003d\u003d\u003d\u003d\u003d\u003d\u003d\u003d\u003d\u003d\u003d\u003d\u003d\u003d\u003d\u003d\u003d\u003d\u003d\u003d\u003d\u003d\u003d\u003d\u003d\u003d\u003d\u003d\u003d\u003d\u003d\u003d\u003d\u003d\u003d\u003d\u003d\u003d\u003d\u003d\u003d\u003d\u003d\u003d\u003d\u003d\u003d\u003d\u003d\u003d\u003d\u003d\u003d\n",
              "\n",
              "Warnings:\n",
              "[1] Standard Errors assume that the covariance matrix of the errors is correctly specified.\n",
              "\"\"\""
            ]
          },
          "execution_count": 14,
          "metadata": {},
          "output_type": "execute_result"
        }
      ],
      "source": [
        "final_covariates \u003d list()\n",
        "for label in rslt.params.keys():\n",
        "    if rslt.pvalues[label] \u003e 0.25:\n",
        "        continue\n",
        "    final_covariates.append(label)\n",
        "\n",
        "formula \u003d \u0027Y ~ \u0027  + \u0027 + \u0027.join(final_covariates)\n",
        "rslt \u003d smf.ols(formula\u003dformula, data\u003ddf).fit()\n",
        "rslt.summary()"
      ]
    },
    {
      "cell_type": "markdown",
      "metadata": {
        "pycharm": {},
        "slideshow": {
          "slide_type": "slide"
        }
      },
      "source": [
        "What to make of this exercise?"
      ]
    },
    {
      "cell_type": "code",
      "execution_count": 15,
      "metadata": {
        "pycharm": {},
        "slideshow": {
          "slide_type": "-"
        }
      },
      "outputs": [],
      "source": [
        "np.random.seed(213)\n",
        "\n",
        "df \u003d pd.DataFrame(columns\u003d[\u0027F-statistic\u0027, \u0027Regressors\u0027])\n",
        "for i in range(100):\n",
        "    model \u003d run_freedman_exercise()\n",
        "    df[\u0027Regressors\u0027].loc[i] \u003d len(model.params)\n",
        "    df[\u0027F-statistic\u0027].loc[i] \u003d model.f_pvalue"
      ]
    },
    {
      "cell_type": "code",
      "execution_count": 16,
      "metadata": {
        "pycharm": {},
        "slideshow": {
          "slide_type": "slide"
        }
      },
      "outputs": [
        {
          "data": {
            "image/png": "[encoded data removed]",
            "text/plain": [
              "\u003cFigure size 432x288 with 2 Axes\u003e"
            ]
          },
          "metadata": {
            "needs_background": "light"
          },
          "output_type": "display_data"
        }
      ],
      "source": [
        "plot_freedman_exercise(df)"
      ]
    }
  ],
  "metadata": {
    "celltoolbar": "Slideshow",
    "kernelspec": {
      "display_name": "Python 3",
      "language": "python",
      "name": "python3"
    },
    "language_info": {
      "codemirror_mode": {
        "name": "ipython",
        "version": 3
      },
      "file_extension": ".py",
      "mimetype": "text/x-python",
      "name": "python",
      "nbconvert_exporter": "python",
      "pygments_lexer": "ipython3",
      "version": "3.7.1"
    },
    "varInspector": {
      "cols": {
        "lenName": 16,
        "lenType": 16,
        "lenVar": 40
      },
      "kernels_config": {
        "python": {
          "delete_cmd_postfix": "",
          "delete_cmd_prefix": "del ",
          "library": "var_list.py",
          "varRefreshCmd": "print(var_dic_list())"
        },
        "r": {
          "delete_cmd_postfix": ") ",
          "delete_cmd_prefix": "rm(",
          "library": "var_list.r",
          "varRefreshCmd": "cat(var_dic_list()) "
        }
      },
      "types_to_exclude": [
        "module",
        "function",
        "builtin_function_or_method",
        "instance",
        "_Feature"
      ],
      "window_display": false
    }
  },
  "nbformat": 4,
  "nbformat_minor": 2
}