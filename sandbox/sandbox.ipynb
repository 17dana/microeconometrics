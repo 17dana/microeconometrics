{
 "cells": [
  {
   "cell_type": "code",
   "execution_count": 78,
   "metadata": {},
   "outputs": [],
   "source": [
    "import pygraphviz as pgv"
   ]
  },
  {
   "cell_type": "code",
   "execution_count": 79,
   "metadata": {},
   "outputs": [],
   "source": [
    "def get_graph():\n",
    "    g = pgv.AGraph(size='16,9', ratio='fill', resolution='300', rankdir='LR', \n",
    "              directed='true')\n",
    "\n",
    "    g.node_attr['width'] = '0.5'  \n",
    "    g.node_attr['fontsize'] = '35'  \n",
    "    g.edge_attr['penwidth'] = '1'\n",
    "    g.node_attr['style']='filled'\n",
    "    g.node_attr['fillcolor']='black'\n",
    "    return g\n",
    "    \n",
    "g = get_graph()\n",
    "\n",
    "g.add_node('C', label='', xlabel='C')\n",
    "g.add_node('E', label='', xlabel='E')\n",
    "g.add_node('A', label='', xlabel='A', fillcolor='white')\n",
    "g.add_node('Y', label='', xlabel='Y')\n",
    "\n",
    "g.add_edge('C', 'E')\n",
    "g.add_edge('C', 'Y')\n",
    "g.add_edge('A', 'E')\n",
    "g.add_edge('A', 'Y')\n",
    "g.add_edge('E', 'Y')\n",
    "\n",
    "\n",
    "\n",
    "g.draw('fig-confounders-education.png', prog=\"dot\")"
   ]
  },
  {
   "cell_type": "code",
   "execution_count": 80,
   "metadata": {},
   "outputs": [],
   "source": [
    "g = get_graph()\n",
    "\n",
    "\n",
    "g.add_node('P', label='', xlabel='P')\n",
    "g.add_node('D', label='', xlabel='D')\n",
    "g.add_node('Y', label='', xlabel='Y')\n",
    "g.add_node('N', label='', xlabel='N')\n",
    "\n",
    "\n",
    "g.add_edge('P', 'D')\n",
    "g.add_edge('P', 'Y')\n",
    "g.add_edge('D', 'Y')\n",
    "g.add_edge('N', 'Y')\n",
    "\n",
    "g.draw('fig-equivalent-representations-standard.png', prog=\"dot\")"
   ]
  },
  {
   "cell_type": "code",
   "execution_count": 81,
   "metadata": {},
   "outputs": [],
   "source": [
    "g = get_graph()\n",
    "\n",
    "g.add_node('E_1', label='&#949;&#x2081;', fillcolor='white')\n",
    "g.add_node('P', label='', xlabel='P')\n",
    "\n",
    "g.add_node('E_2', label='&#949;&#x2082;', fillcolor='white')\n",
    "g.add_node('D', label='', xlabel='D')\n",
    "\n",
    "g.add_node('E_3', label='&#949;&#x2083;', fillcolor='white')\n",
    "g.add_node('Y', label='', xlabel='Y')\n",
    "\n",
    "g.add_node('E_4', label='&#949;&#x2084;', fillcolor='white')\n",
    "g.add_node('N', label='', xlabel='N')\n",
    "\n",
    "\n",
    "g.add_edge('E_1', 'P')\n",
    "g.add_edge('E_2', 'D')\n",
    "g.add_edge('E_4', 'Y')\n",
    "g.add_edge('E_3', 'N')\n",
    "\n",
    "\n",
    "g.add_edge('P', 'D')\n",
    "g.add_edge('P', 'Y')\n",
    "g.add_edge('D', 'Y')\n",
    "g.add_edge('N', 'Y')\n",
    "\n",
    "g.draw('fig-equivalent-representations-magnified.png', prog=\"dot\")"
   ]
  },
  {
   "cell_type": "code",
   "execution_count": null,
   "metadata": {},
   "outputs": [],
   "source": []
  },
  {
   "cell_type": "code",
   "execution_count": null,
   "metadata": {},
   "outputs": [],
   "source": []
  }
 ],
 "metadata": {
  "kernelspec": {
   "display_name": "Python 3",
   "language": "python",
   "name": "python3"
  },
  "language_info": {
   "codemirror_mode": {
    "name": "ipython",
    "version": 3
   },
   "file_extension": ".py",
   "mimetype": "text/x-python",
   "name": "python",
   "nbconvert_exporter": "python",
   "pygments_lexer": "ipython3",
   "version": "3.7.2"
  }
 },
 "nbformat": 4,
 "nbformat_minor": 2
}
