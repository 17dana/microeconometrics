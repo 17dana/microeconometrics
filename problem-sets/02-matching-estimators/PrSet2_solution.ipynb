{
 "cells": [
  {
   "cell_type": "code",
   "execution_count": 355,
   "metadata": {},
   "outputs": [],
   "source": [
    "import os\n",
    "import pandas as pd\n",
    "from scipy import stats\n",
    "import scipy\n",
    "from scipy.stats import ttest_ind\n",
    "import numpy as np\n",
    "import seaborn as sns\n",
    "import scipy.stats as stats\n",
    "import matplotlib.pyplot as plt\n",
    "import statsmodels.api as sm\n",
    "import statsmodels.formula.api as smf"
   ]
  },
  {
   "cell_type": "markdown",
   "metadata": {},
   "source": [
    "## Task A"
   ]
  },
  {
   "cell_type": "code",
   "execution_count": 321,
   "metadata": {},
   "outputs": [
    {
     "data": {
      "text/html": [
       "<div>\n",
       "<style scoped>\n",
       "    .dataframe tbody tr th:only-of-type {\n",
       "        vertical-align: middle;\n",
       "    }\n",
       "\n",
       "    .dataframe tbody tr th {\n",
       "        vertical-align: top;\n",
       "    }\n",
       "\n",
       "    .dataframe thead th {\n",
       "        text-align: right;\n",
       "    }\n",
       "</style>\n",
       "<table border=\"1\" class=\"dataframe\">\n",
       "  <thead>\n",
       "    <tr style=\"text-align: right;\">\n",
       "      <th></th>\n",
       "      <th>treat</th>\n",
       "      <th>age</th>\n",
       "      <th>ed</th>\n",
       "      <th>black</th>\n",
       "      <th>hisp</th>\n",
       "      <th>married</th>\n",
       "      <th>nodeg</th>\n",
       "      <th>re74</th>\n",
       "      <th>re75</th>\n",
       "    </tr>\n",
       "  </thead>\n",
       "  <tbody>\n",
       "    <tr>\n",
       "      <th>0</th>\n",
       "      <td>1</td>\n",
       "      <td>37</td>\n",
       "      <td>11</td>\n",
       "      <td>1</td>\n",
       "      <td>0</td>\n",
       "      <td>1</td>\n",
       "      <td>1</td>\n",
       "      <td>0.00</td>\n",
       "      <td>0.00</td>\n",
       "    </tr>\n",
       "    <tr>\n",
       "      <th>1</th>\n",
       "      <td>1</td>\n",
       "      <td>22</td>\n",
       "      <td>9</td>\n",
       "      <td>0</td>\n",
       "      <td>1</td>\n",
       "      <td>0</td>\n",
       "      <td>1</td>\n",
       "      <td>0.00</td>\n",
       "      <td>0.00</td>\n",
       "    </tr>\n",
       "    <tr>\n",
       "      <th>2</th>\n",
       "      <td>1</td>\n",
       "      <td>30</td>\n",
       "      <td>12</td>\n",
       "      <td>1</td>\n",
       "      <td>0</td>\n",
       "      <td>0</td>\n",
       "      <td>0</td>\n",
       "      <td>0.00</td>\n",
       "      <td>0.00</td>\n",
       "    </tr>\n",
       "    <tr>\n",
       "      <th>3</th>\n",
       "      <td>1</td>\n",
       "      <td>27</td>\n",
       "      <td>11</td>\n",
       "      <td>1</td>\n",
       "      <td>0</td>\n",
       "      <td>0</td>\n",
       "      <td>1</td>\n",
       "      <td>0.00</td>\n",
       "      <td>0.00</td>\n",
       "    </tr>\n",
       "    <tr>\n",
       "      <th>4</th>\n",
       "      <td>1</td>\n",
       "      <td>33</td>\n",
       "      <td>8</td>\n",
       "      <td>1</td>\n",
       "      <td>0</td>\n",
       "      <td>0</td>\n",
       "      <td>1</td>\n",
       "      <td>0.00</td>\n",
       "      <td>0.00</td>\n",
       "    </tr>\n",
       "  </tbody>\n",
       "</table>\n",
       "</div>"
      ],
      "text/plain": [
       "   treat  age  ed  black  hisp  married  nodeg  re74  re75\n",
       "0      1   37  11      1     0        1      1  0.00  0.00\n",
       "1      1   22   9      0     1        0      1  0.00  0.00\n",
       "2      1   30  12      1     0        0      0  0.00  0.00\n",
       "3      1   27  11      1     0        0      1  0.00  0.00\n",
       "4      1   33   8      1     0        0      1  0.00  0.00"
      ]
     },
     "execution_count": 321,
     "metadata": {},
     "output_type": "execute_result"
    }
   ],
   "source": [
    "nsw = pd.read_csv(r'microeconometrics-peisenha_integration_problem_set\\datasets\\processed\\angrist_pischke\\nswre74.csv')\n",
    "nsw_a = nsw.drop(['re78', 'age2'], axis=1)\n",
    "nsw_a.head()"
   ]
  },
  {
   "cell_type": "code",
   "execution_count": 322,
   "metadata": {},
   "outputs": [
    {
     "data": {
      "text/html": [
       "<div>\n",
       "<style scoped>\n",
       "    .dataframe tbody tr th:only-of-type {\n",
       "        vertical-align: middle;\n",
       "    }\n",
       "\n",
       "    .dataframe tbody tr th {\n",
       "        vertical-align: top;\n",
       "    }\n",
       "\n",
       "    .dataframe thead th {\n",
       "        text-align: right;\n",
       "    }\n",
       "</style>\n",
       "<table border=\"1\" class=\"dataframe\">\n",
       "  <thead>\n",
       "    <tr style=\"text-align: right;\">\n",
       "      <th></th>\n",
       "      <th>treat</th>\n",
       "      <th>age</th>\n",
       "      <th>education</th>\n",
       "      <th>black</th>\n",
       "      <th>hispanic</th>\n",
       "      <th>married</th>\n",
       "      <th>nodegree</th>\n",
       "      <th>re74</th>\n",
       "      <th>re75</th>\n",
       "    </tr>\n",
       "  </thead>\n",
       "  <tbody>\n",
       "    <tr>\n",
       "      <th>0</th>\n",
       "      <td>0.00</td>\n",
       "      <td>45.00</td>\n",
       "      <td>11.00</td>\n",
       "      <td>0.00</td>\n",
       "      <td>0.00</td>\n",
       "      <td>1.00</td>\n",
       "      <td>1.00</td>\n",
       "      <td>21,516.67</td>\n",
       "      <td>25,243.55</td>\n",
       "    </tr>\n",
       "    <tr>\n",
       "      <th>1</th>\n",
       "      <td>0.00</td>\n",
       "      <td>21.00</td>\n",
       "      <td>14.00</td>\n",
       "      <td>0.00</td>\n",
       "      <td>0.00</td>\n",
       "      <td>0.00</td>\n",
       "      <td>0.00</td>\n",
       "      <td>3,175.97</td>\n",
       "      <td>5,852.56</td>\n",
       "    </tr>\n",
       "    <tr>\n",
       "      <th>2</th>\n",
       "      <td>0.00</td>\n",
       "      <td>38.00</td>\n",
       "      <td>12.00</td>\n",
       "      <td>0.00</td>\n",
       "      <td>0.00</td>\n",
       "      <td>1.00</td>\n",
       "      <td>0.00</td>\n",
       "      <td>23,039.02</td>\n",
       "      <td>25,130.76</td>\n",
       "    </tr>\n",
       "    <tr>\n",
       "      <th>3</th>\n",
       "      <td>0.00</td>\n",
       "      <td>48.00</td>\n",
       "      <td>6.00</td>\n",
       "      <td>0.00</td>\n",
       "      <td>0.00</td>\n",
       "      <td>1.00</td>\n",
       "      <td>1.00</td>\n",
       "      <td>24,994.37</td>\n",
       "      <td>25,243.55</td>\n",
       "    </tr>\n",
       "    <tr>\n",
       "      <th>4</th>\n",
       "      <td>0.00</td>\n",
       "      <td>18.00</td>\n",
       "      <td>8.00</td>\n",
       "      <td>0.00</td>\n",
       "      <td>0.00</td>\n",
       "      <td>1.00</td>\n",
       "      <td>1.00</td>\n",
       "      <td>1,669.30</td>\n",
       "      <td>10,727.61</td>\n",
       "    </tr>\n",
       "  </tbody>\n",
       "</table>\n",
       "</div>"
      ],
      "text/plain": [
       "   treat   age  education  black  hispanic  married  nodegree      re74  \\\n",
       "0   0.00 45.00      11.00   0.00      0.00     1.00      1.00 21,516.67   \n",
       "1   0.00 21.00      14.00   0.00      0.00     0.00      0.00  3,175.97   \n",
       "2   0.00 38.00      12.00   0.00      0.00     1.00      0.00 23,039.02   \n",
       "3   0.00 48.00       6.00   0.00      0.00     1.00      1.00 24,994.37   \n",
       "4   0.00 18.00       8.00   0.00      0.00     1.00      1.00  1,669.30   \n",
       "\n",
       "       re75  \n",
       "0 25,243.55  \n",
       "1  5,852.56  \n",
       "2 25,130.76  \n",
       "3 25,243.55  \n",
       "4 10,727.61  "
      ]
     },
     "execution_count": 322,
     "metadata": {},
     "output_type": "execute_result"
    }
   ],
   "source": [
    "cps1 = pd.read_stata(r'cps_controls.dta')\n",
    "cps1_a = cps1.drop(['data_id', 're78'], axis=1)\n",
    "cps1_a.head()"
   ]
  },
  {
   "cell_type": "code",
   "execution_count": 323,
   "metadata": {},
   "outputs": [
    {
     "data": {
      "text/html": [
       "<div>\n",
       "<style scoped>\n",
       "    .dataframe tbody tr th:only-of-type {\n",
       "        vertical-align: middle;\n",
       "    }\n",
       "\n",
       "    .dataframe tbody tr th {\n",
       "        vertical-align: top;\n",
       "    }\n",
       "\n",
       "    .dataframe thead th {\n",
       "        text-align: right;\n",
       "    }\n",
       "</style>\n",
       "<table border=\"1\" class=\"dataframe\">\n",
       "  <thead>\n",
       "    <tr style=\"text-align: right;\">\n",
       "      <th></th>\n",
       "      <th>Age</th>\n",
       "      <th>Education</th>\n",
       "      <th>Black</th>\n",
       "      <th>Hispanic</th>\n",
       "      <th>Married</th>\n",
       "      <th>No degree</th>\n",
       "      <th>Earnings74</th>\n",
       "      <th>Earnings75</th>\n",
       "    </tr>\n",
       "  </thead>\n",
       "  <tbody>\n",
       "    <tr>\n",
       "      <th>Sample mean NSW treated</th>\n",
       "      <td>25.82</td>\n",
       "      <td>10.35</td>\n",
       "      <td>0.84</td>\n",
       "      <td>0.06</td>\n",
       "      <td>0.19</td>\n",
       "      <td>0.71</td>\n",
       "      <td>2,095.57</td>\n",
       "      <td>1,532.06</td>\n",
       "    </tr>\n",
       "    <tr>\n",
       "      <th>Sample mean NSW control</th>\n",
       "      <td>25.05</td>\n",
       "      <td>10.09</td>\n",
       "      <td>0.83</td>\n",
       "      <td>0.11</td>\n",
       "      <td>0.15</td>\n",
       "      <td>0.83</td>\n",
       "      <td>2,107.03</td>\n",
       "      <td>1,266.91</td>\n",
       "    </tr>\n",
       "    <tr>\n",
       "      <th>p-value on difference between NSW treated and NSW control means</th>\n",
       "      <td>0.26</td>\n",
       "      <td>0.14</td>\n",
       "      <td>0.65</td>\n",
       "      <td>0.08</td>\n",
       "      <td>0.33</td>\n",
       "      <td>0.00</td>\n",
       "      <td>0.98</td>\n",
       "      <td>0.38</td>\n",
       "    </tr>\n",
       "    <tr>\n",
       "      <th>Sample mean CPS</th>\n",
       "      <td>33.23</td>\n",
       "      <td>12.03</td>\n",
       "      <td>0.07</td>\n",
       "      <td>0.07</td>\n",
       "      <td>0.71</td>\n",
       "      <td>0.30</td>\n",
       "      <td>14,016.42</td>\n",
       "      <td>13,650.93</td>\n",
       "    </tr>\n",
       "    <tr>\n",
       "      <th>p-value on difference between NSW treated and CPS means</th>\n",
       "      <td>0.00</td>\n",
       "      <td>0.00</td>\n",
       "      <td>0.00</td>\n",
       "      <td>0.00</td>\n",
       "      <td>0.00</td>\n",
       "      <td>0.00</td>\n",
       "      <td>0.56</td>\n",
       "      <td>0.18</td>\n",
       "    </tr>\n",
       "  </tbody>\n",
       "</table>\n",
       "</div>"
      ],
      "text/plain": [
       "                                                     Age  Education  Black  \\\n",
       "Sample mean NSW treated                            25.82      10.35   0.84   \n",
       "Sample mean NSW control                            25.05      10.09   0.83   \n",
       "p-value on difference between NSW treated and N...  0.26       0.14   0.65   \n",
       "Sample mean CPS                                    33.23      12.03   0.07   \n",
       "p-value on difference between NSW treated and C...  0.00       0.00   0.00   \n",
       "\n",
       "                                                    Hispanic  Married  \\\n",
       "Sample mean NSW treated                                 0.06     0.19   \n",
       "Sample mean NSW control                                 0.11     0.15   \n",
       "p-value on difference between NSW treated and N...      0.08     0.33   \n",
       "Sample mean CPS                                         0.07     0.71   \n",
       "p-value on difference between NSW treated and C...      0.00     0.00   \n",
       "\n",
       "                                                    No degree  Earnings74  \\\n",
       "Sample mean NSW treated                                  0.71    2,095.57   \n",
       "Sample mean NSW control                                  0.83    2,107.03   \n",
       "p-value on difference between NSW treated and N...       0.00        0.98   \n",
       "Sample mean CPS                                          0.30   14,016.42   \n",
       "p-value on difference between NSW treated and C...       0.00        0.56   \n",
       "\n",
       "                                                    Earnings75  \n",
       "Sample mean NSW treated                               1,532.06  \n",
       "Sample mean NSW control                               1,266.91  \n",
       "p-value on difference between NSW treated and N...        0.38  \n",
       "Sample mean CPS                                      13,650.93  \n",
       "p-value on difference between NSW treated and C...        0.18  "
      ]
     },
     "execution_count": 323,
     "metadata": {},
     "output_type": "execute_result"
    }
   ],
   "source": [
    "nsw_treat = nsw_a[(nsw_a['treat'] == 1)]\n",
    "nsw_untreat = nsw_a[(nsw_a['treat'] == 0)]\n",
    "nsw_t_m = nsw_treat.mean()\n",
    "nsw_ut_m = nsw_untreat.mean()\n",
    "ttest_nsw,pval_nsw = ttest_ind(nsw_treat, nsw_untreat)\n",
    "cps1_m = cps1_a.mean()\n",
    "ttest_nsw_cps,pval_nsw_cps = ttest_ind(nsw_treat, cps1_m)\n",
    "data = np.column_stack((nsw_t_m,nsw_ut_m,pval_nsw,cps1_m,pval_nsw_cps))\n",
    "dataset = pd.DataFrame({'Sample mean NSW treated': data[:, 0], 'Sample mean NSW control': data[:, 1], 'p-value on difference between NSW treated and NSW control means': data[:, 2], 'Sample mean CPS': data[:, 3], 'p-value on difference between NSW treated and CPS means': data[:, 4],})\n",
    "pd.options.display.float_format = '{:,.2f}'.format\n",
    "dataset = dataset.T\n",
    "del dataset[0]\n",
    "dataset = dataset.rename(columns={1: \"Age\", 2: \"Education\", 3:\"Black\", 4:\"Hispanic\", 5:\"Married\", 6:\"No degree\", 7:\"Earnings74\", 8:\"Earnings75\"})\n",
    "dataset"
   ]
  },
  {
   "cell_type": "markdown",
   "metadata": {},
   "source": [
    "# Task B.1"
   ]
  },
  {
   "cell_type": "code",
   "execution_count": 340,
   "metadata": {},
   "outputs": [
    {
     "data": {
      "text/html": [
       "<div>\n",
       "<style scoped>\n",
       "    .dataframe tbody tr th:only-of-type {\n",
       "        vertical-align: middle;\n",
       "    }\n",
       "\n",
       "    .dataframe tbody tr th {\n",
       "        vertical-align: top;\n",
       "    }\n",
       "\n",
       "    .dataframe thead th {\n",
       "        text-align: right;\n",
       "    }\n",
       "</style>\n",
       "<table border=\"1\" class=\"dataframe\">\n",
       "  <thead>\n",
       "    <tr style=\"text-align: right;\">\n",
       "      <th></th>\n",
       "      <th>treat</th>\n",
       "      <th>age</th>\n",
       "      <th>ed</th>\n",
       "      <th>black</th>\n",
       "      <th>hisp</th>\n",
       "      <th>married</th>\n",
       "      <th>nodeg</th>\n",
       "      <th>re74</th>\n",
       "      <th>re75</th>\n",
       "      <th>re78</th>\n",
       "      <th>age2</th>\n",
       "    </tr>\n",
       "  </thead>\n",
       "  <tbody>\n",
       "    <tr>\n",
       "      <th>0</th>\n",
       "      <td>1.00</td>\n",
       "      <td>37.00</td>\n",
       "      <td>11.00</td>\n",
       "      <td>1.00</td>\n",
       "      <td>0.00</td>\n",
       "      <td>1.00</td>\n",
       "      <td>1.00</td>\n",
       "      <td>0.00</td>\n",
       "      <td>0.00</td>\n",
       "      <td>9,930.05</td>\n",
       "      <td>1,369.00</td>\n",
       "    </tr>\n",
       "    <tr>\n",
       "      <th>1</th>\n",
       "      <td>1.00</td>\n",
       "      <td>22.00</td>\n",
       "      <td>9.00</td>\n",
       "      <td>0.00</td>\n",
       "      <td>1.00</td>\n",
       "      <td>0.00</td>\n",
       "      <td>1.00</td>\n",
       "      <td>0.00</td>\n",
       "      <td>0.00</td>\n",
       "      <td>3,595.89</td>\n",
       "      <td>484.00</td>\n",
       "    </tr>\n",
       "    <tr>\n",
       "      <th>2</th>\n",
       "      <td>1.00</td>\n",
       "      <td>30.00</td>\n",
       "      <td>12.00</td>\n",
       "      <td>1.00</td>\n",
       "      <td>0.00</td>\n",
       "      <td>0.00</td>\n",
       "      <td>0.00</td>\n",
       "      <td>0.00</td>\n",
       "      <td>0.00</td>\n",
       "      <td>24,909.45</td>\n",
       "      <td>900.00</td>\n",
       "    </tr>\n",
       "    <tr>\n",
       "      <th>3</th>\n",
       "      <td>1.00</td>\n",
       "      <td>27.00</td>\n",
       "      <td>11.00</td>\n",
       "      <td>1.00</td>\n",
       "      <td>0.00</td>\n",
       "      <td>0.00</td>\n",
       "      <td>1.00</td>\n",
       "      <td>0.00</td>\n",
       "      <td>0.00</td>\n",
       "      <td>7,506.15</td>\n",
       "      <td>729.00</td>\n",
       "    </tr>\n",
       "    <tr>\n",
       "      <th>4</th>\n",
       "      <td>1.00</td>\n",
       "      <td>33.00</td>\n",
       "      <td>8.00</td>\n",
       "      <td>1.00</td>\n",
       "      <td>0.00</td>\n",
       "      <td>0.00</td>\n",
       "      <td>1.00</td>\n",
       "      <td>0.00</td>\n",
       "      <td>0.00</td>\n",
       "      <td>289.79</td>\n",
       "      <td>1,089.00</td>\n",
       "    </tr>\n",
       "    <tr>\n",
       "      <th>...</th>\n",
       "      <td>...</td>\n",
       "      <td>...</td>\n",
       "      <td>...</td>\n",
       "      <td>...</td>\n",
       "      <td>...</td>\n",
       "      <td>...</td>\n",
       "      <td>...</td>\n",
       "      <td>...</td>\n",
       "      <td>...</td>\n",
       "      <td>...</td>\n",
       "      <td>...</td>\n",
       "    </tr>\n",
       "    <tr>\n",
       "      <th>15987</th>\n",
       "      <td>0.00</td>\n",
       "      <td>22.00</td>\n",
       "      <td>12.00</td>\n",
       "      <td>1.00</td>\n",
       "      <td>0.00</td>\n",
       "      <td>0.00</td>\n",
       "      <td>0.00</td>\n",
       "      <td>3,975.35</td>\n",
       "      <td>6,801.44</td>\n",
       "      <td>2,757.44</td>\n",
       "      <td>484.00</td>\n",
       "    </tr>\n",
       "    <tr>\n",
       "      <th>15988</th>\n",
       "      <td>0.00</td>\n",
       "      <td>20.00</td>\n",
       "      <td>12.00</td>\n",
       "      <td>1.00</td>\n",
       "      <td>0.00</td>\n",
       "      <td>1.00</td>\n",
       "      <td>0.00</td>\n",
       "      <td>1,445.94</td>\n",
       "      <td>11,832.24</td>\n",
       "      <td>6,895.07</td>\n",
       "      <td>400.00</td>\n",
       "    </tr>\n",
       "    <tr>\n",
       "      <th>15989</th>\n",
       "      <td>0.00</td>\n",
       "      <td>37.00</td>\n",
       "      <td>12.00</td>\n",
       "      <td>0.00</td>\n",
       "      <td>0.00</td>\n",
       "      <td>0.00</td>\n",
       "      <td>0.00</td>\n",
       "      <td>1,733.95</td>\n",
       "      <td>1,559.37</td>\n",
       "      <td>4,221.87</td>\n",
       "      <td>1,369.00</td>\n",
       "    </tr>\n",
       "    <tr>\n",
       "      <th>15990</th>\n",
       "      <td>0.00</td>\n",
       "      <td>47.00</td>\n",
       "      <td>9.00</td>\n",
       "      <td>0.00</td>\n",
       "      <td>0.00</td>\n",
       "      <td>1.00</td>\n",
       "      <td>1.00</td>\n",
       "      <td>16,914.35</td>\n",
       "      <td>11,384.66</td>\n",
       "      <td>13,671.93</td>\n",
       "      <td>2,209.00</td>\n",
       "    </tr>\n",
       "    <tr>\n",
       "      <th>15991</th>\n",
       "      <td>0.00</td>\n",
       "      <td>40.00</td>\n",
       "      <td>10.00</td>\n",
       "      <td>0.00</td>\n",
       "      <td>0.00</td>\n",
       "      <td>0.00</td>\n",
       "      <td>1.00</td>\n",
       "      <td>13,628.66</td>\n",
       "      <td>13,144.55</td>\n",
       "      <td>7,979.72</td>\n",
       "      <td>1,600.00</td>\n",
       "    </tr>\n",
       "  </tbody>\n",
       "</table>\n",
       "<p>16177 rows × 11 columns</p>\n",
       "</div>"
      ],
      "text/plain": [
       "       treat   age    ed  black  hisp  married  nodeg      re74      re75  \\\n",
       "0       1.00 37.00 11.00   1.00  0.00     1.00   1.00      0.00      0.00   \n",
       "1       1.00 22.00  9.00   0.00  1.00     0.00   1.00      0.00      0.00   \n",
       "2       1.00 30.00 12.00   1.00  0.00     0.00   0.00      0.00      0.00   \n",
       "3       1.00 27.00 11.00   1.00  0.00     0.00   1.00      0.00      0.00   \n",
       "4       1.00 33.00  8.00   1.00  0.00     0.00   1.00      0.00      0.00   \n",
       "...      ...   ...   ...    ...   ...      ...    ...       ...       ...   \n",
       "15987   0.00 22.00 12.00   1.00  0.00     0.00   0.00  3,975.35  6,801.44   \n",
       "15988   0.00 20.00 12.00   1.00  0.00     1.00   0.00  1,445.94 11,832.24   \n",
       "15989   0.00 37.00 12.00   0.00  0.00     0.00   0.00  1,733.95  1,559.37   \n",
       "15990   0.00 47.00  9.00   0.00  0.00     1.00   1.00 16,914.35 11,384.66   \n",
       "15991   0.00 40.00 10.00   0.00  0.00     0.00   1.00 13,628.66 13,144.55   \n",
       "\n",
       "           re78     age2  \n",
       "0      9,930.05 1,369.00  \n",
       "1      3,595.89   484.00  \n",
       "2     24,909.45   900.00  \n",
       "3      7,506.15   729.00  \n",
       "4        289.79 1,089.00  \n",
       "...         ...      ...  \n",
       "15987  2,757.44   484.00  \n",
       "15988  6,895.07   400.00  \n",
       "15989  4,221.87 1,369.00  \n",
       "15990 13,671.93 2,209.00  \n",
       "15991  7,979.72 1,600.00  \n",
       "\n",
       "[16177 rows x 11 columns]"
      ]
     },
     "execution_count": 340,
     "metadata": {},
     "output_type": "execute_result"
    }
   ],
   "source": [
    "cps1_b = cps1.drop(['data_id'], axis=1)\n",
    "cps1_b.rename(columns={'education': 'ed', 'nodegree': 'nodeg', 'hispanic': 'hisp'}, inplace=True)\n",
    "cps1_b['age2'] = cps1_b['age']**2\n",
    "nsw_b = nsw[(nsw['treat'] == 1)]\n",
    "df = pd.concat([nsw_b, cps1_b])\n",
    "df"
   ]
  },
  {
   "cell_type": "markdown",
   "metadata": {},
   "source": [
    "# Task B.2"
   ]
  },
  {
   "cell_type": "markdown",
   "metadata": {},
   "source": [
    "$$E[Y^1|D = 1, S] = E[Y^1|D = 0, S]$$\n",
    "$$E[Y^0|D = 1, S] = E[Y^0|D = 0, S]$$"
   ]
  },
  {
   "cell_type": "markdown",
   "metadata": {},
   "source": [
    "# Task B.3"
   ]
  },
  {
   "cell_type": "code",
   "execution_count": 445,
   "metadata": {},
   "outputs": [
    {
     "name": "stdout",
     "output_type": "stream",
     "text": [
      "Treatment estimate in experimental study is 1675.86\n"
     ]
    }
   ],
   "source": [
    "Y = nsw['re78']\n",
    "X = nsw.drop(['re78'], axis=1)\n",
    "X = sm.add_constant(X)\n",
    "result = sm.OLS(Y,X).fit()\n",
    "print('Treatment estimate in experimental study is {:5.2f}'.format(result.params[\"treat\"]))"
   ]
  },
  {
   "cell_type": "code",
   "execution_count": 446,
   "metadata": {},
   "outputs": [
    {
     "name": "stdout",
     "output_type": "stream",
     "text": [
      "Treatment estimate in observational study is 792.81\n"
     ]
    }
   ],
   "source": [
    "Y = df['re78']\n",
    "X = df.drop(['re78'], axis=1)\n",
    "X = sm.add_constant(X)\n",
    "result1 = sm.OLS(Y,X).fit()\n",
    "print('Treatment estimate in observational study is {:5.2f}'.format(result1.params[\"treat\"]))"
   ]
  },
  {
   "cell_type": "markdown",
   "metadata": {},
   "source": [
    "# Task C.1"
   ]
  },
  {
   "cell_type": "markdown",
   "metadata": {},
   "source": [
    "Data contains continuous variables; formed stratas might not have treated and control units available at the same time."
   ]
  },
  {
   "cell_type": "markdown",
   "metadata": {},
   "source": [
    "# Task C.2"
   ]
  },
  {
   "cell_type": "code",
   "execution_count": 437,
   "metadata": {},
   "outputs": [
    {
     "name": "stdout",
     "output_type": "stream",
     "text": [
      "Optimization terminated successfully.\n",
      "         Current function value: 0.031035\n",
      "         Iterations 12\n"
     ]
    },
    {
     "data": {
      "text/plain": [
       "array([2.47511138e-01, 7.25790910e-02, 2.50397953e-01, ...,\n",
       "       3.29936780e-03, 2.40801355e-04, 5.22213745e-04])"
      ]
     },
     "execution_count": 437,
     "metadata": {},
     "output_type": "execute_result"
    }
   ],
   "source": [
    "pscore = smf.logit(formula='treat ~ age + ed + black + hisp + married + nodeg + re74 + re75', data=df).fit().predict()\n",
    "pscore"
   ]
  },
  {
   "cell_type": "markdown",
   "metadata": {},
   "source": [
    "# Task C.3"
   ]
  },
  {
   "cell_type": "code",
   "execution_count": 444,
   "metadata": {},
   "outputs": [
    {
     "data": {
      "image/png": "[encoded data removed]",
      "text/plain": [
       "<Figure size 576x432 with 1 Axes>"
      ]
     },
     "metadata": {
      "needs_background": "light"
     },
     "output_type": "display_data"
    }
   ],
   "source": [
    "pscore_treat = pscore[df['treat'] == 1]\n",
    "pscore_untreat = pscore[df['treat'] == 0]\n",
    "sns.distplot(pscore_untreat, label='control')\n",
    "sns.distplot(pscore_treat, label='treatment')\n",
    "plt.xlim(0, 1)\n",
    "plt.ylim(0, 5)\n",
    "plt.title('Propensity Score Distribution of Control vs Treatment')\n",
    "plt.ylabel('Density')\n",
    "plt.xlabel('Scores')\n",
    "plt.legend()\n",
    "plt.tight_layout()\n",
    "plt.show()"
   ]
  },
  {
   "cell_type": "markdown",
   "metadata": {},
   "source": [
    "# Task C.4"
   ]
  },
  {
   "cell_type": "code",
   "execution_count": null,
   "metadata": {},
   "outputs": [],
   "source": [
    "def get_similar(pscore_treat: np.ndarray, pscore_untreat: np.ndarray, topn: int=5, n_jobs: int=1):\n",
    "    from sklearn.neighbors import NearestNeighbors\n",
    "    knn = NearestNeighbors(n_neighbors=topn + 1, metric='euclidean', n_jobs=n_jobs)\n",
    "    knn.fit(pscore_untreat.reshape(-1, 1))\n",
    "    distances, indices = knn.kneighbors(pscore_treat.reshape(-1, 1))\n",
    "    sim_distances = distances[:, 1:]\n",
    "    sim_indices = indices[:, 1:]\n",
    "    return sim_distances, sim_indices\n",
    "\n",
    "sim_distances, sim_indices = get_similar(pscore_treat, pscore_untreat, topn=1)"
   ]
  },
  {
   "cell_type": "markdown",
   "metadata": {},
   "source": [
    "# Task C.5"
   ]
  },
  {
   "cell_type": "code",
   "execution_count": 447,
   "metadata": {},
   "outputs": [
    {
     "name": "stdout",
     "output_type": "stream",
     "text": [
      "Treatment estimate after matching on propensity score is 1554.52\n"
     ]
    },
    {
     "name": "stderr",
     "output_type": "stream",
     "text": [
      "C:\\Users\\liudm\\Anaconda3\\lib\\site-packages\\numpy\\core\\fromnumeric.py:2389: FutureWarning: Method .ptp is deprecated and will be removed in a future version. Use numpy.ptp instead.\n",
      "  return ptp(axis=axis, out=out, **kwargs)\n"
     ]
    }
   ],
   "source": [
    "df_treat = df[df['treat'] == 1]\n",
    "df_untreat = df[df['treat'] == 0].iloc[sim_indices[:, 0]]\n",
    "df_matched = pd.concat([df_treat, df_untreat])\n",
    "\n",
    "Y = df_matched['re78']\n",
    "X = df_matched['treat']\n",
    "X = sm.add_constant(X)\n",
    "result = sm.OLS(Y,X).fit()\n",
    "print('Treatment estimate after matching on propensity score is {:5.2f}'.format(result.params[\"treat\"]))"
   ]
  },
  {
   "cell_type": "markdown",
   "metadata": {},
   "source": [
    "Regression model neglects important nonlinear terms and interactions (Rubin 1973). The benefit of matching over regression is that it is non-parametric (but you do have to assume that you have the right propensity score spesification in case of  matching)."
   ]
  },
  {
   "cell_type": "code",
   "execution_count": null,
   "metadata": {},
   "outputs": [],
   "source": []
  }
 ],
 "metadata": {
  "kernelspec": {
   "display_name": "Python 3",
   "language": "python",
   "name": "python3"
  },
  "language_info": {
   "codemirror_mode": {
    "name": "ipython",
    "version": 3
   },
   "file_extension": ".py",
   "mimetype": "text/x-python",
   "name": "python",
   "nbconvert_exporter": "python",
   "pygments_lexer": "ipython3",
   "version": "3.7.4"
  }
 },
 "nbformat": 4,
 "nbformat_minor": 2
}
